{
 "cells": [
  {
   "cell_type": "markdown",
   "id": "02dcd9e6",
   "metadata": {},
   "source": [
    "# import libraries"
   ]
  },
  {
   "cell_type": "code",
   "execution_count": 1,
   "id": "e70ed53d",
   "metadata": {},
   "outputs": [],
   "source": [
    "import numpy as np\n",
    "import pandas as pd\n",
    "import matplotlib.pyplot as plt\n",
    "import seaborn as sns\n"
   ]
  },
  {
   "cell_type": "markdown",
   "id": "4063957c",
   "metadata": {},
   "source": [
    "# Loading dataset into pandas dataframe"
   ]
  },
  {
   "cell_type": "code",
   "execution_count": 2,
   "id": "ac53b779",
   "metadata": {},
   "outputs": [],
   "source": [
    "data_train=pd.read_csv(\"train_v9rqX0R.csv\")\n",
    "data_test=pd.read_csv(\"test_AbJTz2l.csv\")"
   ]
  },
  {
   "cell_type": "markdown",
   "id": "687dcd12",
   "metadata": {},
   "source": [
    "# Exploratory Data Analysis"
   ]
  },
  {
   "cell_type": "code",
   "execution_count": 3,
   "id": "5ae1bf09",
   "metadata": {},
   "outputs": [
    {
     "data": {
      "text/html": [
       "<div>\n",
       "<style scoped>\n",
       "    .dataframe tbody tr th:only-of-type {\n",
       "        vertical-align: middle;\n",
       "    }\n",
       "\n",
       "    .dataframe tbody tr th {\n",
       "        vertical-align: top;\n",
       "    }\n",
       "\n",
       "    .dataframe thead th {\n",
       "        text-align: right;\n",
       "    }\n",
       "</style>\n",
       "<table border=\"1\" class=\"dataframe\">\n",
       "  <thead>\n",
       "    <tr style=\"text-align: right;\">\n",
       "      <th></th>\n",
       "      <th>Item_Identifier</th>\n",
       "      <th>Item_Weight</th>\n",
       "      <th>Item_Fat_Content</th>\n",
       "      <th>Item_Visibility</th>\n",
       "      <th>Item_Type</th>\n",
       "      <th>Item_MRP</th>\n",
       "      <th>Outlet_Identifier</th>\n",
       "      <th>Outlet_Establishment_Year</th>\n",
       "      <th>Outlet_Size</th>\n",
       "      <th>Outlet_Location_Type</th>\n",
       "      <th>Outlet_Type</th>\n",
       "      <th>Item_Outlet_Sales</th>\n",
       "    </tr>\n",
       "  </thead>\n",
       "  <tbody>\n",
       "    <tr>\n",
       "      <th>0</th>\n",
       "      <td>FDA15</td>\n",
       "      <td>9.30</td>\n",
       "      <td>Low Fat</td>\n",
       "      <td>0.016047</td>\n",
       "      <td>Dairy</td>\n",
       "      <td>249.8092</td>\n",
       "      <td>OUT049</td>\n",
       "      <td>1999</td>\n",
       "      <td>Medium</td>\n",
       "      <td>Tier 1</td>\n",
       "      <td>Supermarket Type1</td>\n",
       "      <td>3735.1380</td>\n",
       "    </tr>\n",
       "    <tr>\n",
       "      <th>1</th>\n",
       "      <td>DRC01</td>\n",
       "      <td>5.92</td>\n",
       "      <td>Regular</td>\n",
       "      <td>0.019278</td>\n",
       "      <td>Soft Drinks</td>\n",
       "      <td>48.2692</td>\n",
       "      <td>OUT018</td>\n",
       "      <td>2009</td>\n",
       "      <td>Medium</td>\n",
       "      <td>Tier 3</td>\n",
       "      <td>Supermarket Type2</td>\n",
       "      <td>443.4228</td>\n",
       "    </tr>\n",
       "    <tr>\n",
       "      <th>2</th>\n",
       "      <td>FDN15</td>\n",
       "      <td>17.50</td>\n",
       "      <td>Low Fat</td>\n",
       "      <td>0.016760</td>\n",
       "      <td>Meat</td>\n",
       "      <td>141.6180</td>\n",
       "      <td>OUT049</td>\n",
       "      <td>1999</td>\n",
       "      <td>Medium</td>\n",
       "      <td>Tier 1</td>\n",
       "      <td>Supermarket Type1</td>\n",
       "      <td>2097.2700</td>\n",
       "    </tr>\n",
       "    <tr>\n",
       "      <th>3</th>\n",
       "      <td>FDX07</td>\n",
       "      <td>19.20</td>\n",
       "      <td>Regular</td>\n",
       "      <td>0.000000</td>\n",
       "      <td>Fruits and Vegetables</td>\n",
       "      <td>182.0950</td>\n",
       "      <td>OUT010</td>\n",
       "      <td>1998</td>\n",
       "      <td>NaN</td>\n",
       "      <td>Tier 3</td>\n",
       "      <td>Grocery Store</td>\n",
       "      <td>732.3800</td>\n",
       "    </tr>\n",
       "    <tr>\n",
       "      <th>4</th>\n",
       "      <td>NCD19</td>\n",
       "      <td>8.93</td>\n",
       "      <td>Low Fat</td>\n",
       "      <td>0.000000</td>\n",
       "      <td>Household</td>\n",
       "      <td>53.8614</td>\n",
       "      <td>OUT013</td>\n",
       "      <td>1987</td>\n",
       "      <td>High</td>\n",
       "      <td>Tier 3</td>\n",
       "      <td>Supermarket Type1</td>\n",
       "      <td>994.7052</td>\n",
       "    </tr>\n",
       "  </tbody>\n",
       "</table>\n",
       "</div>"
      ],
      "text/plain": [
       "  Item_Identifier  Item_Weight Item_Fat_Content  Item_Visibility  \\\n",
       "0           FDA15         9.30          Low Fat         0.016047   \n",
       "1           DRC01         5.92          Regular         0.019278   \n",
       "2           FDN15        17.50          Low Fat         0.016760   \n",
       "3           FDX07        19.20          Regular         0.000000   \n",
       "4           NCD19         8.93          Low Fat         0.000000   \n",
       "\n",
       "               Item_Type  Item_MRP Outlet_Identifier  \\\n",
       "0                  Dairy  249.8092            OUT049   \n",
       "1            Soft Drinks   48.2692            OUT018   \n",
       "2                   Meat  141.6180            OUT049   \n",
       "3  Fruits and Vegetables  182.0950            OUT010   \n",
       "4              Household   53.8614            OUT013   \n",
       "\n",
       "   Outlet_Establishment_Year Outlet_Size Outlet_Location_Type  \\\n",
       "0                       1999      Medium               Tier 1   \n",
       "1                       2009      Medium               Tier 3   \n",
       "2                       1999      Medium               Tier 1   \n",
       "3                       1998         NaN               Tier 3   \n",
       "4                       1987        High               Tier 3   \n",
       "\n",
       "         Outlet_Type  Item_Outlet_Sales  \n",
       "0  Supermarket Type1          3735.1380  \n",
       "1  Supermarket Type2           443.4228  \n",
       "2  Supermarket Type1          2097.2700  \n",
       "3      Grocery Store           732.3800  \n",
       "4  Supermarket Type1           994.7052  "
      ]
     },
     "execution_count": 3,
     "metadata": {},
     "output_type": "execute_result"
    }
   ],
   "source": [
    "data_train.head()"
   ]
  },
  {
   "cell_type": "code",
   "execution_count": 4,
   "id": "3bafb0f7",
   "metadata": {},
   "outputs": [
    {
     "data": {
      "text/html": [
       "<div>\n",
       "<style scoped>\n",
       "    .dataframe tbody tr th:only-of-type {\n",
       "        vertical-align: middle;\n",
       "    }\n",
       "\n",
       "    .dataframe tbody tr th {\n",
       "        vertical-align: top;\n",
       "    }\n",
       "\n",
       "    .dataframe thead th {\n",
       "        text-align: right;\n",
       "    }\n",
       "</style>\n",
       "<table border=\"1\" class=\"dataframe\">\n",
       "  <thead>\n",
       "    <tr style=\"text-align: right;\">\n",
       "      <th></th>\n",
       "      <th>Item_Identifier</th>\n",
       "      <th>Item_Weight</th>\n",
       "      <th>Item_Fat_Content</th>\n",
       "      <th>Item_Visibility</th>\n",
       "      <th>Item_Type</th>\n",
       "      <th>Item_MRP</th>\n",
       "      <th>Outlet_Identifier</th>\n",
       "      <th>Outlet_Establishment_Year</th>\n",
       "      <th>Outlet_Size</th>\n",
       "      <th>Outlet_Location_Type</th>\n",
       "      <th>Outlet_Type</th>\n",
       "    </tr>\n",
       "  </thead>\n",
       "  <tbody>\n",
       "    <tr>\n",
       "      <th>0</th>\n",
       "      <td>FDW58</td>\n",
       "      <td>20.750</td>\n",
       "      <td>Low Fat</td>\n",
       "      <td>0.007565</td>\n",
       "      <td>Snack Foods</td>\n",
       "      <td>107.8622</td>\n",
       "      <td>OUT049</td>\n",
       "      <td>1999</td>\n",
       "      <td>Medium</td>\n",
       "      <td>Tier 1</td>\n",
       "      <td>Supermarket Type1</td>\n",
       "    </tr>\n",
       "    <tr>\n",
       "      <th>1</th>\n",
       "      <td>FDW14</td>\n",
       "      <td>8.300</td>\n",
       "      <td>reg</td>\n",
       "      <td>0.038428</td>\n",
       "      <td>Dairy</td>\n",
       "      <td>87.3198</td>\n",
       "      <td>OUT017</td>\n",
       "      <td>2007</td>\n",
       "      <td>NaN</td>\n",
       "      <td>Tier 2</td>\n",
       "      <td>Supermarket Type1</td>\n",
       "    </tr>\n",
       "    <tr>\n",
       "      <th>2</th>\n",
       "      <td>NCN55</td>\n",
       "      <td>14.600</td>\n",
       "      <td>Low Fat</td>\n",
       "      <td>0.099575</td>\n",
       "      <td>Others</td>\n",
       "      <td>241.7538</td>\n",
       "      <td>OUT010</td>\n",
       "      <td>1998</td>\n",
       "      <td>NaN</td>\n",
       "      <td>Tier 3</td>\n",
       "      <td>Grocery Store</td>\n",
       "    </tr>\n",
       "    <tr>\n",
       "      <th>3</th>\n",
       "      <td>FDQ58</td>\n",
       "      <td>7.315</td>\n",
       "      <td>Low Fat</td>\n",
       "      <td>0.015388</td>\n",
       "      <td>Snack Foods</td>\n",
       "      <td>155.0340</td>\n",
       "      <td>OUT017</td>\n",
       "      <td>2007</td>\n",
       "      <td>NaN</td>\n",
       "      <td>Tier 2</td>\n",
       "      <td>Supermarket Type1</td>\n",
       "    </tr>\n",
       "    <tr>\n",
       "      <th>4</th>\n",
       "      <td>FDY38</td>\n",
       "      <td>NaN</td>\n",
       "      <td>Regular</td>\n",
       "      <td>0.118599</td>\n",
       "      <td>Dairy</td>\n",
       "      <td>234.2300</td>\n",
       "      <td>OUT027</td>\n",
       "      <td>1985</td>\n",
       "      <td>Medium</td>\n",
       "      <td>Tier 3</td>\n",
       "      <td>Supermarket Type3</td>\n",
       "    </tr>\n",
       "  </tbody>\n",
       "</table>\n",
       "</div>"
      ],
      "text/plain": [
       "  Item_Identifier  Item_Weight Item_Fat_Content  Item_Visibility    Item_Type  \\\n",
       "0           FDW58       20.750          Low Fat         0.007565  Snack Foods   \n",
       "1           FDW14        8.300              reg         0.038428        Dairy   \n",
       "2           NCN55       14.600          Low Fat         0.099575       Others   \n",
       "3           FDQ58        7.315          Low Fat         0.015388  Snack Foods   \n",
       "4           FDY38          NaN          Regular         0.118599        Dairy   \n",
       "\n",
       "   Item_MRP Outlet_Identifier  Outlet_Establishment_Year Outlet_Size  \\\n",
       "0  107.8622            OUT049                       1999      Medium   \n",
       "1   87.3198            OUT017                       2007         NaN   \n",
       "2  241.7538            OUT010                       1998         NaN   \n",
       "3  155.0340            OUT017                       2007         NaN   \n",
       "4  234.2300            OUT027                       1985      Medium   \n",
       "\n",
       "  Outlet_Location_Type        Outlet_Type  \n",
       "0               Tier 1  Supermarket Type1  \n",
       "1               Tier 2  Supermarket Type1  \n",
       "2               Tier 3      Grocery Store  \n",
       "3               Tier 2  Supermarket Type1  \n",
       "4               Tier 3  Supermarket Type3  "
      ]
     },
     "execution_count": 4,
     "metadata": {},
     "output_type": "execute_result"
    }
   ],
   "source": [
    "data_test.head()"
   ]
  },
  {
   "cell_type": "code",
   "execution_count": 5,
   "id": "ffe3996e",
   "metadata": {},
   "outputs": [
    {
     "data": {
      "text/html": [
       "<div>\n",
       "<style scoped>\n",
       "    .dataframe tbody tr th:only-of-type {\n",
       "        vertical-align: middle;\n",
       "    }\n",
       "\n",
       "    .dataframe tbody tr th {\n",
       "        vertical-align: top;\n",
       "    }\n",
       "\n",
       "    .dataframe thead th {\n",
       "        text-align: right;\n",
       "    }\n",
       "</style>\n",
       "<table border=\"1\" class=\"dataframe\">\n",
       "  <thead>\n",
       "    <tr style=\"text-align: right;\">\n",
       "      <th></th>\n",
       "      <th>Item_Identifier</th>\n",
       "      <th>Item_Weight</th>\n",
       "      <th>Item_Fat_Content</th>\n",
       "      <th>Item_Visibility</th>\n",
       "      <th>Item_Type</th>\n",
       "      <th>Item_MRP</th>\n",
       "      <th>Outlet_Identifier</th>\n",
       "      <th>Outlet_Establishment_Year</th>\n",
       "      <th>Outlet_Size</th>\n",
       "      <th>Outlet_Location_Type</th>\n",
       "      <th>Outlet_Type</th>\n",
       "      <th>Item_Outlet_Sales</th>\n",
       "    </tr>\n",
       "  </thead>\n",
       "  <tbody>\n",
       "    <tr>\n",
       "      <th>8518</th>\n",
       "      <td>FDF22</td>\n",
       "      <td>6.865</td>\n",
       "      <td>Low Fat</td>\n",
       "      <td>0.056783</td>\n",
       "      <td>Snack Foods</td>\n",
       "      <td>214.5218</td>\n",
       "      <td>OUT013</td>\n",
       "      <td>1987</td>\n",
       "      <td>High</td>\n",
       "      <td>Tier 3</td>\n",
       "      <td>Supermarket Type1</td>\n",
       "      <td>2778.3834</td>\n",
       "    </tr>\n",
       "    <tr>\n",
       "      <th>8519</th>\n",
       "      <td>FDS36</td>\n",
       "      <td>8.380</td>\n",
       "      <td>Regular</td>\n",
       "      <td>0.046982</td>\n",
       "      <td>Baking Goods</td>\n",
       "      <td>108.1570</td>\n",
       "      <td>OUT045</td>\n",
       "      <td>2002</td>\n",
       "      <td>NaN</td>\n",
       "      <td>Tier 2</td>\n",
       "      <td>Supermarket Type1</td>\n",
       "      <td>549.2850</td>\n",
       "    </tr>\n",
       "    <tr>\n",
       "      <th>8520</th>\n",
       "      <td>NCJ29</td>\n",
       "      <td>10.600</td>\n",
       "      <td>Low Fat</td>\n",
       "      <td>0.035186</td>\n",
       "      <td>Health and Hygiene</td>\n",
       "      <td>85.1224</td>\n",
       "      <td>OUT035</td>\n",
       "      <td>2004</td>\n",
       "      <td>Small</td>\n",
       "      <td>Tier 2</td>\n",
       "      <td>Supermarket Type1</td>\n",
       "      <td>1193.1136</td>\n",
       "    </tr>\n",
       "    <tr>\n",
       "      <th>8521</th>\n",
       "      <td>FDN46</td>\n",
       "      <td>7.210</td>\n",
       "      <td>Regular</td>\n",
       "      <td>0.145221</td>\n",
       "      <td>Snack Foods</td>\n",
       "      <td>103.1332</td>\n",
       "      <td>OUT018</td>\n",
       "      <td>2009</td>\n",
       "      <td>Medium</td>\n",
       "      <td>Tier 3</td>\n",
       "      <td>Supermarket Type2</td>\n",
       "      <td>1845.5976</td>\n",
       "    </tr>\n",
       "    <tr>\n",
       "      <th>8522</th>\n",
       "      <td>DRG01</td>\n",
       "      <td>14.800</td>\n",
       "      <td>Low Fat</td>\n",
       "      <td>0.044878</td>\n",
       "      <td>Soft Drinks</td>\n",
       "      <td>75.4670</td>\n",
       "      <td>OUT046</td>\n",
       "      <td>1997</td>\n",
       "      <td>Small</td>\n",
       "      <td>Tier 1</td>\n",
       "      <td>Supermarket Type1</td>\n",
       "      <td>765.6700</td>\n",
       "    </tr>\n",
       "  </tbody>\n",
       "</table>\n",
       "</div>"
      ],
      "text/plain": [
       "     Item_Identifier  Item_Weight Item_Fat_Content  Item_Visibility  \\\n",
       "8518           FDF22        6.865          Low Fat         0.056783   \n",
       "8519           FDS36        8.380          Regular         0.046982   \n",
       "8520           NCJ29       10.600          Low Fat         0.035186   \n",
       "8521           FDN46        7.210          Regular         0.145221   \n",
       "8522           DRG01       14.800          Low Fat         0.044878   \n",
       "\n",
       "               Item_Type  Item_MRP Outlet_Identifier  \\\n",
       "8518         Snack Foods  214.5218            OUT013   \n",
       "8519        Baking Goods  108.1570            OUT045   \n",
       "8520  Health and Hygiene   85.1224            OUT035   \n",
       "8521         Snack Foods  103.1332            OUT018   \n",
       "8522         Soft Drinks   75.4670            OUT046   \n",
       "\n",
       "      Outlet_Establishment_Year Outlet_Size Outlet_Location_Type  \\\n",
       "8518                       1987        High               Tier 3   \n",
       "8519                       2002         NaN               Tier 2   \n",
       "8520                       2004       Small               Tier 2   \n",
       "8521                       2009      Medium               Tier 3   \n",
       "8522                       1997       Small               Tier 1   \n",
       "\n",
       "            Outlet_Type  Item_Outlet_Sales  \n",
       "8518  Supermarket Type1          2778.3834  \n",
       "8519  Supermarket Type1           549.2850  \n",
       "8520  Supermarket Type1          1193.1136  \n",
       "8521  Supermarket Type2          1845.5976  \n",
       "8522  Supermarket Type1           765.6700  "
      ]
     },
     "execution_count": 5,
     "metadata": {},
     "output_type": "execute_result"
    }
   ],
   "source": [
    "data_train.tail()"
   ]
  },
  {
   "cell_type": "code",
   "execution_count": 6,
   "id": "16d4e79d",
   "metadata": {},
   "outputs": [
    {
     "data": {
      "text/html": [
       "<div>\n",
       "<style scoped>\n",
       "    .dataframe tbody tr th:only-of-type {\n",
       "        vertical-align: middle;\n",
       "    }\n",
       "\n",
       "    .dataframe tbody tr th {\n",
       "        vertical-align: top;\n",
       "    }\n",
       "\n",
       "    .dataframe thead th {\n",
       "        text-align: right;\n",
       "    }\n",
       "</style>\n",
       "<table border=\"1\" class=\"dataframe\">\n",
       "  <thead>\n",
       "    <tr style=\"text-align: right;\">\n",
       "      <th></th>\n",
       "      <th>Item_Identifier</th>\n",
       "      <th>Item_Weight</th>\n",
       "      <th>Item_Fat_Content</th>\n",
       "      <th>Item_Visibility</th>\n",
       "      <th>Item_Type</th>\n",
       "      <th>Item_MRP</th>\n",
       "      <th>Outlet_Identifier</th>\n",
       "      <th>Outlet_Establishment_Year</th>\n",
       "      <th>Outlet_Size</th>\n",
       "      <th>Outlet_Location_Type</th>\n",
       "      <th>Outlet_Type</th>\n",
       "    </tr>\n",
       "  </thead>\n",
       "  <tbody>\n",
       "    <tr>\n",
       "      <th>5676</th>\n",
       "      <td>FDB58</td>\n",
       "      <td>10.5</td>\n",
       "      <td>Regular</td>\n",
       "      <td>0.013496</td>\n",
       "      <td>Snack Foods</td>\n",
       "      <td>141.3154</td>\n",
       "      <td>OUT046</td>\n",
       "      <td>1997</td>\n",
       "      <td>Small</td>\n",
       "      <td>Tier 1</td>\n",
       "      <td>Supermarket Type1</td>\n",
       "    </tr>\n",
       "    <tr>\n",
       "      <th>5677</th>\n",
       "      <td>FDD47</td>\n",
       "      <td>7.6</td>\n",
       "      <td>Regular</td>\n",
       "      <td>0.142991</td>\n",
       "      <td>Starchy Foods</td>\n",
       "      <td>169.1448</td>\n",
       "      <td>OUT018</td>\n",
       "      <td>2009</td>\n",
       "      <td>Medium</td>\n",
       "      <td>Tier 3</td>\n",
       "      <td>Supermarket Type2</td>\n",
       "    </tr>\n",
       "    <tr>\n",
       "      <th>5678</th>\n",
       "      <td>NCO17</td>\n",
       "      <td>10.0</td>\n",
       "      <td>Low Fat</td>\n",
       "      <td>0.073529</td>\n",
       "      <td>Health and Hygiene</td>\n",
       "      <td>118.7440</td>\n",
       "      <td>OUT045</td>\n",
       "      <td>2002</td>\n",
       "      <td>NaN</td>\n",
       "      <td>Tier 2</td>\n",
       "      <td>Supermarket Type1</td>\n",
       "    </tr>\n",
       "    <tr>\n",
       "      <th>5679</th>\n",
       "      <td>FDJ26</td>\n",
       "      <td>15.3</td>\n",
       "      <td>Regular</td>\n",
       "      <td>0.000000</td>\n",
       "      <td>Canned</td>\n",
       "      <td>214.6218</td>\n",
       "      <td>OUT017</td>\n",
       "      <td>2007</td>\n",
       "      <td>NaN</td>\n",
       "      <td>Tier 2</td>\n",
       "      <td>Supermarket Type1</td>\n",
       "    </tr>\n",
       "    <tr>\n",
       "      <th>5680</th>\n",
       "      <td>FDU37</td>\n",
       "      <td>9.5</td>\n",
       "      <td>Regular</td>\n",
       "      <td>0.104720</td>\n",
       "      <td>Canned</td>\n",
       "      <td>79.7960</td>\n",
       "      <td>OUT045</td>\n",
       "      <td>2002</td>\n",
       "      <td>NaN</td>\n",
       "      <td>Tier 2</td>\n",
       "      <td>Supermarket Type1</td>\n",
       "    </tr>\n",
       "  </tbody>\n",
       "</table>\n",
       "</div>"
      ],
      "text/plain": [
       "     Item_Identifier  Item_Weight Item_Fat_Content  Item_Visibility  \\\n",
       "5676           FDB58         10.5          Regular         0.013496   \n",
       "5677           FDD47          7.6          Regular         0.142991   \n",
       "5678           NCO17         10.0          Low Fat         0.073529   \n",
       "5679           FDJ26         15.3          Regular         0.000000   \n",
       "5680           FDU37          9.5          Regular         0.104720   \n",
       "\n",
       "               Item_Type  Item_MRP Outlet_Identifier  \\\n",
       "5676         Snack Foods  141.3154            OUT046   \n",
       "5677       Starchy Foods  169.1448            OUT018   \n",
       "5678  Health and Hygiene  118.7440            OUT045   \n",
       "5679              Canned  214.6218            OUT017   \n",
       "5680              Canned   79.7960            OUT045   \n",
       "\n",
       "      Outlet_Establishment_Year Outlet_Size Outlet_Location_Type  \\\n",
       "5676                       1997       Small               Tier 1   \n",
       "5677                       2009      Medium               Tier 3   \n",
       "5678                       2002         NaN               Tier 2   \n",
       "5679                       2007         NaN               Tier 2   \n",
       "5680                       2002         NaN               Tier 2   \n",
       "\n",
       "            Outlet_Type  \n",
       "5676  Supermarket Type1  \n",
       "5677  Supermarket Type2  \n",
       "5678  Supermarket Type1  \n",
       "5679  Supermarket Type1  \n",
       "5680  Supermarket Type1  "
      ]
     },
     "execution_count": 6,
     "metadata": {},
     "output_type": "execute_result"
    }
   ],
   "source": [
    "data_test.tail()"
   ]
  },
  {
   "cell_type": "code",
   "execution_count": 7,
   "id": "fea408d1",
   "metadata": {},
   "outputs": [
    {
     "data": {
      "text/plain": [
       "(8523, 12)"
      ]
     },
     "execution_count": 7,
     "metadata": {},
     "output_type": "execute_result"
    }
   ],
   "source": [
    "data_train.shape"
   ]
  },
  {
   "cell_type": "code",
   "execution_count": 8,
   "id": "ced82a46",
   "metadata": {},
   "outputs": [
    {
     "data": {
      "text/plain": [
       "(5681, 11)"
      ]
     },
     "execution_count": 8,
     "metadata": {},
     "output_type": "execute_result"
    }
   ],
   "source": [
    "data_test.shape"
   ]
  },
  {
   "cell_type": "code",
   "execution_count": 9,
   "id": "69db637a",
   "metadata": {},
   "outputs": [
    {
     "data": {
      "text/plain": [
       "OUT027    935\n",
       "OUT013    932\n",
       "OUT049    930\n",
       "OUT046    930\n",
       "OUT035    930\n",
       "OUT045    929\n",
       "OUT018    928\n",
       "OUT017    926\n",
       "OUT010    555\n",
       "OUT019    528\n",
       "Name: Outlet_Identifier, dtype: int64"
      ]
     },
     "execution_count": 9,
     "metadata": {},
     "output_type": "execute_result"
    }
   ],
   "source": [
    "data_train['Outlet_Identifier'].value_counts()"
   ]
  },
  {
   "cell_type": "code",
   "execution_count": 10,
   "id": "4c37e588",
   "metadata": {},
   "outputs": [
    {
     "data": {
      "text/plain": [
       "array(['OUT049', 'OUT018', 'OUT010', 'OUT013', 'OUT027', 'OUT045',\n",
       "       'OUT017', 'OUT046', 'OUT035', 'OUT019'], dtype=object)"
      ]
     },
     "execution_count": 10,
     "metadata": {},
     "output_type": "execute_result"
    }
   ],
   "source": [
    "data_train['Outlet_Identifier'].unique()"
   ]
  },
  {
   "cell_type": "code",
   "execution_count": 11,
   "id": "c0e140e1",
   "metadata": {},
   "outputs": [
    {
     "data": {
      "text/plain": [
       "10"
      ]
     },
     "execution_count": 11,
     "metadata": {},
     "output_type": "execute_result"
    }
   ],
   "source": [
    "data_train['Outlet_Identifier'].nunique()"
   ]
  },
  {
   "cell_type": "code",
   "execution_count": 12,
   "id": "a6be57d1",
   "metadata": {},
   "outputs": [
    {
     "data": {
      "text/plain": [
       "array(['FDA15', 'DRC01', 'FDN15', ..., 'NCF55', 'NCW30', 'NCW05'],\n",
       "      dtype=object)"
      ]
     },
     "execution_count": 12,
     "metadata": {},
     "output_type": "execute_result"
    }
   ],
   "source": [
    "data_train['Item_Identifier'].unique()"
   ]
  },
  {
   "cell_type": "code",
   "execution_count": 13,
   "id": "17f982bd",
   "metadata": {},
   "outputs": [
    {
     "data": {
      "text/plain": [
       "1559"
      ]
     },
     "execution_count": 13,
     "metadata": {},
     "output_type": "execute_result"
    }
   ],
   "source": [
    "data_train['Item_Identifier'].nunique()"
   ]
  },
  {
   "cell_type": "code",
   "execution_count": 14,
   "id": "d6d2d73d",
   "metadata": {},
   "outputs": [
    {
     "data": {
      "text/plain": [
       "FDW13    10\n",
       "FDG33    10\n",
       "NCY18     9\n",
       "FDD38     9\n",
       "DRE49     9\n",
       "         ..\n",
       "FDY43     1\n",
       "FDQ60     1\n",
       "FDO33     1\n",
       "DRF48     1\n",
       "FDC23     1\n",
       "Name: Item_Identifier, Length: 1559, dtype: int64"
      ]
     },
     "execution_count": 14,
     "metadata": {},
     "output_type": "execute_result"
    }
   ],
   "source": [
    "data_train['Item_Identifier'].value_counts()"
   ]
  },
  {
   "cell_type": "code",
   "execution_count": 15,
   "id": "47d0aa71",
   "metadata": {},
   "outputs": [
    {
     "data": {
      "text/plain": [
       "5"
      ]
     },
     "execution_count": 15,
     "metadata": {},
     "output_type": "execute_result"
    }
   ],
   "source": [
    "data_train['Item_Fat_Content'].nunique()"
   ]
  },
  {
   "cell_type": "code",
   "execution_count": 16,
   "id": "7c808b11",
   "metadata": {},
   "outputs": [
    {
     "data": {
      "text/plain": [
       "Low Fat    5089\n",
       "Regular    2889\n",
       "LF          316\n",
       "reg         117\n",
       "low fat     112\n",
       "Name: Item_Fat_Content, dtype: int64"
      ]
     },
     "execution_count": 16,
     "metadata": {},
     "output_type": "execute_result"
    }
   ],
   "source": [
    "data_train['Item_Fat_Content'].value_counts()"
   ]
  },
  {
   "cell_type": "code",
   "execution_count": 17,
   "id": "3d920766",
   "metadata": {},
   "outputs": [
    {
     "data": {
      "text/plain": [
       "array(['Low Fat', 'Regular', 'low fat', 'LF', 'reg'], dtype=object)"
      ]
     },
     "execution_count": 17,
     "metadata": {},
     "output_type": "execute_result"
    }
   ],
   "source": [
    "data_train['Item_Fat_Content'].unique()"
   ]
  },
  {
   "cell_type": "code",
   "execution_count": 18,
   "id": "a01b6ddb",
   "metadata": {},
   "outputs": [],
   "source": [
    "data_train=data_train.replace(to_replace=\"low fat\",\n",
    "           value=\"Low Fat\")\n",
    "data_train=data_train.replace(to_replace=\"LF\",\n",
    "           value=\"Low Fat\")"
   ]
  },
  {
   "cell_type": "code",
   "execution_count": 19,
   "id": "c61a3f0c",
   "metadata": {},
   "outputs": [
    {
     "data": {
      "text/plain": [
       "array(['Low Fat', 'Regular', 'reg'], dtype=object)"
      ]
     },
     "execution_count": 19,
     "metadata": {},
     "output_type": "execute_result"
    }
   ],
   "source": [
    "data_train['Item_Fat_Content'].unique()"
   ]
  },
  {
   "cell_type": "code",
   "execution_count": 20,
   "id": "2e8b5e07",
   "metadata": {},
   "outputs": [
    {
     "data": {
      "text/plain": [
       "Low Fat    5517\n",
       "Regular    2889\n",
       "reg         117\n",
       "Name: Item_Fat_Content, dtype: int64"
      ]
     },
     "execution_count": 20,
     "metadata": {},
     "output_type": "execute_result"
    }
   ],
   "source": [
    "data_train['Item_Fat_Content'].value_counts()"
   ]
  },
  {
   "cell_type": "code",
   "execution_count": 21,
   "id": "bf976c52",
   "metadata": {},
   "outputs": [
    {
     "data": {
      "text/plain": [
       "(5681, 11)"
      ]
     },
     "execution_count": 21,
     "metadata": {},
     "output_type": "execute_result"
    }
   ],
   "source": [
    "data_test.shape"
   ]
  },
  {
   "cell_type": "code",
   "execution_count": 22,
   "id": "95a95998",
   "metadata": {},
   "outputs": [
    {
     "data": {
      "text/plain": [
       "5"
      ]
     },
     "execution_count": 22,
     "metadata": {},
     "output_type": "execute_result"
    }
   ],
   "source": [
    "data_test['Item_Fat_Content'].nunique()"
   ]
  },
  {
   "cell_type": "code",
   "execution_count": 23,
   "id": "b622b943",
   "metadata": {},
   "outputs": [
    {
     "data": {
      "text/plain": [
       "array(['Low Fat', 'reg', 'Regular', 'LF', 'low fat'], dtype=object)"
      ]
     },
     "execution_count": 23,
     "metadata": {},
     "output_type": "execute_result"
    }
   ],
   "source": [
    "data_test['Item_Fat_Content'].unique()"
   ]
  },
  {
   "cell_type": "code",
   "execution_count": 24,
   "id": "504ea199",
   "metadata": {},
   "outputs": [
    {
     "data": {
      "text/plain": [
       "Low Fat    3396\n",
       "Regular    1935\n",
       "LF          206\n",
       "reg          78\n",
       "low fat      66\n",
       "Name: Item_Fat_Content, dtype: int64"
      ]
     },
     "execution_count": 24,
     "metadata": {},
     "output_type": "execute_result"
    }
   ],
   "source": [
    "data_test['Item_Fat_Content'].value_counts()"
   ]
  },
  {
   "cell_type": "code",
   "execution_count": 25,
   "id": "6966662b",
   "metadata": {},
   "outputs": [
    {
     "data": {
      "text/plain": [
       "(5681, 11)"
      ]
     },
     "execution_count": 25,
     "metadata": {},
     "output_type": "execute_result"
    }
   ],
   "source": [
    "data_test.shape"
   ]
  },
  {
   "cell_type": "code",
   "execution_count": 26,
   "id": "36741a3c",
   "metadata": {},
   "outputs": [],
   "source": [
    "data_test=data_test.replace(to_replace=\"low fat\",\n",
    "           value=\"Low Fat\")\n",
    "data_test=data_test.replace(to_replace=\"LF\",\n",
    "           value=\"Low Fat\")"
   ]
  },
  {
   "cell_type": "code",
   "execution_count": 27,
   "id": "879f9951",
   "metadata": {},
   "outputs": [
    {
     "data": {
      "text/plain": [
       "array(['Low Fat', 'reg', 'Regular'], dtype=object)"
      ]
     },
     "execution_count": 27,
     "metadata": {},
     "output_type": "execute_result"
    }
   ],
   "source": [
    "data_test['Item_Fat_Content'].unique()"
   ]
  },
  {
   "cell_type": "code",
   "execution_count": 28,
   "id": "7f0e46a7",
   "metadata": {},
   "outputs": [
    {
     "data": {
      "text/plain": [
       "Low Fat    3668\n",
       "Regular    1935\n",
       "reg          78\n",
       "Name: Item_Fat_Content, dtype: int64"
      ]
     },
     "execution_count": 28,
     "metadata": {},
     "output_type": "execute_result"
    }
   ],
   "source": [
    "data_test['Item_Fat_Content'].value_counts()"
   ]
  },
  {
   "cell_type": "code",
   "execution_count": 29,
   "id": "d4e0001d",
   "metadata": {},
   "outputs": [
    {
     "data": {
      "text/plain": [
       "Fruits and Vegetables    1232\n",
       "Snack Foods              1200\n",
       "Household                 910\n",
       "Frozen Foods              856\n",
       "Dairy                     682\n",
       "Canned                    649\n",
       "Baking Goods              648\n",
       "Health and Hygiene        520\n",
       "Soft Drinks               445\n",
       "Meat                      425\n",
       "Breads                    251\n",
       "Hard Drinks               214\n",
       "Others                    169\n",
       "Starchy Foods             148\n",
       "Breakfast                 110\n",
       "Seafood                    64\n",
       "Name: Item_Type, dtype: int64"
      ]
     },
     "execution_count": 29,
     "metadata": {},
     "output_type": "execute_result"
    }
   ],
   "source": [
    "data_train['Item_Type'].value_counts()"
   ]
  },
  {
   "cell_type": "code",
   "execution_count": 30,
   "id": "3dea7a3d",
   "metadata": {},
   "outputs": [
    {
     "data": {
      "text/plain": [
       "Medium    2793\n",
       "Small     2388\n",
       "High       932\n",
       "Name: Outlet_Size, dtype: int64"
      ]
     },
     "execution_count": 30,
     "metadata": {},
     "output_type": "execute_result"
    }
   ],
   "source": [
    "data_train['Outlet_Size'].value_counts()"
   ]
  },
  {
   "cell_type": "code",
   "execution_count": 31,
   "id": "414c134f",
   "metadata": {},
   "outputs": [
    {
     "data": {
      "text/plain": [
       "Tier 3    3350\n",
       "Tier 2    2785\n",
       "Tier 1    2388\n",
       "Name: Outlet_Location_Type, dtype: int64"
      ]
     },
     "execution_count": 31,
     "metadata": {},
     "output_type": "execute_result"
    }
   ],
   "source": [
    "data_train['Outlet_Location_Type'].value_counts()"
   ]
  },
  {
   "cell_type": "code",
   "execution_count": 32,
   "id": "6220e2ff",
   "metadata": {},
   "outputs": [
    {
     "data": {
      "text/plain": [
       "Supermarket Type1    5577\n",
       "Grocery Store        1083\n",
       "Supermarket Type3     935\n",
       "Supermarket Type2     928\n",
       "Name: Outlet_Type, dtype: int64"
      ]
     },
     "execution_count": 32,
     "metadata": {},
     "output_type": "execute_result"
    }
   ],
   "source": [
    "data_train['Outlet_Type'].value_counts()"
   ]
  },
  {
   "cell_type": "code",
   "execution_count": 33,
   "id": "e012225c",
   "metadata": {},
   "outputs": [
    {
     "data": {
      "text/plain": [
       "Supermarket Type1    3717\n",
       "Grocery Store         722\n",
       "Supermarket Type3     624\n",
       "Supermarket Type2     618\n",
       "Name: Outlet_Type, dtype: int64"
      ]
     },
     "execution_count": 33,
     "metadata": {},
     "output_type": "execute_result"
    }
   ],
   "source": [
    "data_test['Outlet_Type'].value_counts()"
   ]
  },
  {
   "cell_type": "code",
   "execution_count": 34,
   "id": "fde421cb",
   "metadata": {},
   "outputs": [
    {
     "data": {
      "text/plain": [
       "Tier 3    2233\n",
       "Tier 2    1856\n",
       "Tier 1    1592\n",
       "Name: Outlet_Location_Type, dtype: int64"
      ]
     },
     "execution_count": 34,
     "metadata": {},
     "output_type": "execute_result"
    }
   ],
   "source": [
    "data_test['Outlet_Location_Type'].value_counts()"
   ]
  },
  {
   "cell_type": "code",
   "execution_count": 35,
   "id": "feaf86ac",
   "metadata": {},
   "outputs": [
    {
     "data": {
      "text/plain": [
       "Medium    1862\n",
       "Small     1592\n",
       "High       621\n",
       "Name: Outlet_Size, dtype: int64"
      ]
     },
     "execution_count": 35,
     "metadata": {},
     "output_type": "execute_result"
    }
   ],
   "source": [
    "data_test['Outlet_Size'].value_counts()"
   ]
  },
  {
   "cell_type": "code",
   "execution_count": null,
   "id": "296f416c",
   "metadata": {},
   "outputs": [],
   "source": []
  },
  {
   "cell_type": "code",
   "execution_count": null,
   "id": "eba02cc4",
   "metadata": {},
   "outputs": [],
   "source": []
  },
  {
   "cell_type": "code",
   "execution_count": 36,
   "id": "c052306d",
   "metadata": {},
   "outputs": [
    {
     "name": "stdout",
     "output_type": "stream",
     "text": [
      "<class 'pandas.core.frame.DataFrame'>\n",
      "RangeIndex: 8523 entries, 0 to 8522\n",
      "Data columns (total 12 columns):\n",
      " #   Column                     Non-Null Count  Dtype  \n",
      "---  ------                     --------------  -----  \n",
      " 0   Item_Identifier            8523 non-null   object \n",
      " 1   Item_Weight                7060 non-null   float64\n",
      " 2   Item_Fat_Content           8523 non-null   object \n",
      " 3   Item_Visibility            8523 non-null   float64\n",
      " 4   Item_Type                  8523 non-null   object \n",
      " 5   Item_MRP                   8523 non-null   float64\n",
      " 6   Outlet_Identifier          8523 non-null   object \n",
      " 7   Outlet_Establishment_Year  8523 non-null   int64  \n",
      " 8   Outlet_Size                6113 non-null   object \n",
      " 9   Outlet_Location_Type       8523 non-null   object \n",
      " 10  Outlet_Type                8523 non-null   object \n",
      " 11  Item_Outlet_Sales          8523 non-null   float64\n",
      "dtypes: float64(4), int64(1), object(7)\n",
      "memory usage: 799.2+ KB\n"
     ]
    }
   ],
   "source": [
    "data_train.info()"
   ]
  },
  {
   "cell_type": "code",
   "execution_count": 37,
   "id": "78fb9e35",
   "metadata": {},
   "outputs": [
    {
     "name": "stdout",
     "output_type": "stream",
     "text": [
      "<class 'pandas.core.frame.DataFrame'>\n",
      "RangeIndex: 5681 entries, 0 to 5680\n",
      "Data columns (total 11 columns):\n",
      " #   Column                     Non-Null Count  Dtype  \n",
      "---  ------                     --------------  -----  \n",
      " 0   Item_Identifier            5681 non-null   object \n",
      " 1   Item_Weight                4705 non-null   float64\n",
      " 2   Item_Fat_Content           5681 non-null   object \n",
      " 3   Item_Visibility            5681 non-null   float64\n",
      " 4   Item_Type                  5681 non-null   object \n",
      " 5   Item_MRP                   5681 non-null   float64\n",
      " 6   Outlet_Identifier          5681 non-null   object \n",
      " 7   Outlet_Establishment_Year  5681 non-null   int64  \n",
      " 8   Outlet_Size                4075 non-null   object \n",
      " 9   Outlet_Location_Type       5681 non-null   object \n",
      " 10  Outlet_Type                5681 non-null   object \n",
      "dtypes: float64(3), int64(1), object(7)\n",
      "memory usage: 488.3+ KB\n"
     ]
    }
   ],
   "source": [
    "data_test.info()"
   ]
  },
  {
   "cell_type": "markdown",
   "id": "3790b11b",
   "metadata": {},
   "source": [
    "# handling missing values train data"
   ]
  },
  {
   "cell_type": "code",
   "execution_count": 38,
   "id": "33cc99b5",
   "metadata": {},
   "outputs": [
    {
     "data": {
      "text/plain": [
       "Item_Identifier                 0\n",
       "Item_Weight                  1463\n",
       "Item_Fat_Content                0\n",
       "Item_Visibility                 0\n",
       "Item_Type                       0\n",
       "Item_MRP                        0\n",
       "Outlet_Identifier               0\n",
       "Outlet_Establishment_Year       0\n",
       "Outlet_Size                  2410\n",
       "Outlet_Location_Type            0\n",
       "Outlet_Type                     0\n",
       "Item_Outlet_Sales               0\n",
       "dtype: int64"
      ]
     },
     "execution_count": 38,
     "metadata": {},
     "output_type": "execute_result"
    }
   ],
   "source": [
    "data_train.isna().sum()"
   ]
  },
  {
   "cell_type": "code",
   "execution_count": 39,
   "id": "386f70e2",
   "metadata": {},
   "outputs": [
    {
     "data": {
      "image/png": "[encoded data removed]",
      "text/plain": [
       "<Figure size 640x480 with 1 Axes>"
      ]
     },
     "metadata": {},
     "output_type": "display_data"
    }
   ],
   "source": [
    "plt.hist(data_train['Item_Weight'])\n",
    "plt.xlabel(\"weight\")\n",
    "plt.ylabel(\"frequency\")\n",
    "plt.title(\"Distribution of item weight\")\n",
    "plt.show()"
   ]
  },
  {
   "cell_type": "code",
   "execution_count": 40,
   "id": "85aa766a",
   "metadata": {},
   "outputs": [
    {
     "name": "stdout",
     "output_type": "stream",
     "text": [
      "<class 'pandas.core.frame.DataFrame'>\n",
      "RangeIndex: 8523 entries, 0 to 8522\n",
      "Data columns (total 12 columns):\n",
      " #   Column                     Non-Null Count  Dtype  \n",
      "---  ------                     --------------  -----  \n",
      " 0   Item_Identifier            8523 non-null   object \n",
      " 1   Item_Weight                7060 non-null   float64\n",
      " 2   Item_Fat_Content           8523 non-null   object \n",
      " 3   Item_Visibility            8523 non-null   float64\n",
      " 4   Item_Type                  8523 non-null   object \n",
      " 5   Item_MRP                   8523 non-null   float64\n",
      " 6   Outlet_Identifier          8523 non-null   object \n",
      " 7   Outlet_Establishment_Year  8523 non-null   int64  \n",
      " 8   Outlet_Size                6113 non-null   object \n",
      " 9   Outlet_Location_Type       8523 non-null   object \n",
      " 10  Outlet_Type                8523 non-null   object \n",
      " 11  Item_Outlet_Sales          8523 non-null   float64\n",
      "dtypes: float64(4), int64(1), object(7)\n",
      "memory usage: 799.2+ KB\n"
     ]
    }
   ],
   "source": [
    "data_train.info()"
   ]
  },
  {
   "cell_type": "code",
   "execution_count": 41,
   "id": "4f207f28",
   "metadata": {},
   "outputs": [],
   "source": [
    "mean_itemweight=data_train[\"Item_Weight\"].mean()"
   ]
  },
  {
   "cell_type": "code",
   "execution_count": 42,
   "id": "16c91962",
   "metadata": {},
   "outputs": [
    {
     "data": {
      "text/plain": [
       "12.857645184135976"
      ]
     },
     "execution_count": 42,
     "metadata": {},
     "output_type": "execute_result"
    }
   ],
   "source": [
    "mean_itemweight"
   ]
  },
  {
   "cell_type": "code",
   "execution_count": 43,
   "id": "50bbbca5",
   "metadata": {},
   "outputs": [],
   "source": [
    "data_train['Item_Weight']=data_train['Item_Weight'].fillna(mean_itemweight)"
   ]
  },
  {
   "cell_type": "code",
   "execution_count": 44,
   "id": "6ecffe5b",
   "metadata": {},
   "outputs": [
    {
     "data": {
      "text/plain": [
       "Item_Identifier                 0\n",
       "Item_Weight                     0\n",
       "Item_Fat_Content                0\n",
       "Item_Visibility                 0\n",
       "Item_Type                       0\n",
       "Item_MRP                        0\n",
       "Outlet_Identifier               0\n",
       "Outlet_Establishment_Year       0\n",
       "Outlet_Size                  2410\n",
       "Outlet_Location_Type            0\n",
       "Outlet_Type                     0\n",
       "Item_Outlet_Sales               0\n",
       "dtype: int64"
      ]
     },
     "execution_count": 44,
     "metadata": {},
     "output_type": "execute_result"
    }
   ],
   "source": [
    "data_train.isna().sum()"
   ]
  },
  {
   "cell_type": "code",
   "execution_count": 45,
   "id": "b9ca9807",
   "metadata": {},
   "outputs": [
    {
     "data": {
      "text/plain": [
       "Medium    2793\n",
       "Small     2388\n",
       "High       932\n",
       "Name: Outlet_Size, dtype: int64"
      ]
     },
     "execution_count": 45,
     "metadata": {},
     "output_type": "execute_result"
    }
   ],
   "source": [
    "data_train['Outlet_Size'].value_counts()"
   ]
  },
  {
   "cell_type": "code",
   "execution_count": 46,
   "id": "efbc652a",
   "metadata": {},
   "outputs": [],
   "source": [
    "data_train['Outlet_Size']=data_train['Outlet_Size'].fillna('Medium')"
   ]
  },
  {
   "cell_type": "code",
   "execution_count": 47,
   "id": "5ea84100",
   "metadata": {},
   "outputs": [
    {
     "data": {
      "text/plain": [
       "Item_Identifier              0\n",
       "Item_Weight                  0\n",
       "Item_Fat_Content             0\n",
       "Item_Visibility              0\n",
       "Item_Type                    0\n",
       "Item_MRP                     0\n",
       "Outlet_Identifier            0\n",
       "Outlet_Establishment_Year    0\n",
       "Outlet_Size                  0\n",
       "Outlet_Location_Type         0\n",
       "Outlet_Type                  0\n",
       "Item_Outlet_Sales            0\n",
       "dtype: int64"
      ]
     },
     "execution_count": 47,
     "metadata": {},
     "output_type": "execute_result"
    }
   ],
   "source": [
    "data_train.isna().sum()"
   ]
  },
  {
   "cell_type": "markdown",
   "id": "cd299292",
   "metadata": {},
   "source": [
    "# Missing values for test data"
   ]
  },
  {
   "cell_type": "code",
   "execution_count": 48,
   "id": "f290cca8",
   "metadata": {},
   "outputs": [
    {
     "data": {
      "text/plain": [
       "Item_Identifier                 0\n",
       "Item_Weight                   976\n",
       "Item_Fat_Content                0\n",
       "Item_Visibility                 0\n",
       "Item_Type                       0\n",
       "Item_MRP                        0\n",
       "Outlet_Identifier               0\n",
       "Outlet_Establishment_Year       0\n",
       "Outlet_Size                  1606\n",
       "Outlet_Location_Type            0\n",
       "Outlet_Type                     0\n",
       "dtype: int64"
      ]
     },
     "execution_count": 48,
     "metadata": {},
     "output_type": "execute_result"
    }
   ],
   "source": [
    "data_test.isna().sum()"
   ]
  },
  {
   "cell_type": "code",
   "execution_count": 49,
   "id": "9b3d5e6b",
   "metadata": {},
   "outputs": [
    {
     "data": {
      "image/png": "[encoded data removed]",
      "text/plain": [
       "<Figure size 640x480 with 1 Axes>"
      ]
     },
     "metadata": {},
     "output_type": "display_data"
    }
   ],
   "source": [
    "plt.hist(data_test['Item_Weight'])\n",
    "plt.title(\"Distribution of item weight\")\n",
    "plt.xlabel(\"Weight\")\n",
    "plt.ylabel(\"Frequency\")\n",
    "plt.show()"
   ]
  },
  {
   "cell_type": "code",
   "execution_count": 50,
   "id": "0c51c00a",
   "metadata": {},
   "outputs": [],
   "source": [
    "mean_weight=data_test['Item_Weight'].mean()"
   ]
  },
  {
   "cell_type": "code",
   "execution_count": 51,
   "id": "7bc7a2ad",
   "metadata": {},
   "outputs": [
    {
     "data": {
      "text/plain": [
       "12.695633368756642"
      ]
     },
     "execution_count": 51,
     "metadata": {},
     "output_type": "execute_result"
    }
   ],
   "source": [
    "mean_weight"
   ]
  },
  {
   "cell_type": "code",
   "execution_count": 52,
   "id": "42fe8fd1",
   "metadata": {},
   "outputs": [],
   "source": [
    "data_test['Item_Weight']=data_test['Item_Weight'].fillna(mean_weight)"
   ]
  },
  {
   "cell_type": "code",
   "execution_count": 53,
   "id": "2988a468",
   "metadata": {},
   "outputs": [
    {
     "data": {
      "text/plain": [
       "Item_Identifier                 0\n",
       "Item_Weight                     0\n",
       "Item_Fat_Content                0\n",
       "Item_Visibility                 0\n",
       "Item_Type                       0\n",
       "Item_MRP                        0\n",
       "Outlet_Identifier               0\n",
       "Outlet_Establishment_Year       0\n",
       "Outlet_Size                  1606\n",
       "Outlet_Location_Type            0\n",
       "Outlet_Type                     0\n",
       "dtype: int64"
      ]
     },
     "execution_count": 53,
     "metadata": {},
     "output_type": "execute_result"
    }
   ],
   "source": [
    "data_test.isna().sum()"
   ]
  },
  {
   "cell_type": "code",
   "execution_count": 54,
   "id": "76bc3213",
   "metadata": {},
   "outputs": [
    {
     "data": {
      "text/plain": [
       "Medium    1862\n",
       "Small     1592\n",
       "High       621\n",
       "Name: Outlet_Size, dtype: int64"
      ]
     },
     "execution_count": 54,
     "metadata": {},
     "output_type": "execute_result"
    }
   ],
   "source": [
    "data_test['Outlet_Size'].value_counts()"
   ]
  },
  {
   "cell_type": "code",
   "execution_count": 55,
   "id": "4ed826bd",
   "metadata": {},
   "outputs": [],
   "source": [
    "data_test['Outlet_Size']=data_test['Outlet_Size'].fillna(\"Medium\")"
   ]
  },
  {
   "cell_type": "code",
   "execution_count": 56,
   "id": "0fe62a3b",
   "metadata": {},
   "outputs": [
    {
     "data": {
      "text/plain": [
       "Item_Identifier              0\n",
       "Item_Weight                  0\n",
       "Item_Fat_Content             0\n",
       "Item_Visibility              0\n",
       "Item_Type                    0\n",
       "Item_MRP                     0\n",
       "Outlet_Identifier            0\n",
       "Outlet_Establishment_Year    0\n",
       "Outlet_Size                  0\n",
       "Outlet_Location_Type         0\n",
       "Outlet_Type                  0\n",
       "dtype: int64"
      ]
     },
     "execution_count": 56,
     "metadata": {},
     "output_type": "execute_result"
    }
   ],
   "source": [
    "data_test.isna().sum()"
   ]
  },
  {
   "cell_type": "code",
   "execution_count": 57,
   "id": "97ab7976",
   "metadata": {},
   "outputs": [
    {
     "data": {
      "text/plain": [
       "Index(['Item_Identifier', 'Item_Weight', 'Item_Fat_Content', 'Item_Visibility',\n",
       "       'Item_Type', 'Item_MRP', 'Outlet_Identifier',\n",
       "       'Outlet_Establishment_Year', 'Outlet_Size', 'Outlet_Location_Type',\n",
       "       'Outlet_Type', 'Item_Outlet_Sales'],\n",
       "      dtype='object')"
      ]
     },
     "execution_count": 57,
     "metadata": {},
     "output_type": "execute_result"
    }
   ],
   "source": [
    "data_train.columns"
   ]
  },
  {
   "cell_type": "code",
   "execution_count": 58,
   "id": "f9f3e410",
   "metadata": {},
   "outputs": [
    {
     "data": {
      "text/plain": [
       "array(['FDA15', 'DRC01', 'FDN15', ..., 'NCF55', 'NCW30', 'NCW05'],\n",
       "      dtype=object)"
      ]
     },
     "execution_count": 58,
     "metadata": {},
     "output_type": "execute_result"
    }
   ],
   "source": [
    "data_train['Item_Identifier'].unique()"
   ]
  },
  {
   "cell_type": "code",
   "execution_count": 59,
   "id": "ecaba3cf",
   "metadata": {},
   "outputs": [
    {
     "data": {
      "text/plain": [
       "1559"
      ]
     },
     "execution_count": 59,
     "metadata": {},
     "output_type": "execute_result"
    }
   ],
   "source": [
    "data_train['Item_Identifier'].nunique()"
   ]
  },
  {
   "cell_type": "code",
   "execution_count": 60,
   "id": "e7d4525a",
   "metadata": {},
   "outputs": [
    {
     "data": {
      "text/plain": [
       "FDW13    10\n",
       "FDG33    10\n",
       "NCY18     9\n",
       "FDD38     9\n",
       "DRE49     9\n",
       "         ..\n",
       "FDY43     1\n",
       "FDQ60     1\n",
       "FDO33     1\n",
       "DRF48     1\n",
       "FDC23     1\n",
       "Name: Item_Identifier, Length: 1559, dtype: int64"
      ]
     },
     "execution_count": 60,
     "metadata": {},
     "output_type": "execute_result"
    }
   ],
   "source": [
    "data_train['Item_Identifier'].value_counts()"
   ]
  },
  {
   "cell_type": "code",
   "execution_count": 61,
   "id": "521fef2b",
   "metadata": {},
   "outputs": [
    {
     "data": {
      "text/plain": [
       "Index(['Item_Identifier', 'Item_Weight', 'Item_Fat_Content', 'Item_Visibility',\n",
       "       'Item_Type', 'Item_MRP', 'Outlet_Identifier',\n",
       "       'Outlet_Establishment_Year', 'Outlet_Size', 'Outlet_Location_Type',\n",
       "       'Outlet_Type'],\n",
       "      dtype='object')"
      ]
     },
     "execution_count": 61,
     "metadata": {},
     "output_type": "execute_result"
    }
   ],
   "source": [
    "data_test.columns"
   ]
  },
  {
   "cell_type": "code",
   "execution_count": 62,
   "id": "ba7d917d",
   "metadata": {},
   "outputs": [
    {
     "data": {
      "text/plain": [
       "1543"
      ]
     },
     "execution_count": 62,
     "metadata": {},
     "output_type": "execute_result"
    }
   ],
   "source": [
    "data_test['Item_Identifier'].nunique()"
   ]
  },
  {
   "cell_type": "code",
   "execution_count": 63,
   "id": "655969fc",
   "metadata": {},
   "outputs": [
    {
     "data": {
      "text/plain": [
       "DRF48    8\n",
       "FDZ50    8\n",
       "FDQ60    8\n",
       "FDN52    8\n",
       "FDW10    8\n",
       "        ..\n",
       "FDW49    1\n",
       "FDG38    1\n",
       "FDD38    1\n",
       "FDA15    1\n",
       "FDF04    1\n",
       "Name: Item_Identifier, Length: 1543, dtype: int64"
      ]
     },
     "execution_count": 63,
     "metadata": {},
     "output_type": "execute_result"
    }
   ],
   "source": [
    "data_test['Item_Identifier'].value_counts()"
   ]
  },
  {
   "cell_type": "code",
   "execution_count": 64,
   "id": "65ebd08c",
   "metadata": {},
   "outputs": [
    {
     "data": {
      "text/plain": [
       "4402"
      ]
     },
     "execution_count": 64,
     "metadata": {},
     "output_type": "execute_result"
    }
   ],
   "source": [
    "data_test['Item_MRP'].nunique()"
   ]
  },
  {
   "cell_type": "code",
   "execution_count": 65,
   "id": "9726e01e",
   "metadata": {},
   "outputs": [
    {
     "data": {
      "text/plain": [
       "57.0614     5\n",
       "99.4700     4\n",
       "141.2154    4\n",
       "236.4564    4\n",
       "186.8898    4\n",
       "           ..\n",
       "156.3288    1\n",
       "125.7388    1\n",
       "42.6086     1\n",
       "105.9964    1\n",
       "79.7960     1\n",
       "Name: Item_MRP, Length: 4402, dtype: int64"
      ]
     },
     "execution_count": 65,
     "metadata": {},
     "output_type": "execute_result"
    }
   ],
   "source": [
    "data_test['Item_MRP'].value_counts()"
   ]
  },
  {
   "cell_type": "code",
   "execution_count": 66,
   "id": "7ec6622f",
   "metadata": {},
   "outputs": [],
   "source": [
    "# correlation of train dataset"
   ]
  },
  {
   "cell_type": "code",
   "execution_count": 67,
   "id": "cdc22d10",
   "metadata": {},
   "outputs": [
    {
     "name": "stderr",
     "output_type": "stream",
     "text": [
      "C:\\Users\\mothe\\AppData\\Local\\Temp\\ipykernel_15840\\2077193521.py:1: FutureWarning: The default value of numeric_only in DataFrame.corr is deprecated. In a future version, it will default to False. Select only valid columns or specify the value of numeric_only to silence this warning.\n",
      "  data_train.corr()\n"
     ]
    },
    {
     "data": {
      "text/html": [
       "<div>\n",
       "<style scoped>\n",
       "    .dataframe tbody tr th:only-of-type {\n",
       "        vertical-align: middle;\n",
       "    }\n",
       "\n",
       "    .dataframe tbody tr th {\n",
       "        vertical-align: top;\n",
       "    }\n",
       "\n",
       "    .dataframe thead th {\n",
       "        text-align: right;\n",
       "    }\n",
       "</style>\n",
       "<table border=\"1\" class=\"dataframe\">\n",
       "  <thead>\n",
       "    <tr style=\"text-align: right;\">\n",
       "      <th></th>\n",
       "      <th>Item_Weight</th>\n",
       "      <th>Item_Visibility</th>\n",
       "      <th>Item_MRP</th>\n",
       "      <th>Outlet_Establishment_Year</th>\n",
       "      <th>Item_Outlet_Sales</th>\n",
       "    </tr>\n",
       "  </thead>\n",
       "  <tbody>\n",
       "    <tr>\n",
       "      <th>Item_Weight</th>\n",
       "      <td>1.000000</td>\n",
       "      <td>-0.012049</td>\n",
       "      <td>0.024756</td>\n",
       "      <td>-0.008301</td>\n",
       "      <td>0.011550</td>\n",
       "    </tr>\n",
       "    <tr>\n",
       "      <th>Item_Visibility</th>\n",
       "      <td>-0.012049</td>\n",
       "      <td>1.000000</td>\n",
       "      <td>-0.001315</td>\n",
       "      <td>-0.074834</td>\n",
       "      <td>-0.128625</td>\n",
       "    </tr>\n",
       "    <tr>\n",
       "      <th>Item_MRP</th>\n",
       "      <td>0.024756</td>\n",
       "      <td>-0.001315</td>\n",
       "      <td>1.000000</td>\n",
       "      <td>0.005020</td>\n",
       "      <td>0.567574</td>\n",
       "    </tr>\n",
       "    <tr>\n",
       "      <th>Outlet_Establishment_Year</th>\n",
       "      <td>-0.008301</td>\n",
       "      <td>-0.074834</td>\n",
       "      <td>0.005020</td>\n",
       "      <td>1.000000</td>\n",
       "      <td>-0.049135</td>\n",
       "    </tr>\n",
       "    <tr>\n",
       "      <th>Item_Outlet_Sales</th>\n",
       "      <td>0.011550</td>\n",
       "      <td>-0.128625</td>\n",
       "      <td>0.567574</td>\n",
       "      <td>-0.049135</td>\n",
       "      <td>1.000000</td>\n",
       "    </tr>\n",
       "  </tbody>\n",
       "</table>\n",
       "</div>"
      ],
      "text/plain": [
       "                           Item_Weight  Item_Visibility  Item_MRP  \\\n",
       "Item_Weight                   1.000000        -0.012049  0.024756   \n",
       "Item_Visibility              -0.012049         1.000000 -0.001315   \n",
       "Item_MRP                      0.024756        -0.001315  1.000000   \n",
       "Outlet_Establishment_Year    -0.008301        -0.074834  0.005020   \n",
       "Item_Outlet_Sales             0.011550        -0.128625  0.567574   \n",
       "\n",
       "                           Outlet_Establishment_Year  Item_Outlet_Sales  \n",
       "Item_Weight                                -0.008301           0.011550  \n",
       "Item_Visibility                            -0.074834          -0.128625  \n",
       "Item_MRP                                    0.005020           0.567574  \n",
       "Outlet_Establishment_Year                   1.000000          -0.049135  \n",
       "Item_Outlet_Sales                          -0.049135           1.000000  "
      ]
     },
     "execution_count": 67,
     "metadata": {},
     "output_type": "execute_result"
    }
   ],
   "source": [
    "data_train.corr()"
   ]
  },
  {
   "cell_type": "code",
   "execution_count": 68,
   "id": "5c17d611",
   "metadata": {},
   "outputs": [
    {
     "name": "stderr",
     "output_type": "stream",
     "text": [
      "C:\\Users\\mothe\\AppData\\Local\\Temp\\ipykernel_15840\\3050912149.py:1: FutureWarning: The default value of numeric_only in DataFrame.corr is deprecated. In a future version, it will default to False. Select only valid columns or specify the value of numeric_only to silence this warning.\n",
      "  corrmatrix=data_train.corr()\n"
     ]
    },
    {
     "data": {
      "text/plain": [
       "<Axes: >"
      ]
     },
     "execution_count": 68,
     "metadata": {},
     "output_type": "execute_result"
    },
    {
     "data": {
      "image/png": "[encoded data removed]",
      "text/plain": [
       "<Figure size 1000x800 with 2 Axes>"
      ]
     },
     "metadata": {},
     "output_type": "display_data"
    }
   ],
   "source": [
    "corrmatrix=data_train.corr()\n",
    "plt.subplots(figsize=(10,8))\n",
    "sns.heatmap(corrmatrix,vmin=-.7,vmax=.7,annot=True,linewidths=0.2,cmap='YlGnBu')"
   ]
  },
  {
   "cell_type": "code",
   "execution_count": 69,
   "id": "eca70acb",
   "metadata": {},
   "outputs": [
    {
     "name": "stderr",
     "output_type": "stream",
     "text": [
      "C:\\Users\\mothe\\AppData\\Local\\Temp\\ipykernel_15840\\4208469104.py:1: FutureWarning: The default value of numeric_only in DataFrame.corr is deprecated. In a future version, it will default to False. Select only valid columns or specify the value of numeric_only to silence this warning.\n",
      "  data_test.corr()\n"
     ]
    },
    {
     "data": {
      "text/html": [
       "<div>\n",
       "<style scoped>\n",
       "    .dataframe tbody tr th:only-of-type {\n",
       "        vertical-align: middle;\n",
       "    }\n",
       "\n",
       "    .dataframe tbody tr th {\n",
       "        vertical-align: top;\n",
       "    }\n",
       "\n",
       "    .dataframe thead th {\n",
       "        text-align: right;\n",
       "    }\n",
       "</style>\n",
       "<table border=\"1\" class=\"dataframe\">\n",
       "  <thead>\n",
       "    <tr style=\"text-align: right;\">\n",
       "      <th></th>\n",
       "      <th>Item_Weight</th>\n",
       "      <th>Item_Visibility</th>\n",
       "      <th>Item_MRP</th>\n",
       "      <th>Outlet_Establishment_Year</th>\n",
       "    </tr>\n",
       "  </thead>\n",
       "  <tbody>\n",
       "    <tr>\n",
       "      <th>Item_Weight</th>\n",
       "      <td>1.000000</td>\n",
       "      <td>-0.016380</td>\n",
       "      <td>0.045257</td>\n",
       "      <td>0.013548</td>\n",
       "    </tr>\n",
       "    <tr>\n",
       "      <th>Item_Visibility</th>\n",
       "      <td>-0.016380</td>\n",
       "      <td>1.000000</td>\n",
       "      <td>-0.014013</td>\n",
       "      <td>-0.097040</td>\n",
       "    </tr>\n",
       "    <tr>\n",
       "      <th>Item_MRP</th>\n",
       "      <td>0.045257</td>\n",
       "      <td>-0.014013</td>\n",
       "      <td>1.000000</td>\n",
       "      <td>-0.007233</td>\n",
       "    </tr>\n",
       "    <tr>\n",
       "      <th>Outlet_Establishment_Year</th>\n",
       "      <td>0.013548</td>\n",
       "      <td>-0.097040</td>\n",
       "      <td>-0.007233</td>\n",
       "      <td>1.000000</td>\n",
       "    </tr>\n",
       "  </tbody>\n",
       "</table>\n",
       "</div>"
      ],
      "text/plain": [
       "                           Item_Weight  Item_Visibility  Item_MRP  \\\n",
       "Item_Weight                   1.000000        -0.016380  0.045257   \n",
       "Item_Visibility              -0.016380         1.000000 -0.014013   \n",
       "Item_MRP                      0.045257        -0.014013  1.000000   \n",
       "Outlet_Establishment_Year     0.013548        -0.097040 -0.007233   \n",
       "\n",
       "                           Outlet_Establishment_Year  \n",
       "Item_Weight                                 0.013548  \n",
       "Item_Visibility                            -0.097040  \n",
       "Item_MRP                                   -0.007233  \n",
       "Outlet_Establishment_Year                   1.000000  "
      ]
     },
     "execution_count": 69,
     "metadata": {},
     "output_type": "execute_result"
    }
   ],
   "source": [
    "data_test.corr()"
   ]
  },
  {
   "cell_type": "code",
   "execution_count": 70,
   "id": "3dc545e6",
   "metadata": {},
   "outputs": [
    {
     "name": "stderr",
     "output_type": "stream",
     "text": [
      "C:\\Users\\mothe\\AppData\\Local\\Temp\\ipykernel_15840\\1728098100.py:1: FutureWarning: The default value of numeric_only in DataFrame.corr is deprecated. In a future version, it will default to False. Select only valid columns or specify the value of numeric_only to silence this warning.\n",
      "  corrmatrix=data_test.corr()\n"
     ]
    },
    {
     "data": {
      "text/plain": [
       "<Axes: >"
      ]
     },
     "execution_count": 70,
     "metadata": {},
     "output_type": "execute_result"
    },
    {
     "data": {
      "image/png": "[encoded data removed]",
      "text/plain": [
       "<Figure size 1000x800 with 2 Axes>"
      ]
     },
     "metadata": {},
     "output_type": "display_data"
    }
   ],
   "source": [
    "corrmatrix=data_test.corr()\n",
    "plt.subplots(figsize=(10,8))\n",
    "sns.heatmap(corrmatrix,vmin=-.7,vmax=.7,annot=True,linewidths=0.2,cmap='YlGnBu')"
   ]
  },
  {
   "cell_type": "markdown",
   "id": "251f1754",
   "metadata": {},
   "source": [
    "# scatter plots"
   ]
  },
  {
   "cell_type": "code",
   "execution_count": 71,
   "id": "c0f106ea",
   "metadata": {},
   "outputs": [
    {
     "data": {
      "image/png": "[encoded data removed]",
      "text/plain": [
       "<Figure size 640x480 with 1 Axes>"
      ]
     },
     "metadata": {},
     "output_type": "display_data"
    }
   ],
   "source": [
    "plt.scatter(data_train['Item_MRP'], data_train['Item_Outlet_Sales'])\n",
    "plt.xlabel(\"MRP of item\")\n",
    "plt.ylabel(\"Sales \")\n",
    "plt.show()"
   ]
  },
  {
   "cell_type": "code",
   "execution_count": 72,
   "id": "88fc25b7",
   "metadata": {},
   "outputs": [
    {
     "data": {
      "image/png": "[encoded data removed]",
      "text/plain": [
       "<Figure size 640x480 with 1 Axes>"
      ]
     },
     "metadata": {},
     "output_type": "display_data"
    }
   ],
   "source": [
    "plt.scatter(data_train['Item_Visibility'], data_train['Item_Outlet_Sales'])\n",
    "plt.xlabel(\"Visibility of item\")\n",
    "plt.ylabel(\"Sales \")\n",
    "plt.show()"
   ]
  },
  {
   "cell_type": "code",
   "execution_count": 73,
   "id": "c6b397aa",
   "metadata": {},
   "outputs": [],
   "source": [
    "# Visualization train and test dataset"
   ]
  },
  {
   "cell_type": "code",
   "execution_count": 74,
   "id": "03d3ef07",
   "metadata": {},
   "outputs": [
    {
     "data": {
      "image/png": "[encoded data removed]",
      "text/plain": [
       "<Figure size 2000x1500 with 6 Axes>"
      ]
     },
     "metadata": {},
     "output_type": "display_data"
    }
   ],
   "source": [
    "freqgraph=data_train.select_dtypes(include=['int64','float64','int32'])\n",
    "freqgraph.hist(figsize=(20,15))\n",
    "plt.show()"
   ]
  },
  {
   "cell_type": "code",
   "execution_count": 75,
   "id": "a00ba8ef",
   "metadata": {},
   "outputs": [
    {
     "data": {
      "image/png": "[encoded data removed]",
      "text/plain": [
       "<Figure size 2000x1500 with 4 Axes>"
      ]
     },
     "metadata": {},
     "output_type": "display_data"
    }
   ],
   "source": [
    "freqgraph=data_test.select_dtypes(include=['int64','float64','int32'])\n",
    "freqgraph.hist(figsize=(20,15))\n",
    "plt.show()"
   ]
  },
  {
   "cell_type": "code",
   "execution_count": 76,
   "id": "9bb5197b",
   "metadata": {},
   "outputs": [
    {
     "data": {
      "text/plain": [
       "Index(['Item_Identifier', 'Item_Weight', 'Item_Fat_Content', 'Item_Visibility',\n",
       "       'Item_Type', 'Item_MRP', 'Outlet_Identifier',\n",
       "       'Outlet_Establishment_Year', 'Outlet_Size', 'Outlet_Location_Type',\n",
       "       'Outlet_Type', 'Item_Outlet_Sales'],\n",
       "      dtype='object')"
      ]
     },
     "execution_count": 76,
     "metadata": {},
     "output_type": "execute_result"
    }
   ],
   "source": [
    "data_train.columns"
   ]
  },
  {
   "cell_type": "markdown",
   "id": "76003f0a",
   "metadata": {},
   "source": [
    "# Checking Outliers for train dataset"
   ]
  },
  {
   "cell_type": "code",
   "execution_count": 77,
   "id": "f6eb2592",
   "metadata": {},
   "outputs": [
    {
     "data": {
      "image/png": "[encoded data removed]",
      "text/plain": [
       "<Figure size 640x480 with 1 Axes>"
      ]
     },
     "metadata": {},
     "output_type": "display_data"
    }
   ],
   "source": [
    "plt.boxplot(data_train['Item_Weight'])\n",
    "plt.show();"
   ]
  },
  {
   "cell_type": "code",
   "execution_count": 78,
   "id": "35745ef6",
   "metadata": {},
   "outputs": [
    {
     "data": {
      "text/plain": [
       "Item_Identifier               object\n",
       "Item_Weight                  float64\n",
       "Item_Fat_Content              object\n",
       "Item_Visibility              float64\n",
       "Item_Type                     object\n",
       "Item_MRP                     float64\n",
       "Outlet_Identifier             object\n",
       "Outlet_Establishment_Year      int64\n",
       "Outlet_Size                   object\n",
       "Outlet_Location_Type          object\n",
       "Outlet_Type                   object\n",
       "Item_Outlet_Sales            float64\n",
       "dtype: object"
      ]
     },
     "execution_count": 78,
     "metadata": {},
     "output_type": "execute_result"
    }
   ],
   "source": [
    "data_train.dtypes\n"
   ]
  },
  {
   "cell_type": "code",
   "execution_count": 79,
   "id": "30996f9f",
   "metadata": {},
   "outputs": [
    {
     "data": {
      "image/png": "[encoded data removed]",
      "text/plain": [
       "<Figure size 640x480 with 1 Axes>"
      ]
     },
     "metadata": {},
     "output_type": "display_data"
    }
   ],
   "source": [
    "plt.boxplot(data_train['Item_Visibility'])\n",
    "plt.show();"
   ]
  },
  {
   "cell_type": "code",
   "execution_count": 80,
   "id": "214145b8",
   "metadata": {},
   "outputs": [],
   "source": [
    "# IQR"
   ]
  },
  {
   "cell_type": "code",
   "execution_count": 81,
   "id": "d3390eb5",
   "metadata": {},
   "outputs": [],
   "source": [
    "q1=data_train['Item_Visibility'].quantile(0.25)\n",
    "q2=data_train['Item_Visibility'].quantile(0.5)\n",
    "q3=data_train['Item_Visibility'].quantile(0.75)"
   ]
  },
  {
   "cell_type": "code",
   "execution_count": 82,
   "id": "a6f26a57",
   "metadata": {},
   "outputs": [],
   "source": [
    "IQR=q3-q1"
   ]
  },
  {
   "cell_type": "code",
   "execution_count": 83,
   "id": "b1bb5647",
   "metadata": {},
   "outputs": [
    {
     "name": "stdout",
     "output_type": "stream",
     "text": [
      "0.067595815\n"
     ]
    }
   ],
   "source": [
    "print(IQR)"
   ]
  },
  {
   "cell_type": "code",
   "execution_count": 84,
   "id": "91d14821",
   "metadata": {},
   "outputs": [],
   "source": [
    "lb=q1-(1.5*IQR)\n",
    "ub=q3+(1.5*IQR)"
   ]
  },
  {
   "cell_type": "code",
   "execution_count": 85,
   "id": "598f195c",
   "metadata": {},
   "outputs": [
    {
     "name": "stdout",
     "output_type": "stream",
     "text": [
      "lb: -0.07440424500000001 ub: 0.195979015\n"
     ]
    }
   ],
   "source": [
    "print(\"lb:\",lb ,  \"ub:\", ub)"
   ]
  },
  {
   "cell_type": "code",
   "execution_count": 86,
   "id": "9313e659",
   "metadata": {},
   "outputs": [
    {
     "name": "stderr",
     "output_type": "stream",
     "text": [
      "C:\\Users\\mothe\\AppData\\Local\\Temp\\ipykernel_15840\\855747899.py:1: UserWarning: \n",
      "\n",
      "`distplot` is a deprecated function and will be removed in seaborn v0.14.0.\n",
      "\n",
      "Please adapt your code to use either `displot` (a figure-level function with\n",
      "similar flexibility) or `histplot` (an axes-level function for histograms).\n",
      "\n",
      "For a guide to updating your code to use the new functions, please see\n",
      "https://gist.github.com/mwaskom/de44147ed2974457ad6372750bbe5751\n",
      "\n",
      "  sns.distplot(data_train['Item_Visibility'])\n"
     ]
    },
    {
     "data": {
      "image/png": "[encoded data removed]",
      "text/plain": [
       "<Figure size 640x480 with 1 Axes>"
      ]
     },
     "metadata": {},
     "output_type": "display_data"
    }
   ],
   "source": [
    "sns.distplot(data_train['Item_Visibility'])\n",
    "plt.axvline(ub, color='r')\n",
    "plt.axvline(lb,color='r')\n",
    "plt.axvline(q1,color='g')\n",
    "plt.axvline(q3,color='g')\n",
    "plt.show()"
   ]
  },
  {
   "cell_type": "code",
   "execution_count": 87,
   "id": "3b631331",
   "metadata": {},
   "outputs": [
    {
     "data": {
      "text/plain": [
       "Int64Index([  49,   83,  108,  174,  334,  434,  502,  521,  532,  680,\n",
       "            ...\n",
       "            7866, 7949, 8194, 8215, 8273, 8292, 8345, 8371, 8432, 8509],\n",
       "           dtype='int64', length=144)"
      ]
     },
     "execution_count": 87,
     "metadata": {},
     "output_type": "execute_result"
    }
   ],
   "source": [
    "data_train[(data_train['Item_Visibility']<lb)| (data_train['Item_Visibility']>ub)].index"
   ]
  },
  {
   "cell_type": "code",
   "execution_count": 88,
   "id": "c1baa9b1",
   "metadata": {},
   "outputs": [],
   "source": [
    "data_train=data_train.drop([  49,   83,  108,  174,  334,  434,  502,  521,  532,  680,\n",
    "            7866, 7949, 8194, 8215, 8273, 8292, 8345, 8371, 8432, 8509])"
   ]
  },
  {
   "cell_type": "code",
   "execution_count": 89,
   "id": "72d0868d",
   "metadata": {},
   "outputs": [
    {
     "name": "stderr",
     "output_type": "stream",
     "text": [
      "C:\\Users\\mothe\\AppData\\Local\\Temp\\ipykernel_15840\\855747899.py:1: UserWarning: \n",
      "\n",
      "`distplot` is a deprecated function and will be removed in seaborn v0.14.0.\n",
      "\n",
      "Please adapt your code to use either `displot` (a figure-level function with\n",
      "similar flexibility) or `histplot` (an axes-level function for histograms).\n",
      "\n",
      "For a guide to updating your code to use the new functions, please see\n",
      "https://gist.github.com/mwaskom/de44147ed2974457ad6372750bbe5751\n",
      "\n",
      "  sns.distplot(data_train['Item_Visibility'])\n"
     ]
    },
    {
     "data": {
      "image/png": "[encoded data removed]",
      "text/plain": [
       "<Figure size 640x480 with 1 Axes>"
      ]
     },
     "metadata": {},
     "output_type": "display_data"
    }
   ],
   "source": [
    "sns.distplot(data_train['Item_Visibility'])\n",
    "plt.axvline(ub, color='r')\n",
    "plt.axvline(lb,color='r')\n",
    "plt.axvline(q1,color='g')\n",
    "plt.axvline(q3,color='g')\n",
    "plt.show()"
   ]
  },
  {
   "cell_type": "code",
   "execution_count": 90,
   "id": "405b9aa8",
   "metadata": {},
   "outputs": [
    {
     "data": {
      "image/png": "[encoded data removed]",
      "text/plain": [
       "<Figure size 640x480 with 1 Axes>"
      ]
     },
     "metadata": {},
     "output_type": "display_data"
    }
   ],
   "source": [
    "plt.boxplot(data_train['Item_Visibility'])\n",
    "plt.show();"
   ]
  },
  {
   "cell_type": "code",
   "execution_count": 91,
   "id": "d15bc231",
   "metadata": {},
   "outputs": [
    {
     "data": {
      "text/plain": [
       "(8503, 12)"
      ]
     },
     "execution_count": 91,
     "metadata": {},
     "output_type": "execute_result"
    }
   ],
   "source": [
    "data_train.shape"
   ]
  },
  {
   "cell_type": "code",
   "execution_count": 92,
   "id": "83b5ffe0",
   "metadata": {},
   "outputs": [
    {
     "data": {
      "text/plain": [
       "Item_Identifier               object\n",
       "Item_Weight                  float64\n",
       "Item_Fat_Content              object\n",
       "Item_Visibility              float64\n",
       "Item_Type                     object\n",
       "Item_MRP                     float64\n",
       "Outlet_Identifier             object\n",
       "Outlet_Establishment_Year      int64\n",
       "Outlet_Size                   object\n",
       "Outlet_Location_Type          object\n",
       "Outlet_Type                   object\n",
       "Item_Outlet_Sales            float64\n",
       "dtype: object"
      ]
     },
     "execution_count": 92,
     "metadata": {},
     "output_type": "execute_result"
    }
   ],
   "source": [
    "data_train.dtypes"
   ]
  },
  {
   "cell_type": "code",
   "execution_count": 93,
   "id": "ce4644e3",
   "metadata": {},
   "outputs": [
    {
     "data": {
      "image/png": "[encoded data removed]",
      "text/plain": [
       "<Figure size 640x480 with 1 Axes>"
      ]
     },
     "metadata": {},
     "output_type": "display_data"
    }
   ],
   "source": [
    "plt.boxplot(data_train['Item_MRP'])\n",
    "plt.show();"
   ]
  },
  {
   "cell_type": "code",
   "execution_count": 94,
   "id": "fb3e1081",
   "metadata": {},
   "outputs": [
    {
     "data": {
      "image/png": "[encoded data removed]",
      "text/plain": [
       "<Figure size 640x480 with 1 Axes>"
      ]
     },
     "metadata": {},
     "output_type": "display_data"
    }
   ],
   "source": [
    "plt.boxplot(data_train['Outlet_Establishment_Year'])\n",
    "plt.show();"
   ]
  },
  {
   "cell_type": "code",
   "execution_count": 95,
   "id": "c8d902d0",
   "metadata": {},
   "outputs": [
    {
     "data": {
      "image/png": "[encoded data removed]",
      "text/plain": [
       "<Figure size 640x480 with 1 Axes>"
      ]
     },
     "metadata": {},
     "output_type": "display_data"
    }
   ],
   "source": [
    "plt.boxplot(data_train['Item_Outlet_Sales'])\n",
    "plt.show();"
   ]
  },
  {
   "cell_type": "code",
   "execution_count": 96,
   "id": "9005acf8",
   "metadata": {},
   "outputs": [
    {
     "data": {
      "text/plain": [
       "(5681, 11)"
      ]
     },
     "execution_count": 96,
     "metadata": {},
     "output_type": "execute_result"
    }
   ],
   "source": [
    "data_test.shape"
   ]
  },
  {
   "cell_type": "markdown",
   "id": "b8cf22c8",
   "metadata": {},
   "source": [
    "# handling outliers for test values"
   ]
  },
  {
   "cell_type": "code",
   "execution_count": 97,
   "id": "14577ab7",
   "metadata": {},
   "outputs": [
    {
     "data": {
      "text/plain": [
       "Item_Identifier               object\n",
       "Item_Weight                  float64\n",
       "Item_Fat_Content              object\n",
       "Item_Visibility              float64\n",
       "Item_Type                     object\n",
       "Item_MRP                     float64\n",
       "Outlet_Identifier             object\n",
       "Outlet_Establishment_Year      int64\n",
       "Outlet_Size                   object\n",
       "Outlet_Location_Type          object\n",
       "Outlet_Type                   object\n",
       "dtype: object"
      ]
     },
     "execution_count": 97,
     "metadata": {},
     "output_type": "execute_result"
    }
   ],
   "source": [
    "data_test.dtypes"
   ]
  },
  {
   "cell_type": "code",
   "execution_count": 98,
   "id": "d0a2c4e4",
   "metadata": {},
   "outputs": [
    {
     "data": {
      "image/png": "[encoded data removed]",
      "text/plain": [
       "<Figure size 640x480 with 1 Axes>"
      ]
     },
     "metadata": {},
     "output_type": "display_data"
    }
   ],
   "source": [
    "plt.boxplot(data_test['Item_Weight'])\n",
    "plt.show();"
   ]
  },
  {
   "cell_type": "code",
   "execution_count": 99,
   "id": "e3243ce4",
   "metadata": {},
   "outputs": [
    {
     "data": {
      "image/png": "[encoded data removed]",
      "text/plain": [
       "<Figure size 640x480 with 1 Axes>"
      ]
     },
     "metadata": {},
     "output_type": "display_data"
    }
   ],
   "source": [
    "plt.boxplot(data_test['Item_Visibility'])\n",
    "plt.show();"
   ]
  },
  {
   "cell_type": "code",
   "execution_count": 100,
   "id": "6ffb2c51",
   "metadata": {},
   "outputs": [],
   "source": [
    "# IQR"
   ]
  },
  {
   "cell_type": "code",
   "execution_count": 101,
   "id": "c9681659",
   "metadata": {},
   "outputs": [],
   "source": [
    "q1=data_test['Item_Visibility'].quantile(0.25)\n",
    "q2=data_test['Item_Visibility'].quantile(0.5)\n",
    "q3=data_test['Item_Visibility'].quantile(0.75)"
   ]
  },
  {
   "cell_type": "code",
   "execution_count": 102,
   "id": "400360c0",
   "metadata": {},
   "outputs": [
    {
     "name": "stdout",
     "output_type": "stream",
     "text": [
      "0.066415748\n",
      "lb: -0.072576747 ub: 0.193086245\n"
     ]
    }
   ],
   "source": [
    "IQR=q3-q1\n",
    "print(IQR)\n",
    "\n",
    "\n",
    "\n",
    "lb=q1-(1.5*IQR)\n",
    "ub=q3+(1.5*IQR)\n",
    "print(\"lb:\",lb ,  \"ub:\", ub)\n",
    "\n",
    "\n",
    "\n",
    "\n"
   ]
  },
  {
   "cell_type": "code",
   "execution_count": 103,
   "id": "40b1ec07",
   "metadata": {},
   "outputs": [
    {
     "data": {
      "text/plain": [
       "Int64Index([  19,   46,   76,   78,   89,  138,  242,  333,  352,  360,\n",
       "            ...\n",
       "            5157, 5175, 5277, 5290, 5435, 5469, 5482, 5514, 5571, 5668],\n",
       "           dtype='int64', length=113)"
      ]
     },
     "execution_count": 103,
     "metadata": {},
     "output_type": "execute_result"
    }
   ],
   "source": [
    "data_test[(data_test['Item_Visibility']<lb)| (data_test['Item_Visibility']>ub)].index"
   ]
  },
  {
   "cell_type": "code",
   "execution_count": 104,
   "id": "70e5446b",
   "metadata": {},
   "outputs": [],
   "source": [
    "data_test=data_test.drop([  19,   46,   76,   78,   89,  138,  242,  333,  352,  360,5157, 5175, 5277, 5290, 5435, 5469, 5482, 5514, 5571, 5668])"
   ]
  },
  {
   "cell_type": "code",
   "execution_count": 105,
   "id": "eca3e555",
   "metadata": {},
   "outputs": [
    {
     "data": {
      "image/png": "[encoded data removed]",
      "text/plain": [
       "<Figure size 640x480 with 1 Axes>"
      ]
     },
     "metadata": {},
     "output_type": "display_data"
    }
   ],
   "source": [
    "plt.boxplot(data_test['Item_Visibility'])\n",
    "plt.show();"
   ]
  },
  {
   "cell_type": "code",
   "execution_count": 106,
   "id": "9e432c6a",
   "metadata": {},
   "outputs": [
    {
     "data": {
      "text/plain": [
       "(5661, 11)"
      ]
     },
     "execution_count": 106,
     "metadata": {},
     "output_type": "execute_result"
    }
   ],
   "source": [
    "data_test.shape"
   ]
  },
  {
   "cell_type": "code",
   "execution_count": 107,
   "id": "91a23cd6",
   "metadata": {},
   "outputs": [
    {
     "data": {
      "text/plain": [
       "Item_Identifier               object\n",
       "Item_Weight                  float64\n",
       "Item_Fat_Content              object\n",
       "Item_Visibility              float64\n",
       "Item_Type                     object\n",
       "Item_MRP                     float64\n",
       "Outlet_Identifier             object\n",
       "Outlet_Establishment_Year      int64\n",
       "Outlet_Size                   object\n",
       "Outlet_Location_Type          object\n",
       "Outlet_Type                   object\n",
       "dtype: object"
      ]
     },
     "execution_count": 107,
     "metadata": {},
     "output_type": "execute_result"
    }
   ],
   "source": [
    "data_test.dtypes"
   ]
  },
  {
   "cell_type": "code",
   "execution_count": 108,
   "id": "27f814d2",
   "metadata": {},
   "outputs": [
    {
     "data": {
      "image/png": "[encoded data removed]",
      "text/plain": [
       "<Figure size 640x480 with 1 Axes>"
      ]
     },
     "metadata": {},
     "output_type": "display_data"
    }
   ],
   "source": [
    "plt.boxplot(data_test['Item_MRP'])\n",
    "plt.show();"
   ]
  },
  {
   "cell_type": "code",
   "execution_count": 109,
   "id": "02a89730",
   "metadata": {},
   "outputs": [
    {
     "data": {
      "image/png": "[encoded data removed]",
      "text/plain": [
       "<Figure size 640x480 with 1 Axes>"
      ]
     },
     "metadata": {},
     "output_type": "display_data"
    }
   ],
   "source": [
    "plt.boxplot(data_test['Outlet_Establishment_Year'])\n",
    "plt.show();"
   ]
  },
  {
   "cell_type": "code",
   "execution_count": 110,
   "id": "d92b3ed2",
   "metadata": {},
   "outputs": [],
   "source": [
    "y=data_train['Item_Outlet_Sales']\n",
    "x=data_train.drop(\"Item_Outlet_Sales\",axis=1)"
   ]
  },
  {
   "cell_type": "code",
   "execution_count": 111,
   "id": "567eed26",
   "metadata": {},
   "outputs": [
    {
     "data": {
      "text/html": [
       "<div>\n",
       "<style scoped>\n",
       "    .dataframe tbody tr th:only-of-type {\n",
       "        vertical-align: middle;\n",
       "    }\n",
       "\n",
       "    .dataframe tbody tr th {\n",
       "        vertical-align: top;\n",
       "    }\n",
       "\n",
       "    .dataframe thead th {\n",
       "        text-align: right;\n",
       "    }\n",
       "</style>\n",
       "<table border=\"1\" class=\"dataframe\">\n",
       "  <thead>\n",
       "    <tr style=\"text-align: right;\">\n",
       "      <th></th>\n",
       "      <th>Item_Identifier</th>\n",
       "      <th>Item_Weight</th>\n",
       "      <th>Item_Fat_Content</th>\n",
       "      <th>Item_Visibility</th>\n",
       "      <th>Item_Type</th>\n",
       "      <th>Item_MRP</th>\n",
       "      <th>Outlet_Identifier</th>\n",
       "      <th>Outlet_Establishment_Year</th>\n",
       "      <th>Outlet_Size</th>\n",
       "      <th>Outlet_Location_Type</th>\n",
       "      <th>Outlet_Type</th>\n",
       "    </tr>\n",
       "  </thead>\n",
       "  <tbody>\n",
       "    <tr>\n",
       "      <th>0</th>\n",
       "      <td>FDA15</td>\n",
       "      <td>9.300</td>\n",
       "      <td>Low Fat</td>\n",
       "      <td>0.016047</td>\n",
       "      <td>Dairy</td>\n",
       "      <td>249.8092</td>\n",
       "      <td>OUT049</td>\n",
       "      <td>1999</td>\n",
       "      <td>Medium</td>\n",
       "      <td>Tier 1</td>\n",
       "      <td>Supermarket Type1</td>\n",
       "    </tr>\n",
       "    <tr>\n",
       "      <th>1</th>\n",
       "      <td>DRC01</td>\n",
       "      <td>5.920</td>\n",
       "      <td>Regular</td>\n",
       "      <td>0.019278</td>\n",
       "      <td>Soft Drinks</td>\n",
       "      <td>48.2692</td>\n",
       "      <td>OUT018</td>\n",
       "      <td>2009</td>\n",
       "      <td>Medium</td>\n",
       "      <td>Tier 3</td>\n",
       "      <td>Supermarket Type2</td>\n",
       "    </tr>\n",
       "    <tr>\n",
       "      <th>2</th>\n",
       "      <td>FDN15</td>\n",
       "      <td>17.500</td>\n",
       "      <td>Low Fat</td>\n",
       "      <td>0.016760</td>\n",
       "      <td>Meat</td>\n",
       "      <td>141.6180</td>\n",
       "      <td>OUT049</td>\n",
       "      <td>1999</td>\n",
       "      <td>Medium</td>\n",
       "      <td>Tier 1</td>\n",
       "      <td>Supermarket Type1</td>\n",
       "    </tr>\n",
       "    <tr>\n",
       "      <th>3</th>\n",
       "      <td>FDX07</td>\n",
       "      <td>19.200</td>\n",
       "      <td>Regular</td>\n",
       "      <td>0.000000</td>\n",
       "      <td>Fruits and Vegetables</td>\n",
       "      <td>182.0950</td>\n",
       "      <td>OUT010</td>\n",
       "      <td>1998</td>\n",
       "      <td>Medium</td>\n",
       "      <td>Tier 3</td>\n",
       "      <td>Grocery Store</td>\n",
       "    </tr>\n",
       "    <tr>\n",
       "      <th>4</th>\n",
       "      <td>NCD19</td>\n",
       "      <td>8.930</td>\n",
       "      <td>Low Fat</td>\n",
       "      <td>0.000000</td>\n",
       "      <td>Household</td>\n",
       "      <td>53.8614</td>\n",
       "      <td>OUT013</td>\n",
       "      <td>1987</td>\n",
       "      <td>High</td>\n",
       "      <td>Tier 3</td>\n",
       "      <td>Supermarket Type1</td>\n",
       "    </tr>\n",
       "    <tr>\n",
       "      <th>...</th>\n",
       "      <td>...</td>\n",
       "      <td>...</td>\n",
       "      <td>...</td>\n",
       "      <td>...</td>\n",
       "      <td>...</td>\n",
       "      <td>...</td>\n",
       "      <td>...</td>\n",
       "      <td>...</td>\n",
       "      <td>...</td>\n",
       "      <td>...</td>\n",
       "      <td>...</td>\n",
       "    </tr>\n",
       "    <tr>\n",
       "      <th>8518</th>\n",
       "      <td>FDF22</td>\n",
       "      <td>6.865</td>\n",
       "      <td>Low Fat</td>\n",
       "      <td>0.056783</td>\n",
       "      <td>Snack Foods</td>\n",
       "      <td>214.5218</td>\n",
       "      <td>OUT013</td>\n",
       "      <td>1987</td>\n",
       "      <td>High</td>\n",
       "      <td>Tier 3</td>\n",
       "      <td>Supermarket Type1</td>\n",
       "    </tr>\n",
       "    <tr>\n",
       "      <th>8519</th>\n",
       "      <td>FDS36</td>\n",
       "      <td>8.380</td>\n",
       "      <td>Regular</td>\n",
       "      <td>0.046982</td>\n",
       "      <td>Baking Goods</td>\n",
       "      <td>108.1570</td>\n",
       "      <td>OUT045</td>\n",
       "      <td>2002</td>\n",
       "      <td>Medium</td>\n",
       "      <td>Tier 2</td>\n",
       "      <td>Supermarket Type1</td>\n",
       "    </tr>\n",
       "    <tr>\n",
       "      <th>8520</th>\n",
       "      <td>NCJ29</td>\n",
       "      <td>10.600</td>\n",
       "      <td>Low Fat</td>\n",
       "      <td>0.035186</td>\n",
       "      <td>Health and Hygiene</td>\n",
       "      <td>85.1224</td>\n",
       "      <td>OUT035</td>\n",
       "      <td>2004</td>\n",
       "      <td>Small</td>\n",
       "      <td>Tier 2</td>\n",
       "      <td>Supermarket Type1</td>\n",
       "    </tr>\n",
       "    <tr>\n",
       "      <th>8521</th>\n",
       "      <td>FDN46</td>\n",
       "      <td>7.210</td>\n",
       "      <td>Regular</td>\n",
       "      <td>0.145221</td>\n",
       "      <td>Snack Foods</td>\n",
       "      <td>103.1332</td>\n",
       "      <td>OUT018</td>\n",
       "      <td>2009</td>\n",
       "      <td>Medium</td>\n",
       "      <td>Tier 3</td>\n",
       "      <td>Supermarket Type2</td>\n",
       "    </tr>\n",
       "    <tr>\n",
       "      <th>8522</th>\n",
       "      <td>DRG01</td>\n",
       "      <td>14.800</td>\n",
       "      <td>Low Fat</td>\n",
       "      <td>0.044878</td>\n",
       "      <td>Soft Drinks</td>\n",
       "      <td>75.4670</td>\n",
       "      <td>OUT046</td>\n",
       "      <td>1997</td>\n",
       "      <td>Small</td>\n",
       "      <td>Tier 1</td>\n",
       "      <td>Supermarket Type1</td>\n",
       "    </tr>\n",
       "  </tbody>\n",
       "</table>\n",
       "<p>8503 rows × 11 columns</p>\n",
       "</div>"
      ],
      "text/plain": [
       "     Item_Identifier  Item_Weight Item_Fat_Content  Item_Visibility  \\\n",
       "0              FDA15        9.300          Low Fat         0.016047   \n",
       "1              DRC01        5.920          Regular         0.019278   \n",
       "2              FDN15       17.500          Low Fat         0.016760   \n",
       "3              FDX07       19.200          Regular         0.000000   \n",
       "4              NCD19        8.930          Low Fat         0.000000   \n",
       "...              ...          ...              ...              ...   \n",
       "8518           FDF22        6.865          Low Fat         0.056783   \n",
       "8519           FDS36        8.380          Regular         0.046982   \n",
       "8520           NCJ29       10.600          Low Fat         0.035186   \n",
       "8521           FDN46        7.210          Regular         0.145221   \n",
       "8522           DRG01       14.800          Low Fat         0.044878   \n",
       "\n",
       "                  Item_Type  Item_MRP Outlet_Identifier  \\\n",
       "0                     Dairy  249.8092            OUT049   \n",
       "1               Soft Drinks   48.2692            OUT018   \n",
       "2                      Meat  141.6180            OUT049   \n",
       "3     Fruits and Vegetables  182.0950            OUT010   \n",
       "4                 Household   53.8614            OUT013   \n",
       "...                     ...       ...               ...   \n",
       "8518            Snack Foods  214.5218            OUT013   \n",
       "8519           Baking Goods  108.1570            OUT045   \n",
       "8520     Health and Hygiene   85.1224            OUT035   \n",
       "8521            Snack Foods  103.1332            OUT018   \n",
       "8522            Soft Drinks   75.4670            OUT046   \n",
       "\n",
       "      Outlet_Establishment_Year Outlet_Size Outlet_Location_Type  \\\n",
       "0                          1999      Medium               Tier 1   \n",
       "1                          2009      Medium               Tier 3   \n",
       "2                          1999      Medium               Tier 1   \n",
       "3                          1998      Medium               Tier 3   \n",
       "4                          1987        High               Tier 3   \n",
       "...                         ...         ...                  ...   \n",
       "8518                       1987        High               Tier 3   \n",
       "8519                       2002      Medium               Tier 2   \n",
       "8520                       2004       Small               Tier 2   \n",
       "8521                       2009      Medium               Tier 3   \n",
       "8522                       1997       Small               Tier 1   \n",
       "\n",
       "            Outlet_Type  \n",
       "0     Supermarket Type1  \n",
       "1     Supermarket Type2  \n",
       "2     Supermarket Type1  \n",
       "3         Grocery Store  \n",
       "4     Supermarket Type1  \n",
       "...                 ...  \n",
       "8518  Supermarket Type1  \n",
       "8519  Supermarket Type1  \n",
       "8520  Supermarket Type1  \n",
       "8521  Supermarket Type2  \n",
       "8522  Supermarket Type1  \n",
       "\n",
       "[8503 rows x 11 columns]"
      ]
     },
     "execution_count": 111,
     "metadata": {},
     "output_type": "execute_result"
    }
   ],
   "source": [
    "x"
   ]
  },
  {
   "cell_type": "code",
   "execution_count": 112,
   "id": "a174abb0",
   "metadata": {},
   "outputs": [
    {
     "data": {
      "text/plain": [
       "0       3735.1380\n",
       "1        443.4228\n",
       "2       2097.2700\n",
       "3        732.3800\n",
       "4        994.7052\n",
       "          ...    \n",
       "8518    2778.3834\n",
       "8519     549.2850\n",
       "8520    1193.1136\n",
       "8521    1845.5976\n",
       "8522     765.6700\n",
       "Name: Item_Outlet_Sales, Length: 8503, dtype: float64"
      ]
     },
     "execution_count": 112,
     "metadata": {},
     "output_type": "execute_result"
    }
   ],
   "source": [
    "y"
   ]
  },
  {
   "cell_type": "code",
   "execution_count": null,
   "id": "d4ac6b09",
   "metadata": {},
   "outputs": [],
   "source": []
  },
  {
   "cell_type": "code",
   "execution_count": null,
   "id": "2fc5f494",
   "metadata": {},
   "outputs": [],
   "source": []
  },
  {
   "cell_type": "code",
   "execution_count": 113,
   "id": "190f5902",
   "metadata": {},
   "outputs": [
    {
     "data": {
      "text/plain": [
       "(8503, 11)"
      ]
     },
     "execution_count": 113,
     "metadata": {},
     "output_type": "execute_result"
    }
   ],
   "source": [
    "x.shape"
   ]
  },
  {
   "cell_type": "code",
   "execution_count": 114,
   "id": "0be7552d",
   "metadata": {},
   "outputs": [],
   "source": [
    "#  Encoding for train dataset"
   ]
  },
  {
   "cell_type": "code",
   "execution_count": 115,
   "id": "d32bf9ab",
   "metadata": {},
   "outputs": [],
   "source": [
    "# Label Encoding"
   ]
  },
  {
   "cell_type": "code",
   "execution_count": 116,
   "id": "cf8999d3",
   "metadata": {},
   "outputs": [],
   "source": [
    "from sklearn.preprocessing import LabelEncoder\n",
    "le = LabelEncoder()\n",
    "x[\"Item_Fat_Content\"] = le.fit_transform(x['Item_Fat_Content'])\n",
    "x[\"Outlet_Size\"] = le.fit_transform(x['Outlet_Size'])"
   ]
  },
  {
   "cell_type": "code",
   "execution_count": 117,
   "id": "2514a2d1",
   "metadata": {},
   "outputs": [],
   "source": [
    "#x=x.drop('Item_Identifier',axis=1)"
   ]
  },
  {
   "cell_type": "code",
   "execution_count": 118,
   "id": "ee5f381c",
   "metadata": {},
   "outputs": [],
   "source": [
    "#data_test=data_test.drop('Item_Identifier',axis=1)"
   ]
  },
  {
   "cell_type": "code",
   "execution_count": null,
   "id": "4de49ef5",
   "metadata": {},
   "outputs": [],
   "source": []
  },
  {
   "cell_type": "code",
   "execution_count": null,
   "id": "44c968fb",
   "metadata": {},
   "outputs": [],
   "source": []
  },
  {
   "cell_type": "code",
   "execution_count": 119,
   "id": "22a752ad",
   "metadata": {},
   "outputs": [],
   "source": [
    "# one hot encoding"
   ]
  },
  {
   "cell_type": "code",
   "execution_count": 120,
   "id": "f829e964",
   "metadata": {},
   "outputs": [],
   "source": [
    "x = pd.get_dummies(x)"
   ]
  },
  {
   "cell_type": "code",
   "execution_count": null,
   "id": "5a4a46bc",
   "metadata": {},
   "outputs": [],
   "source": []
  },
  {
   "cell_type": "code",
   "execution_count": null,
   "id": "0fc43765",
   "metadata": {},
   "outputs": [],
   "source": []
  },
  {
   "cell_type": "code",
   "execution_count": null,
   "id": "a35078f0",
   "metadata": {},
   "outputs": [],
   "source": []
  },
  {
   "cell_type": "code",
   "execution_count": null,
   "id": "502f5d0e",
   "metadata": {},
   "outputs": [],
   "source": []
  },
  {
   "cell_type": "code",
   "execution_count": null,
   "id": "0a4a2a73",
   "metadata": {},
   "outputs": [],
   "source": []
  },
  {
   "cell_type": "code",
   "execution_count": null,
   "id": "e18186f7",
   "metadata": {},
   "outputs": [],
   "source": []
  },
  {
   "cell_type": "code",
   "execution_count": null,
   "id": "99d3ab62",
   "metadata": {},
   "outputs": [],
   "source": []
  },
  {
   "cell_type": "code",
   "execution_count": 121,
   "id": "8b2f523c",
   "metadata": {},
   "outputs": [],
   "source": [
    "# Label Encode= test dataset"
   ]
  },
  {
   "cell_type": "code",
   "execution_count": 122,
   "id": "c90f9b2e",
   "metadata": {},
   "outputs": [
    {
     "data": {
      "text/html": [
       "<div>\n",
       "<style scoped>\n",
       "    .dataframe tbody tr th:only-of-type {\n",
       "        vertical-align: middle;\n",
       "    }\n",
       "\n",
       "    .dataframe tbody tr th {\n",
       "        vertical-align: top;\n",
       "    }\n",
       "\n",
       "    .dataframe thead th {\n",
       "        text-align: right;\n",
       "    }\n",
       "</style>\n",
       "<table border=\"1\" class=\"dataframe\">\n",
       "  <thead>\n",
       "    <tr style=\"text-align: right;\">\n",
       "      <th></th>\n",
       "      <th>Item_Identifier</th>\n",
       "      <th>Item_Weight</th>\n",
       "      <th>Item_Fat_Content</th>\n",
       "      <th>Item_Visibility</th>\n",
       "      <th>Item_Type</th>\n",
       "      <th>Item_MRP</th>\n",
       "      <th>Outlet_Identifier</th>\n",
       "      <th>Outlet_Establishment_Year</th>\n",
       "      <th>Outlet_Size</th>\n",
       "      <th>Outlet_Location_Type</th>\n",
       "      <th>Outlet_Type</th>\n",
       "    </tr>\n",
       "  </thead>\n",
       "  <tbody>\n",
       "    <tr>\n",
       "      <th>0</th>\n",
       "      <td>FDW58</td>\n",
       "      <td>20.750000</td>\n",
       "      <td>Low Fat</td>\n",
       "      <td>0.007565</td>\n",
       "      <td>Snack Foods</td>\n",
       "      <td>107.8622</td>\n",
       "      <td>OUT049</td>\n",
       "      <td>1999</td>\n",
       "      <td>Medium</td>\n",
       "      <td>Tier 1</td>\n",
       "      <td>Supermarket Type1</td>\n",
       "    </tr>\n",
       "    <tr>\n",
       "      <th>1</th>\n",
       "      <td>FDW14</td>\n",
       "      <td>8.300000</td>\n",
       "      <td>reg</td>\n",
       "      <td>0.038428</td>\n",
       "      <td>Dairy</td>\n",
       "      <td>87.3198</td>\n",
       "      <td>OUT017</td>\n",
       "      <td>2007</td>\n",
       "      <td>Medium</td>\n",
       "      <td>Tier 2</td>\n",
       "      <td>Supermarket Type1</td>\n",
       "    </tr>\n",
       "    <tr>\n",
       "      <th>2</th>\n",
       "      <td>NCN55</td>\n",
       "      <td>14.600000</td>\n",
       "      <td>Low Fat</td>\n",
       "      <td>0.099575</td>\n",
       "      <td>Others</td>\n",
       "      <td>241.7538</td>\n",
       "      <td>OUT010</td>\n",
       "      <td>1998</td>\n",
       "      <td>Medium</td>\n",
       "      <td>Tier 3</td>\n",
       "      <td>Grocery Store</td>\n",
       "    </tr>\n",
       "    <tr>\n",
       "      <th>3</th>\n",
       "      <td>FDQ58</td>\n",
       "      <td>7.315000</td>\n",
       "      <td>Low Fat</td>\n",
       "      <td>0.015388</td>\n",
       "      <td>Snack Foods</td>\n",
       "      <td>155.0340</td>\n",
       "      <td>OUT017</td>\n",
       "      <td>2007</td>\n",
       "      <td>Medium</td>\n",
       "      <td>Tier 2</td>\n",
       "      <td>Supermarket Type1</td>\n",
       "    </tr>\n",
       "    <tr>\n",
       "      <th>4</th>\n",
       "      <td>FDY38</td>\n",
       "      <td>12.695633</td>\n",
       "      <td>Regular</td>\n",
       "      <td>0.118599</td>\n",
       "      <td>Dairy</td>\n",
       "      <td>234.2300</td>\n",
       "      <td>OUT027</td>\n",
       "      <td>1985</td>\n",
       "      <td>Medium</td>\n",
       "      <td>Tier 3</td>\n",
       "      <td>Supermarket Type3</td>\n",
       "    </tr>\n",
       "    <tr>\n",
       "      <th>...</th>\n",
       "      <td>...</td>\n",
       "      <td>...</td>\n",
       "      <td>...</td>\n",
       "      <td>...</td>\n",
       "      <td>...</td>\n",
       "      <td>...</td>\n",
       "      <td>...</td>\n",
       "      <td>...</td>\n",
       "      <td>...</td>\n",
       "      <td>...</td>\n",
       "      <td>...</td>\n",
       "    </tr>\n",
       "    <tr>\n",
       "      <th>5676</th>\n",
       "      <td>FDB58</td>\n",
       "      <td>10.500000</td>\n",
       "      <td>Regular</td>\n",
       "      <td>0.013496</td>\n",
       "      <td>Snack Foods</td>\n",
       "      <td>141.3154</td>\n",
       "      <td>OUT046</td>\n",
       "      <td>1997</td>\n",
       "      <td>Small</td>\n",
       "      <td>Tier 1</td>\n",
       "      <td>Supermarket Type1</td>\n",
       "    </tr>\n",
       "    <tr>\n",
       "      <th>5677</th>\n",
       "      <td>FDD47</td>\n",
       "      <td>7.600000</td>\n",
       "      <td>Regular</td>\n",
       "      <td>0.142991</td>\n",
       "      <td>Starchy Foods</td>\n",
       "      <td>169.1448</td>\n",
       "      <td>OUT018</td>\n",
       "      <td>2009</td>\n",
       "      <td>Medium</td>\n",
       "      <td>Tier 3</td>\n",
       "      <td>Supermarket Type2</td>\n",
       "    </tr>\n",
       "    <tr>\n",
       "      <th>5678</th>\n",
       "      <td>NCO17</td>\n",
       "      <td>10.000000</td>\n",
       "      <td>Low Fat</td>\n",
       "      <td>0.073529</td>\n",
       "      <td>Health and Hygiene</td>\n",
       "      <td>118.7440</td>\n",
       "      <td>OUT045</td>\n",
       "      <td>2002</td>\n",
       "      <td>Medium</td>\n",
       "      <td>Tier 2</td>\n",
       "      <td>Supermarket Type1</td>\n",
       "    </tr>\n",
       "    <tr>\n",
       "      <th>5679</th>\n",
       "      <td>FDJ26</td>\n",
       "      <td>15.300000</td>\n",
       "      <td>Regular</td>\n",
       "      <td>0.000000</td>\n",
       "      <td>Canned</td>\n",
       "      <td>214.6218</td>\n",
       "      <td>OUT017</td>\n",
       "      <td>2007</td>\n",
       "      <td>Medium</td>\n",
       "      <td>Tier 2</td>\n",
       "      <td>Supermarket Type1</td>\n",
       "    </tr>\n",
       "    <tr>\n",
       "      <th>5680</th>\n",
       "      <td>FDU37</td>\n",
       "      <td>9.500000</td>\n",
       "      <td>Regular</td>\n",
       "      <td>0.104720</td>\n",
       "      <td>Canned</td>\n",
       "      <td>79.7960</td>\n",
       "      <td>OUT045</td>\n",
       "      <td>2002</td>\n",
       "      <td>Medium</td>\n",
       "      <td>Tier 2</td>\n",
       "      <td>Supermarket Type1</td>\n",
       "    </tr>\n",
       "  </tbody>\n",
       "</table>\n",
       "<p>5661 rows × 11 columns</p>\n",
       "</div>"
      ],
      "text/plain": [
       "     Item_Identifier  Item_Weight Item_Fat_Content  Item_Visibility  \\\n",
       "0              FDW58    20.750000          Low Fat         0.007565   \n",
       "1              FDW14     8.300000              reg         0.038428   \n",
       "2              NCN55    14.600000          Low Fat         0.099575   \n",
       "3              FDQ58     7.315000          Low Fat         0.015388   \n",
       "4              FDY38    12.695633          Regular         0.118599   \n",
       "...              ...          ...              ...              ...   \n",
       "5676           FDB58    10.500000          Regular         0.013496   \n",
       "5677           FDD47     7.600000          Regular         0.142991   \n",
       "5678           NCO17    10.000000          Low Fat         0.073529   \n",
       "5679           FDJ26    15.300000          Regular         0.000000   \n",
       "5680           FDU37     9.500000          Regular         0.104720   \n",
       "\n",
       "               Item_Type  Item_MRP Outlet_Identifier  \\\n",
       "0            Snack Foods  107.8622            OUT049   \n",
       "1                  Dairy   87.3198            OUT017   \n",
       "2                 Others  241.7538            OUT010   \n",
       "3            Snack Foods  155.0340            OUT017   \n",
       "4                  Dairy  234.2300            OUT027   \n",
       "...                  ...       ...               ...   \n",
       "5676         Snack Foods  141.3154            OUT046   \n",
       "5677       Starchy Foods  169.1448            OUT018   \n",
       "5678  Health and Hygiene  118.7440            OUT045   \n",
       "5679              Canned  214.6218            OUT017   \n",
       "5680              Canned   79.7960            OUT045   \n",
       "\n",
       "      Outlet_Establishment_Year Outlet_Size Outlet_Location_Type  \\\n",
       "0                          1999      Medium               Tier 1   \n",
       "1                          2007      Medium               Tier 2   \n",
       "2                          1998      Medium               Tier 3   \n",
       "3                          2007      Medium               Tier 2   \n",
       "4                          1985      Medium               Tier 3   \n",
       "...                         ...         ...                  ...   \n",
       "5676                       1997       Small               Tier 1   \n",
       "5677                       2009      Medium               Tier 3   \n",
       "5678                       2002      Medium               Tier 2   \n",
       "5679                       2007      Medium               Tier 2   \n",
       "5680                       2002      Medium               Tier 2   \n",
       "\n",
       "            Outlet_Type  \n",
       "0     Supermarket Type1  \n",
       "1     Supermarket Type1  \n",
       "2         Grocery Store  \n",
       "3     Supermarket Type1  \n",
       "4     Supermarket Type3  \n",
       "...                 ...  \n",
       "5676  Supermarket Type1  \n",
       "5677  Supermarket Type2  \n",
       "5678  Supermarket Type1  \n",
       "5679  Supermarket Type1  \n",
       "5680  Supermarket Type1  \n",
       "\n",
       "[5661 rows x 11 columns]"
      ]
     },
     "execution_count": 122,
     "metadata": {},
     "output_type": "execute_result"
    }
   ],
   "source": [
    "data_test"
   ]
  },
  {
   "cell_type": "code",
   "execution_count": 123,
   "id": "5525f934",
   "metadata": {},
   "outputs": [
    {
     "data": {
      "text/plain": [
       "(8503, 1598)"
      ]
     },
     "execution_count": 123,
     "metadata": {},
     "output_type": "execute_result"
    }
   ],
   "source": [
    "x.shape"
   ]
  },
  {
   "cell_type": "code",
   "execution_count": 124,
   "id": "d733ccda",
   "metadata": {},
   "outputs": [
    {
     "name": "stdout",
     "output_type": "stream",
     "text": [
      "<class 'pandas.core.frame.DataFrame'>\n",
      "Int64Index: 8503 entries, 0 to 8522\n",
      "Data columns (total 1598 columns):\n",
      " #     Column                           Non-Null Count  Dtype  \n",
      "---    ------                           --------------  -----  \n",
      " 0     Item_Weight                      8503 non-null   float64\n",
      " 1     Item_Fat_Content                 8503 non-null   int32  \n",
      " 2     Item_Visibility                  8503 non-null   float64\n",
      " 3     Item_MRP                         8503 non-null   float64\n",
      " 4     Outlet_Establishment_Year        8503 non-null   int64  \n",
      " 5     Outlet_Size                      8503 non-null   int32  \n",
      " 6     Item_Identifier_DRA12            8503 non-null   uint8  \n",
      " 7     Item_Identifier_DRA24            8503 non-null   uint8  \n",
      " 8     Item_Identifier_DRA59            8503 non-null   uint8  \n",
      " 9     Item_Identifier_DRB01            8503 non-null   uint8  \n",
      " 10    Item_Identifier_DRB13            8503 non-null   uint8  \n",
      " 11    Item_Identifier_DRB24            8503 non-null   uint8  \n",
      " 12    Item_Identifier_DRB25            8503 non-null   uint8  \n",
      " 13    Item_Identifier_DRB48            8503 non-null   uint8  \n",
      " 14    Item_Identifier_DRC01            8503 non-null   uint8  \n",
      " 15    Item_Identifier_DRC12            8503 non-null   uint8  \n",
      " 16    Item_Identifier_DRC13            8503 non-null   uint8  \n",
      " 17    Item_Identifier_DRC24            8503 non-null   uint8  \n",
      " 18    Item_Identifier_DRC25            8503 non-null   uint8  \n",
      " 19    Item_Identifier_DRC27            8503 non-null   uint8  \n",
      " 20    Item_Identifier_DRC36            8503 non-null   uint8  \n",
      " 21    Item_Identifier_DRC49            8503 non-null   uint8  \n",
      " 22    Item_Identifier_DRD01            8503 non-null   uint8  \n",
      " 23    Item_Identifier_DRD12            8503 non-null   uint8  \n",
      " 24    Item_Identifier_DRD13            8503 non-null   uint8  \n",
      " 25    Item_Identifier_DRD15            8503 non-null   uint8  \n",
      " 26    Item_Identifier_DRD24            8503 non-null   uint8  \n",
      " 27    Item_Identifier_DRD25            8503 non-null   uint8  \n",
      " 28    Item_Identifier_DRD27            8503 non-null   uint8  \n",
      " 29    Item_Identifier_DRD37            8503 non-null   uint8  \n",
      " 30    Item_Identifier_DRD49            8503 non-null   uint8  \n",
      " 31    Item_Identifier_DRD60            8503 non-null   uint8  \n",
      " 32    Item_Identifier_DRE01            8503 non-null   uint8  \n",
      " 33    Item_Identifier_DRE03            8503 non-null   uint8  \n",
      " 34    Item_Identifier_DRE12            8503 non-null   uint8  \n",
      " 35    Item_Identifier_DRE13            8503 non-null   uint8  \n",
      " 36    Item_Identifier_DRE15            8503 non-null   uint8  \n",
      " 37    Item_Identifier_DRE25            8503 non-null   uint8  \n",
      " 38    Item_Identifier_DRE27            8503 non-null   uint8  \n",
      " 39    Item_Identifier_DRE37            8503 non-null   uint8  \n",
      " 40    Item_Identifier_DRE48            8503 non-null   uint8  \n",
      " 41    Item_Identifier_DRE49            8503 non-null   uint8  \n",
      " 42    Item_Identifier_DRE60            8503 non-null   uint8  \n",
      " 43    Item_Identifier_DRF01            8503 non-null   uint8  \n",
      " 44    Item_Identifier_DRF03            8503 non-null   uint8  \n",
      " 45    Item_Identifier_DRF13            8503 non-null   uint8  \n",
      " 46    Item_Identifier_DRF15            8503 non-null   uint8  \n",
      " 47    Item_Identifier_DRF23            8503 non-null   uint8  \n",
      " 48    Item_Identifier_DRF25            8503 non-null   uint8  \n",
      " 49    Item_Identifier_DRF27            8503 non-null   uint8  \n",
      " 50    Item_Identifier_DRF36            8503 non-null   uint8  \n",
      " 51    Item_Identifier_DRF37            8503 non-null   uint8  \n",
      " 52    Item_Identifier_DRF48            8503 non-null   uint8  \n",
      " 53    Item_Identifier_DRF49            8503 non-null   uint8  \n",
      " 54    Item_Identifier_DRF51            8503 non-null   uint8  \n",
      " 55    Item_Identifier_DRF60            8503 non-null   uint8  \n",
      " 56    Item_Identifier_DRG01            8503 non-null   uint8  \n",
      " 57    Item_Identifier_DRG03            8503 non-null   uint8  \n",
      " 58    Item_Identifier_DRG11            8503 non-null   uint8  \n",
      " 59    Item_Identifier_DRG13            8503 non-null   uint8  \n",
      " 60    Item_Identifier_DRG15            8503 non-null   uint8  \n",
      " 61    Item_Identifier_DRG23            8503 non-null   uint8  \n",
      " 62    Item_Identifier_DRG25            8503 non-null   uint8  \n",
      " 63    Item_Identifier_DRG27            8503 non-null   uint8  \n",
      " 64    Item_Identifier_DRG36            8503 non-null   uint8  \n",
      " 65    Item_Identifier_DRG37            8503 non-null   uint8  \n",
      " 66    Item_Identifier_DRG39            8503 non-null   uint8  \n",
      " 67    Item_Identifier_DRG48            8503 non-null   uint8  \n",
      " 68    Item_Identifier_DRG49            8503 non-null   uint8  \n",
      " 69    Item_Identifier_DRG51            8503 non-null   uint8  \n",
      " 70    Item_Identifier_DRH01            8503 non-null   uint8  \n",
      " 71    Item_Identifier_DRH03            8503 non-null   uint8  \n",
      " 72    Item_Identifier_DRH11            8503 non-null   uint8  \n",
      " 73    Item_Identifier_DRH13            8503 non-null   uint8  \n",
      " 74    Item_Identifier_DRH15            8503 non-null   uint8  \n",
      " 75    Item_Identifier_DRH23            8503 non-null   uint8  \n",
      " 76    Item_Identifier_DRH25            8503 non-null   uint8  \n",
      " 77    Item_Identifier_DRH36            8503 non-null   uint8  \n",
      " 78    Item_Identifier_DRH37            8503 non-null   uint8  \n",
      " 79    Item_Identifier_DRH39            8503 non-null   uint8  \n",
      " 80    Item_Identifier_DRH49            8503 non-null   uint8  \n",
      " 81    Item_Identifier_DRH51            8503 non-null   uint8  \n",
      " 82    Item_Identifier_DRH59            8503 non-null   uint8  \n",
      " 83    Item_Identifier_DRI01            8503 non-null   uint8  \n",
      " 84    Item_Identifier_DRI03            8503 non-null   uint8  \n",
      " 85    Item_Identifier_DRI11            8503 non-null   uint8  \n",
      " 86    Item_Identifier_DRI13            8503 non-null   uint8  \n",
      " 87    Item_Identifier_DRI23            8503 non-null   uint8  \n",
      " 88    Item_Identifier_DRI25            8503 non-null   uint8  \n",
      " 89    Item_Identifier_DRI37            8503 non-null   uint8  \n",
      " 90    Item_Identifier_DRI39            8503 non-null   uint8  \n",
      " 91    Item_Identifier_DRI47            8503 non-null   uint8  \n",
      " 92    Item_Identifier_DRI49            8503 non-null   uint8  \n",
      " 93    Item_Identifier_DRI51            8503 non-null   uint8  \n",
      " 94    Item_Identifier_DRI59            8503 non-null   uint8  \n",
      " 95    Item_Identifier_DRJ01            8503 non-null   uint8  \n",
      " 96    Item_Identifier_DRJ11            8503 non-null   uint8  \n",
      " 97    Item_Identifier_DRJ13            8503 non-null   uint8  \n",
      " 98    Item_Identifier_DRJ23            8503 non-null   uint8  \n",
      " 99    Item_Identifier_DRJ24            8503 non-null   uint8  \n",
      " 100   Item_Identifier_DRJ25            8503 non-null   uint8  \n",
      " 101   Item_Identifier_DRJ35            8503 non-null   uint8  \n",
      " 102   Item_Identifier_DRJ37            8503 non-null   uint8  \n",
      " 103   Item_Identifier_DRJ39            8503 non-null   uint8  \n",
      " 104   Item_Identifier_DRJ47            8503 non-null   uint8  \n",
      " 105   Item_Identifier_DRJ49            8503 non-null   uint8  \n",
      " 106   Item_Identifier_DRJ51            8503 non-null   uint8  \n",
      " 107   Item_Identifier_DRJ59            8503 non-null   uint8  \n",
      " 108   Item_Identifier_DRK01            8503 non-null   uint8  \n",
      " 109   Item_Identifier_DRK11            8503 non-null   uint8  \n",
      " 110   Item_Identifier_DRK12            8503 non-null   uint8  \n",
      " 111   Item_Identifier_DRK13            8503 non-null   uint8  \n",
      " 112   Item_Identifier_DRK23            8503 non-null   uint8  \n",
      " 113   Item_Identifier_DRK35            8503 non-null   uint8  \n",
      " 114   Item_Identifier_DRK37            8503 non-null   uint8  \n",
      " 115   Item_Identifier_DRK39            8503 non-null   uint8  \n",
      " 116   Item_Identifier_DRK47            8503 non-null   uint8  \n",
      " 117   Item_Identifier_DRK49            8503 non-null   uint8  \n",
      " 118   Item_Identifier_DRK59            8503 non-null   uint8  \n",
      " 119   Item_Identifier_DRL01            8503 non-null   uint8  \n",
      " 120   Item_Identifier_DRL11            8503 non-null   uint8  \n",
      " 121   Item_Identifier_DRL23            8503 non-null   uint8  \n",
      " 122   Item_Identifier_DRL35            8503 non-null   uint8  \n",
      " 123   Item_Identifier_DRL37            8503 non-null   uint8  \n",
      " 124   Item_Identifier_DRL47            8503 non-null   uint8  \n",
      " 125   Item_Identifier_DRL49            8503 non-null   uint8  \n",
      " 126   Item_Identifier_DRL59            8503 non-null   uint8  \n",
      " 127   Item_Identifier_DRL60            8503 non-null   uint8  \n",
      " 128   Item_Identifier_DRM11            8503 non-null   uint8  \n",
      " 129   Item_Identifier_DRM23            8503 non-null   uint8  \n",
      " 130   Item_Identifier_DRM35            8503 non-null   uint8  \n",
      " 131   Item_Identifier_DRM37            8503 non-null   uint8  \n",
      " 132   Item_Identifier_DRM47            8503 non-null   uint8  \n",
      " 133   Item_Identifier_DRM48            8503 non-null   uint8  \n",
      " 134   Item_Identifier_DRM49            8503 non-null   uint8  \n",
      " 135   Item_Identifier_DRM59            8503 non-null   uint8  \n",
      " 136   Item_Identifier_DRN11            8503 non-null   uint8  \n",
      " 137   Item_Identifier_DRN35            8503 non-null   uint8  \n",
      " 138   Item_Identifier_DRN36            8503 non-null   uint8  \n",
      " 139   Item_Identifier_DRN37            8503 non-null   uint8  \n",
      " 140   Item_Identifier_DRN47            8503 non-null   uint8  \n",
      " 141   Item_Identifier_DRN59            8503 non-null   uint8  \n",
      " 142   Item_Identifier_DRO35            8503 non-null   uint8  \n",
      " 143   Item_Identifier_DRO47            8503 non-null   uint8  \n",
      " 144   Item_Identifier_DRO59            8503 non-null   uint8  \n",
      " 145   Item_Identifier_DRP35            8503 non-null   uint8  \n",
      " 146   Item_Identifier_DRP47            8503 non-null   uint8  \n",
      " 147   Item_Identifier_DRQ35            8503 non-null   uint8  \n",
      " 148   Item_Identifier_DRY23            8503 non-null   uint8  \n",
      " 149   Item_Identifier_DRZ11            8503 non-null   uint8  \n",
      " 150   Item_Identifier_DRZ24            8503 non-null   uint8  \n",
      " 151   Item_Identifier_FDA01            8503 non-null   uint8  \n",
      " 152   Item_Identifier_FDA02            8503 non-null   uint8  \n",
      " 153   Item_Identifier_FDA03            8503 non-null   uint8  \n",
      " 154   Item_Identifier_FDA04            8503 non-null   uint8  \n",
      " 155   Item_Identifier_FDA07            8503 non-null   uint8  \n",
      " 156   Item_Identifier_FDA08            8503 non-null   uint8  \n",
      " 157   Item_Identifier_FDA09            8503 non-null   uint8  \n",
      " 158   Item_Identifier_FDA10            8503 non-null   uint8  \n",
      " 159   Item_Identifier_FDA11            8503 non-null   uint8  \n",
      " 160   Item_Identifier_FDA13            8503 non-null   uint8  \n",
      " 161   Item_Identifier_FDA14            8503 non-null   uint8  \n",
      " 162   Item_Identifier_FDA15            8503 non-null   uint8  \n",
      " 163   Item_Identifier_FDA16            8503 non-null   uint8  \n",
      " 164   Item_Identifier_FDA19            8503 non-null   uint8  \n",
      " 165   Item_Identifier_FDA20            8503 non-null   uint8  \n",
      " 166   Item_Identifier_FDA21            8503 non-null   uint8  \n",
      " 167   Item_Identifier_FDA22            8503 non-null   uint8  \n",
      " 168   Item_Identifier_FDA23            8503 non-null   uint8  \n",
      " 169   Item_Identifier_FDA25            8503 non-null   uint8  \n",
      " 170   Item_Identifier_FDA26            8503 non-null   uint8  \n",
      " 171   Item_Identifier_FDA27            8503 non-null   uint8  \n",
      " 172   Item_Identifier_FDA28            8503 non-null   uint8  \n",
      " 173   Item_Identifier_FDA31            8503 non-null   uint8  \n",
      " 174   Item_Identifier_FDA32            8503 non-null   uint8  \n",
      " 175   Item_Identifier_FDA33            8503 non-null   uint8  \n",
      " 176   Item_Identifier_FDA34            8503 non-null   uint8  \n",
      " 177   Item_Identifier_FDA35            8503 non-null   uint8  \n",
      " 178   Item_Identifier_FDA36            8503 non-null   uint8  \n",
      " 179   Item_Identifier_FDA37            8503 non-null   uint8  \n",
      " 180   Item_Identifier_FDA38            8503 non-null   uint8  \n",
      " 181   Item_Identifier_FDA39            8503 non-null   uint8  \n",
      " 182   Item_Identifier_FDA40            8503 non-null   uint8  \n",
      " 183   Item_Identifier_FDA43            8503 non-null   uint8  \n",
      " 184   Item_Identifier_FDA44            8503 non-null   uint8  \n",
      " 185   Item_Identifier_FDA45            8503 non-null   uint8  \n",
      " 186   Item_Identifier_FDA46            8503 non-null   uint8  \n",
      " 187   Item_Identifier_FDA47            8503 non-null   uint8  \n",
      " 188   Item_Identifier_FDA48            8503 non-null   uint8  \n",
      " 189   Item_Identifier_FDA49            8503 non-null   uint8  \n",
      " 190   Item_Identifier_FDA50            8503 non-null   uint8  \n",
      " 191   Item_Identifier_FDA51            8503 non-null   uint8  \n",
      " 192   Item_Identifier_FDA52            8503 non-null   uint8  \n",
      " 193   Item_Identifier_FDA55            8503 non-null   uint8  \n",
      " 194   Item_Identifier_FDA56            8503 non-null   uint8  \n",
      " 195   Item_Identifier_FDA57            8503 non-null   uint8  \n",
      " 196   Item_Identifier_FDA58            8503 non-null   uint8  \n",
      " 197   Item_Identifier_FDB02            8503 non-null   uint8  \n",
      " 198   Item_Identifier_FDB03            8503 non-null   uint8  \n",
      " 199   Item_Identifier_FDB04            8503 non-null   uint8  \n",
      " 200   Item_Identifier_FDB05            8503 non-null   uint8  \n",
      " 201   Item_Identifier_FDB08            8503 non-null   uint8  \n",
      " 202   Item_Identifier_FDB09            8503 non-null   uint8  \n",
      " 203   Item_Identifier_FDB10            8503 non-null   uint8  \n",
      " 204   Item_Identifier_FDB11            8503 non-null   uint8  \n",
      " 205   Item_Identifier_FDB12            8503 non-null   uint8  \n",
      " 206   Item_Identifier_FDB14            8503 non-null   uint8  \n",
      " 207   Item_Identifier_FDB15            8503 non-null   uint8  \n",
      " 208   Item_Identifier_FDB16            8503 non-null   uint8  \n",
      " 209   Item_Identifier_FDB17            8503 non-null   uint8  \n",
      " 210   Item_Identifier_FDB20            8503 non-null   uint8  \n",
      " 211   Item_Identifier_FDB21            8503 non-null   uint8  \n",
      " 212   Item_Identifier_FDB22            8503 non-null   uint8  \n",
      " 213   Item_Identifier_FDB23            8503 non-null   uint8  \n",
      " 214   Item_Identifier_FDB26            8503 non-null   uint8  \n",
      " 215   Item_Identifier_FDB27            8503 non-null   uint8  \n",
      " 216   Item_Identifier_FDB28            8503 non-null   uint8  \n",
      " 217   Item_Identifier_FDB29            8503 non-null   uint8  \n",
      " 218   Item_Identifier_FDB32            8503 non-null   uint8  \n",
      " 219   Item_Identifier_FDB33            8503 non-null   uint8  \n",
      " 220   Item_Identifier_FDB34            8503 non-null   uint8  \n",
      " 221   Item_Identifier_FDB35            8503 non-null   uint8  \n",
      " 222   Item_Identifier_FDB36            8503 non-null   uint8  \n",
      " 223   Item_Identifier_FDB37            8503 non-null   uint8  \n",
      " 224   Item_Identifier_FDB38            8503 non-null   uint8  \n",
      " 225   Item_Identifier_FDB39            8503 non-null   uint8  \n",
      " 226   Item_Identifier_FDB40            8503 non-null   uint8  \n",
      " 227   Item_Identifier_FDB41            8503 non-null   uint8  \n",
      " 228   Item_Identifier_FDB44            8503 non-null   uint8  \n",
      " 229   Item_Identifier_FDB45            8503 non-null   uint8  \n",
      " 230   Item_Identifier_FDB46            8503 non-null   uint8  \n",
      " 231   Item_Identifier_FDB47            8503 non-null   uint8  \n",
      " 232   Item_Identifier_FDB49            8503 non-null   uint8  \n",
      " 233   Item_Identifier_FDB50            8503 non-null   uint8  \n",
      " 234   Item_Identifier_FDB51            8503 non-null   uint8  \n",
      " 235   Item_Identifier_FDB52            8503 non-null   uint8  \n",
      " 236   Item_Identifier_FDB53            8503 non-null   uint8  \n",
      " 237   Item_Identifier_FDB56            8503 non-null   uint8  \n",
      " 238   Item_Identifier_FDB57            8503 non-null   uint8  \n",
      " 239   Item_Identifier_FDB58            8503 non-null   uint8  \n",
      " 240   Item_Identifier_FDB59            8503 non-null   uint8  \n",
      " 241   Item_Identifier_FDB60            8503 non-null   uint8  \n",
      " 242   Item_Identifier_FDC02            8503 non-null   uint8  \n",
      " 243   Item_Identifier_FDC03            8503 non-null   uint8  \n",
      " 244   Item_Identifier_FDC04            8503 non-null   uint8  \n",
      " 245   Item_Identifier_FDC05            8503 non-null   uint8  \n",
      " 246   Item_Identifier_FDC08            8503 non-null   uint8  \n",
      " 247   Item_Identifier_FDC09            8503 non-null   uint8  \n",
      " 248   Item_Identifier_FDC10            8503 non-null   uint8  \n",
      " 249   Item_Identifier_FDC11            8503 non-null   uint8  \n",
      " 250   Item_Identifier_FDC14            8503 non-null   uint8  \n",
      " 251   Item_Identifier_FDC15            8503 non-null   uint8  \n",
      " 252   Item_Identifier_FDC16            8503 non-null   uint8  \n",
      " 253   Item_Identifier_FDC17            8503 non-null   uint8  \n",
      " 254   Item_Identifier_FDC20            8503 non-null   uint8  \n",
      " 255   Item_Identifier_FDC21            8503 non-null   uint8  \n",
      " 256   Item_Identifier_FDC22            8503 non-null   uint8  \n",
      " 257   Item_Identifier_FDC23            8503 non-null   uint8  \n",
      " 258   Item_Identifier_FDC26            8503 non-null   uint8  \n",
      " 259   Item_Identifier_FDC28            8503 non-null   uint8  \n",
      " 260   Item_Identifier_FDC29            8503 non-null   uint8  \n",
      " 261   Item_Identifier_FDC32            8503 non-null   uint8  \n",
      " 262   Item_Identifier_FDC33            8503 non-null   uint8  \n",
      " 263   Item_Identifier_FDC34            8503 non-null   uint8  \n",
      " 264   Item_Identifier_FDC35            8503 non-null   uint8  \n",
      " 265   Item_Identifier_FDC37            8503 non-null   uint8  \n",
      " 266   Item_Identifier_FDC38            8503 non-null   uint8  \n",
      " 267   Item_Identifier_FDC39            8503 non-null   uint8  \n",
      " 268   Item_Identifier_FDC40            8503 non-null   uint8  \n",
      " 269   Item_Identifier_FDC41            8503 non-null   uint8  \n",
      " 270   Item_Identifier_FDC44            8503 non-null   uint8  \n",
      " 271   Item_Identifier_FDC45            8503 non-null   uint8  \n",
      " 272   Item_Identifier_FDC46            8503 non-null   uint8  \n",
      " 273   Item_Identifier_FDC47            8503 non-null   uint8  \n",
      " 274   Item_Identifier_FDC48            8503 non-null   uint8  \n",
      " 275   Item_Identifier_FDC50            8503 non-null   uint8  \n",
      " 276   Item_Identifier_FDC51            8503 non-null   uint8  \n",
      " 277   Item_Identifier_FDC52            8503 non-null   uint8  \n",
      " 278   Item_Identifier_FDC53            8503 non-null   uint8  \n",
      " 279   Item_Identifier_FDC56            8503 non-null   uint8  \n",
      " 280   Item_Identifier_FDC57            8503 non-null   uint8  \n",
      " 281   Item_Identifier_FDC58            8503 non-null   uint8  \n",
      " 282   Item_Identifier_FDC59            8503 non-null   uint8  \n",
      " 283   Item_Identifier_FDC60            8503 non-null   uint8  \n",
      " 284   Item_Identifier_FDD02            8503 non-null   uint8  \n",
      " 285   Item_Identifier_FDD03            8503 non-null   uint8  \n",
      " 286   Item_Identifier_FDD04            8503 non-null   uint8  \n",
      " 287   Item_Identifier_FDD05            8503 non-null   uint8  \n",
      " 288   Item_Identifier_FDD08            8503 non-null   uint8  \n",
      " 289   Item_Identifier_FDD09            8503 non-null   uint8  \n",
      " 290   Item_Identifier_FDD10            8503 non-null   uint8  \n",
      " 291   Item_Identifier_FDD11            8503 non-null   uint8  \n",
      " 292   Item_Identifier_FDD14            8503 non-null   uint8  \n",
      " 293   Item_Identifier_FDD16            8503 non-null   uint8  \n",
      " 294   Item_Identifier_FDD17            8503 non-null   uint8  \n",
      " 295   Item_Identifier_FDD20            8503 non-null   uint8  \n",
      " 296   Item_Identifier_FDD21            8503 non-null   uint8  \n",
      " 297   Item_Identifier_FDD22            8503 non-null   uint8  \n",
      " 298   Item_Identifier_FDD23            8503 non-null   uint8  \n",
      " 299   Item_Identifier_FDD26            8503 non-null   uint8  \n",
      " 300   Item_Identifier_FDD28            8503 non-null   uint8  \n",
      " 301   Item_Identifier_FDD29            8503 non-null   uint8  \n",
      " 302   Item_Identifier_FDD32            8503 non-null   uint8  \n",
      " 303   Item_Identifier_FDD33            8503 non-null   uint8  \n",
      " 304   Item_Identifier_FDD34            8503 non-null   uint8  \n",
      " 305   Item_Identifier_FDD35            8503 non-null   uint8  \n",
      " 306   Item_Identifier_FDD36            8503 non-null   uint8  \n",
      " 307   Item_Identifier_FDD38            8503 non-null   uint8  \n",
      " 308   Item_Identifier_FDD39            8503 non-null   uint8  \n",
      " 309   Item_Identifier_FDD40            8503 non-null   uint8  \n",
      " 310   Item_Identifier_FDD41            8503 non-null   uint8  \n",
      " 311   Item_Identifier_FDD44            8503 non-null   uint8  \n",
      " 312   Item_Identifier_FDD45            8503 non-null   uint8  \n",
      " 313   Item_Identifier_FDD46            8503 non-null   uint8  \n",
      " 314   Item_Identifier_FDD47            8503 non-null   uint8  \n",
      " 315   Item_Identifier_FDD48            8503 non-null   uint8  \n",
      " 316   Item_Identifier_FDD50            8503 non-null   uint8  \n",
      " 317   Item_Identifier_FDD51            8503 non-null   uint8  \n",
      " 318   Item_Identifier_FDD52            8503 non-null   uint8  \n",
      " 319   Item_Identifier_FDD53            8503 non-null   uint8  \n",
      " 320   Item_Identifier_FDD56            8503 non-null   uint8  \n",
      " 321   Item_Identifier_FDD57            8503 non-null   uint8  \n",
      " 322   Item_Identifier_FDD58            8503 non-null   uint8  \n",
      " 323   Item_Identifier_FDD59            8503 non-null   uint8  \n",
      " 324   Item_Identifier_FDE02            8503 non-null   uint8  \n",
      " 325   Item_Identifier_FDE04            8503 non-null   uint8  \n",
      " 326   Item_Identifier_FDE05            8503 non-null   uint8  \n",
      " 327   Item_Identifier_FDE08            8503 non-null   uint8  \n",
      " 328   Item_Identifier_FDE09            8503 non-null   uint8  \n",
      " 329   Item_Identifier_FDE10            8503 non-null   uint8  \n",
      " 330   Item_Identifier_FDE11            8503 non-null   uint8  \n",
      " 331   Item_Identifier_FDE14            8503 non-null   uint8  \n",
      " 332   Item_Identifier_FDE16            8503 non-null   uint8  \n",
      " 333   Item_Identifier_FDE17            8503 non-null   uint8  \n",
      " 334   Item_Identifier_FDE20            8503 non-null   uint8  \n",
      " 335   Item_Identifier_FDE21            8503 non-null   uint8  \n",
      " 336   Item_Identifier_FDE22            8503 non-null   uint8  \n",
      " 337   Item_Identifier_FDE23            8503 non-null   uint8  \n",
      " 338   Item_Identifier_FDE24            8503 non-null   uint8  \n",
      " 339   Item_Identifier_FDE26            8503 non-null   uint8  \n",
      " 340   Item_Identifier_FDE28            8503 non-null   uint8  \n",
      " 341   Item_Identifier_FDE29            8503 non-null   uint8  \n",
      " 342   Item_Identifier_FDE32            8503 non-null   uint8  \n",
      " 343   Item_Identifier_FDE33            8503 non-null   uint8  \n",
      " 344   Item_Identifier_FDE34            8503 non-null   uint8  \n",
      " 345   Item_Identifier_FDE35            8503 non-null   uint8  \n",
      " 346   Item_Identifier_FDE36            8503 non-null   uint8  \n",
      " 347   Item_Identifier_FDE38            8503 non-null   uint8  \n",
      " 348   Item_Identifier_FDE39            8503 non-null   uint8  \n",
      " 349   Item_Identifier_FDE40            8503 non-null   uint8  \n",
      " 350   Item_Identifier_FDE41            8503 non-null   uint8  \n",
      " 351   Item_Identifier_FDE44            8503 non-null   uint8  \n",
      " 352   Item_Identifier_FDE45            8503 non-null   uint8  \n",
      " 353   Item_Identifier_FDE46            8503 non-null   uint8  \n",
      " 354   Item_Identifier_FDE47            8503 non-null   uint8  \n",
      " 355   Item_Identifier_FDE50            8503 non-null   uint8  \n",
      " 356   Item_Identifier_FDE51            8503 non-null   uint8  \n",
      " 357   Item_Identifier_FDE52            8503 non-null   uint8  \n",
      " 358   Item_Identifier_FDE53            8503 non-null   uint8  \n",
      " 359   Item_Identifier_FDE56            8503 non-null   uint8  \n",
      " 360   Item_Identifier_FDE57            8503 non-null   uint8  \n",
      " 361   Item_Identifier_FDE58            8503 non-null   uint8  \n",
      " 362   Item_Identifier_FDE59            8503 non-null   uint8  \n",
      " 363   Item_Identifier_FDF02            8503 non-null   uint8  \n",
      " 364   Item_Identifier_FDF04            8503 non-null   uint8  \n",
      " 365   Item_Identifier_FDF05            8503 non-null   uint8  \n",
      " 366   Item_Identifier_FDF08            8503 non-null   uint8  \n",
      " 367   Item_Identifier_FDF09            8503 non-null   uint8  \n",
      " 368   Item_Identifier_FDF10            8503 non-null   uint8  \n",
      " 369   Item_Identifier_FDF11            8503 non-null   uint8  \n",
      " 370   Item_Identifier_FDF12            8503 non-null   uint8  \n",
      " 371   Item_Identifier_FDF14            8503 non-null   uint8  \n",
      " 372   Item_Identifier_FDF16            8503 non-null   uint8  \n",
      " 373   Item_Identifier_FDF17            8503 non-null   uint8  \n",
      " 374   Item_Identifier_FDF20            8503 non-null   uint8  \n",
      " 375   Item_Identifier_FDF21            8503 non-null   uint8  \n",
      " 376   Item_Identifier_FDF22            8503 non-null   uint8  \n",
      " 377   Item_Identifier_FDF24            8503 non-null   uint8  \n",
      " 378   Item_Identifier_FDF26            8503 non-null   uint8  \n",
      " 379   Item_Identifier_FDF28            8503 non-null   uint8  \n",
      " 380   Item_Identifier_FDF29            8503 non-null   uint8  \n",
      " 381   Item_Identifier_FDF32            8503 non-null   uint8  \n",
      " 382   Item_Identifier_FDF33            8503 non-null   uint8  \n",
      " 383   Item_Identifier_FDF34            8503 non-null   uint8  \n",
      " 384   Item_Identifier_FDF35            8503 non-null   uint8  \n",
      " 385   Item_Identifier_FDF38            8503 non-null   uint8  \n",
      " 386   Item_Identifier_FDF39            8503 non-null   uint8  \n",
      " 387   Item_Identifier_FDF40            8503 non-null   uint8  \n",
      " 388   Item_Identifier_FDF41            8503 non-null   uint8  \n",
      " 389   Item_Identifier_FDF44            8503 non-null   uint8  \n",
      " 390   Item_Identifier_FDF45            8503 non-null   uint8  \n",
      " 391   Item_Identifier_FDF46            8503 non-null   uint8  \n",
      " 392   Item_Identifier_FDF47            8503 non-null   uint8  \n",
      " 393   Item_Identifier_FDF50            8503 non-null   uint8  \n",
      " 394   Item_Identifier_FDF52            8503 non-null   uint8  \n",
      " 395   Item_Identifier_FDF53            8503 non-null   uint8  \n",
      " 396   Item_Identifier_FDF56            8503 non-null   uint8  \n",
      " 397   Item_Identifier_FDF57            8503 non-null   uint8  \n",
      " 398   Item_Identifier_FDF58            8503 non-null   uint8  \n",
      " 399   Item_Identifier_FDF59            8503 non-null   uint8  \n",
      " 400   Item_Identifier_FDG02            8503 non-null   uint8  \n",
      " 401   Item_Identifier_FDG04            8503 non-null   uint8  \n",
      " 402   Item_Identifier_FDG05            8503 non-null   uint8  \n",
      " 403   Item_Identifier_FDG08            8503 non-null   uint8  \n",
      " 404   Item_Identifier_FDG09            8503 non-null   uint8  \n",
      " 405   Item_Identifier_FDG10            8503 non-null   uint8  \n",
      " 406   Item_Identifier_FDG12            8503 non-null   uint8  \n",
      " 407   Item_Identifier_FDG14            8503 non-null   uint8  \n",
      " 408   Item_Identifier_FDG16            8503 non-null   uint8  \n",
      " 409   Item_Identifier_FDG17            8503 non-null   uint8  \n",
      " 410   Item_Identifier_FDG20            8503 non-null   uint8  \n",
      " 411   Item_Identifier_FDG21            8503 non-null   uint8  \n",
      " 412   Item_Identifier_FDG22            8503 non-null   uint8  \n",
      " 413   Item_Identifier_FDG24            8503 non-null   uint8  \n",
      " 414   Item_Identifier_FDG26            8503 non-null   uint8  \n",
      " 415   Item_Identifier_FDG28            8503 non-null   uint8  \n",
      " 416   Item_Identifier_FDG29            8503 non-null   uint8  \n",
      " 417   Item_Identifier_FDG31            8503 non-null   uint8  \n",
      " 418   Item_Identifier_FDG32            8503 non-null   uint8  \n",
      " 419   Item_Identifier_FDG33            8503 non-null   uint8  \n",
      " 420   Item_Identifier_FDG34            8503 non-null   uint8  \n",
      " 421   Item_Identifier_FDG35            8503 non-null   uint8  \n",
      " 422   Item_Identifier_FDG38            8503 non-null   uint8  \n",
      " 423   Item_Identifier_FDG40            8503 non-null   uint8  \n",
      " 424   Item_Identifier_FDG41            8503 non-null   uint8  \n",
      " 425   Item_Identifier_FDG44            8503 non-null   uint8  \n",
      " 426   Item_Identifier_FDG45            8503 non-null   uint8  \n",
      " 427   Item_Identifier_FDG46            8503 non-null   uint8  \n",
      " 428   Item_Identifier_FDG47            8503 non-null   uint8  \n",
      " 429   Item_Identifier_FDG50            8503 non-null   uint8  \n",
      " 430   Item_Identifier_FDG52            8503 non-null   uint8  \n",
      " 431   Item_Identifier_FDG53            8503 non-null   uint8  \n",
      " 432   Item_Identifier_FDG56            8503 non-null   uint8  \n",
      " 433   Item_Identifier_FDG57            8503 non-null   uint8  \n",
      " 434   Item_Identifier_FDG58            8503 non-null   uint8  \n",
      " 435   Item_Identifier_FDG59            8503 non-null   uint8  \n",
      " 436   Item_Identifier_FDG60            8503 non-null   uint8  \n",
      " 437   Item_Identifier_FDH02            8503 non-null   uint8  \n",
      " 438   Item_Identifier_FDH04            8503 non-null   uint8  \n",
      " 439   Item_Identifier_FDH05            8503 non-null   uint8  \n",
      " 440   Item_Identifier_FDH08            8503 non-null   uint8  \n",
      " 441   Item_Identifier_FDH09            8503 non-null   uint8  \n",
      " 442   Item_Identifier_FDH10            8503 non-null   uint8  \n",
      " 443   Item_Identifier_FDH12            8503 non-null   uint8  \n",
      " 444   Item_Identifier_FDH14            8503 non-null   uint8  \n",
      " 445   Item_Identifier_FDH16            8503 non-null   uint8  \n",
      " 446   Item_Identifier_FDH17            8503 non-null   uint8  \n",
      " 447   Item_Identifier_FDH19            8503 non-null   uint8  \n",
      " 448   Item_Identifier_FDH20            8503 non-null   uint8  \n",
      " 449   Item_Identifier_FDH21            8503 non-null   uint8  \n",
      " 450   Item_Identifier_FDH22            8503 non-null   uint8  \n",
      " 451   Item_Identifier_FDH24            8503 non-null   uint8  \n",
      " 452   Item_Identifier_FDH26            8503 non-null   uint8  \n",
      " 453   Item_Identifier_FDH27            8503 non-null   uint8  \n",
      " 454   Item_Identifier_FDH28            8503 non-null   uint8  \n",
      " 455   Item_Identifier_FDH31            8503 non-null   uint8  \n",
      " 456   Item_Identifier_FDH32            8503 non-null   uint8  \n",
      " 457   Item_Identifier_FDH33            8503 non-null   uint8  \n",
      " 458   Item_Identifier_FDH34            8503 non-null   uint8  \n",
      " 459   Item_Identifier_FDH35            8503 non-null   uint8  \n",
      " 460   Item_Identifier_FDH38            8503 non-null   uint8  \n",
      " 461   Item_Identifier_FDH40            8503 non-null   uint8  \n",
      " 462   Item_Identifier_FDH41            8503 non-null   uint8  \n",
      " 463   Item_Identifier_FDH44            8503 non-null   uint8  \n",
      " 464   Item_Identifier_FDH45            8503 non-null   uint8  \n",
      " 465   Item_Identifier_FDH46            8503 non-null   uint8  \n",
      " 466   Item_Identifier_FDH47            8503 non-null   uint8  \n",
      " 467   Item_Identifier_FDH48            8503 non-null   uint8  \n",
      " 468   Item_Identifier_FDH50            8503 non-null   uint8  \n",
      " 469   Item_Identifier_FDH52            8503 non-null   uint8  \n",
      " 470   Item_Identifier_FDH53            8503 non-null   uint8  \n",
      " 471   Item_Identifier_FDH56            8503 non-null   uint8  \n",
      " 472   Item_Identifier_FDH57            8503 non-null   uint8  \n",
      " 473   Item_Identifier_FDH58            8503 non-null   uint8  \n",
      " 474   Item_Identifier_FDH60            8503 non-null   uint8  \n",
      " 475   Item_Identifier_FDI02            8503 non-null   uint8  \n",
      " 476   Item_Identifier_FDI04            8503 non-null   uint8  \n",
      " 477   Item_Identifier_FDI05            8503 non-null   uint8  \n",
      " 478   Item_Identifier_FDI07            8503 non-null   uint8  \n",
      " 479   Item_Identifier_FDI08            8503 non-null   uint8  \n",
      " 480   Item_Identifier_FDI09            8503 non-null   uint8  \n",
      " 481   Item_Identifier_FDI10            8503 non-null   uint8  \n",
      " 482   Item_Identifier_FDI12            8503 non-null   uint8  \n",
      " 483   Item_Identifier_FDI14            8503 non-null   uint8  \n",
      " 484   Item_Identifier_FDI15            8503 non-null   uint8  \n",
      " 485   Item_Identifier_FDI16            8503 non-null   uint8  \n",
      " 486   Item_Identifier_FDI19            8503 non-null   uint8  \n",
      " 487   Item_Identifier_FDI20            8503 non-null   uint8  \n",
      " 488   Item_Identifier_FDI21            8503 non-null   uint8  \n",
      " 489   Item_Identifier_FDI22            8503 non-null   uint8  \n",
      " 490   Item_Identifier_FDI24            8503 non-null   uint8  \n",
      " 491   Item_Identifier_FDI26            8503 non-null   uint8  \n",
      " 492   Item_Identifier_FDI27            8503 non-null   uint8  \n",
      " 493   Item_Identifier_FDI28            8503 non-null   uint8  \n",
      " 494   Item_Identifier_FDI32            8503 non-null   uint8  \n",
      " 495   Item_Identifier_FDI33            8503 non-null   uint8  \n",
      " 496   Item_Identifier_FDI34            8503 non-null   uint8  \n",
      " 497   Item_Identifier_FDI35            8503 non-null   uint8  \n",
      " 498   Item_Identifier_FDI36            8503 non-null   uint8  \n",
      " 499   Item_Identifier_FDI38            8503 non-null   uint8  \n",
      " 500   Item_Identifier_FDI40            8503 non-null   uint8  \n",
      " 501   Item_Identifier_FDI41            8503 non-null   uint8  \n",
      " 502   Item_Identifier_FDI44            8503 non-null   uint8  \n",
      " 503   Item_Identifier_FDI45            8503 non-null   uint8  \n",
      " 504   Item_Identifier_FDI46            8503 non-null   uint8  \n",
      " 505   Item_Identifier_FDI48            8503 non-null   uint8  \n",
      " 506   Item_Identifier_FDI50            8503 non-null   uint8  \n",
      " 507   Item_Identifier_FDI52            8503 non-null   uint8  \n",
      " 508   Item_Identifier_FDI53            8503 non-null   uint8  \n",
      " 509   Item_Identifier_FDI56            8503 non-null   uint8  \n",
      " 510   Item_Identifier_FDI57            8503 non-null   uint8  \n",
      " 511   Item_Identifier_FDI58            8503 non-null   uint8  \n",
      " 512   Item_Identifier_FDI60            8503 non-null   uint8  \n",
      " 513   Item_Identifier_FDJ02            8503 non-null   uint8  \n",
      " 514   Item_Identifier_FDJ03            8503 non-null   uint8  \n",
      " 515   Item_Identifier_FDJ04            8503 non-null   uint8  \n",
      " 516   Item_Identifier_FDJ07            8503 non-null   uint8  \n",
      " 517   Item_Identifier_FDJ08            8503 non-null   uint8  \n",
      " 518   Item_Identifier_FDJ09            8503 non-null   uint8  \n",
      " 519   Item_Identifier_FDJ10            8503 non-null   uint8  \n",
      " 520   Item_Identifier_FDJ12            8503 non-null   uint8  \n",
      " 521   Item_Identifier_FDJ14            8503 non-null   uint8  \n",
      " 522   Item_Identifier_FDJ15            8503 non-null   uint8  \n",
      " 523   Item_Identifier_FDJ16            8503 non-null   uint8  \n",
      " 524   Item_Identifier_FDJ20            8503 non-null   uint8  \n",
      " 525   Item_Identifier_FDJ21            8503 non-null   uint8  \n",
      " 526   Item_Identifier_FDJ22            8503 non-null   uint8  \n",
      " 527   Item_Identifier_FDJ26            8503 non-null   uint8  \n",
      " 528   Item_Identifier_FDJ27            8503 non-null   uint8  \n",
      " 529   Item_Identifier_FDJ28            8503 non-null   uint8  \n",
      " 530   Item_Identifier_FDJ32            8503 non-null   uint8  \n",
      " 531   Item_Identifier_FDJ33            8503 non-null   uint8  \n",
      " 532   Item_Identifier_FDJ34            8503 non-null   uint8  \n",
      " 533   Item_Identifier_FDJ36            8503 non-null   uint8  \n",
      " 534   Item_Identifier_FDJ38            8503 non-null   uint8  \n",
      " 535   Item_Identifier_FDJ40            8503 non-null   uint8  \n",
      " 536   Item_Identifier_FDJ41            8503 non-null   uint8  \n",
      " 537   Item_Identifier_FDJ44            8503 non-null   uint8  \n",
      " 538   Item_Identifier_FDJ45            8503 non-null   uint8  \n",
      " 539   Item_Identifier_FDJ46            8503 non-null   uint8  \n",
      " 540   Item_Identifier_FDJ48            8503 non-null   uint8  \n",
      " 541   Item_Identifier_FDJ50            8503 non-null   uint8  \n",
      " 542   Item_Identifier_FDJ52            8503 non-null   uint8  \n",
      " 543   Item_Identifier_FDJ53            8503 non-null   uint8  \n",
      " 544   Item_Identifier_FDJ55            8503 non-null   uint8  \n",
      " 545   Item_Identifier_FDJ56            8503 non-null   uint8  \n",
      " 546   Item_Identifier_FDJ57            8503 non-null   uint8  \n",
      " 547   Item_Identifier_FDJ58            8503 non-null   uint8  \n",
      " 548   Item_Identifier_FDJ60            8503 non-null   uint8  \n",
      " 549   Item_Identifier_FDK02            8503 non-null   uint8  \n",
      " 550   Item_Identifier_FDK03            8503 non-null   uint8  \n",
      " 551   Item_Identifier_FDK04            8503 non-null   uint8  \n",
      " 552   Item_Identifier_FDK08            8503 non-null   uint8  \n",
      " 553   Item_Identifier_FDK09            8503 non-null   uint8  \n",
      " 554   Item_Identifier_FDK10            8503 non-null   uint8  \n",
      " 555   Item_Identifier_FDK14            8503 non-null   uint8  \n",
      " 556   Item_Identifier_FDK15            8503 non-null   uint8  \n",
      " 557   Item_Identifier_FDK16            8503 non-null   uint8  \n",
      " 558   Item_Identifier_FDK20            8503 non-null   uint8  \n",
      " 559   Item_Identifier_FDK21            8503 non-null   uint8  \n",
      " 560   Item_Identifier_FDK22            8503 non-null   uint8  \n",
      " 561   Item_Identifier_FDK24            8503 non-null   uint8  \n",
      " 562   Item_Identifier_FDK25            8503 non-null   uint8  \n",
      " 563   Item_Identifier_FDK26            8503 non-null   uint8  \n",
      " 564   Item_Identifier_FDK27            8503 non-null   uint8  \n",
      " 565   Item_Identifier_FDK28            8503 non-null   uint8  \n",
      " 566   Item_Identifier_FDK32            8503 non-null   uint8  \n",
      " 567   Item_Identifier_FDK33            8503 non-null   uint8  \n",
      " 568   Item_Identifier_FDK34            8503 non-null   uint8  \n",
      " 569   Item_Identifier_FDK36            8503 non-null   uint8  \n",
      " 570   Item_Identifier_FDK38            8503 non-null   uint8  \n",
      " 571   Item_Identifier_FDK40            8503 non-null   uint8  \n",
      " 572   Item_Identifier_FDK41            8503 non-null   uint8  \n",
      " 573   Item_Identifier_FDK43            8503 non-null   uint8  \n",
      " 574   Item_Identifier_FDK44            8503 non-null   uint8  \n",
      " 575   Item_Identifier_FDK45            8503 non-null   uint8  \n",
      " 576   Item_Identifier_FDK46            8503 non-null   uint8  \n",
      " 577   Item_Identifier_FDK48            8503 non-null   uint8  \n",
      " 578   Item_Identifier_FDK50            8503 non-null   uint8  \n",
      " 579   Item_Identifier_FDK51            8503 non-null   uint8  \n",
      " 580   Item_Identifier_FDK52            8503 non-null   uint8  \n",
      " 581   Item_Identifier_FDK55            8503 non-null   uint8  \n",
      " 582   Item_Identifier_FDK56            8503 non-null   uint8  \n",
      " 583   Item_Identifier_FDK57            8503 non-null   uint8  \n",
      " 584   Item_Identifier_FDK58            8503 non-null   uint8  \n",
      " 585   Item_Identifier_FDK60            8503 non-null   uint8  \n",
      " 586   Item_Identifier_FDL02            8503 non-null   uint8  \n",
      " 587   Item_Identifier_FDL03            8503 non-null   uint8  \n",
      " 588   Item_Identifier_FDL04            8503 non-null   uint8  \n",
      " 589   Item_Identifier_FDL08            8503 non-null   uint8  \n",
      " 590   Item_Identifier_FDL09            8503 non-null   uint8  \n",
      " 591   Item_Identifier_FDL10            8503 non-null   uint8  \n",
      " 592   Item_Identifier_FDL12            8503 non-null   uint8  \n",
      " 593   Item_Identifier_FDL13            8503 non-null   uint8  \n",
      " 594   Item_Identifier_FDL14            8503 non-null   uint8  \n",
      " 595   Item_Identifier_FDL15            8503 non-null   uint8  \n",
      " 596   Item_Identifier_FDL16            8503 non-null   uint8  \n",
      " 597   Item_Identifier_FDL20            8503 non-null   uint8  \n",
      " 598   Item_Identifier_FDL21            8503 non-null   uint8  \n",
      " 599   Item_Identifier_FDL22            8503 non-null   uint8  \n",
      " 600   Item_Identifier_FDL24            8503 non-null   uint8  \n",
      " 601   Item_Identifier_FDL25            8503 non-null   uint8  \n",
      " 602   Item_Identifier_FDL26            8503 non-null   uint8  \n",
      " 603   Item_Identifier_FDL27            8503 non-null   uint8  \n",
      " 604   Item_Identifier_FDL28            8503 non-null   uint8  \n",
      " 605   Item_Identifier_FDL32            8503 non-null   uint8  \n",
      " 606   Item_Identifier_FDL33            8503 non-null   uint8  \n",
      " 607   Item_Identifier_FDL34            8503 non-null   uint8  \n",
      " 608   Item_Identifier_FDL36            8503 non-null   uint8  \n",
      " 609   Item_Identifier_FDL38            8503 non-null   uint8  \n",
      " 610   Item_Identifier_FDL39            8503 non-null   uint8  \n",
      " 611   Item_Identifier_FDL40            8503 non-null   uint8  \n",
      " 612   Item_Identifier_FDL43            8503 non-null   uint8  \n",
      " 613   Item_Identifier_FDL44            8503 non-null   uint8  \n",
      " 614   Item_Identifier_FDL45            8503 non-null   uint8  \n",
      " 615   Item_Identifier_FDL46            8503 non-null   uint8  \n",
      " 616   Item_Identifier_FDL48            8503 non-null   uint8  \n",
      " 617   Item_Identifier_FDL50            8503 non-null   uint8  \n",
      " 618   Item_Identifier_FDL51            8503 non-null   uint8  \n",
      " 619   Item_Identifier_FDL52            8503 non-null   uint8  \n",
      " 620   Item_Identifier_FDL56            8503 non-null   uint8  \n",
      " 621   Item_Identifier_FDL57            8503 non-null   uint8  \n",
      " 622   Item_Identifier_FDL58            8503 non-null   uint8  \n",
      " 623   Item_Identifier_FDM01            8503 non-null   uint8  \n",
      " 624   Item_Identifier_FDM02            8503 non-null   uint8  \n",
      " 625   Item_Identifier_FDM03            8503 non-null   uint8  \n",
      " 626   Item_Identifier_FDM04            8503 non-null   uint8  \n",
      " 627   Item_Identifier_FDM08            8503 non-null   uint8  \n",
      " 628   Item_Identifier_FDM09            8503 non-null   uint8  \n",
      " 629   Item_Identifier_FDM10            8503 non-null   uint8  \n",
      " 630   Item_Identifier_FDM12            8503 non-null   uint8  \n",
      " 631   Item_Identifier_FDM13            8503 non-null   uint8  \n",
      " 632   Item_Identifier_FDM14            8503 non-null   uint8  \n",
      " 633   Item_Identifier_FDM15            8503 non-null   uint8  \n",
      " 634   Item_Identifier_FDM16            8503 non-null   uint8  \n",
      " 635   Item_Identifier_FDM20            8503 non-null   uint8  \n",
      " 636   Item_Identifier_FDM21            8503 non-null   uint8  \n",
      " 637   Item_Identifier_FDM22            8503 non-null   uint8  \n",
      " 638   Item_Identifier_FDM24            8503 non-null   uint8  \n",
      " 639   Item_Identifier_FDM25            8503 non-null   uint8  \n",
      " 640   Item_Identifier_FDM27            8503 non-null   uint8  \n",
      " 641   Item_Identifier_FDM28            8503 non-null   uint8  \n",
      " 642   Item_Identifier_FDM32            8503 non-null   uint8  \n",
      " 643   Item_Identifier_FDM33            8503 non-null   uint8  \n",
      " 644   Item_Identifier_FDM34            8503 non-null   uint8  \n",
      " 645   Item_Identifier_FDM36            8503 non-null   uint8  \n",
      " 646   Item_Identifier_FDM38            8503 non-null   uint8  \n",
      " 647   Item_Identifier_FDM39            8503 non-null   uint8  \n",
      " 648   Item_Identifier_FDM40            8503 non-null   uint8  \n",
      " 649   Item_Identifier_FDM44            8503 non-null   uint8  \n",
      " 650   Item_Identifier_FDM45            8503 non-null   uint8  \n",
      " 651   Item_Identifier_FDM46            8503 non-null   uint8  \n",
      " 652   Item_Identifier_FDM50            8503 non-null   uint8  \n",
      " 653   Item_Identifier_FDM51            8503 non-null   uint8  \n",
      " 654   Item_Identifier_FDM52            8503 non-null   uint8  \n",
      " 655   Item_Identifier_FDM56            8503 non-null   uint8  \n",
      " 656   Item_Identifier_FDM57            8503 non-null   uint8  \n",
      " 657   Item_Identifier_FDM58            8503 non-null   uint8  \n",
      " 658   Item_Identifier_FDM60            8503 non-null   uint8  \n",
      " 659   Item_Identifier_FDN01            8503 non-null   uint8  \n",
      " 660   Item_Identifier_FDN02            8503 non-null   uint8  \n",
      " 661   Item_Identifier_FDN03            8503 non-null   uint8  \n",
      " 662   Item_Identifier_FDN04            8503 non-null   uint8  \n",
      " 663   Item_Identifier_FDN08            8503 non-null   uint8  \n",
      " 664   Item_Identifier_FDN09            8503 non-null   uint8  \n",
      " 665   Item_Identifier_FDN10            8503 non-null   uint8  \n",
      " 666   Item_Identifier_FDN12            8503 non-null   uint8  \n",
      " 667   Item_Identifier_FDN13            8503 non-null   uint8  \n",
      " 668   Item_Identifier_FDN15            8503 non-null   uint8  \n",
      " 669   Item_Identifier_FDN16            8503 non-null   uint8  \n",
      " 670   Item_Identifier_FDN20            8503 non-null   uint8  \n",
      " 671   Item_Identifier_FDN21            8503 non-null   uint8  \n",
      " 672   Item_Identifier_FDN22            8503 non-null   uint8  \n",
      " 673   Item_Identifier_FDN23            8503 non-null   uint8  \n",
      " 674   Item_Identifier_FDN24            8503 non-null   uint8  \n",
      " 675   Item_Identifier_FDN25            8503 non-null   uint8  \n",
      " 676   Item_Identifier_FDN27            8503 non-null   uint8  \n",
      " 677   Item_Identifier_FDN28            8503 non-null   uint8  \n",
      " 678   Item_Identifier_FDN31            8503 non-null   uint8  \n",
      " 679   Item_Identifier_FDN32            8503 non-null   uint8  \n",
      " 680   Item_Identifier_FDN33            8503 non-null   uint8  \n",
      " 681   Item_Identifier_FDN34            8503 non-null   uint8  \n",
      " 682   Item_Identifier_FDN38            8503 non-null   uint8  \n",
      " 683   Item_Identifier_FDN39            8503 non-null   uint8  \n",
      " 684   Item_Identifier_FDN40            8503 non-null   uint8  \n",
      " 685   Item_Identifier_FDN44            8503 non-null   uint8  \n",
      " 686   Item_Identifier_FDN45            8503 non-null   uint8  \n",
      " 687   Item_Identifier_FDN46            8503 non-null   uint8  \n",
      " 688   Item_Identifier_FDN48            8503 non-null   uint8  \n",
      " 689   Item_Identifier_FDN49            8503 non-null   uint8  \n",
      " 690   Item_Identifier_FDN50            8503 non-null   uint8  \n",
      " 691   Item_Identifier_FDN51            8503 non-null   uint8  \n",
      " 692   Item_Identifier_FDN52            8503 non-null   uint8  \n",
      " 693   Item_Identifier_FDN56            8503 non-null   uint8  \n",
      " 694   Item_Identifier_FDN57            8503 non-null   uint8  \n",
      " 695   Item_Identifier_FDN58            8503 non-null   uint8  \n",
      " 696   Item_Identifier_FDN60            8503 non-null   uint8  \n",
      " 697   Item_Identifier_FDO01            8503 non-null   uint8  \n",
      " 698   Item_Identifier_FDO03            8503 non-null   uint8  \n",
      " 699   Item_Identifier_FDO04            8503 non-null   uint8  \n",
      " 700   Item_Identifier_FDO08            8503 non-null   uint8  \n",
      " 701   Item_Identifier_FDO09            8503 non-null   uint8  \n",
      " 702   Item_Identifier_FDO10            8503 non-null   uint8  \n",
      " 703   Item_Identifier_FDO11            8503 non-null   uint8  \n",
      " 704   Item_Identifier_FDO12            8503 non-null   uint8  \n",
      " 705   Item_Identifier_FDO13            8503 non-null   uint8  \n",
      " 706   Item_Identifier_FDO15            8503 non-null   uint8  \n",
      " 707   Item_Identifier_FDO16            8503 non-null   uint8  \n",
      " 708   Item_Identifier_FDO19            8503 non-null   uint8  \n",
      " 709   Item_Identifier_FDO20            8503 non-null   uint8  \n",
      " 710   Item_Identifier_FDO21            8503 non-null   uint8  \n",
      " 711   Item_Identifier_FDO22            8503 non-null   uint8  \n",
      " 712   Item_Identifier_FDO23            8503 non-null   uint8  \n",
      " 713   Item_Identifier_FDO24            8503 non-null   uint8  \n",
      " 714   Item_Identifier_FDO25            8503 non-null   uint8  \n",
      " 715   Item_Identifier_FDO27            8503 non-null   uint8  \n",
      " 716   Item_Identifier_FDO28            8503 non-null   uint8  \n",
      " 717   Item_Identifier_FDO31            8503 non-null   uint8  \n",
      " 718   Item_Identifier_FDO32            8503 non-null   uint8  \n",
      " 719   Item_Identifier_FDO33            8503 non-null   uint8  \n",
      " 720   Item_Identifier_FDO34            8503 non-null   uint8  \n",
      " 721   Item_Identifier_FDO36            8503 non-null   uint8  \n",
      " 722   Item_Identifier_FDO37            8503 non-null   uint8  \n",
      " 723   Item_Identifier_FDO38            8503 non-null   uint8  \n",
      " 724   Item_Identifier_FDO39            8503 non-null   uint8  \n",
      " 725   Item_Identifier_FDO40            8503 non-null   uint8  \n",
      " 726   Item_Identifier_FDO44            8503 non-null   uint8  \n",
      " 727   Item_Identifier_FDO45            8503 non-null   uint8  \n",
      " 728   Item_Identifier_FDO46            8503 non-null   uint8  \n",
      " 729   Item_Identifier_FDO48            8503 non-null   uint8  \n",
      " 730   Item_Identifier_FDO49            8503 non-null   uint8  \n",
      " 731   Item_Identifier_FDO50            8503 non-null   uint8  \n",
      " 732   Item_Identifier_FDO51            8503 non-null   uint8  \n",
      " 733   Item_Identifier_FDO52            8503 non-null   uint8  \n",
      " 734   Item_Identifier_FDO56            8503 non-null   uint8  \n",
      " 735   Item_Identifier_FDO57            8503 non-null   uint8  \n",
      " 736   Item_Identifier_FDO58            8503 non-null   uint8  \n",
      " 737   Item_Identifier_FDO60            8503 non-null   uint8  \n",
      " 738   Item_Identifier_FDP01            8503 non-null   uint8  \n",
      " 739   Item_Identifier_FDP03            8503 non-null   uint8  \n",
      " 740   Item_Identifier_FDP04            8503 non-null   uint8  \n",
      " 741   Item_Identifier_FDP07            8503 non-null   uint8  \n",
      " 742   Item_Identifier_FDP08            8503 non-null   uint8  \n",
      " 743   Item_Identifier_FDP09            8503 non-null   uint8  \n",
      " 744   Item_Identifier_FDP10            8503 non-null   uint8  \n",
      " 745   Item_Identifier_FDP11            8503 non-null   uint8  \n",
      " 746   Item_Identifier_FDP12            8503 non-null   uint8  \n",
      " 747   Item_Identifier_FDP13            8503 non-null   uint8  \n",
      " 748   Item_Identifier_FDP15            8503 non-null   uint8  \n",
      " 749   Item_Identifier_FDP16            8503 non-null   uint8  \n",
      " 750   Item_Identifier_FDP19            8503 non-null   uint8  \n",
      " 751   Item_Identifier_FDP20            8503 non-null   uint8  \n",
      " 752   Item_Identifier_FDP21            8503 non-null   uint8  \n",
      " 753   Item_Identifier_FDP22            8503 non-null   uint8  \n",
      " 754   Item_Identifier_FDP23            8503 non-null   uint8  \n",
      " 755   Item_Identifier_FDP24            8503 non-null   uint8  \n",
      " 756   Item_Identifier_FDP25            8503 non-null   uint8  \n",
      " 757   Item_Identifier_FDP26            8503 non-null   uint8  \n",
      " 758   Item_Identifier_FDP27            8503 non-null   uint8  \n",
      " 759   Item_Identifier_FDP28            8503 non-null   uint8  \n",
      " 760   Item_Identifier_FDP31            8503 non-null   uint8  \n",
      " 761   Item_Identifier_FDP32            8503 non-null   uint8  \n",
      " 762   Item_Identifier_FDP33            8503 non-null   uint8  \n",
      " 763   Item_Identifier_FDP34            8503 non-null   uint8  \n",
      " 764   Item_Identifier_FDP36            8503 non-null   uint8  \n",
      " 765   Item_Identifier_FDP37            8503 non-null   uint8  \n",
      " 766   Item_Identifier_FDP38            8503 non-null   uint8  \n",
      " 767   Item_Identifier_FDP39            8503 non-null   uint8  \n",
      " 768   Item_Identifier_FDP40            8503 non-null   uint8  \n",
      " 769   Item_Identifier_FDP44            8503 non-null   uint8  \n",
      " 770   Item_Identifier_FDP45            8503 non-null   uint8  \n",
      " 771   Item_Identifier_FDP46            8503 non-null   uint8  \n",
      " 772   Item_Identifier_FDP48            8503 non-null   uint8  \n",
      " 773   Item_Identifier_FDP49            8503 non-null   uint8  \n",
      " 774   Item_Identifier_FDP51            8503 non-null   uint8  \n",
      " 775   Item_Identifier_FDP52            8503 non-null   uint8  \n",
      " 776   Item_Identifier_FDP56            8503 non-null   uint8  \n",
      " 777   Item_Identifier_FDP57            8503 non-null   uint8  \n",
      " 778   Item_Identifier_FDP58            8503 non-null   uint8  \n",
      " 779   Item_Identifier_FDP59            8503 non-null   uint8  \n",
      " 780   Item_Identifier_FDP60            8503 non-null   uint8  \n",
      " 781   Item_Identifier_FDQ01            8503 non-null   uint8  \n",
      " 782   Item_Identifier_FDQ03            8503 non-null   uint8  \n",
      " 783   Item_Identifier_FDQ04            8503 non-null   uint8  \n",
      " 784   Item_Identifier_FDQ07            8503 non-null   uint8  \n",
      " 785   Item_Identifier_FDQ08            8503 non-null   uint8  \n",
      " 786   Item_Identifier_FDQ09            8503 non-null   uint8  \n",
      " 787   Item_Identifier_FDQ10            8503 non-null   uint8  \n",
      " 788   Item_Identifier_FDQ11            8503 non-null   uint8  \n",
      " 789   Item_Identifier_FDQ12            8503 non-null   uint8  \n",
      " 790   Item_Identifier_FDQ13            8503 non-null   uint8  \n",
      " 791   Item_Identifier_FDQ14            8503 non-null   uint8  \n",
      " 792   Item_Identifier_FDQ15            8503 non-null   uint8  \n",
      " 793   Item_Identifier_FDQ16            8503 non-null   uint8  \n",
      " 794   Item_Identifier_FDQ19            8503 non-null   uint8  \n",
      " 795   Item_Identifier_FDQ20            8503 non-null   uint8  \n",
      " 796   Item_Identifier_FDQ21            8503 non-null   uint8  \n",
      " 797   Item_Identifier_FDQ22            8503 non-null   uint8  \n",
      " 798   Item_Identifier_FDQ23            8503 non-null   uint8  \n",
      " 799   Item_Identifier_FDQ24            8503 non-null   uint8  \n",
      " 800   Item_Identifier_FDQ25            8503 non-null   uint8  \n",
      " 801   Item_Identifier_FDQ26            8503 non-null   uint8  \n",
      " 802   Item_Identifier_FDQ27            8503 non-null   uint8  \n",
      " 803   Item_Identifier_FDQ28            8503 non-null   uint8  \n",
      " 804   Item_Identifier_FDQ31            8503 non-null   uint8  \n",
      " 805   Item_Identifier_FDQ32            8503 non-null   uint8  \n",
      " 806   Item_Identifier_FDQ33            8503 non-null   uint8  \n",
      " 807   Item_Identifier_FDQ34            8503 non-null   uint8  \n",
      " 808   Item_Identifier_FDQ36            8503 non-null   uint8  \n",
      " 809   Item_Identifier_FDQ37            8503 non-null   uint8  \n",
      " 810   Item_Identifier_FDQ39            8503 non-null   uint8  \n",
      " 811   Item_Identifier_FDQ40            8503 non-null   uint8  \n",
      " 812   Item_Identifier_FDQ44            8503 non-null   uint8  \n",
      " 813   Item_Identifier_FDQ45            8503 non-null   uint8  \n",
      " 814   Item_Identifier_FDQ46            8503 non-null   uint8  \n",
      " 815   Item_Identifier_FDQ47            8503 non-null   uint8  \n",
      " 816   Item_Identifier_FDQ48            8503 non-null   uint8  \n",
      " 817   Item_Identifier_FDQ49            8503 non-null   uint8  \n",
      " 818   Item_Identifier_FDQ51            8503 non-null   uint8  \n",
      " 819   Item_Identifier_FDQ52            8503 non-null   uint8  \n",
      " 820   Item_Identifier_FDQ55            8503 non-null   uint8  \n",
      " 821   Item_Identifier_FDQ56            8503 non-null   uint8  \n",
      " 822   Item_Identifier_FDQ57            8503 non-null   uint8  \n",
      " 823   Item_Identifier_FDQ58            8503 non-null   uint8  \n",
      " 824   Item_Identifier_FDQ59            8503 non-null   uint8  \n",
      " 825   Item_Identifier_FDQ60            8503 non-null   uint8  \n",
      " 826   Item_Identifier_FDR01            8503 non-null   uint8  \n",
      " 827   Item_Identifier_FDR02            8503 non-null   uint8  \n",
      " 828   Item_Identifier_FDR03            8503 non-null   uint8  \n",
      " 829   Item_Identifier_FDR04            8503 non-null   uint8  \n",
      " 830   Item_Identifier_FDR07            8503 non-null   uint8  \n",
      " 831   Item_Identifier_FDR08            8503 non-null   uint8  \n",
      " 832   Item_Identifier_FDR09            8503 non-null   uint8  \n",
      " 833   Item_Identifier_FDR10            8503 non-null   uint8  \n",
      " 834   Item_Identifier_FDR11            8503 non-null   uint8  \n",
      " 835   Item_Identifier_FDR12            8503 non-null   uint8  \n",
      " 836   Item_Identifier_FDR13            8503 non-null   uint8  \n",
      " 837   Item_Identifier_FDR14            8503 non-null   uint8  \n",
      " 838   Item_Identifier_FDR15            8503 non-null   uint8  \n",
      " 839   Item_Identifier_FDR16            8503 non-null   uint8  \n",
      " 840   Item_Identifier_FDR19            8503 non-null   uint8  \n",
      " 841   Item_Identifier_FDR20            8503 non-null   uint8  \n",
      " 842   Item_Identifier_FDR21            8503 non-null   uint8  \n",
      " 843   Item_Identifier_FDR22            8503 non-null   uint8  \n",
      " 844   Item_Identifier_FDR23            8503 non-null   uint8  \n",
      " 845   Item_Identifier_FDR24            8503 non-null   uint8  \n",
      " 846   Item_Identifier_FDR25            8503 non-null   uint8  \n",
      " 847   Item_Identifier_FDR26            8503 non-null   uint8  \n",
      " 848   Item_Identifier_FDR27            8503 non-null   uint8  \n",
      " 849   Item_Identifier_FDR28            8503 non-null   uint8  \n",
      " 850   Item_Identifier_FDR31            8503 non-null   uint8  \n",
      " 851   Item_Identifier_FDR32            8503 non-null   uint8  \n",
      " 852   Item_Identifier_FDR33            8503 non-null   uint8  \n",
      " 853   Item_Identifier_FDR34            8503 non-null   uint8  \n",
      " 854   Item_Identifier_FDR35            8503 non-null   uint8  \n",
      " 855   Item_Identifier_FDR36            8503 non-null   uint8  \n",
      " 856   Item_Identifier_FDR37            8503 non-null   uint8  \n",
      " 857   Item_Identifier_FDR39            8503 non-null   uint8  \n",
      " 858   Item_Identifier_FDR40            8503 non-null   uint8  \n",
      " 859   Item_Identifier_FDR43            8503 non-null   uint8  \n",
      " 860   Item_Identifier_FDR44            8503 non-null   uint8  \n",
      " 861   Item_Identifier_FDR45            8503 non-null   uint8  \n",
      " 862   Item_Identifier_FDR46            8503 non-null   uint8  \n",
      " 863   Item_Identifier_FDR47            8503 non-null   uint8  \n",
      " 864   Item_Identifier_FDR48            8503 non-null   uint8  \n",
      " 865   Item_Identifier_FDR49            8503 non-null   uint8  \n",
      " 866   Item_Identifier_FDR51            8503 non-null   uint8  \n",
      " 867   Item_Identifier_FDR52            8503 non-null   uint8  \n",
      " 868   Item_Identifier_FDR55            8503 non-null   uint8  \n",
      " 869   Item_Identifier_FDR56            8503 non-null   uint8  \n",
      " 870   Item_Identifier_FDR57            8503 non-null   uint8  \n",
      " 871   Item_Identifier_FDR58            8503 non-null   uint8  \n",
      " 872   Item_Identifier_FDR59            8503 non-null   uint8  \n",
      " 873   Item_Identifier_FDR60            8503 non-null   uint8  \n",
      " 874   Item_Identifier_FDS01            8503 non-null   uint8  \n",
      " 875   Item_Identifier_FDS02            8503 non-null   uint8  \n",
      " 876   Item_Identifier_FDS03            8503 non-null   uint8  \n",
      " 877   Item_Identifier_FDS04            8503 non-null   uint8  \n",
      " 878   Item_Identifier_FDS07            8503 non-null   uint8  \n",
      " 879   Item_Identifier_FDS08            8503 non-null   uint8  \n",
      " 880   Item_Identifier_FDS09            8503 non-null   uint8  \n",
      " 881   Item_Identifier_FDS10            8503 non-null   uint8  \n",
      " 882   Item_Identifier_FDS11            8503 non-null   uint8  \n",
      " 883   Item_Identifier_FDS12            8503 non-null   uint8  \n",
      " 884   Item_Identifier_FDS13            8503 non-null   uint8  \n",
      " 885   Item_Identifier_FDS14            8503 non-null   uint8  \n",
      " 886   Item_Identifier_FDS15            8503 non-null   uint8  \n",
      " 887   Item_Identifier_FDS16            8503 non-null   uint8  \n",
      " 888   Item_Identifier_FDS19            8503 non-null   uint8  \n",
      " 889   Item_Identifier_FDS20            8503 non-null   uint8  \n",
      " 890   Item_Identifier_FDS21            8503 non-null   uint8  \n",
      " 891   Item_Identifier_FDS22            8503 non-null   uint8  \n",
      " 892   Item_Identifier_FDS23            8503 non-null   uint8  \n",
      " 893   Item_Identifier_FDS24            8503 non-null   uint8  \n",
      " 894   Item_Identifier_FDS25            8503 non-null   uint8  \n",
      " 895   Item_Identifier_FDS26            8503 non-null   uint8  \n",
      " 896   Item_Identifier_FDS27            8503 non-null   uint8  \n",
      " 897   Item_Identifier_FDS28            8503 non-null   uint8  \n",
      " 898   Item_Identifier_FDS31            8503 non-null   uint8  \n",
      " 899   Item_Identifier_FDS32            8503 non-null   uint8  \n",
      " 900   Item_Identifier_FDS33            8503 non-null   uint8  \n",
      " 901   Item_Identifier_FDS34            8503 non-null   uint8  \n",
      " 902   Item_Identifier_FDS35            8503 non-null   uint8  \n",
      " 903   Item_Identifier_FDS36            8503 non-null   uint8  \n",
      " 904   Item_Identifier_FDS37            8503 non-null   uint8  \n",
      " 905   Item_Identifier_FDS39            8503 non-null   uint8  \n",
      " 906   Item_Identifier_FDS40            8503 non-null   uint8  \n",
      " 907   Item_Identifier_FDS43            8503 non-null   uint8  \n",
      " 908   Item_Identifier_FDS44            8503 non-null   uint8  \n",
      " 909   Item_Identifier_FDS45            8503 non-null   uint8  \n",
      " 910   Item_Identifier_FDS46            8503 non-null   uint8  \n",
      " 911   Item_Identifier_FDS47            8503 non-null   uint8  \n",
      " 912   Item_Identifier_FDS48            8503 non-null   uint8  \n",
      " 913   Item_Identifier_FDS49            8503 non-null   uint8  \n",
      " 914   Item_Identifier_FDS50            8503 non-null   uint8  \n",
      " 915   Item_Identifier_FDS51            8503 non-null   uint8  \n",
      " 916   Item_Identifier_FDS52            8503 non-null   uint8  \n",
      " 917   Item_Identifier_FDS55            8503 non-null   uint8  \n",
      " 918   Item_Identifier_FDS56            8503 non-null   uint8  \n",
      " 919   Item_Identifier_FDS57            8503 non-null   uint8  \n",
      " 920   Item_Identifier_FDS58            8503 non-null   uint8  \n",
      " 921   Item_Identifier_FDS59            8503 non-null   uint8  \n",
      " 922   Item_Identifier_FDS60            8503 non-null   uint8  \n",
      " 923   Item_Identifier_FDT01            8503 non-null   uint8  \n",
      " 924   Item_Identifier_FDT02            8503 non-null   uint8  \n",
      " 925   Item_Identifier_FDT03            8503 non-null   uint8  \n",
      " 926   Item_Identifier_FDT04            8503 non-null   uint8  \n",
      " 927   Item_Identifier_FDT07            8503 non-null   uint8  \n",
      " 928   Item_Identifier_FDT08            8503 non-null   uint8  \n",
      " 929   Item_Identifier_FDT09            8503 non-null   uint8  \n",
      " 930   Item_Identifier_FDT10            8503 non-null   uint8  \n",
      " 931   Item_Identifier_FDT11            8503 non-null   uint8  \n",
      " 932   Item_Identifier_FDT12            8503 non-null   uint8  \n",
      " 933   Item_Identifier_FDT13            8503 non-null   uint8  \n",
      " 934   Item_Identifier_FDT14            8503 non-null   uint8  \n",
      " 935   Item_Identifier_FDT15            8503 non-null   uint8  \n",
      " 936   Item_Identifier_FDT16            8503 non-null   uint8  \n",
      " 937   Item_Identifier_FDT19            8503 non-null   uint8  \n",
      " 938   Item_Identifier_FDT20            8503 non-null   uint8  \n",
      " 939   Item_Identifier_FDT21            8503 non-null   uint8  \n",
      " 940   Item_Identifier_FDT22            8503 non-null   uint8  \n",
      " 941   Item_Identifier_FDT23            8503 non-null   uint8  \n",
      " 942   Item_Identifier_FDT24            8503 non-null   uint8  \n",
      " 943   Item_Identifier_FDT25            8503 non-null   uint8  \n",
      " 944   Item_Identifier_FDT26            8503 non-null   uint8  \n",
      " 945   Item_Identifier_FDT27            8503 non-null   uint8  \n",
      " 946   Item_Identifier_FDT28            8503 non-null   uint8  \n",
      " 947   Item_Identifier_FDT31            8503 non-null   uint8  \n",
      " 948   Item_Identifier_FDT32            8503 non-null   uint8  \n",
      " 949   Item_Identifier_FDT33            8503 non-null   uint8  \n",
      " 950   Item_Identifier_FDT34            8503 non-null   uint8  \n",
      " 951   Item_Identifier_FDT35            8503 non-null   uint8  \n",
      " 952   Item_Identifier_FDT36            8503 non-null   uint8  \n",
      " 953   Item_Identifier_FDT37            8503 non-null   uint8  \n",
      " 954   Item_Identifier_FDT38            8503 non-null   uint8  \n",
      " 955   Item_Identifier_FDT39            8503 non-null   uint8  \n",
      " 956   Item_Identifier_FDT40            8503 non-null   uint8  \n",
      " 957   Item_Identifier_FDT43            8503 non-null   uint8  \n",
      " 958   Item_Identifier_FDT44            8503 non-null   uint8  \n",
      " 959   Item_Identifier_FDT45            8503 non-null   uint8  \n",
      " 960   Item_Identifier_FDT46            8503 non-null   uint8  \n",
      " 961   Item_Identifier_FDT47            8503 non-null   uint8  \n",
      " 962   Item_Identifier_FDT48            8503 non-null   uint8  \n",
      " 963   Item_Identifier_FDT49            8503 non-null   uint8  \n",
      " 964   Item_Identifier_FDT50            8503 non-null   uint8  \n",
      " 965   Item_Identifier_FDT51            8503 non-null   uint8  \n",
      " 966   Item_Identifier_FDT52            8503 non-null   uint8  \n",
      " 967   Item_Identifier_FDT55            8503 non-null   uint8  \n",
      " 968   Item_Identifier_FDT56            8503 non-null   uint8  \n",
      " 969   Item_Identifier_FDT57            8503 non-null   uint8  \n",
      " 970   Item_Identifier_FDT58            8503 non-null   uint8  \n",
      " 971   Item_Identifier_FDT59            8503 non-null   uint8  \n",
      " 972   Item_Identifier_FDT60            8503 non-null   uint8  \n",
      " 973   Item_Identifier_FDU01            8503 non-null   uint8  \n",
      " 974   Item_Identifier_FDU02            8503 non-null   uint8  \n",
      " 975   Item_Identifier_FDU03            8503 non-null   uint8  \n",
      " 976   Item_Identifier_FDU04            8503 non-null   uint8  \n",
      " 977   Item_Identifier_FDU07            8503 non-null   uint8  \n",
      " 978   Item_Identifier_FDU08            8503 non-null   uint8  \n",
      " 979   Item_Identifier_FDU09            8503 non-null   uint8  \n",
      " 980   Item_Identifier_FDU10            8503 non-null   uint8  \n",
      " 981   Item_Identifier_FDU11            8503 non-null   uint8  \n",
      " 982   Item_Identifier_FDU12            8503 non-null   uint8  \n",
      " 983   Item_Identifier_FDU13            8503 non-null   uint8  \n",
      " 984   Item_Identifier_FDU14            8503 non-null   uint8  \n",
      " 985   Item_Identifier_FDU15            8503 non-null   uint8  \n",
      " 986   Item_Identifier_FDU16            8503 non-null   uint8  \n",
      " 987   Item_Identifier_FDU19            8503 non-null   uint8  \n",
      " 988   Item_Identifier_FDU20            8503 non-null   uint8  \n",
      " 989   Item_Identifier_FDU21            8503 non-null   uint8  \n",
      " 990   Item_Identifier_FDU22            8503 non-null   uint8  \n",
      " 991   Item_Identifier_FDU23            8503 non-null   uint8  \n",
      " 992   Item_Identifier_FDU24            8503 non-null   uint8  \n",
      " 993   Item_Identifier_FDU25            8503 non-null   uint8  \n",
      " 994   Item_Identifier_FDU26            8503 non-null   uint8  \n",
      " 995   Item_Identifier_FDU27            8503 non-null   uint8  \n",
      " 996   Item_Identifier_FDU28            8503 non-null   uint8  \n",
      " 997   Item_Identifier_FDU31            8503 non-null   uint8  \n",
      " 998   Item_Identifier_FDU32            8503 non-null   uint8  \n",
      " 999   Item_Identifier_FDU33            8503 non-null   uint8  \n",
      " 1000  Item_Identifier_FDU34            8503 non-null   uint8  \n",
      " 1001  Item_Identifier_FDU35            8503 non-null   uint8  \n",
      " 1002  Item_Identifier_FDU36            8503 non-null   uint8  \n",
      " 1003  Item_Identifier_FDU37            8503 non-null   uint8  \n",
      " 1004  Item_Identifier_FDU38            8503 non-null   uint8  \n",
      " 1005  Item_Identifier_FDU39            8503 non-null   uint8  \n",
      " 1006  Item_Identifier_FDU40            8503 non-null   uint8  \n",
      " 1007  Item_Identifier_FDU43            8503 non-null   uint8  \n",
      " 1008  Item_Identifier_FDU44            8503 non-null   uint8  \n",
      " 1009  Item_Identifier_FDU45            8503 non-null   uint8  \n",
      " 1010  Item_Identifier_FDU46            8503 non-null   uint8  \n",
      " 1011  Item_Identifier_FDU47            8503 non-null   uint8  \n",
      " 1012  Item_Identifier_FDU48            8503 non-null   uint8  \n",
      " 1013  Item_Identifier_FDU49            8503 non-null   uint8  \n",
      " 1014  Item_Identifier_FDU50            8503 non-null   uint8  \n",
      " 1015  Item_Identifier_FDU51            8503 non-null   uint8  \n",
      " 1016  Item_Identifier_FDU52            8503 non-null   uint8  \n",
      " 1017  Item_Identifier_FDU55            8503 non-null   uint8  \n",
      " 1018  Item_Identifier_FDU56            8503 non-null   uint8  \n",
      " 1019  Item_Identifier_FDU57            8503 non-null   uint8  \n",
      " 1020  Item_Identifier_FDU58            8503 non-null   uint8  \n",
      " 1021  Item_Identifier_FDU59            8503 non-null   uint8  \n",
      " 1022  Item_Identifier_FDU60            8503 non-null   uint8  \n",
      " 1023  Item_Identifier_FDV01            8503 non-null   uint8  \n",
      " 1024  Item_Identifier_FDV02            8503 non-null   uint8  \n",
      " 1025  Item_Identifier_FDV03            8503 non-null   uint8  \n",
      " 1026  Item_Identifier_FDV04            8503 non-null   uint8  \n",
      " 1027  Item_Identifier_FDV07            8503 non-null   uint8  \n",
      " 1028  Item_Identifier_FDV08            8503 non-null   uint8  \n",
      " 1029  Item_Identifier_FDV09            8503 non-null   uint8  \n",
      " 1030  Item_Identifier_FDV10            8503 non-null   uint8  \n",
      " 1031  Item_Identifier_FDV11            8503 non-null   uint8  \n",
      " 1032  Item_Identifier_FDV12            8503 non-null   uint8  \n",
      " 1033  Item_Identifier_FDV13            8503 non-null   uint8  \n",
      " 1034  Item_Identifier_FDV14            8503 non-null   uint8  \n",
      " 1035  Item_Identifier_FDV15            8503 non-null   uint8  \n",
      " 1036  Item_Identifier_FDV16            8503 non-null   uint8  \n",
      " 1037  Item_Identifier_FDV19            8503 non-null   uint8  \n",
      " 1038  Item_Identifier_FDV20            8503 non-null   uint8  \n",
      " 1039  Item_Identifier_FDV21            8503 non-null   uint8  \n",
      " 1040  Item_Identifier_FDV22            8503 non-null   uint8  \n",
      " 1041  Item_Identifier_FDV23            8503 non-null   uint8  \n",
      " 1042  Item_Identifier_FDV24            8503 non-null   uint8  \n",
      " 1043  Item_Identifier_FDV25            8503 non-null   uint8  \n",
      " 1044  Item_Identifier_FDV26            8503 non-null   uint8  \n",
      " 1045  Item_Identifier_FDV27            8503 non-null   uint8  \n",
      " 1046  Item_Identifier_FDV28            8503 non-null   uint8  \n",
      " 1047  Item_Identifier_FDV31            8503 non-null   uint8  \n",
      " 1048  Item_Identifier_FDV32            8503 non-null   uint8  \n",
      " 1049  Item_Identifier_FDV33            8503 non-null   uint8  \n",
      " 1050  Item_Identifier_FDV34            8503 non-null   uint8  \n",
      " 1051  Item_Identifier_FDV35            8503 non-null   uint8  \n",
      " 1052  Item_Identifier_FDV36            8503 non-null   uint8  \n",
      " 1053  Item_Identifier_FDV37            8503 non-null   uint8  \n",
      " 1054  Item_Identifier_FDV38            8503 non-null   uint8  \n",
      " 1055  Item_Identifier_FDV39            8503 non-null   uint8  \n",
      " 1056  Item_Identifier_FDV40            8503 non-null   uint8  \n",
      " 1057  Item_Identifier_FDV43            8503 non-null   uint8  \n",
      " 1058  Item_Identifier_FDV44            8503 non-null   uint8  \n",
      " 1059  Item_Identifier_FDV45            8503 non-null   uint8  \n",
      " 1060  Item_Identifier_FDV46            8503 non-null   uint8  \n",
      " 1061  Item_Identifier_FDV47            8503 non-null   uint8  \n",
      " 1062  Item_Identifier_FDV48            8503 non-null   uint8  \n",
      " 1063  Item_Identifier_FDV49            8503 non-null   uint8  \n",
      " 1064  Item_Identifier_FDV50            8503 non-null   uint8  \n",
      " 1065  Item_Identifier_FDV51            8503 non-null   uint8  \n",
      " 1066  Item_Identifier_FDV52            8503 non-null   uint8  \n",
      " 1067  Item_Identifier_FDV55            8503 non-null   uint8  \n",
      " 1068  Item_Identifier_FDV56            8503 non-null   uint8  \n",
      " 1069  Item_Identifier_FDV57            8503 non-null   uint8  \n",
      " 1070  Item_Identifier_FDV58            8503 non-null   uint8  \n",
      " 1071  Item_Identifier_FDV59            8503 non-null   uint8  \n",
      " 1072  Item_Identifier_FDV60            8503 non-null   uint8  \n",
      " 1073  Item_Identifier_FDW01            8503 non-null   uint8  \n",
      " 1074  Item_Identifier_FDW02            8503 non-null   uint8  \n",
      " 1075  Item_Identifier_FDW03            8503 non-null   uint8  \n",
      " 1076  Item_Identifier_FDW04            8503 non-null   uint8  \n",
      " 1077  Item_Identifier_FDW07            8503 non-null   uint8  \n",
      " 1078  Item_Identifier_FDW08            8503 non-null   uint8  \n",
      " 1079  Item_Identifier_FDW09            8503 non-null   uint8  \n",
      " 1080  Item_Identifier_FDW10            8503 non-null   uint8  \n",
      " 1081  Item_Identifier_FDW11            8503 non-null   uint8  \n",
      " 1082  Item_Identifier_FDW12            8503 non-null   uint8  \n",
      " 1083  Item_Identifier_FDW13            8503 non-null   uint8  \n",
      " 1084  Item_Identifier_FDW14            8503 non-null   uint8  \n",
      " 1085  Item_Identifier_FDW15            8503 non-null   uint8  \n",
      " 1086  Item_Identifier_FDW16            8503 non-null   uint8  \n",
      " 1087  Item_Identifier_FDW19            8503 non-null   uint8  \n",
      " 1088  Item_Identifier_FDW20            8503 non-null   uint8  \n",
      " 1089  Item_Identifier_FDW21            8503 non-null   uint8  \n",
      " 1090  Item_Identifier_FDW22            8503 non-null   uint8  \n",
      " 1091  Item_Identifier_FDW23            8503 non-null   uint8  \n",
      " 1092  Item_Identifier_FDW24            8503 non-null   uint8  \n",
      " 1093  Item_Identifier_FDW25            8503 non-null   uint8  \n",
      " 1094  Item_Identifier_FDW26            8503 non-null   uint8  \n",
      " 1095  Item_Identifier_FDW27            8503 non-null   uint8  \n",
      " 1096  Item_Identifier_FDW28            8503 non-null   uint8  \n",
      " 1097  Item_Identifier_FDW31            8503 non-null   uint8  \n",
      " 1098  Item_Identifier_FDW32            8503 non-null   uint8  \n",
      " 1099  Item_Identifier_FDW33            8503 non-null   uint8  \n",
      " 1100  Item_Identifier_FDW34            8503 non-null   uint8  \n",
      " 1101  Item_Identifier_FDW35            8503 non-null   uint8  \n",
      " 1102  Item_Identifier_FDW36            8503 non-null   uint8  \n",
      " 1103  Item_Identifier_FDW37            8503 non-null   uint8  \n",
      " 1104  Item_Identifier_FDW38            8503 non-null   uint8  \n",
      " 1105  Item_Identifier_FDW39            8503 non-null   uint8  \n",
      " 1106  Item_Identifier_FDW40            8503 non-null   uint8  \n",
      " 1107  Item_Identifier_FDW43            8503 non-null   uint8  \n",
      " 1108  Item_Identifier_FDW44            8503 non-null   uint8  \n",
      " 1109  Item_Identifier_FDW45            8503 non-null   uint8  \n",
      " 1110  Item_Identifier_FDW46            8503 non-null   uint8  \n",
      " 1111  Item_Identifier_FDW47            8503 non-null   uint8  \n",
      " 1112  Item_Identifier_FDW48            8503 non-null   uint8  \n",
      " 1113  Item_Identifier_FDW49            8503 non-null   uint8  \n",
      " 1114  Item_Identifier_FDW50            8503 non-null   uint8  \n",
      " 1115  Item_Identifier_FDW51            8503 non-null   uint8  \n",
      " 1116  Item_Identifier_FDW52            8503 non-null   uint8  \n",
      " 1117  Item_Identifier_FDW55            8503 non-null   uint8  \n",
      " 1118  Item_Identifier_FDW56            8503 non-null   uint8  \n",
      " 1119  Item_Identifier_FDW57            8503 non-null   uint8  \n",
      " 1120  Item_Identifier_FDW58            8503 non-null   uint8  \n",
      " 1121  Item_Identifier_FDW59            8503 non-null   uint8  \n",
      " 1122  Item_Identifier_FDW60            8503 non-null   uint8  \n",
      " 1123  Item_Identifier_FDX01            8503 non-null   uint8  \n",
      " 1124  Item_Identifier_FDX02            8503 non-null   uint8  \n",
      " 1125  Item_Identifier_FDX03            8503 non-null   uint8  \n",
      " 1126  Item_Identifier_FDX04            8503 non-null   uint8  \n",
      " 1127  Item_Identifier_FDX07            8503 non-null   uint8  \n",
      " 1128  Item_Identifier_FDX08            8503 non-null   uint8  \n",
      " 1129  Item_Identifier_FDX09            8503 non-null   uint8  \n",
      " 1130  Item_Identifier_FDX10            8503 non-null   uint8  \n",
      " 1131  Item_Identifier_FDX11            8503 non-null   uint8  \n",
      " 1132  Item_Identifier_FDX12            8503 non-null   uint8  \n",
      " 1133  Item_Identifier_FDX13            8503 non-null   uint8  \n",
      " 1134  Item_Identifier_FDX14            8503 non-null   uint8  \n",
      " 1135  Item_Identifier_FDX15            8503 non-null   uint8  \n",
      " 1136  Item_Identifier_FDX16            8503 non-null   uint8  \n",
      " 1137  Item_Identifier_FDX19            8503 non-null   uint8  \n",
      " 1138  Item_Identifier_FDX20            8503 non-null   uint8  \n",
      " 1139  Item_Identifier_FDX21            8503 non-null   uint8  \n",
      " 1140  Item_Identifier_FDX22            8503 non-null   uint8  \n",
      " 1141  Item_Identifier_FDX23            8503 non-null   uint8  \n",
      " 1142  Item_Identifier_FDX24            8503 non-null   uint8  \n",
      " 1143  Item_Identifier_FDX25            8503 non-null   uint8  \n",
      " 1144  Item_Identifier_FDX26            8503 non-null   uint8  \n",
      " 1145  Item_Identifier_FDX27            8503 non-null   uint8  \n",
      " 1146  Item_Identifier_FDX28            8503 non-null   uint8  \n",
      " 1147  Item_Identifier_FDX31            8503 non-null   uint8  \n",
      " 1148  Item_Identifier_FDX32            8503 non-null   uint8  \n",
      " 1149  Item_Identifier_FDX33            8503 non-null   uint8  \n",
      " 1150  Item_Identifier_FDX34            8503 non-null   uint8  \n",
      " 1151  Item_Identifier_FDX35            8503 non-null   uint8  \n",
      " 1152  Item_Identifier_FDX36            8503 non-null   uint8  \n",
      " 1153  Item_Identifier_FDX37            8503 non-null   uint8  \n",
      " 1154  Item_Identifier_FDX38            8503 non-null   uint8  \n",
      " 1155  Item_Identifier_FDX39            8503 non-null   uint8  \n",
      " 1156  Item_Identifier_FDX40            8503 non-null   uint8  \n",
      " 1157  Item_Identifier_FDX43            8503 non-null   uint8  \n",
      " 1158  Item_Identifier_FDX44            8503 non-null   uint8  \n",
      " 1159  Item_Identifier_FDX45            8503 non-null   uint8  \n",
      " 1160  Item_Identifier_FDX46            8503 non-null   uint8  \n",
      " 1161  Item_Identifier_FDX47            8503 non-null   uint8  \n",
      " 1162  Item_Identifier_FDX48            8503 non-null   uint8  \n",
      " 1163  Item_Identifier_FDX49            8503 non-null   uint8  \n",
      " 1164  Item_Identifier_FDX50            8503 non-null   uint8  \n",
      " 1165  Item_Identifier_FDX51            8503 non-null   uint8  \n",
      " 1166  Item_Identifier_FDX52            8503 non-null   uint8  \n",
      " 1167  Item_Identifier_FDX55            8503 non-null   uint8  \n",
      " 1168  Item_Identifier_FDX56            8503 non-null   uint8  \n",
      " 1169  Item_Identifier_FDX57            8503 non-null   uint8  \n",
      " 1170  Item_Identifier_FDX58            8503 non-null   uint8  \n",
      " 1171  Item_Identifier_FDX59            8503 non-null   uint8  \n",
      " 1172  Item_Identifier_FDX60            8503 non-null   uint8  \n",
      " 1173  Item_Identifier_FDY01            8503 non-null   uint8  \n",
      " 1174  Item_Identifier_FDY02            8503 non-null   uint8  \n",
      " 1175  Item_Identifier_FDY03            8503 non-null   uint8  \n",
      " 1176  Item_Identifier_FDY04            8503 non-null   uint8  \n",
      " 1177  Item_Identifier_FDY07            8503 non-null   uint8  \n",
      " 1178  Item_Identifier_FDY08            8503 non-null   uint8  \n",
      " 1179  Item_Identifier_FDY09            8503 non-null   uint8  \n",
      " 1180  Item_Identifier_FDY10            8503 non-null   uint8  \n",
      " 1181  Item_Identifier_FDY11            8503 non-null   uint8  \n",
      " 1182  Item_Identifier_FDY12            8503 non-null   uint8  \n",
      " 1183  Item_Identifier_FDY13            8503 non-null   uint8  \n",
      " 1184  Item_Identifier_FDY14            8503 non-null   uint8  \n",
      " 1185  Item_Identifier_FDY15            8503 non-null   uint8  \n",
      " 1186  Item_Identifier_FDY16            8503 non-null   uint8  \n",
      " 1187  Item_Identifier_FDY19            8503 non-null   uint8  \n",
      " 1188  Item_Identifier_FDY20            8503 non-null   uint8  \n",
      " 1189  Item_Identifier_FDY21            8503 non-null   uint8  \n",
      " 1190  Item_Identifier_FDY22            8503 non-null   uint8  \n",
      " 1191  Item_Identifier_FDY24            8503 non-null   uint8  \n",
      " 1192  Item_Identifier_FDY25            8503 non-null   uint8  \n",
      " 1193  Item_Identifier_FDY26            8503 non-null   uint8  \n",
      " 1194  Item_Identifier_FDY27            8503 non-null   uint8  \n",
      " 1195  Item_Identifier_FDY28            8503 non-null   uint8  \n",
      " 1196  Item_Identifier_FDY31            8503 non-null   uint8  \n",
      " 1197  Item_Identifier_FDY32            8503 non-null   uint8  \n",
      " 1198  Item_Identifier_FDY33            8503 non-null   uint8  \n",
      " 1199  Item_Identifier_FDY34            8503 non-null   uint8  \n",
      " 1200  Item_Identifier_FDY35            8503 non-null   uint8  \n",
      " 1201  Item_Identifier_FDY36            8503 non-null   uint8  \n",
      " 1202  Item_Identifier_FDY37            8503 non-null   uint8  \n",
      " 1203  Item_Identifier_FDY38            8503 non-null   uint8  \n",
      " 1204  Item_Identifier_FDY39            8503 non-null   uint8  \n",
      " 1205  Item_Identifier_FDY40            8503 non-null   uint8  \n",
      " 1206  Item_Identifier_FDY43            8503 non-null   uint8  \n",
      " 1207  Item_Identifier_FDY44            8503 non-null   uint8  \n",
      " 1208  Item_Identifier_FDY45            8503 non-null   uint8  \n",
      " 1209  Item_Identifier_FDY46            8503 non-null   uint8  \n",
      " 1210  Item_Identifier_FDY47            8503 non-null   uint8  \n",
      " 1211  Item_Identifier_FDY48            8503 non-null   uint8  \n",
      " 1212  Item_Identifier_FDY49            8503 non-null   uint8  \n",
      " 1213  Item_Identifier_FDY50            8503 non-null   uint8  \n",
      " 1214  Item_Identifier_FDY51            8503 non-null   uint8  \n",
      " 1215  Item_Identifier_FDY52            8503 non-null   uint8  \n",
      " 1216  Item_Identifier_FDY55            8503 non-null   uint8  \n",
      " 1217  Item_Identifier_FDY56            8503 non-null   uint8  \n",
      " 1218  Item_Identifier_FDY57            8503 non-null   uint8  \n",
      " 1219  Item_Identifier_FDY58            8503 non-null   uint8  \n",
      " 1220  Item_Identifier_FDY59            8503 non-null   uint8  \n",
      " 1221  Item_Identifier_FDY60            8503 non-null   uint8  \n",
      " 1222  Item_Identifier_FDZ01            8503 non-null   uint8  \n",
      " 1223  Item_Identifier_FDZ02            8503 non-null   uint8  \n",
      " 1224  Item_Identifier_FDZ03            8503 non-null   uint8  \n",
      " 1225  Item_Identifier_FDZ04            8503 non-null   uint8  \n",
      " 1226  Item_Identifier_FDZ07            8503 non-null   uint8  \n",
      " 1227  Item_Identifier_FDZ08            8503 non-null   uint8  \n",
      " 1228  Item_Identifier_FDZ09            8503 non-null   uint8  \n",
      " 1229  Item_Identifier_FDZ10            8503 non-null   uint8  \n",
      " 1230  Item_Identifier_FDZ12            8503 non-null   uint8  \n",
      " 1231  Item_Identifier_FDZ13            8503 non-null   uint8  \n",
      " 1232  Item_Identifier_FDZ14            8503 non-null   uint8  \n",
      " 1233  Item_Identifier_FDZ15            8503 non-null   uint8  \n",
      " 1234  Item_Identifier_FDZ16            8503 non-null   uint8  \n",
      " 1235  Item_Identifier_FDZ19            8503 non-null   uint8  \n",
      " 1236  Item_Identifier_FDZ20            8503 non-null   uint8  \n",
      " 1237  Item_Identifier_FDZ21            8503 non-null   uint8  \n",
      " 1238  Item_Identifier_FDZ22            8503 non-null   uint8  \n",
      " 1239  Item_Identifier_FDZ23            8503 non-null   uint8  \n",
      " 1240  Item_Identifier_FDZ25            8503 non-null   uint8  \n",
      " 1241  Item_Identifier_FDZ26            8503 non-null   uint8  \n",
      " 1242  Item_Identifier_FDZ27            8503 non-null   uint8  \n",
      " 1243  Item_Identifier_FDZ28            8503 non-null   uint8  \n",
      " 1244  Item_Identifier_FDZ31            8503 non-null   uint8  \n",
      " 1245  Item_Identifier_FDZ32            8503 non-null   uint8  \n",
      " 1246  Item_Identifier_FDZ33            8503 non-null   uint8  \n",
      " 1247  Item_Identifier_FDZ34            8503 non-null   uint8  \n",
      " 1248  Item_Identifier_FDZ35            8503 non-null   uint8  \n",
      " 1249  Item_Identifier_FDZ36            8503 non-null   uint8  \n",
      " 1250  Item_Identifier_FDZ37            8503 non-null   uint8  \n",
      " 1251  Item_Identifier_FDZ38            8503 non-null   uint8  \n",
      " 1252  Item_Identifier_FDZ39            8503 non-null   uint8  \n",
      " 1253  Item_Identifier_FDZ40            8503 non-null   uint8  \n",
      " 1254  Item_Identifier_FDZ43            8503 non-null   uint8  \n",
      " 1255  Item_Identifier_FDZ44            8503 non-null   uint8  \n",
      " 1256  Item_Identifier_FDZ45            8503 non-null   uint8  \n",
      " 1257  Item_Identifier_FDZ46            8503 non-null   uint8  \n",
      " 1258  Item_Identifier_FDZ47            8503 non-null   uint8  \n",
      " 1259  Item_Identifier_FDZ48            8503 non-null   uint8  \n",
      " 1260  Item_Identifier_FDZ49            8503 non-null   uint8  \n",
      " 1261  Item_Identifier_FDZ50            8503 non-null   uint8  \n",
      " 1262  Item_Identifier_FDZ51            8503 non-null   uint8  \n",
      " 1263  Item_Identifier_FDZ52            8503 non-null   uint8  \n",
      " 1264  Item_Identifier_FDZ55            8503 non-null   uint8  \n",
      " 1265  Item_Identifier_FDZ56            8503 non-null   uint8  \n",
      " 1266  Item_Identifier_FDZ57            8503 non-null   uint8  \n",
      " 1267  Item_Identifier_FDZ58            8503 non-null   uint8  \n",
      " 1268  Item_Identifier_FDZ59            8503 non-null   uint8  \n",
      " 1269  Item_Identifier_FDZ60            8503 non-null   uint8  \n",
      " 1270  Item_Identifier_NCA05            8503 non-null   uint8  \n",
      " 1271  Item_Identifier_NCA06            8503 non-null   uint8  \n",
      " 1272  Item_Identifier_NCA17            8503 non-null   uint8  \n",
      " 1273  Item_Identifier_NCA18            8503 non-null   uint8  \n",
      " 1274  Item_Identifier_NCA29            8503 non-null   uint8  \n",
      " 1275  Item_Identifier_NCA30            8503 non-null   uint8  \n",
      " 1276  Item_Identifier_NCA41            8503 non-null   uint8  \n",
      " 1277  Item_Identifier_NCA42            8503 non-null   uint8  \n",
      " 1278  Item_Identifier_NCA53            8503 non-null   uint8  \n",
      " 1279  Item_Identifier_NCA54            8503 non-null   uint8  \n",
      " 1280  Item_Identifier_NCB06            8503 non-null   uint8  \n",
      " 1281  Item_Identifier_NCB07            8503 non-null   uint8  \n",
      " 1282  Item_Identifier_NCB18            8503 non-null   uint8  \n",
      " 1283  Item_Identifier_NCB19            8503 non-null   uint8  \n",
      " 1284  Item_Identifier_NCB30            8503 non-null   uint8  \n",
      " 1285  Item_Identifier_NCB31            8503 non-null   uint8  \n",
      " 1286  Item_Identifier_NCB42            8503 non-null   uint8  \n",
      " 1287  Item_Identifier_NCB43            8503 non-null   uint8  \n",
      " 1288  Item_Identifier_NCB54            8503 non-null   uint8  \n",
      " 1289  Item_Identifier_NCB55            8503 non-null   uint8  \n",
      " 1290  Item_Identifier_NCC06            8503 non-null   uint8  \n",
      " 1291  Item_Identifier_NCC07            8503 non-null   uint8  \n",
      " 1292  Item_Identifier_NCC18            8503 non-null   uint8  \n",
      " 1293  Item_Identifier_NCC19            8503 non-null   uint8  \n",
      " 1294  Item_Identifier_NCC30            8503 non-null   uint8  \n",
      " 1295  Item_Identifier_NCC31            8503 non-null   uint8  \n",
      " 1296  Item_Identifier_NCC42            8503 non-null   uint8  \n",
      " 1297  Item_Identifier_NCC43            8503 non-null   uint8  \n",
      " 1298  Item_Identifier_NCC54            8503 non-null   uint8  \n",
      " 1299  Item_Identifier_NCC55            8503 non-null   uint8  \n",
      " 1300  Item_Identifier_NCD06            8503 non-null   uint8  \n",
      " 1301  Item_Identifier_NCD07            8503 non-null   uint8  \n",
      " 1302  Item_Identifier_NCD18            8503 non-null   uint8  \n",
      " 1303  Item_Identifier_NCD19            8503 non-null   uint8  \n",
      " 1304  Item_Identifier_NCD30            8503 non-null   uint8  \n",
      " 1305  Item_Identifier_NCD31            8503 non-null   uint8  \n",
      " 1306  Item_Identifier_NCD42            8503 non-null   uint8  \n",
      " 1307  Item_Identifier_NCD43            8503 non-null   uint8  \n",
      " 1308  Item_Identifier_NCD54            8503 non-null   uint8  \n",
      " 1309  Item_Identifier_NCD55            8503 non-null   uint8  \n",
      " 1310  Item_Identifier_NCE06            8503 non-null   uint8  \n",
      " 1311  Item_Identifier_NCE07            8503 non-null   uint8  \n",
      " 1312  Item_Identifier_NCE18            8503 non-null   uint8  \n",
      " 1313  Item_Identifier_NCE19            8503 non-null   uint8  \n",
      " 1314  Item_Identifier_NCE30            8503 non-null   uint8  \n",
      " 1315  Item_Identifier_NCE31            8503 non-null   uint8  \n",
      " 1316  Item_Identifier_NCE42            8503 non-null   uint8  \n",
      " 1317  Item_Identifier_NCE43            8503 non-null   uint8  \n",
      " 1318  Item_Identifier_NCE54            8503 non-null   uint8  \n",
      " 1319  Item_Identifier_NCE55            8503 non-null   uint8  \n",
      " 1320  Item_Identifier_NCF06            8503 non-null   uint8  \n",
      " 1321  Item_Identifier_NCF07            8503 non-null   uint8  \n",
      " 1322  Item_Identifier_NCF18            8503 non-null   uint8  \n",
      " 1323  Item_Identifier_NCF19            8503 non-null   uint8  \n",
      " 1324  Item_Identifier_NCF30            8503 non-null   uint8  \n",
      " 1325  Item_Identifier_NCF31            8503 non-null   uint8  \n",
      " 1326  Item_Identifier_NCF42            8503 non-null   uint8  \n",
      " 1327  Item_Identifier_NCF43            8503 non-null   uint8  \n",
      " 1328  Item_Identifier_NCF54            8503 non-null   uint8  \n",
      " 1329  Item_Identifier_NCF55            8503 non-null   uint8  \n",
      " 1330  Item_Identifier_NCG06            8503 non-null   uint8  \n",
      " 1331  Item_Identifier_NCG07            8503 non-null   uint8  \n",
      " 1332  Item_Identifier_NCG18            8503 non-null   uint8  \n",
      " 1333  Item_Identifier_NCG19            8503 non-null   uint8  \n",
      " 1334  Item_Identifier_NCG30            8503 non-null   uint8  \n",
      " 1335  Item_Identifier_NCG42            8503 non-null   uint8  \n",
      " 1336  Item_Identifier_NCG43            8503 non-null   uint8  \n",
      " 1337  Item_Identifier_NCG54            8503 non-null   uint8  \n",
      " 1338  Item_Identifier_NCG55            8503 non-null   uint8  \n",
      " 1339  Item_Identifier_NCH06            8503 non-null   uint8  \n",
      " 1340  Item_Identifier_NCH07            8503 non-null   uint8  \n",
      " 1341  Item_Identifier_NCH18            8503 non-null   uint8  \n",
      " 1342  Item_Identifier_NCH29            8503 non-null   uint8  \n",
      " 1343  Item_Identifier_NCH30            8503 non-null   uint8  \n",
      " 1344  Item_Identifier_NCH42            8503 non-null   uint8  \n",
      " 1345  Item_Identifier_NCH43            8503 non-null   uint8  \n",
      " 1346  Item_Identifier_NCH54            8503 non-null   uint8  \n",
      " 1347  Item_Identifier_NCH55            8503 non-null   uint8  \n",
      " 1348  Item_Identifier_NCI06            8503 non-null   uint8  \n",
      " 1349  Item_Identifier_NCI17            8503 non-null   uint8  \n",
      " 1350  Item_Identifier_NCI18            8503 non-null   uint8  \n",
      " 1351  Item_Identifier_NCI29            8503 non-null   uint8  \n",
      " 1352  Item_Identifier_NCI30            8503 non-null   uint8  \n",
      " 1353  Item_Identifier_NCI31            8503 non-null   uint8  \n",
      " 1354  Item_Identifier_NCI42            8503 non-null   uint8  \n",
      " 1355  Item_Identifier_NCI43            8503 non-null   uint8  \n",
      " 1356  Item_Identifier_NCI54            8503 non-null   uint8  \n",
      " 1357  Item_Identifier_NCI55            8503 non-null   uint8  \n",
      " 1358  Item_Identifier_NCJ05            8503 non-null   uint8  \n",
      " 1359  Item_Identifier_NCJ06            8503 non-null   uint8  \n",
      " 1360  Item_Identifier_NCJ17            8503 non-null   uint8  \n",
      " 1361  Item_Identifier_NCJ18            8503 non-null   uint8  \n",
      " 1362  Item_Identifier_NCJ19            8503 non-null   uint8  \n",
      " 1363  Item_Identifier_NCJ29            8503 non-null   uint8  \n",
      " 1364  Item_Identifier_NCJ30            8503 non-null   uint8  \n",
      " 1365  Item_Identifier_NCJ31            8503 non-null   uint8  \n",
      " 1366  Item_Identifier_NCJ42            8503 non-null   uint8  \n",
      " 1367  Item_Identifier_NCJ43            8503 non-null   uint8  \n",
      " 1368  Item_Identifier_NCJ54            8503 non-null   uint8  \n",
      " 1369  Item_Identifier_NCK05            8503 non-null   uint8  \n",
      " 1370  Item_Identifier_NCK06            8503 non-null   uint8  \n",
      " 1371  Item_Identifier_NCK07            8503 non-null   uint8  \n",
      " 1372  Item_Identifier_NCK17            8503 non-null   uint8  \n",
      " 1373  Item_Identifier_NCK18            8503 non-null   uint8  \n",
      " 1374  Item_Identifier_NCK19            8503 non-null   uint8  \n",
      " 1375  Item_Identifier_NCK29            8503 non-null   uint8  \n",
      " 1376  Item_Identifier_NCK30            8503 non-null   uint8  \n",
      " 1377  Item_Identifier_NCK31            8503 non-null   uint8  \n",
      " 1378  Item_Identifier_NCK42            8503 non-null   uint8  \n",
      " 1379  Item_Identifier_NCK53            8503 non-null   uint8  \n",
      " 1380  Item_Identifier_NCK54            8503 non-null   uint8  \n",
      " 1381  Item_Identifier_NCL05            8503 non-null   uint8  \n",
      " 1382  Item_Identifier_NCL06            8503 non-null   uint8  \n",
      " 1383  Item_Identifier_NCL07            8503 non-null   uint8  \n",
      " 1384  Item_Identifier_NCL17            8503 non-null   uint8  \n",
      " 1385  Item_Identifier_NCL18            8503 non-null   uint8  \n",
      " 1386  Item_Identifier_NCL19            8503 non-null   uint8  \n",
      " 1387  Item_Identifier_NCL29            8503 non-null   uint8  \n",
      " 1388  Item_Identifier_NCL30            8503 non-null   uint8  \n",
      " 1389  Item_Identifier_NCL31            8503 non-null   uint8  \n",
      " 1390  Item_Identifier_NCL41            8503 non-null   uint8  \n",
      " 1391  Item_Identifier_NCL42            8503 non-null   uint8  \n",
      " 1392  Item_Identifier_NCL53            8503 non-null   uint8  \n",
      " 1393  Item_Identifier_NCL54            8503 non-null   uint8  \n",
      " 1394  Item_Identifier_NCL55            8503 non-null   uint8  \n",
      " 1395  Item_Identifier_NCM05            8503 non-null   uint8  \n",
      " 1396  Item_Identifier_NCM06            8503 non-null   uint8  \n",
      " 1397  Item_Identifier_NCM07            8503 non-null   uint8  \n",
      " 1398  Item_Identifier_NCM17            8503 non-null   uint8  \n",
      " 1399  Item_Identifier_NCM18            8503 non-null   uint8  \n",
      " 1400  Item_Identifier_NCM19            8503 non-null   uint8  \n",
      " 1401  Item_Identifier_NCM26            8503 non-null   uint8  \n",
      " 1402  Item_Identifier_NCM29            8503 non-null   uint8  \n",
      " 1403  Item_Identifier_NCM30            8503 non-null   uint8  \n",
      " 1404  Item_Identifier_NCM31            8503 non-null   uint8  \n",
      " 1405  Item_Identifier_NCM41            8503 non-null   uint8  \n",
      " 1406  Item_Identifier_NCM42            8503 non-null   uint8  \n",
      " 1407  Item_Identifier_NCM43            8503 non-null   uint8  \n",
      " 1408  Item_Identifier_NCM53            8503 non-null   uint8  \n",
      " 1409  Item_Identifier_NCM54            8503 non-null   uint8  \n",
      " 1410  Item_Identifier_NCM55            8503 non-null   uint8  \n",
      " 1411  Item_Identifier_NCN05            8503 non-null   uint8  \n",
      " 1412  Item_Identifier_NCN06            8503 non-null   uint8  \n",
      " 1413  Item_Identifier_NCN07            8503 non-null   uint8  \n",
      " 1414  Item_Identifier_NCN14            8503 non-null   uint8  \n",
      " 1415  Item_Identifier_NCN17            8503 non-null   uint8  \n",
      " 1416  Item_Identifier_NCN18            8503 non-null   uint8  \n",
      " 1417  Item_Identifier_NCN19            8503 non-null   uint8  \n",
      " 1418  Item_Identifier_NCN26            8503 non-null   uint8  \n",
      " 1419  Item_Identifier_NCN29            8503 non-null   uint8  \n",
      " 1420  Item_Identifier_NCN30            8503 non-null   uint8  \n",
      " 1421  Item_Identifier_NCN41            8503 non-null   uint8  \n",
      " 1422  Item_Identifier_NCN42            8503 non-null   uint8  \n",
      " 1423  Item_Identifier_NCN43            8503 non-null   uint8  \n",
      " 1424  Item_Identifier_NCN53            8503 non-null   uint8  \n",
      " 1425  Item_Identifier_NCN54            8503 non-null   uint8  \n",
      " 1426  Item_Identifier_NCN55            8503 non-null   uint8  \n",
      " 1427  Item_Identifier_NCO02            8503 non-null   uint8  \n",
      " 1428  Item_Identifier_NCO05            8503 non-null   uint8  \n",
      " 1429  Item_Identifier_NCO06            8503 non-null   uint8  \n",
      " 1430  Item_Identifier_NCO07            8503 non-null   uint8  \n",
      " 1431  Item_Identifier_NCO14            8503 non-null   uint8  \n",
      " 1432  Item_Identifier_NCO17            8503 non-null   uint8  \n",
      " 1433  Item_Identifier_NCO18            8503 non-null   uint8  \n",
      " 1434  Item_Identifier_NCO26            8503 non-null   uint8  \n",
      " 1435  Item_Identifier_NCO29            8503 non-null   uint8  \n",
      " 1436  Item_Identifier_NCO30            8503 non-null   uint8  \n",
      " 1437  Item_Identifier_NCO41            8503 non-null   uint8  \n",
      " 1438  Item_Identifier_NCO42            8503 non-null   uint8  \n",
      " 1439  Item_Identifier_NCO43            8503 non-null   uint8  \n",
      " 1440  Item_Identifier_NCO53            8503 non-null   uint8  \n",
      " 1441  Item_Identifier_NCO54            8503 non-null   uint8  \n",
      " 1442  Item_Identifier_NCO55            8503 non-null   uint8  \n",
      " 1443  Item_Identifier_NCP02            8503 non-null   uint8  \n",
      " 1444  Item_Identifier_NCP05            8503 non-null   uint8  \n",
      " 1445  Item_Identifier_NCP06            8503 non-null   uint8  \n",
      " 1446  Item_Identifier_NCP14            8503 non-null   uint8  \n",
      " 1447  Item_Identifier_NCP17            8503 non-null   uint8  \n",
      " 1448  Item_Identifier_NCP18            8503 non-null   uint8  \n",
      " 1449  Item_Identifier_NCP29            8503 non-null   uint8  \n",
      " 1450  Item_Identifier_NCP30            8503 non-null   uint8  \n",
      " 1451  Item_Identifier_NCP41            8503 non-null   uint8  \n",
      " 1452  Item_Identifier_NCP42            8503 non-null   uint8  \n",
      " 1453  Item_Identifier_NCP43            8503 non-null   uint8  \n",
      " 1454  Item_Identifier_NCP50            8503 non-null   uint8  \n",
      " 1455  Item_Identifier_NCP53            8503 non-null   uint8  \n",
      " 1456  Item_Identifier_NCP54            8503 non-null   uint8  \n",
      " 1457  Item_Identifier_NCP55            8503 non-null   uint8  \n",
      " 1458  Item_Identifier_NCQ02            8503 non-null   uint8  \n",
      " 1459  Item_Identifier_NCQ05            8503 non-null   uint8  \n",
      " 1460  Item_Identifier_NCQ06            8503 non-null   uint8  \n",
      " 1461  Item_Identifier_NCQ17            8503 non-null   uint8  \n",
      " 1462  Item_Identifier_NCQ18            8503 non-null   uint8  \n",
      " 1463  Item_Identifier_NCQ29            8503 non-null   uint8  \n",
      " 1464  Item_Identifier_NCQ30            8503 non-null   uint8  \n",
      " 1465  Item_Identifier_NCQ38            8503 non-null   uint8  \n",
      " 1466  Item_Identifier_NCQ41            8503 non-null   uint8  \n",
      " 1467  Item_Identifier_NCQ42            8503 non-null   uint8  \n",
      " 1468  Item_Identifier_NCQ43            8503 non-null   uint8  \n",
      " 1469  Item_Identifier_NCQ50            8503 non-null   uint8  \n",
      " 1470  Item_Identifier_NCQ53            8503 non-null   uint8  \n",
      " 1471  Item_Identifier_NCQ54            8503 non-null   uint8  \n",
      " 1472  Item_Identifier_NCR05            8503 non-null   uint8  \n",
      " 1473  Item_Identifier_NCR06            8503 non-null   uint8  \n",
      " 1474  Item_Identifier_NCR17            8503 non-null   uint8  \n",
      " 1475  Item_Identifier_NCR18            8503 non-null   uint8  \n",
      " 1476  Item_Identifier_NCR29            8503 non-null   uint8  \n",
      " 1477  Item_Identifier_NCR30            8503 non-null   uint8  \n",
      " 1478  Item_Identifier_NCR38            8503 non-null   uint8  \n",
      " 1479  Item_Identifier_NCR41            8503 non-null   uint8  \n",
      " 1480  Item_Identifier_NCR42            8503 non-null   uint8  \n",
      " 1481  Item_Identifier_NCR50            8503 non-null   uint8  \n",
      " 1482  Item_Identifier_NCR53            8503 non-null   uint8  \n",
      " 1483  Item_Identifier_NCR54            8503 non-null   uint8  \n",
      " 1484  Item_Identifier_NCS05            8503 non-null   uint8  \n",
      " 1485  Item_Identifier_NCS06            8503 non-null   uint8  \n",
      " 1486  Item_Identifier_NCS17            8503 non-null   uint8  \n",
      " 1487  Item_Identifier_NCS18            8503 non-null   uint8  \n",
      " 1488  Item_Identifier_NCS29            8503 non-null   uint8  \n",
      " 1489  Item_Identifier_NCS30            8503 non-null   uint8  \n",
      " 1490  Item_Identifier_NCS38            8503 non-null   uint8  \n",
      " 1491  Item_Identifier_NCS41            8503 non-null   uint8  \n",
      " 1492  Item_Identifier_NCS42            8503 non-null   uint8  \n",
      " 1493  Item_Identifier_NCS53            8503 non-null   uint8  \n",
      " 1494  Item_Identifier_NCS54            8503 non-null   uint8  \n",
      " 1495  Item_Identifier_NCT05            8503 non-null   uint8  \n",
      " 1496  Item_Identifier_NCT06            8503 non-null   uint8  \n",
      " 1497  Item_Identifier_NCT17            8503 non-null   uint8  \n",
      " 1498  Item_Identifier_NCT18            8503 non-null   uint8  \n",
      " 1499  Item_Identifier_NCT29            8503 non-null   uint8  \n",
      " 1500  Item_Identifier_NCT30            8503 non-null   uint8  \n",
      " 1501  Item_Identifier_NCT41            8503 non-null   uint8  \n",
      " 1502  Item_Identifier_NCT42            8503 non-null   uint8  \n",
      " 1503  Item_Identifier_NCT53            8503 non-null   uint8  \n",
      " 1504  Item_Identifier_NCT54            8503 non-null   uint8  \n",
      " 1505  Item_Identifier_NCU05            8503 non-null   uint8  \n",
      " 1506  Item_Identifier_NCU06            8503 non-null   uint8  \n",
      " 1507  Item_Identifier_NCU17            8503 non-null   uint8  \n",
      " 1508  Item_Identifier_NCU18            8503 non-null   uint8  \n",
      " 1509  Item_Identifier_NCU29            8503 non-null   uint8  \n",
      " 1510  Item_Identifier_NCU30            8503 non-null   uint8  \n",
      " 1511  Item_Identifier_NCU41            8503 non-null   uint8  \n",
      " 1512  Item_Identifier_NCU42            8503 non-null   uint8  \n",
      " 1513  Item_Identifier_NCU53            8503 non-null   uint8  \n",
      " 1514  Item_Identifier_NCU54            8503 non-null   uint8  \n",
      " 1515  Item_Identifier_NCV05            8503 non-null   uint8  \n",
      " 1516  Item_Identifier_NCV06            8503 non-null   uint8  \n",
      " 1517  Item_Identifier_NCV17            8503 non-null   uint8  \n",
      " 1518  Item_Identifier_NCV18            8503 non-null   uint8  \n",
      " 1519  Item_Identifier_NCV29            8503 non-null   uint8  \n",
      " 1520  Item_Identifier_NCV30            8503 non-null   uint8  \n",
      " 1521  Item_Identifier_NCV41            8503 non-null   uint8  \n",
      " 1522  Item_Identifier_NCV42            8503 non-null   uint8  \n",
      " 1523  Item_Identifier_NCV53            8503 non-null   uint8  \n",
      " 1524  Item_Identifier_NCV54            8503 non-null   uint8  \n",
      " 1525  Item_Identifier_NCW05            8503 non-null   uint8  \n",
      " 1526  Item_Identifier_NCW06            8503 non-null   uint8  \n",
      " 1527  Item_Identifier_NCW17            8503 non-null   uint8  \n",
      " 1528  Item_Identifier_NCW18            8503 non-null   uint8  \n",
      " 1529  Item_Identifier_NCW29            8503 non-null   uint8  \n",
      " 1530  Item_Identifier_NCW30            8503 non-null   uint8  \n",
      " 1531  Item_Identifier_NCW41            8503 non-null   uint8  \n",
      " 1532  Item_Identifier_NCW42            8503 non-null   uint8  \n",
      " 1533  Item_Identifier_NCW53            8503 non-null   uint8  \n",
      " 1534  Item_Identifier_NCW54            8503 non-null   uint8  \n",
      " 1535  Item_Identifier_NCX05            8503 non-null   uint8  \n",
      " 1536  Item_Identifier_NCX06            8503 non-null   uint8  \n",
      " 1537  Item_Identifier_NCX17            8503 non-null   uint8  \n",
      " 1538  Item_Identifier_NCX18            8503 non-null   uint8  \n",
      " 1539  Item_Identifier_NCX29            8503 non-null   uint8  \n",
      " 1540  Item_Identifier_NCX30            8503 non-null   uint8  \n",
      " 1541  Item_Identifier_NCX41            8503 non-null   uint8  \n",
      " 1542  Item_Identifier_NCX42            8503 non-null   uint8  \n",
      " 1543  Item_Identifier_NCX53            8503 non-null   uint8  \n",
      " 1544  Item_Identifier_NCX54            8503 non-null   uint8  \n",
      " 1545  Item_Identifier_NCY05            8503 non-null   uint8  \n",
      " 1546  Item_Identifier_NCY06            8503 non-null   uint8  \n",
      " 1547  Item_Identifier_NCY17            8503 non-null   uint8  \n",
      " 1548  Item_Identifier_NCY18            8503 non-null   uint8  \n",
      " 1549  Item_Identifier_NCY29            8503 non-null   uint8  \n",
      " 1550  Item_Identifier_NCY30            8503 non-null   uint8  \n",
      " 1551  Item_Identifier_NCY41            8503 non-null   uint8  \n",
      " 1552  Item_Identifier_NCY42            8503 non-null   uint8  \n",
      " 1553  Item_Identifier_NCY53            8503 non-null   uint8  \n",
      " 1554  Item_Identifier_NCY54            8503 non-null   uint8  \n",
      " 1555  Item_Identifier_NCZ05            8503 non-null   uint8  \n",
      " 1556  Item_Identifier_NCZ06            8503 non-null   uint8  \n",
      " 1557  Item_Identifier_NCZ17            8503 non-null   uint8  \n",
      " 1558  Item_Identifier_NCZ18            8503 non-null   uint8  \n",
      " 1559  Item_Identifier_NCZ29            8503 non-null   uint8  \n",
      " 1560  Item_Identifier_NCZ30            8503 non-null   uint8  \n",
      " 1561  Item_Identifier_NCZ41            8503 non-null   uint8  \n",
      " 1562  Item_Identifier_NCZ42            8503 non-null   uint8  \n",
      " 1563  Item_Identifier_NCZ53            8503 non-null   uint8  \n",
      " 1564  Item_Identifier_NCZ54            8503 non-null   uint8  \n",
      " 1565  Item_Type_Baking Goods           8503 non-null   uint8  \n",
      " 1566  Item_Type_Breads                 8503 non-null   uint8  \n",
      " 1567  Item_Type_Breakfast              8503 non-null   uint8  \n",
      " 1568  Item_Type_Canned                 8503 non-null   uint8  \n",
      " 1569  Item_Type_Dairy                  8503 non-null   uint8  \n",
      " 1570  Item_Type_Frozen Foods           8503 non-null   uint8  \n",
      " 1571  Item_Type_Fruits and Vegetables  8503 non-null   uint8  \n",
      " 1572  Item_Type_Hard Drinks            8503 non-null   uint8  \n",
      " 1573  Item_Type_Health and Hygiene     8503 non-null   uint8  \n",
      " 1574  Item_Type_Household              8503 non-null   uint8  \n",
      " 1575  Item_Type_Meat                   8503 non-null   uint8  \n",
      " 1576  Item_Type_Others                 8503 non-null   uint8  \n",
      " 1577  Item_Type_Seafood                8503 non-null   uint8  \n",
      " 1578  Item_Type_Snack Foods            8503 non-null   uint8  \n",
      " 1579  Item_Type_Soft Drinks            8503 non-null   uint8  \n",
      " 1580  Item_Type_Starchy Foods          8503 non-null   uint8  \n",
      " 1581  Outlet_Identifier_OUT010         8503 non-null   uint8  \n",
      " 1582  Outlet_Identifier_OUT013         8503 non-null   uint8  \n",
      " 1583  Outlet_Identifier_OUT017         8503 non-null   uint8  \n",
      " 1584  Outlet_Identifier_OUT018         8503 non-null   uint8  \n",
      " 1585  Outlet_Identifier_OUT019         8503 non-null   uint8  \n",
      " 1586  Outlet_Identifier_OUT027         8503 non-null   uint8  \n",
      " 1587  Outlet_Identifier_OUT035         8503 non-null   uint8  \n",
      " 1588  Outlet_Identifier_OUT045         8503 non-null   uint8  \n",
      " 1589  Outlet_Identifier_OUT046         8503 non-null   uint8  \n",
      " 1590  Outlet_Identifier_OUT049         8503 non-null   uint8  \n",
      " 1591  Outlet_Location_Type_Tier 1      8503 non-null   uint8  \n",
      " 1592  Outlet_Location_Type_Tier 2      8503 non-null   uint8  \n",
      " 1593  Outlet_Location_Type_Tier 3      8503 non-null   uint8  \n",
      " 1594  Outlet_Type_Grocery Store        8503 non-null   uint8  \n",
      " 1595  Outlet_Type_Supermarket Type1    8503 non-null   uint8  \n",
      " 1596  Outlet_Type_Supermarket Type2    8503 non-null   uint8  \n",
      " 1597  Outlet_Type_Supermarket Type3    8503 non-null   uint8  \n",
      "dtypes: float64(3), int32(2), int64(1), uint8(1592)\n",
      "memory usage: 13.3 MB\n"
     ]
    }
   ],
   "source": [
    "x.info(verbose=True, show_counts=True)"
   ]
  },
  {
   "cell_type": "code",
   "execution_count": 125,
   "id": "e0ce15d9",
   "metadata": {},
   "outputs": [
    {
     "name": "stdout",
     "output_type": "stream",
     "text": [
      "<class 'pandas.core.frame.DataFrame'>\n",
      "Int64Index: 8503 entries, 0 to 8522\n",
      "Columns: 1598 entries, Item_Weight to Outlet_Type_Supermarket Type3\n",
      "dtypes: float64(3), int32(2), int64(1), uint8(1592)\n",
      "memory usage: 13.3 MB\n"
     ]
    }
   ],
   "source": [
    "x.info()"
   ]
  },
  {
   "cell_type": "code",
   "execution_count": 126,
   "id": "816fd608",
   "metadata": {},
   "outputs": [
    {
     "name": "stdout",
     "output_type": "stream",
     "text": [
      "<class 'pandas.core.frame.DataFrame'>\n",
      "Int64Index: 5661 entries, 0 to 5680\n",
      "Data columns (total 11 columns):\n",
      " #   Column                     Non-Null Count  Dtype  \n",
      "---  ------                     --------------  -----  \n",
      " 0   Item_Identifier            5661 non-null   object \n",
      " 1   Item_Weight                5661 non-null   float64\n",
      " 2   Item_Fat_Content           5661 non-null   object \n",
      " 3   Item_Visibility            5661 non-null   float64\n",
      " 4   Item_Type                  5661 non-null   object \n",
      " 5   Item_MRP                   5661 non-null   float64\n",
      " 6   Outlet_Identifier          5661 non-null   object \n",
      " 7   Outlet_Establishment_Year  5661 non-null   int64  \n",
      " 8   Outlet_Size                5661 non-null   object \n",
      " 9   Outlet_Location_Type       5661 non-null   object \n",
      " 10  Outlet_Type                5661 non-null   object \n",
      "dtypes: float64(3), int64(1), object(7)\n",
      "memory usage: 530.7+ KB\n"
     ]
    }
   ],
   "source": [
    "data_test.info()"
   ]
  },
  {
   "cell_type": "code",
   "execution_count": 127,
   "id": "a13994bc",
   "metadata": {},
   "outputs": [
    {
     "data": {
      "text/plain": [
       "(5661, 11)"
      ]
     },
     "execution_count": 127,
     "metadata": {},
     "output_type": "execute_result"
    }
   ],
   "source": [
    "data_test.shape"
   ]
  },
  {
   "cell_type": "code",
   "execution_count": 128,
   "id": "fa2a9d5a",
   "metadata": {},
   "outputs": [],
   "source": [
    "data_test[\"Item_Fat_Content\"] = le.fit_transform(data_test['Item_Fat_Content'])\n",
    "data_test[\"Outlet_Size\"] = le.fit_transform(data_test['Outlet_Size'])"
   ]
  },
  {
   "cell_type": "code",
   "execution_count": 129,
   "id": "e8db7ff7",
   "metadata": {},
   "outputs": [],
   "source": [
    "# one hot encoding\n",
    "data_test = pd.get_dummies(data_test)"
   ]
  },
  {
   "cell_type": "code",
   "execution_count": 130,
   "id": "c8170ec6",
   "metadata": {},
   "outputs": [
    {
     "data": {
      "text/html": [
       "<div>\n",
       "<style scoped>\n",
       "    .dataframe tbody tr th:only-of-type {\n",
       "        vertical-align: middle;\n",
       "    }\n",
       "\n",
       "    .dataframe tbody tr th {\n",
       "        vertical-align: top;\n",
       "    }\n",
       "\n",
       "    .dataframe thead th {\n",
       "        text-align: right;\n",
       "    }\n",
       "</style>\n",
       "<table border=\"1\" class=\"dataframe\">\n",
       "  <thead>\n",
       "    <tr style=\"text-align: right;\">\n",
       "      <th></th>\n",
       "      <th>Item_Weight</th>\n",
       "      <th>Item_Fat_Content</th>\n",
       "      <th>Item_Visibility</th>\n",
       "      <th>Item_MRP</th>\n",
       "      <th>Outlet_Establishment_Year</th>\n",
       "      <th>Outlet_Size</th>\n",
       "      <th>Item_Identifier_DRA12</th>\n",
       "      <th>Item_Identifier_DRA24</th>\n",
       "      <th>Item_Identifier_DRA59</th>\n",
       "      <th>Item_Identifier_DRB01</th>\n",
       "      <th>...</th>\n",
       "      <th>Outlet_Identifier_OUT045</th>\n",
       "      <th>Outlet_Identifier_OUT046</th>\n",
       "      <th>Outlet_Identifier_OUT049</th>\n",
       "      <th>Outlet_Location_Type_Tier 1</th>\n",
       "      <th>Outlet_Location_Type_Tier 2</th>\n",
       "      <th>Outlet_Location_Type_Tier 3</th>\n",
       "      <th>Outlet_Type_Grocery Store</th>\n",
       "      <th>Outlet_Type_Supermarket Type1</th>\n",
       "      <th>Outlet_Type_Supermarket Type2</th>\n",
       "      <th>Outlet_Type_Supermarket Type3</th>\n",
       "    </tr>\n",
       "  </thead>\n",
       "  <tbody>\n",
       "    <tr>\n",
       "      <th>0</th>\n",
       "      <td>20.750000</td>\n",
       "      <td>0</td>\n",
       "      <td>0.007565</td>\n",
       "      <td>107.8622</td>\n",
       "      <td>1999</td>\n",
       "      <td>1</td>\n",
       "      <td>0</td>\n",
       "      <td>0</td>\n",
       "      <td>0</td>\n",
       "      <td>0</td>\n",
       "      <td>...</td>\n",
       "      <td>0</td>\n",
       "      <td>0</td>\n",
       "      <td>1</td>\n",
       "      <td>1</td>\n",
       "      <td>0</td>\n",
       "      <td>0</td>\n",
       "      <td>0</td>\n",
       "      <td>1</td>\n",
       "      <td>0</td>\n",
       "      <td>0</td>\n",
       "    </tr>\n",
       "    <tr>\n",
       "      <th>1</th>\n",
       "      <td>8.300000</td>\n",
       "      <td>2</td>\n",
       "      <td>0.038428</td>\n",
       "      <td>87.3198</td>\n",
       "      <td>2007</td>\n",
       "      <td>1</td>\n",
       "      <td>0</td>\n",
       "      <td>0</td>\n",
       "      <td>0</td>\n",
       "      <td>0</td>\n",
       "      <td>...</td>\n",
       "      <td>0</td>\n",
       "      <td>0</td>\n",
       "      <td>0</td>\n",
       "      <td>0</td>\n",
       "      <td>1</td>\n",
       "      <td>0</td>\n",
       "      <td>0</td>\n",
       "      <td>1</td>\n",
       "      <td>0</td>\n",
       "      <td>0</td>\n",
       "    </tr>\n",
       "    <tr>\n",
       "      <th>2</th>\n",
       "      <td>14.600000</td>\n",
       "      <td>0</td>\n",
       "      <td>0.099575</td>\n",
       "      <td>241.7538</td>\n",
       "      <td>1998</td>\n",
       "      <td>1</td>\n",
       "      <td>0</td>\n",
       "      <td>0</td>\n",
       "      <td>0</td>\n",
       "      <td>0</td>\n",
       "      <td>...</td>\n",
       "      <td>0</td>\n",
       "      <td>0</td>\n",
       "      <td>0</td>\n",
       "      <td>0</td>\n",
       "      <td>0</td>\n",
       "      <td>1</td>\n",
       "      <td>1</td>\n",
       "      <td>0</td>\n",
       "      <td>0</td>\n",
       "      <td>0</td>\n",
       "    </tr>\n",
       "    <tr>\n",
       "      <th>3</th>\n",
       "      <td>7.315000</td>\n",
       "      <td>0</td>\n",
       "      <td>0.015388</td>\n",
       "      <td>155.0340</td>\n",
       "      <td>2007</td>\n",
       "      <td>1</td>\n",
       "      <td>0</td>\n",
       "      <td>0</td>\n",
       "      <td>0</td>\n",
       "      <td>0</td>\n",
       "      <td>...</td>\n",
       "      <td>0</td>\n",
       "      <td>0</td>\n",
       "      <td>0</td>\n",
       "      <td>0</td>\n",
       "      <td>1</td>\n",
       "      <td>0</td>\n",
       "      <td>0</td>\n",
       "      <td>1</td>\n",
       "      <td>0</td>\n",
       "      <td>0</td>\n",
       "    </tr>\n",
       "    <tr>\n",
       "      <th>4</th>\n",
       "      <td>12.695633</td>\n",
       "      <td>1</td>\n",
       "      <td>0.118599</td>\n",
       "      <td>234.2300</td>\n",
       "      <td>1985</td>\n",
       "      <td>1</td>\n",
       "      <td>0</td>\n",
       "      <td>0</td>\n",
       "      <td>0</td>\n",
       "      <td>0</td>\n",
       "      <td>...</td>\n",
       "      <td>0</td>\n",
       "      <td>0</td>\n",
       "      <td>0</td>\n",
       "      <td>0</td>\n",
       "      <td>0</td>\n",
       "      <td>1</td>\n",
       "      <td>0</td>\n",
       "      <td>0</td>\n",
       "      <td>0</td>\n",
       "      <td>1</td>\n",
       "    </tr>\n",
       "    <tr>\n",
       "      <th>...</th>\n",
       "      <td>...</td>\n",
       "      <td>...</td>\n",
       "      <td>...</td>\n",
       "      <td>...</td>\n",
       "      <td>...</td>\n",
       "      <td>...</td>\n",
       "      <td>...</td>\n",
       "      <td>...</td>\n",
       "      <td>...</td>\n",
       "      <td>...</td>\n",
       "      <td>...</td>\n",
       "      <td>...</td>\n",
       "      <td>...</td>\n",
       "      <td>...</td>\n",
       "      <td>...</td>\n",
       "      <td>...</td>\n",
       "      <td>...</td>\n",
       "      <td>...</td>\n",
       "      <td>...</td>\n",
       "      <td>...</td>\n",
       "      <td>...</td>\n",
       "    </tr>\n",
       "    <tr>\n",
       "      <th>5676</th>\n",
       "      <td>10.500000</td>\n",
       "      <td>1</td>\n",
       "      <td>0.013496</td>\n",
       "      <td>141.3154</td>\n",
       "      <td>1997</td>\n",
       "      <td>2</td>\n",
       "      <td>0</td>\n",
       "      <td>0</td>\n",
       "      <td>0</td>\n",
       "      <td>0</td>\n",
       "      <td>...</td>\n",
       "      <td>0</td>\n",
       "      <td>1</td>\n",
       "      <td>0</td>\n",
       "      <td>1</td>\n",
       "      <td>0</td>\n",
       "      <td>0</td>\n",
       "      <td>0</td>\n",
       "      <td>1</td>\n",
       "      <td>0</td>\n",
       "      <td>0</td>\n",
       "    </tr>\n",
       "    <tr>\n",
       "      <th>5677</th>\n",
       "      <td>7.600000</td>\n",
       "      <td>1</td>\n",
       "      <td>0.142991</td>\n",
       "      <td>169.1448</td>\n",
       "      <td>2009</td>\n",
       "      <td>1</td>\n",
       "      <td>0</td>\n",
       "      <td>0</td>\n",
       "      <td>0</td>\n",
       "      <td>0</td>\n",
       "      <td>...</td>\n",
       "      <td>0</td>\n",
       "      <td>0</td>\n",
       "      <td>0</td>\n",
       "      <td>0</td>\n",
       "      <td>0</td>\n",
       "      <td>1</td>\n",
       "      <td>0</td>\n",
       "      <td>0</td>\n",
       "      <td>1</td>\n",
       "      <td>0</td>\n",
       "    </tr>\n",
       "    <tr>\n",
       "      <th>5678</th>\n",
       "      <td>10.000000</td>\n",
       "      <td>0</td>\n",
       "      <td>0.073529</td>\n",
       "      <td>118.7440</td>\n",
       "      <td>2002</td>\n",
       "      <td>1</td>\n",
       "      <td>0</td>\n",
       "      <td>0</td>\n",
       "      <td>0</td>\n",
       "      <td>0</td>\n",
       "      <td>...</td>\n",
       "      <td>1</td>\n",
       "      <td>0</td>\n",
       "      <td>0</td>\n",
       "      <td>0</td>\n",
       "      <td>1</td>\n",
       "      <td>0</td>\n",
       "      <td>0</td>\n",
       "      <td>1</td>\n",
       "      <td>0</td>\n",
       "      <td>0</td>\n",
       "    </tr>\n",
       "    <tr>\n",
       "      <th>5679</th>\n",
       "      <td>15.300000</td>\n",
       "      <td>1</td>\n",
       "      <td>0.000000</td>\n",
       "      <td>214.6218</td>\n",
       "      <td>2007</td>\n",
       "      <td>1</td>\n",
       "      <td>0</td>\n",
       "      <td>0</td>\n",
       "      <td>0</td>\n",
       "      <td>0</td>\n",
       "      <td>...</td>\n",
       "      <td>0</td>\n",
       "      <td>0</td>\n",
       "      <td>0</td>\n",
       "      <td>0</td>\n",
       "      <td>1</td>\n",
       "      <td>0</td>\n",
       "      <td>0</td>\n",
       "      <td>1</td>\n",
       "      <td>0</td>\n",
       "      <td>0</td>\n",
       "    </tr>\n",
       "    <tr>\n",
       "      <th>5680</th>\n",
       "      <td>9.500000</td>\n",
       "      <td>1</td>\n",
       "      <td>0.104720</td>\n",
       "      <td>79.7960</td>\n",
       "      <td>2002</td>\n",
       "      <td>1</td>\n",
       "      <td>0</td>\n",
       "      <td>0</td>\n",
       "      <td>0</td>\n",
       "      <td>0</td>\n",
       "      <td>...</td>\n",
       "      <td>1</td>\n",
       "      <td>0</td>\n",
       "      <td>0</td>\n",
       "      <td>0</td>\n",
       "      <td>1</td>\n",
       "      <td>0</td>\n",
       "      <td>0</td>\n",
       "      <td>1</td>\n",
       "      <td>0</td>\n",
       "      <td>0</td>\n",
       "    </tr>\n",
       "  </tbody>\n",
       "</table>\n",
       "<p>5661 rows × 1582 columns</p>\n",
       "</div>"
      ],
      "text/plain": [
       "      Item_Weight  Item_Fat_Content  Item_Visibility  Item_MRP  \\\n",
       "0       20.750000                 0         0.007565  107.8622   \n",
       "1        8.300000                 2         0.038428   87.3198   \n",
       "2       14.600000                 0         0.099575  241.7538   \n",
       "3        7.315000                 0         0.015388  155.0340   \n",
       "4       12.695633                 1         0.118599  234.2300   \n",
       "...           ...               ...              ...       ...   \n",
       "5676    10.500000                 1         0.013496  141.3154   \n",
       "5677     7.600000                 1         0.142991  169.1448   \n",
       "5678    10.000000                 0         0.073529  118.7440   \n",
       "5679    15.300000                 1         0.000000  214.6218   \n",
       "5680     9.500000                 1         0.104720   79.7960   \n",
       "\n",
       "      Outlet_Establishment_Year  Outlet_Size  Item_Identifier_DRA12  \\\n",
       "0                          1999            1                      0   \n",
       "1                          2007            1                      0   \n",
       "2                          1998            1                      0   \n",
       "3                          2007            1                      0   \n",
       "4                          1985            1                      0   \n",
       "...                         ...          ...                    ...   \n",
       "5676                       1997            2                      0   \n",
       "5677                       2009            1                      0   \n",
       "5678                       2002            1                      0   \n",
       "5679                       2007            1                      0   \n",
       "5680                       2002            1                      0   \n",
       "\n",
       "      Item_Identifier_DRA24  Item_Identifier_DRA59  Item_Identifier_DRB01  \\\n",
       "0                         0                      0                      0   \n",
       "1                         0                      0                      0   \n",
       "2                         0                      0                      0   \n",
       "3                         0                      0                      0   \n",
       "4                         0                      0                      0   \n",
       "...                     ...                    ...                    ...   \n",
       "5676                      0                      0                      0   \n",
       "5677                      0                      0                      0   \n",
       "5678                      0                      0                      0   \n",
       "5679                      0                      0                      0   \n",
       "5680                      0                      0                      0   \n",
       "\n",
       "      ...  Outlet_Identifier_OUT045  Outlet_Identifier_OUT046  \\\n",
       "0     ...                         0                         0   \n",
       "1     ...                         0                         0   \n",
       "2     ...                         0                         0   \n",
       "3     ...                         0                         0   \n",
       "4     ...                         0                         0   \n",
       "...   ...                       ...                       ...   \n",
       "5676  ...                         0                         1   \n",
       "5677  ...                         0                         0   \n",
       "5678  ...                         1                         0   \n",
       "5679  ...                         0                         0   \n",
       "5680  ...                         1                         0   \n",
       "\n",
       "      Outlet_Identifier_OUT049  Outlet_Location_Type_Tier 1  \\\n",
       "0                            1                            1   \n",
       "1                            0                            0   \n",
       "2                            0                            0   \n",
       "3                            0                            0   \n",
       "4                            0                            0   \n",
       "...                        ...                          ...   \n",
       "5676                         0                            1   \n",
       "5677                         0                            0   \n",
       "5678                         0                            0   \n",
       "5679                         0                            0   \n",
       "5680                         0                            0   \n",
       "\n",
       "      Outlet_Location_Type_Tier 2  Outlet_Location_Type_Tier 3  \\\n",
       "0                               0                            0   \n",
       "1                               1                            0   \n",
       "2                               0                            1   \n",
       "3                               1                            0   \n",
       "4                               0                            1   \n",
       "...                           ...                          ...   \n",
       "5676                            0                            0   \n",
       "5677                            0                            1   \n",
       "5678                            1                            0   \n",
       "5679                            1                            0   \n",
       "5680                            1                            0   \n",
       "\n",
       "      Outlet_Type_Grocery Store  Outlet_Type_Supermarket Type1  \\\n",
       "0                             0                              1   \n",
       "1                             0                              1   \n",
       "2                             1                              0   \n",
       "3                             0                              1   \n",
       "4                             0                              0   \n",
       "...                         ...                            ...   \n",
       "5676                          0                              1   \n",
       "5677                          0                              0   \n",
       "5678                          0                              1   \n",
       "5679                          0                              1   \n",
       "5680                          0                              1   \n",
       "\n",
       "      Outlet_Type_Supermarket Type2  Outlet_Type_Supermarket Type3  \n",
       "0                                 0                              0  \n",
       "1                                 0                              0  \n",
       "2                                 0                              0  \n",
       "3                                 0                              0  \n",
       "4                                 0                              1  \n",
       "...                             ...                            ...  \n",
       "5676                              0                              0  \n",
       "5677                              1                              0  \n",
       "5678                              0                              0  \n",
       "5679                              0                              0  \n",
       "5680                              0                              0  \n",
       "\n",
       "[5661 rows x 1582 columns]"
      ]
     },
     "execution_count": 130,
     "metadata": {},
     "output_type": "execute_result"
    }
   ],
   "source": [
    "data_test"
   ]
  },
  {
   "cell_type": "code",
   "execution_count": 131,
   "id": "9415ab6e",
   "metadata": {},
   "outputs": [
    {
     "data": {
      "text/plain": [
       "(5661, 1582)"
      ]
     },
     "execution_count": 131,
     "metadata": {},
     "output_type": "execute_result"
    }
   ],
   "source": [
    "data_test.shape"
   ]
  },
  {
   "cell_type": "code",
   "execution_count": 132,
   "id": "6a632418",
   "metadata": {},
   "outputs": [],
   "source": [
    "a=x.columns"
   ]
  },
  {
   "cell_type": "code",
   "execution_count": 133,
   "id": "3a2fb218",
   "metadata": {},
   "outputs": [],
   "source": [
    "b=data_test.columns"
   ]
  },
  {
   "cell_type": "code",
   "execution_count": 134,
   "id": "9d94d8cc",
   "metadata": {},
   "outputs": [
    {
     "data": {
      "text/plain": [
       "Index(['Item_Weight', 'Item_Fat_Content', 'Item_Visibility', 'Item_MRP',\n",
       "       'Outlet_Establishment_Year', 'Outlet_Size', 'Item_Identifier_DRA12',\n",
       "       'Item_Identifier_DRA24', 'Item_Identifier_DRA59',\n",
       "       'Item_Identifier_DRB01',\n",
       "       ...\n",
       "       'Outlet_Identifier_OUT045', 'Outlet_Identifier_OUT046',\n",
       "       'Outlet_Identifier_OUT049', 'Outlet_Location_Type_Tier 1',\n",
       "       'Outlet_Location_Type_Tier 2', 'Outlet_Location_Type_Tier 3',\n",
       "       'Outlet_Type_Grocery Store', 'Outlet_Type_Supermarket Type1',\n",
       "       'Outlet_Type_Supermarket Type2', 'Outlet_Type_Supermarket Type3'],\n",
       "      dtype='object', length=1582)"
      ]
     },
     "execution_count": 134,
     "metadata": {},
     "output_type": "execute_result"
    }
   ],
   "source": [
    "b"
   ]
  },
  {
   "cell_type": "code",
   "execution_count": 135,
   "id": "deff286a",
   "metadata": {},
   "outputs": [
    {
     "data": {
      "text/plain": [
       "Index(['Item_Weight', 'Item_Fat_Content', 'Item_Visibility', 'Item_MRP',\n",
       "       'Outlet_Establishment_Year', 'Outlet_Size', 'Item_Identifier_DRA12',\n",
       "       'Item_Identifier_DRA24', 'Item_Identifier_DRA59',\n",
       "       'Item_Identifier_DRB01',\n",
       "       ...\n",
       "       'Outlet_Identifier_OUT045', 'Outlet_Identifier_OUT046',\n",
       "       'Outlet_Identifier_OUT049', 'Outlet_Location_Type_Tier 1',\n",
       "       'Outlet_Location_Type_Tier 2', 'Outlet_Location_Type_Tier 3',\n",
       "       'Outlet_Type_Grocery Store', 'Outlet_Type_Supermarket Type1',\n",
       "       'Outlet_Type_Supermarket Type2', 'Outlet_Type_Supermarket Type3'],\n",
       "      dtype='object', length=1598)"
      ]
     },
     "execution_count": 135,
     "metadata": {},
     "output_type": "execute_result"
    }
   ],
   "source": [
    "a"
   ]
  },
  {
   "cell_type": "code",
   "execution_count": 136,
   "id": "cd96b8ca",
   "metadata": {},
   "outputs": [
    {
     "name": "stdout",
     "output_type": "stream",
     "text": [
      "Item_Identifier_DRE49\n",
      "Item_Identifier_FDA04\n",
      "Item_Identifier_FDG24\n",
      "Item_Identifier_FDG33\n",
      "Item_Identifier_FDL10\n",
      "Item_Identifier_FDL34\n",
      "Item_Identifier_FDO19\n",
      "Item_Identifier_FDO52\n",
      "Item_Identifier_FDT07\n",
      "Item_Identifier_FDU19\n",
      "Item_Identifier_FDW13\n",
      "Item_Identifier_FDX04\n",
      "Item_Identifier_FDX20\n",
      "Item_Identifier_NCL31\n",
      "Item_Identifier_NCQ06\n",
      "Item_Identifier_NCY18\n"
     ]
    }
   ],
   "source": [
    "for i in a:\n",
    "    if i not in b:\n",
    "        print(i)\n",
    "        data_test[i]=0\n",
    "    "
   ]
  },
  {
   "cell_type": "code",
   "execution_count": 137,
   "id": "77d44ca6",
   "metadata": {},
   "outputs": [
    {
     "data": {
      "text/plain": [
       "pandas.core.frame.DataFrame"
      ]
     },
     "execution_count": 137,
     "metadata": {},
     "output_type": "execute_result"
    }
   ],
   "source": [
    "type(x)"
   ]
  },
  {
   "cell_type": "code",
   "execution_count": 138,
   "id": "1bbf1408",
   "metadata": {},
   "outputs": [
    {
     "data": {
      "text/plain": [
       "(5661, 1598)"
      ]
     },
     "execution_count": 138,
     "metadata": {},
     "output_type": "execute_result"
    }
   ],
   "source": [
    "data_test.shape"
   ]
  },
  {
   "cell_type": "code",
   "execution_count": 139,
   "id": "328c73fe",
   "metadata": {},
   "outputs": [],
   "source": [
    "#data_test['Item_Identifier_DRE49'].unique()"
   ]
  },
  {
   "cell_type": "code",
   "execution_count": 140,
   "id": "2d702de9",
   "metadata": {},
   "outputs": [],
   "source": [
    "#data_test=pd.DataFrame(data_test)"
   ]
  },
  {
   "cell_type": "code",
   "execution_count": 141,
   "id": "50f1a37b",
   "metadata": {},
   "outputs": [
    {
     "data": {
      "text/plain": [
       "array([0], dtype=int64)"
      ]
     },
     "execution_count": 141,
     "metadata": {},
     "output_type": "execute_result"
    }
   ],
   "source": [
    "#\n",
    "data_test['Item_Identifier_DRE49'].unique()"
   ]
  },
  {
   "cell_type": "code",
   "execution_count": 142,
   "id": "dce016af",
   "metadata": {},
   "outputs": [
    {
     "data": {
      "text/html": [
       "<div>\n",
       "<style scoped>\n",
       "    .dataframe tbody tr th:only-of-type {\n",
       "        vertical-align: middle;\n",
       "    }\n",
       "\n",
       "    .dataframe tbody tr th {\n",
       "        vertical-align: top;\n",
       "    }\n",
       "\n",
       "    .dataframe thead th {\n",
       "        text-align: right;\n",
       "    }\n",
       "</style>\n",
       "<table border=\"1\" class=\"dataframe\">\n",
       "  <thead>\n",
       "    <tr style=\"text-align: right;\">\n",
       "      <th></th>\n",
       "      <th>Item_Weight</th>\n",
       "      <th>Item_Visibility</th>\n",
       "      <th>Item_MRP</th>\n",
       "      <th>Outlet_Establishment_Year</th>\n",
       "      <th>Item_Outlet_Sales</th>\n",
       "    </tr>\n",
       "  </thead>\n",
       "  <tbody>\n",
       "    <tr>\n",
       "      <th>count</th>\n",
       "      <td>8503.000000</td>\n",
       "      <td>8503.000000</td>\n",
       "      <td>8503.000000</td>\n",
       "      <td>8503.000000</td>\n",
       "      <td>8503.000000</td>\n",
       "    </tr>\n",
       "    <tr>\n",
       "      <th>mean</th>\n",
       "      <td>12.857832</td>\n",
       "      <td>0.065689</td>\n",
       "      <td>140.937370</td>\n",
       "      <td>1997.849818</td>\n",
       "      <td>2185.503416</td>\n",
       "    </tr>\n",
       "    <tr>\n",
       "      <th>std</th>\n",
       "      <td>4.229368</td>\n",
       "      <td>0.050816</td>\n",
       "      <td>62.281509</td>\n",
       "      <td>8.367705</td>\n",
       "      <td>1706.264438</td>\n",
       "    </tr>\n",
       "    <tr>\n",
       "      <th>min</th>\n",
       "      <td>4.555000</td>\n",
       "      <td>0.000000</td>\n",
       "      <td>31.290000</td>\n",
       "      <td>1985.000000</td>\n",
       "      <td>33.290000</td>\n",
       "    </tr>\n",
       "    <tr>\n",
       "      <th>25%</th>\n",
       "      <td>9.300000</td>\n",
       "      <td>0.026950</td>\n",
       "      <td>93.779100</td>\n",
       "      <td>1987.000000</td>\n",
       "      <td>840.239600</td>\n",
       "    </tr>\n",
       "    <tr>\n",
       "      <th>50%</th>\n",
       "      <td>12.857645</td>\n",
       "      <td>0.053765</td>\n",
       "      <td>142.912800</td>\n",
       "      <td>1999.000000</td>\n",
       "      <td>1797.660000</td>\n",
       "    </tr>\n",
       "    <tr>\n",
       "      <th>75%</th>\n",
       "      <td>16.000000</td>\n",
       "      <td>0.094256</td>\n",
       "      <td>185.608200</td>\n",
       "      <td>2004.000000</td>\n",
       "      <td>3103.959600</td>\n",
       "    </tr>\n",
       "    <tr>\n",
       "      <th>max</th>\n",
       "      <td>21.350000</td>\n",
       "      <td>0.328391</td>\n",
       "      <td>266.888400</td>\n",
       "      <td>2009.000000</td>\n",
       "      <td>13086.964800</td>\n",
       "    </tr>\n",
       "  </tbody>\n",
       "</table>\n",
       "</div>"
      ],
      "text/plain": [
       "       Item_Weight  Item_Visibility     Item_MRP  Outlet_Establishment_Year  \\\n",
       "count  8503.000000      8503.000000  8503.000000                8503.000000   \n",
       "mean     12.857832         0.065689   140.937370                1997.849818   \n",
       "std       4.229368         0.050816    62.281509                   8.367705   \n",
       "min       4.555000         0.000000    31.290000                1985.000000   \n",
       "25%       9.300000         0.026950    93.779100                1987.000000   \n",
       "50%      12.857645         0.053765   142.912800                1999.000000   \n",
       "75%      16.000000         0.094256   185.608200                2004.000000   \n",
       "max      21.350000         0.328391   266.888400                2009.000000   \n",
       "\n",
       "       Item_Outlet_Sales  \n",
       "count        8503.000000  \n",
       "mean         2185.503416  \n",
       "std          1706.264438  \n",
       "min            33.290000  \n",
       "25%           840.239600  \n",
       "50%          1797.660000  \n",
       "75%          3103.959600  \n",
       "max         13086.964800  "
      ]
     },
     "execution_count": 142,
     "metadata": {},
     "output_type": "execute_result"
    }
   ],
   "source": [
    "data_train.describe()"
   ]
  },
  {
   "cell_type": "code",
   "execution_count": 143,
   "id": "84c5faa9",
   "metadata": {},
   "outputs": [],
   "source": [
    "# standard Scaler for train dataset"
   ]
  },
  {
   "cell_type": "code",
   "execution_count": 144,
   "id": "601162a1",
   "metadata": {},
   "outputs": [],
   "source": [
    "from sklearn.preprocessing import StandardScaler\n",
    "sc = StandardScaler()"
   ]
  },
  {
   "cell_type": "code",
   "execution_count": 145,
   "id": "585895b5",
   "metadata": {},
   "outputs": [],
   "source": [
    "x=sc.fit_transform(x)"
   ]
  },
  {
   "cell_type": "code",
   "execution_count": 146,
   "id": "e3664b06",
   "metadata": {},
   "outputs": [],
   "source": [
    "# standard Scaler for test dataset"
   ]
  },
  {
   "cell_type": "code",
   "execution_count": 147,
   "id": "d226d12f",
   "metadata": {},
   "outputs": [],
   "source": [
    "data_test=sc.fit_transform(data_test)"
   ]
  },
  {
   "cell_type": "code",
   "execution_count": 148,
   "id": "980ae275",
   "metadata": {},
   "outputs": [],
   "source": [
    "from sklearn.model_selection import train_test_split\n",
    "x_train,x_test,y_train,y_test=train_test_split(x,y,test_size=0.2,random_state=134)"
   ]
  },
  {
   "cell_type": "code",
   "execution_count": 149,
   "id": "add6ed00",
   "metadata": {},
   "outputs": [],
   "source": [
    "# Linear Regression"
   ]
  },
  {
   "cell_type": "code",
   "execution_count": 150,
   "id": "f9d987d9",
   "metadata": {},
   "outputs": [],
   "source": [
    "from sklearn.linear_model import LinearRegression\n",
    "lr=LinearRegression()\n",
    "lr.fit(x_train,y_train)\n",
    "y_pred=lr.predict(x_test)"
   ]
  },
  {
   "cell_type": "code",
   "execution_count": 151,
   "id": "97d78fe2",
   "metadata": {},
   "outputs": [],
   "source": [
    "from sklearn.metrics import mean_squared_error,r2_score"
   ]
  },
  {
   "cell_type": "code",
   "execution_count": 152,
   "id": "bbb6419e",
   "metadata": {},
   "outputs": [
    {
     "name": "stdout",
     "output_type": "stream",
     "text": [
      "3.156700897266683e+31\n"
     ]
    }
   ],
   "source": [
    "mse=mean_squared_error(y_test,y_pred)\n",
    "print(mse)"
   ]
  },
  {
   "cell_type": "code",
   "execution_count": 153,
   "id": "07b4f0a3",
   "metadata": {},
   "outputs": [
    {
     "data": {
      "text/plain": [
       "-1.0460477178706517e+25"
      ]
     },
     "execution_count": 153,
     "metadata": {},
     "output_type": "execute_result"
    }
   ],
   "source": [
    "r2=r2_score(y_test,y_pred)\n",
    "r2"
   ]
  },
  {
   "cell_type": "code",
   "execution_count": 154,
   "id": "ba01414f",
   "metadata": {},
   "outputs": [],
   "source": [
    "import math"
   ]
  },
  {
   "cell_type": "code",
   "execution_count": 155,
   "id": "cb16c6ce",
   "metadata": {},
   "outputs": [],
   "source": [
    "rmse=math.sqrt(mse)"
   ]
  },
  {
   "cell_type": "code",
   "execution_count": 156,
   "id": "4d1b2c45",
   "metadata": {},
   "outputs": [
    {
     "name": "stdout",
     "output_type": "stream",
     "text": [
      "Root Mean Square Error: 5618452542530446.0\n"
     ]
    }
   ],
   "source": [
    "print(\"Root Mean Square Error:\", rmse)"
   ]
  },
  {
   "cell_type": "code",
   "execution_count": 157,
   "id": "0d14bc59",
   "metadata": {},
   "outputs": [],
   "source": [
    "# Decision Tree"
   ]
  },
  {
   "cell_type": "code",
   "execution_count": 158,
   "id": "4c7a4b0f",
   "metadata": {},
   "outputs": [
    {
     "data": {
      "text/html": [
       "<style>#sk-container-id-1 {color: black;background-color: white;}#sk-container-id-1 pre{padding: 0;}#sk-container-id-1 div.sk-toggleable {background-color: white;}#sk-container-id-1 label.sk-toggleable__label {cursor: pointer;display: block;width: 100%;margin-bottom: 0;padding: 0.3em;box-sizing: border-box;text-align: center;}#sk-container-id-1 label.sk-toggleable__label-arrow:before {content: \"▸\";float: left;margin-right: 0.25em;color: #696969;}#sk-container-id-1 label.sk-toggleable__label-arrow:hover:before {color: black;}#sk-container-id-1 div.sk-estimator:hover label.sk-toggleable__label-arrow:before {color: black;}#sk-container-id-1 div.sk-toggleable__content {max-height: 0;max-width: 0;overflow: hidden;text-align: left;background-color: #f0f8ff;}#sk-container-id-1 div.sk-toggleable__content pre {margin: 0.2em;color: black;border-radius: 0.25em;background-color: #f0f8ff;}#sk-container-id-1 input.sk-toggleable__control:checked~div.sk-toggleable__content {max-height: 200px;max-width: 100%;overflow: auto;}#sk-container-id-1 input.sk-toggleable__control:checked~label.sk-toggleable__label-arrow:before {content: \"▾\";}#sk-container-id-1 div.sk-estimator input.sk-toggleable__control:checked~label.sk-toggleable__label {background-color: #d4ebff;}#sk-container-id-1 div.sk-label input.sk-toggleable__control:checked~label.sk-toggleable__label {background-color: #d4ebff;}#sk-container-id-1 input.sk-hidden--visually {border: 0;clip: rect(1px 1px 1px 1px);clip: rect(1px, 1px, 1px, 1px);height: 1px;margin: -1px;overflow: hidden;padding: 0;position: absolute;width: 1px;}#sk-container-id-1 div.sk-estimator {font-family: monospace;background-color: #f0f8ff;border: 1px dotted black;border-radius: 0.25em;box-sizing: border-box;margin-bottom: 0.5em;}#sk-container-id-1 div.sk-estimator:hover {background-color: #d4ebff;}#sk-container-id-1 div.sk-parallel-item::after {content: \"\";width: 100%;border-bottom: 1px solid gray;flex-grow: 1;}#sk-container-id-1 div.sk-label:hover label.sk-toggleable__label {background-color: #d4ebff;}#sk-container-id-1 div.sk-serial::before {content: \"\";position: absolute;border-left: 1px solid gray;box-sizing: border-box;top: 0;bottom: 0;left: 50%;z-index: 0;}#sk-container-id-1 div.sk-serial {display: flex;flex-direction: column;align-items: center;background-color: white;padding-right: 0.2em;padding-left: 0.2em;position: relative;}#sk-container-id-1 div.sk-item {position: relative;z-index: 1;}#sk-container-id-1 div.sk-parallel {display: flex;align-items: stretch;justify-content: center;background-color: white;position: relative;}#sk-container-id-1 div.sk-item::before, #sk-container-id-1 div.sk-parallel-item::before {content: \"\";position: absolute;border-left: 1px solid gray;box-sizing: border-box;top: 0;bottom: 0;left: 50%;z-index: -1;}#sk-container-id-1 div.sk-parallel-item {display: flex;flex-direction: column;z-index: 1;position: relative;background-color: white;}#sk-container-id-1 div.sk-parallel-item:first-child::after {align-self: flex-end;width: 50%;}#sk-container-id-1 div.sk-parallel-item:last-child::after {align-self: flex-start;width: 50%;}#sk-container-id-1 div.sk-parallel-item:only-child::after {width: 0;}#sk-container-id-1 div.sk-dashed-wrapped {border: 1px dashed gray;margin: 0 0.4em 0.5em 0.4em;box-sizing: border-box;padding-bottom: 0.4em;background-color: white;}#sk-container-id-1 div.sk-label label {font-family: monospace;font-weight: bold;display: inline-block;line-height: 1.2em;}#sk-container-id-1 div.sk-label-container {text-align: center;}#sk-container-id-1 div.sk-container {/* jupyter's `normalize.less` sets `[hidden] { display: none; }` but bootstrap.min.css set `[hidden] { display: none !important; }` so we also need the `!important` here to be able to override the default hidden behavior on the sphinx rendered scikit-learn.org. See: https://github.com/scikit-learn/scikit-learn/issues/21755 */display: inline-block !important;position: relative;}#sk-container-id-1 div.sk-text-repr-fallback {display: none;}</style><div id=\"sk-container-id-1\" class=\"sk-top-container\"><div class=\"sk-text-repr-fallback\"><pre>DecisionTreeRegressor(random_state=0)</pre><b>In a Jupyter environment, please rerun this cell to show the HTML representation or trust the notebook. <br />On GitHub, the HTML representation is unable to render, please try loading this page with nbviewer.org.</b></div><div class=\"sk-container\" hidden><div class=\"sk-item\"><div class=\"sk-estimator sk-toggleable\"><input class=\"sk-toggleable__control sk-hidden--visually\" id=\"sk-estimator-id-1\" type=\"checkbox\" checked><label for=\"sk-estimator-id-1\" class=\"sk-toggleable__label sk-toggleable__label-arrow\">DecisionTreeRegressor</label><div class=\"sk-toggleable__content\"><pre>DecisionTreeRegressor(random_state=0)</pre></div></div></div></div></div>"
      ],
      "text/plain": [
       "DecisionTreeRegressor(random_state=0)"
      ]
     },
     "execution_count": 158,
     "metadata": {},
     "output_type": "execute_result"
    }
   ],
   "source": [
    "\n",
    "from sklearn.tree import DecisionTreeRegressor \n",
    "  \n",
    "\n",
    "regressor = DecisionTreeRegressor(random_state = 0) \n",
    "  \n",
    "\n",
    "regressor.fit(x_train,y_train)"
   ]
  },
  {
   "cell_type": "code",
   "execution_count": 159,
   "id": "d12136c3",
   "metadata": {},
   "outputs": [],
   "source": [
    "\n",
    "\n",
    "y_pred = regressor.predict(x_test)\n",
    "  \n"
   ]
  },
  {
   "cell_type": "code",
   "execution_count": 160,
   "id": "6a48e8a5",
   "metadata": {},
   "outputs": [
    {
     "name": "stdout",
     "output_type": "stream",
     "text": [
      "2218113.6522077457\n"
     ]
    }
   ],
   "source": [
    "mse=mean_squared_error(y_test,y_pred)\n",
    "print(mse)"
   ]
  },
  {
   "cell_type": "code",
   "execution_count": 161,
   "id": "fd7cf1a4",
   "metadata": {},
   "outputs": [
    {
     "name": "stdout",
     "output_type": "stream",
     "text": [
      "1489.3332911768762\n"
     ]
    }
   ],
   "source": [
    "rmse=math.sqrt(mse)\n",
    "print(rmse)"
   ]
  },
  {
   "cell_type": "code",
   "execution_count": 162,
   "id": "62b8092a",
   "metadata": {},
   "outputs": [],
   "source": [
    "# random forest"
   ]
  },
  {
   "cell_type": "code",
   "execution_count": 163,
   "id": "5de993ab",
   "metadata": {},
   "outputs": [
    {
     "data": {
      "text/html": [
       "<style>#sk-container-id-2 {color: black;background-color: white;}#sk-container-id-2 pre{padding: 0;}#sk-container-id-2 div.sk-toggleable {background-color: white;}#sk-container-id-2 label.sk-toggleable__label {cursor: pointer;display: block;width: 100%;margin-bottom: 0;padding: 0.3em;box-sizing: border-box;text-align: center;}#sk-container-id-2 label.sk-toggleable__label-arrow:before {content: \"▸\";float: left;margin-right: 0.25em;color: #696969;}#sk-container-id-2 label.sk-toggleable__label-arrow:hover:before {color: black;}#sk-container-id-2 div.sk-estimator:hover label.sk-toggleable__label-arrow:before {color: black;}#sk-container-id-2 div.sk-toggleable__content {max-height: 0;max-width: 0;overflow: hidden;text-align: left;background-color: #f0f8ff;}#sk-container-id-2 div.sk-toggleable__content pre {margin: 0.2em;color: black;border-radius: 0.25em;background-color: #f0f8ff;}#sk-container-id-2 input.sk-toggleable__control:checked~div.sk-toggleable__content {max-height: 200px;max-width: 100%;overflow: auto;}#sk-container-id-2 input.sk-toggleable__control:checked~label.sk-toggleable__label-arrow:before {content: \"▾\";}#sk-container-id-2 div.sk-estimator input.sk-toggleable__control:checked~label.sk-toggleable__label {background-color: #d4ebff;}#sk-container-id-2 div.sk-label input.sk-toggleable__control:checked~label.sk-toggleable__label {background-color: #d4ebff;}#sk-container-id-2 input.sk-hidden--visually {border: 0;clip: rect(1px 1px 1px 1px);clip: rect(1px, 1px, 1px, 1px);height: 1px;margin: -1px;overflow: hidden;padding: 0;position: absolute;width: 1px;}#sk-container-id-2 div.sk-estimator {font-family: monospace;background-color: #f0f8ff;border: 1px dotted black;border-radius: 0.25em;box-sizing: border-box;margin-bottom: 0.5em;}#sk-container-id-2 div.sk-estimator:hover {background-color: #d4ebff;}#sk-container-id-2 div.sk-parallel-item::after {content: \"\";width: 100%;border-bottom: 1px solid gray;flex-grow: 1;}#sk-container-id-2 div.sk-label:hover label.sk-toggleable__label {background-color: #d4ebff;}#sk-container-id-2 div.sk-serial::before {content: \"\";position: absolute;border-left: 1px solid gray;box-sizing: border-box;top: 0;bottom: 0;left: 50%;z-index: 0;}#sk-container-id-2 div.sk-serial {display: flex;flex-direction: column;align-items: center;background-color: white;padding-right: 0.2em;padding-left: 0.2em;position: relative;}#sk-container-id-2 div.sk-item {position: relative;z-index: 1;}#sk-container-id-2 div.sk-parallel {display: flex;align-items: stretch;justify-content: center;background-color: white;position: relative;}#sk-container-id-2 div.sk-item::before, #sk-container-id-2 div.sk-parallel-item::before {content: \"\";position: absolute;border-left: 1px solid gray;box-sizing: border-box;top: 0;bottom: 0;left: 50%;z-index: -1;}#sk-container-id-2 div.sk-parallel-item {display: flex;flex-direction: column;z-index: 1;position: relative;background-color: white;}#sk-container-id-2 div.sk-parallel-item:first-child::after {align-self: flex-end;width: 50%;}#sk-container-id-2 div.sk-parallel-item:last-child::after {align-self: flex-start;width: 50%;}#sk-container-id-2 div.sk-parallel-item:only-child::after {width: 0;}#sk-container-id-2 div.sk-dashed-wrapped {border: 1px dashed gray;margin: 0 0.4em 0.5em 0.4em;box-sizing: border-box;padding-bottom: 0.4em;background-color: white;}#sk-container-id-2 div.sk-label label {font-family: monospace;font-weight: bold;display: inline-block;line-height: 1.2em;}#sk-container-id-2 div.sk-label-container {text-align: center;}#sk-container-id-2 div.sk-container {/* jupyter's `normalize.less` sets `[hidden] { display: none; }` but bootstrap.min.css set `[hidden] { display: none !important; }` so we also need the `!important` here to be able to override the default hidden behavior on the sphinx rendered scikit-learn.org. See: https://github.com/scikit-learn/scikit-learn/issues/21755 */display: inline-block !important;position: relative;}#sk-container-id-2 div.sk-text-repr-fallback {display: none;}</style><div id=\"sk-container-id-2\" class=\"sk-top-container\"><div class=\"sk-text-repr-fallback\"><pre>RandomForestRegressor(random_state=0)</pre><b>In a Jupyter environment, please rerun this cell to show the HTML representation or trust the notebook. <br />On GitHub, the HTML representation is unable to render, please try loading this page with nbviewer.org.</b></div><div class=\"sk-container\" hidden><div class=\"sk-item\"><div class=\"sk-estimator sk-toggleable\"><input class=\"sk-toggleable__control sk-hidden--visually\" id=\"sk-estimator-id-2\" type=\"checkbox\" checked><label for=\"sk-estimator-id-2\" class=\"sk-toggleable__label sk-toggleable__label-arrow\">RandomForestRegressor</label><div class=\"sk-toggleable__content\"><pre>RandomForestRegressor(random_state=0)</pre></div></div></div></div></div>"
      ],
      "text/plain": [
       "RandomForestRegressor(random_state=0)"
      ]
     },
     "execution_count": 163,
     "metadata": {},
     "output_type": "execute_result"
    }
   ],
   "source": [
    "\n",
    "from sklearn.ensemble import RandomForestRegressor\n",
    " \n",
    "\n",
    "regressor = RandomForestRegressor(n_estimators=100, random_state=0)\n",
    " \n",
    "\n",
    "regressor.fit(x_train,y_train)"
   ]
  },
  {
   "cell_type": "code",
   "execution_count": 164,
   "id": "e22f4177",
   "metadata": {},
   "outputs": [],
   "source": [
    "\n",
    "\n",
    "y_pred = regressor.predict(x_test)\n",
    "  \n"
   ]
  },
  {
   "cell_type": "code",
   "execution_count": 165,
   "id": "2a7d75a0",
   "metadata": {},
   "outputs": [
    {
     "name": "stdout",
     "output_type": "stream",
     "text": [
      "1323744.7513811088\n"
     ]
    }
   ],
   "source": [
    "mse=mean_squared_error(y_test,y_pred)\n",
    "print(mse)"
   ]
  },
  {
   "cell_type": "code",
   "execution_count": 166,
   "id": "a971d410",
   "metadata": {},
   "outputs": [
    {
     "name": "stdout",
     "output_type": "stream",
     "text": [
      "1150.5410689676005\n"
     ]
    }
   ],
   "source": [
    "rmse=math.sqrt(mse)\n",
    "print(rmse)"
   ]
  },
  {
   "cell_type": "raw",
   "id": "c1784011",
   "metadata": {},
   "source": [
    "# Better model is Random Forest since i got RMSE Value as 1150.54"
   ]
  },
  {
   "cell_type": "code",
   "execution_count": 171,
   "id": "ce5b7c21",
   "metadata": {},
   "outputs": [],
   "source": [
    "y_pred = regressor.predict(data_test)"
   ]
  },
  {
   "cell_type": "code",
   "execution_count": 172,
   "id": "fb063f4d",
   "metadata": {},
   "outputs": [],
   "source": [
    "submission=pd.read_csv(\"sample_submission_8RXa3c6.csv\")"
   ]
  },
  {
   "cell_type": "code",
   "execution_count": 173,
   "id": "d4eb9ebc",
   "metadata": {},
   "outputs": [
    {
     "data": {
      "text/html": [
       "<div>\n",
       "<style scoped>\n",
       "    .dataframe tbody tr th:only-of-type {\n",
       "        vertical-align: middle;\n",
       "    }\n",
       "\n",
       "    .dataframe tbody tr th {\n",
       "        vertical-align: top;\n",
       "    }\n",
       "\n",
       "    .dataframe thead th {\n",
       "        text-align: right;\n",
       "    }\n",
       "</style>\n",
       "<table border=\"1\" class=\"dataframe\">\n",
       "  <thead>\n",
       "    <tr style=\"text-align: right;\">\n",
       "      <th></th>\n",
       "      <th>Item_Identifier</th>\n",
       "      <th>Outlet_Identifier</th>\n",
       "      <th>Item_Outlet_Sales</th>\n",
       "    </tr>\n",
       "  </thead>\n",
       "  <tbody>\n",
       "    <tr>\n",
       "      <th>0</th>\n",
       "      <td>FDW58</td>\n",
       "      <td>OUT049</td>\n",
       "      <td>1000</td>\n",
       "    </tr>\n",
       "    <tr>\n",
       "      <th>1</th>\n",
       "      <td>FDW14</td>\n",
       "      <td>OUT017</td>\n",
       "      <td>1000</td>\n",
       "    </tr>\n",
       "    <tr>\n",
       "      <th>2</th>\n",
       "      <td>NCN55</td>\n",
       "      <td>OUT010</td>\n",
       "      <td>1000</td>\n",
       "    </tr>\n",
       "    <tr>\n",
       "      <th>3</th>\n",
       "      <td>FDQ58</td>\n",
       "      <td>OUT017</td>\n",
       "      <td>1000</td>\n",
       "    </tr>\n",
       "    <tr>\n",
       "      <th>4</th>\n",
       "      <td>FDY38</td>\n",
       "      <td>OUT027</td>\n",
       "      <td>1000</td>\n",
       "    </tr>\n",
       "    <tr>\n",
       "      <th>...</th>\n",
       "      <td>...</td>\n",
       "      <td>...</td>\n",
       "      <td>...</td>\n",
       "    </tr>\n",
       "    <tr>\n",
       "      <th>5676</th>\n",
       "      <td>FDB58</td>\n",
       "      <td>OUT046</td>\n",
       "      <td>1000</td>\n",
       "    </tr>\n",
       "    <tr>\n",
       "      <th>5677</th>\n",
       "      <td>FDD47</td>\n",
       "      <td>OUT018</td>\n",
       "      <td>1000</td>\n",
       "    </tr>\n",
       "    <tr>\n",
       "      <th>5678</th>\n",
       "      <td>NCO17</td>\n",
       "      <td>OUT045</td>\n",
       "      <td>1000</td>\n",
       "    </tr>\n",
       "    <tr>\n",
       "      <th>5679</th>\n",
       "      <td>FDJ26</td>\n",
       "      <td>OUT017</td>\n",
       "      <td>1000</td>\n",
       "    </tr>\n",
       "    <tr>\n",
       "      <th>5680</th>\n",
       "      <td>FDU37</td>\n",
       "      <td>OUT045</td>\n",
       "      <td>1000</td>\n",
       "    </tr>\n",
       "  </tbody>\n",
       "</table>\n",
       "<p>5681 rows × 3 columns</p>\n",
       "</div>"
      ],
      "text/plain": [
       "     Item_Identifier Outlet_Identifier  Item_Outlet_Sales\n",
       "0              FDW58            OUT049               1000\n",
       "1              FDW14            OUT017               1000\n",
       "2              NCN55            OUT010               1000\n",
       "3              FDQ58            OUT017               1000\n",
       "4              FDY38            OUT027               1000\n",
       "...              ...               ...                ...\n",
       "5676           FDB58            OUT046               1000\n",
       "5677           FDD47            OUT018               1000\n",
       "5678           NCO17            OUT045               1000\n",
       "5679           FDJ26            OUT017               1000\n",
       "5680           FDU37            OUT045               1000\n",
       "\n",
       "[5681 rows x 3 columns]"
      ]
     },
     "execution_count": 173,
     "metadata": {},
     "output_type": "execute_result"
    }
   ],
   "source": [
    "submission"
   ]
  },
  {
   "cell_type": "code",
   "execution_count": 174,
   "id": "837472be",
   "metadata": {
    "scrolled": true
   },
   "outputs": [
    {
     "ename": "ValueError",
     "evalue": "Length of values (5661) does not match length of index (5681)",
     "output_type": "error",
     "traceback": [
      "\u001b[1;31m---------------------------------------------------------------------------\u001b[0m",
      "\u001b[1;31mValueError\u001b[0m                                Traceback (most recent call last)",
      "Cell \u001b[1;32mIn[174], line 1\u001b[0m\n\u001b[1;32m----> 1\u001b[0m submission[\u001b[38;5;124m'\u001b[39m\u001b[38;5;124mItem_Outlet_Sales\u001b[39m\u001b[38;5;124m'\u001b[39m]\u001b[38;5;241m=\u001b[39my_pred\n",
      "File \u001b[1;32m~\\anaconda3\\lib\\site-packages\\pandas\\core\\frame.py:3980\u001b[0m, in \u001b[0;36mDataFrame.__setitem__\u001b[1;34m(self, key, value)\u001b[0m\n\u001b[0;32m   3977\u001b[0m     \u001b[38;5;28mself\u001b[39m\u001b[38;5;241m.\u001b[39m_setitem_array([key], value)\n\u001b[0;32m   3978\u001b[0m \u001b[38;5;28;01melse\u001b[39;00m:\n\u001b[0;32m   3979\u001b[0m     \u001b[38;5;66;03m# set column\u001b[39;00m\n\u001b[1;32m-> 3980\u001b[0m     \u001b[38;5;28;43mself\u001b[39;49m\u001b[38;5;241;43m.\u001b[39;49m\u001b[43m_set_item\u001b[49m\u001b[43m(\u001b[49m\u001b[43mkey\u001b[49m\u001b[43m,\u001b[49m\u001b[43m \u001b[49m\u001b[43mvalue\u001b[49m\u001b[43m)\u001b[49m\n",
      "File \u001b[1;32m~\\anaconda3\\lib\\site-packages\\pandas\\core\\frame.py:4174\u001b[0m, in \u001b[0;36mDataFrame._set_item\u001b[1;34m(self, key, value)\u001b[0m\n\u001b[0;32m   4164\u001b[0m \u001b[38;5;28;01mdef\u001b[39;00m \u001b[38;5;21m_set_item\u001b[39m(\u001b[38;5;28mself\u001b[39m, key, value) \u001b[38;5;241m-\u001b[39m\u001b[38;5;241m>\u001b[39m \u001b[38;5;28;01mNone\u001b[39;00m:\n\u001b[0;32m   4165\u001b[0m     \u001b[38;5;124;03m\"\"\"\u001b[39;00m\n\u001b[0;32m   4166\u001b[0m \u001b[38;5;124;03m    Add series to DataFrame in specified column.\u001b[39;00m\n\u001b[0;32m   4167\u001b[0m \n\u001b[1;32m   (...)\u001b[0m\n\u001b[0;32m   4172\u001b[0m \u001b[38;5;124;03m    ensure homogeneity.\u001b[39;00m\n\u001b[0;32m   4173\u001b[0m \u001b[38;5;124;03m    \"\"\"\u001b[39;00m\n\u001b[1;32m-> 4174\u001b[0m     value \u001b[38;5;241m=\u001b[39m \u001b[38;5;28;43mself\u001b[39;49m\u001b[38;5;241;43m.\u001b[39;49m\u001b[43m_sanitize_column\u001b[49m\u001b[43m(\u001b[49m\u001b[43mvalue\u001b[49m\u001b[43m)\u001b[49m\n\u001b[0;32m   4176\u001b[0m     \u001b[38;5;28;01mif\u001b[39;00m (\n\u001b[0;32m   4177\u001b[0m         key \u001b[38;5;129;01min\u001b[39;00m \u001b[38;5;28mself\u001b[39m\u001b[38;5;241m.\u001b[39mcolumns\n\u001b[0;32m   4178\u001b[0m         \u001b[38;5;129;01mand\u001b[39;00m value\u001b[38;5;241m.\u001b[39mndim \u001b[38;5;241m==\u001b[39m \u001b[38;5;241m1\u001b[39m\n\u001b[0;32m   4179\u001b[0m         \u001b[38;5;129;01mand\u001b[39;00m \u001b[38;5;129;01mnot\u001b[39;00m is_extension_array_dtype(value)\n\u001b[0;32m   4180\u001b[0m     ):\n\u001b[0;32m   4181\u001b[0m         \u001b[38;5;66;03m# broadcast across multiple columns if necessary\u001b[39;00m\n\u001b[0;32m   4182\u001b[0m         \u001b[38;5;28;01mif\u001b[39;00m \u001b[38;5;129;01mnot\u001b[39;00m \u001b[38;5;28mself\u001b[39m\u001b[38;5;241m.\u001b[39mcolumns\u001b[38;5;241m.\u001b[39mis_unique \u001b[38;5;129;01mor\u001b[39;00m \u001b[38;5;28misinstance\u001b[39m(\u001b[38;5;28mself\u001b[39m\u001b[38;5;241m.\u001b[39mcolumns, MultiIndex):\n",
      "File \u001b[1;32m~\\anaconda3\\lib\\site-packages\\pandas\\core\\frame.py:4915\u001b[0m, in \u001b[0;36mDataFrame._sanitize_column\u001b[1;34m(self, value)\u001b[0m\n\u001b[0;32m   4912\u001b[0m     \u001b[38;5;28;01mreturn\u001b[39;00m _reindex_for_setitem(Series(value), \u001b[38;5;28mself\u001b[39m\u001b[38;5;241m.\u001b[39mindex)\n\u001b[0;32m   4914\u001b[0m \u001b[38;5;28;01mif\u001b[39;00m is_list_like(value):\n\u001b[1;32m-> 4915\u001b[0m     \u001b[43mcom\u001b[49m\u001b[38;5;241;43m.\u001b[39;49m\u001b[43mrequire_length_match\u001b[49m\u001b[43m(\u001b[49m\u001b[43mvalue\u001b[49m\u001b[43m,\u001b[49m\u001b[43m \u001b[49m\u001b[38;5;28;43mself\u001b[39;49m\u001b[38;5;241;43m.\u001b[39;49m\u001b[43mindex\u001b[49m\u001b[43m)\u001b[49m\n\u001b[0;32m   4916\u001b[0m \u001b[38;5;28;01mreturn\u001b[39;00m sanitize_array(value, \u001b[38;5;28mself\u001b[39m\u001b[38;5;241m.\u001b[39mindex, copy\u001b[38;5;241m=\u001b[39m\u001b[38;5;28;01mTrue\u001b[39;00m, allow_2d\u001b[38;5;241m=\u001b[39m\u001b[38;5;28;01mTrue\u001b[39;00m)\n",
      "File \u001b[1;32m~\\anaconda3\\lib\\site-packages\\pandas\\core\\common.py:571\u001b[0m, in \u001b[0;36mrequire_length_match\u001b[1;34m(data, index)\u001b[0m\n\u001b[0;32m    567\u001b[0m \u001b[38;5;124;03m\"\"\"\u001b[39;00m\n\u001b[0;32m    568\u001b[0m \u001b[38;5;124;03mCheck the length of data matches the length of the index.\u001b[39;00m\n\u001b[0;32m    569\u001b[0m \u001b[38;5;124;03m\"\"\"\u001b[39;00m\n\u001b[0;32m    570\u001b[0m \u001b[38;5;28;01mif\u001b[39;00m \u001b[38;5;28mlen\u001b[39m(data) \u001b[38;5;241m!=\u001b[39m \u001b[38;5;28mlen\u001b[39m(index):\n\u001b[1;32m--> 571\u001b[0m     \u001b[38;5;28;01mraise\u001b[39;00m \u001b[38;5;167;01mValueError\u001b[39;00m(\n\u001b[0;32m    572\u001b[0m         \u001b[38;5;124m\"\u001b[39m\u001b[38;5;124mLength of values \u001b[39m\u001b[38;5;124m\"\u001b[39m\n\u001b[0;32m    573\u001b[0m         \u001b[38;5;124mf\u001b[39m\u001b[38;5;124m\"\u001b[39m\u001b[38;5;124m(\u001b[39m\u001b[38;5;132;01m{\u001b[39;00m\u001b[38;5;28mlen\u001b[39m(data)\u001b[38;5;132;01m}\u001b[39;00m\u001b[38;5;124m) \u001b[39m\u001b[38;5;124m\"\u001b[39m\n\u001b[0;32m    574\u001b[0m         \u001b[38;5;124m\"\u001b[39m\u001b[38;5;124mdoes not match length of index \u001b[39m\u001b[38;5;124m\"\u001b[39m\n\u001b[0;32m    575\u001b[0m         \u001b[38;5;124mf\u001b[39m\u001b[38;5;124m\"\u001b[39m\u001b[38;5;124m(\u001b[39m\u001b[38;5;132;01m{\u001b[39;00m\u001b[38;5;28mlen\u001b[39m(index)\u001b[38;5;132;01m}\u001b[39;00m\u001b[38;5;124m)\u001b[39m\u001b[38;5;124m\"\u001b[39m\n\u001b[0;32m    576\u001b[0m     )\n",
      "\u001b[1;31mValueError\u001b[0m: Length of values (5661) does not match length of index (5681)"
     ]
    }
   ],
   "source": [
    "submission['Item_Outlet_Sales']=y_pred"
   ]
  },
  {
   "cell_type": "code",
   "execution_count": 175,
   "id": "3caeffc8",
   "metadata": {},
   "outputs": [],
   "source": [
    "#output=pd.read_csv(\"output.csv\")"
   ]
  },
  {
   "cell_type": "code",
   "execution_count": 176,
   "id": "b3d861c2",
   "metadata": {},
   "outputs": [],
   "source": [
    "#output['Item_Identifier']=data_test['Item_Identifier']"
   ]
  },
  {
   "cell_type": "code",
   "execution_count": 177,
   "id": "f437ac55",
   "metadata": {},
   "outputs": [],
   "source": [
    "submission.to_csv('samplesub.csv', index = False)"
   ]
  },
  {
   "cell_type": "code",
   "execution_count": 178,
   "id": "04b5221e",
   "metadata": {},
   "outputs": [
    {
     "data": {
      "text/plain": [
       "array([1541.213814, 1154.79681 , 3627.997464, ..., 1893.428672,\n",
       "       3925.197268, 1120.002102])"
      ]
     },
     "execution_count": 178,
     "metadata": {},
     "output_type": "execute_result"
    }
   ],
   "source": [
    "y_pred"
   ]
  },
  {
   "cell_type": "code",
   "execution_count": 183,
   "id": "b28ea663",
   "metadata": {},
   "outputs": [],
   "source": [
    "vb=pd.DataFrame(y_pred,columns=['y_pred'])\n",
    "                "
   ]
  },
  {
   "cell_type": "code",
   "execution_count": 184,
   "id": "32e67049",
   "metadata": {},
   "outputs": [],
   "source": [
    "submission['Item_Outlet_Sales']=vb"
   ]
  },
  {
   "cell_type": "code",
   "execution_count": 185,
   "id": "c8e9aa73",
   "metadata": {},
   "outputs": [
    {
     "data": {
      "text/html": [
       "<div>\n",
       "<style scoped>\n",
       "    .dataframe tbody tr th:only-of-type {\n",
       "        vertical-align: middle;\n",
       "    }\n",
       "\n",
       "    .dataframe tbody tr th {\n",
       "        vertical-align: top;\n",
       "    }\n",
       "\n",
       "    .dataframe thead th {\n",
       "        text-align: right;\n",
       "    }\n",
       "</style>\n",
       "<table border=\"1\" class=\"dataframe\">\n",
       "  <thead>\n",
       "    <tr style=\"text-align: right;\">\n",
       "      <th></th>\n",
       "      <th>y_pred</th>\n",
       "    </tr>\n",
       "  </thead>\n",
       "  <tbody>\n",
       "    <tr>\n",
       "      <th>0</th>\n",
       "      <td>1541.213814</td>\n",
       "    </tr>\n",
       "    <tr>\n",
       "      <th>1</th>\n",
       "      <td>1154.796810</td>\n",
       "    </tr>\n",
       "    <tr>\n",
       "      <th>2</th>\n",
       "      <td>3627.997464</td>\n",
       "    </tr>\n",
       "    <tr>\n",
       "      <th>3</th>\n",
       "      <td>2592.199088</td>\n",
       "    </tr>\n",
       "    <tr>\n",
       "      <th>4</th>\n",
       "      <td>4277.538628</td>\n",
       "    </tr>\n",
       "    <tr>\n",
       "      <th>...</th>\n",
       "      <td>...</td>\n",
       "    </tr>\n",
       "    <tr>\n",
       "      <th>5656</th>\n",
       "      <td>2105.352812</td>\n",
       "    </tr>\n",
       "    <tr>\n",
       "      <th>5657</th>\n",
       "      <td>2566.545814</td>\n",
       "    </tr>\n",
       "    <tr>\n",
       "      <th>5658</th>\n",
       "      <td>1893.428672</td>\n",
       "    </tr>\n",
       "    <tr>\n",
       "      <th>5659</th>\n",
       "      <td>3925.197268</td>\n",
       "    </tr>\n",
       "    <tr>\n",
       "      <th>5660</th>\n",
       "      <td>1120.002102</td>\n",
       "    </tr>\n",
       "  </tbody>\n",
       "</table>\n",
       "<p>5661 rows × 1 columns</p>\n",
       "</div>"
      ],
      "text/plain": [
       "           y_pred\n",
       "0     1541.213814\n",
       "1     1154.796810\n",
       "2     3627.997464\n",
       "3     2592.199088\n",
       "4     4277.538628\n",
       "...           ...\n",
       "5656  2105.352812\n",
       "5657  2566.545814\n",
       "5658  1893.428672\n",
       "5659  3925.197268\n",
       "5660  1120.002102\n",
       "\n",
       "[5661 rows x 1 columns]"
      ]
     },
     "execution_count": 185,
     "metadata": {},
     "output_type": "execute_result"
    }
   ],
   "source": [
    "vb"
   ]
  },
  {
   "cell_type": "code",
   "execution_count": 186,
   "id": "bf97cd72",
   "metadata": {},
   "outputs": [],
   "source": [
    "submission.to_csv('samplesub.csv', index = False)"
   ]
  },
  {
   "cell_type": "code",
   "execution_count": 187,
   "id": "8dea9f12",
   "metadata": {},
   "outputs": [
    {
     "data": {
      "text/plain": [
       "Item_Identifier       0\n",
       "Outlet_Identifier     0\n",
       "Item_Outlet_Sales    20\n",
       "dtype: int64"
      ]
     },
     "execution_count": 187,
     "metadata": {},
     "output_type": "execute_result"
    }
   ],
   "source": [
    "submission.isna().sum()"
   ]
  },
  {
   "cell_type": "code",
   "execution_count": 188,
   "id": "a3c1ef37",
   "metadata": {},
   "outputs": [
    {
     "data": {
      "text/plain": [
       "Item_Identifier       object\n",
       "Outlet_Identifier     object\n",
       "Item_Outlet_Sales    float64\n",
       "dtype: object"
      ]
     },
     "execution_count": 188,
     "metadata": {},
     "output_type": "execute_result"
    }
   ],
   "source": [
    "submission.dtypes"
   ]
  },
  {
   "cell_type": "code",
   "execution_count": 190,
   "id": "0cc90576",
   "metadata": {},
   "outputs": [
    {
     "data": {
      "image/png": "[encoded data removed]",
      "text/plain": [
       "<Figure size 640x480 with 1 Axes>"
      ]
     },
     "metadata": {},
     "output_type": "display_data"
    }
   ],
   "source": [
    "plt.hist(submission['Item_Outlet_Sales'])\n",
    "plt.xlabel(\"sales item outlet\")\n",
    "plt.ylabel(\"frequency\")\n",
    "plt.title(\"Distribution of sales item\")\n",
    "plt.show()"
   ]
  },
  {
   "cell_type": "code",
   "execution_count": 191,
   "id": "ed2c5b7f",
   "metadata": {},
   "outputs": [],
   "source": [
    "median_outlet=submission['Item_Outlet_Sales'].median()"
   ]
  },
  {
   "cell_type": "code",
   "execution_count": 192,
   "id": "241374d8",
   "metadata": {},
   "outputs": [
    {
     "data": {
      "text/plain": [
       "2278.3014292888183"
      ]
     },
     "execution_count": 192,
     "metadata": {},
     "output_type": "execute_result"
    }
   ],
   "source": [
    "median_outlet"
   ]
  },
  {
   "cell_type": "code",
   "execution_count": 193,
   "id": "4af63dae",
   "metadata": {},
   "outputs": [],
   "source": [
    "submission['Item_Outlet_Sales']=submission['Item_Outlet_Sales'].fillna(median_outlet)"
   ]
  },
  {
   "cell_type": "code",
   "execution_count": 194,
   "id": "e5656d75",
   "metadata": {},
   "outputs": [
    {
     "data": {
      "text/plain": [
       "Item_Identifier      0\n",
       "Outlet_Identifier    0\n",
       "Item_Outlet_Sales    0\n",
       "dtype: int64"
      ]
     },
     "execution_count": 194,
     "metadata": {},
     "output_type": "execute_result"
    }
   ],
   "source": [
    "submission.isna().sum()"
   ]
  },
  {
   "cell_type": "code",
   "execution_count": 196,
   "id": "deb4cbf4",
   "metadata": {},
   "outputs": [],
   "source": [
    "submission.to_csv('samplesub.csv', index = False)"
   ]
  },
  {
   "cell_type": "code",
   "execution_count": 197,
   "id": "59a7b696",
   "metadata": {},
   "outputs": [
    {
     "data": {
      "text/plain": [
       "Item_Identifier      0\n",
       "Outlet_Identifier    0\n",
       "Item_Outlet_Sales    0\n",
       "dtype: int64"
      ]
     },
     "execution_count": 197,
     "metadata": {},
     "output_type": "execute_result"
    }
   ],
   "source": [
    "submission.isna().sum()"
   ]
  },
  {
   "cell_type": "code",
   "execution_count": null,
   "id": "e0984457",
   "metadata": {},
   "outputs": [],
   "source": []
  }
 ],
 "metadata": {
  "kernelspec": {
   "display_name": "Python 3 (ipykernel)",
   "language": "python",
   "name": "python3"
  },
  "language_info": {
   "codemirror_mode": {
    "name": "ipython",
    "version": 3
   },
   "file_extension": ".py",
   "mimetype": "text/x-python",
   "name": "python",
   "nbconvert_exporter": "python",
   "pygments_lexer": "ipython3",
   "version": "3.10.9"
  }
 },
 "nbformat": 4,
 "nbformat_minor": 5
}
