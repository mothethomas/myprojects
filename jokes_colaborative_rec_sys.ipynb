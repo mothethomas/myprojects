{
 "cells": [
  {
   "cell_type": "markdown",
   "id": "1799f135",
   "metadata": {},
   "source": [
    "# Import Libraries"
   ]
  },
  {
   "cell_type": "code",
   "execution_count": 1,
   "id": "b087ecc9",
   "metadata": {},
   "outputs": [],
   "source": [
    "import pandas as pd\n",
    "import numpy as np\n",
    
   ]
  },
  {
   "cell_type": "code",
   "execution_count": 2,
   "id": "015f79ef",
   "metadata": {},
   "outputs": [],
   "source": [
    "# Load dataset"
   ]
  },
  {
   "cell_type": "code",
   "execution_count": 3,
   "id": "400d2b0f",
   "metadata": {},
   "outputs": [],
   "source": [
    "frame=pd.read_csv(\"jokes-data.csv\")"
   ]
  },
  {
   "cell_type": "code",
   "execution_count": 4,
   "id": "0eaeb8bb",
   "metadata": {},
   "outputs": [
    {
     "data": {
      "text/html": [
       "<div>\n",
       "<style scoped>\n",
       "    .dataframe tbody tr th:only-of-type {\n",
       "        vertical-align: middle;\n",
       "    }\n",
       "\n",
       "    .dataframe tbody tr th {\n",
       "        vertical-align: top;\n",
       "    }\n",
       "\n",
       "    .dataframe thead th {\n",
       "        text-align: right;\n",
       "    }\n",
       "</style>\n",
       "<table border=\"1\" class=\"dataframe\">\n",
       "  <thead>\n",
       "    <tr style=\"text-align: right;\">\n",
       "      <th></th>\n",
       "      <th>id</th>\n",
       "      <th>user_id</th>\n",
       "      <th>joke_id</th>\n",
       "      <th>Rating</th>\n",
       "    </tr>\n",
       "  </thead>\n",
       "  <tbody>\n",
       "    <tr>\n",
       "      <th>0</th>\n",
       "      <td>31030_110</td>\n",
       "      <td>31030</td>\n",
       "      <td>110</td>\n",
       "      <td>2.750</td>\n",
       "    </tr>\n",
       "    <tr>\n",
       "      <th>1</th>\n",
       "      <td>16144_109</td>\n",
       "      <td>16144</td>\n",
       "      <td>109</td>\n",
       "      <td>5.094</td>\n",
       "    </tr>\n",
       "    <tr>\n",
       "      <th>2</th>\n",
       "      <td>23098_6</td>\n",
       "      <td>23098</td>\n",
       "      <td>6</td>\n",
       "      <td>-6.438</td>\n",
       "    </tr>\n",
       "    <tr>\n",
       "      <th>3</th>\n",
       "      <td>14273_86</td>\n",
       "      <td>14273</td>\n",
       "      <td>86</td>\n",
       "      <td>4.406</td>\n",
       "    </tr>\n",
       "    <tr>\n",
       "      <th>4</th>\n",
       "      <td>18419_134</td>\n",
       "      <td>18419</td>\n",
       "      <td>134</td>\n",
       "      <td>9.375</td>\n",
       "    </tr>\n",
       "    <tr>\n",
       "      <th>...</th>\n",
       "      <td>...</td>\n",
       "      <td>...</td>\n",
       "      <td>...</td>\n",
       "      <td>...</td>\n",
       "    </tr>\n",
       "    <tr>\n",
       "      <th>1092054</th>\n",
       "      <td>9517_132</td>\n",
       "      <td>9517</td>\n",
       "      <td>132</td>\n",
       "      <td>3.156</td>\n",
       "    </tr>\n",
       "    <tr>\n",
       "      <th>1092055</th>\n",
       "      <td>27767_118</td>\n",
       "      <td>27767</td>\n",
       "      <td>118</td>\n",
       "      <td>-1.594</td>\n",
       "    </tr>\n",
       "    <tr>\n",
       "      <th>1092056</th>\n",
       "      <td>10580_81</td>\n",
       "      <td>10580</td>\n",
       "      <td>81</td>\n",
       "      <td>2.000</td>\n",
       "    </tr>\n",
       "    <tr>\n",
       "      <th>1092057</th>\n",
       "      <td>31007_119</td>\n",
       "      <td>31007</td>\n",
       "      <td>119</td>\n",
       "      <td>8.906</td>\n",
       "    </tr>\n",
       "    <tr>\n",
       "      <th>1092058</th>\n",
       "      <td>8420_98</td>\n",
       "      <td>8420</td>\n",
       "      <td>98</td>\n",
       "      <td>-3.344</td>\n",
       "    </tr>\n",
       "  </tbody>\n",
       "</table>\n",
       "<p>1092059 rows × 4 columns</p>\n",
       "</div>"
      ],
      "text/plain": [
       "                id  user_id  joke_id  Rating\n",
       "0        31030_110    31030      110   2.750\n",
       "1        16144_109    16144      109   5.094\n",
       "2          23098_6    23098        6  -6.438\n",
       "3         14273_86    14273       86   4.406\n",
       "4        18419_134    18419      134   9.375\n",
       "...            ...      ...      ...     ...\n",
       "1092054   9517_132     9517      132   3.156\n",
       "1092055  27767_118    27767      118  -1.594\n",
       "1092056   10580_81    10580       81   2.000\n",
       "1092057  31007_119    31007      119   8.906\n",
       "1092058    8420_98     8420       98  -3.344\n",
       "\n",
       "[1092059 rows x 4 columns]"
      ]
     },
     "execution_count": 4,
     "metadata": {},
     "output_type": "execute_result"
    }
   ],
   "source": [
    "frame"
   ]
  },
  {
   "cell_type": "code",
   "execution_count": 5,
   "id": "e03c5a55",
   "metadata": {},
   "outputs": [
    {
     "data": {
      "text/plain": [
       "40863"
      ]
     },
     "execution_count": 5,
     "metadata": {},
     "output_type": "execute_result"
    }
   ],
   "source": [
    "frame['user_id'].nunique()"
   ]
  },
  {
   "cell_type": "code",
   "execution_count": 6,
   "id": "8473ddf4",
   "metadata": {},
   "outputs": [
    {
     "data": {
      "text/plain": [
       "(1092059, 4)"
      ]
     },
     "execution_count": 6,
     "metadata": {},
     "output_type": "execute_result"
    }
   ],
   "source": [
    "frame.shape"
   ]
  },
  {
   "cell_type": "code",
   "execution_count": 7,
   "id": "20c344ee",
   "metadata": {},
   "outputs": [
    {
     "data": {
      "text/plain": [
       "139"
      ]
     },
     "execution_count": 7,
     "metadata": {},
     "output_type": "execute_result"
    }
   ],
   "source": [
    "frame['joke_id'].nunique()"
   ]
  },
  {
   "cell_type": "code",
   "execution_count": 8,
   "id": "93042ec9",
   "metadata": {},
   "outputs": [
    {
     "data": {
      "text/plain": [
       "joke_id\n",
       "6    27498\n",
       "8    27485\n",
       "5    27402\n",
       "3    27369\n",
       "4    27368\n",
       "Name: Rating, dtype: int64"
      ]
     },
     "execution_count": 8,
     "metadata": {},
     "output_type": "execute_result"
    }
   ],
   "source": [
    "frame.groupby('joke_id')['Rating'].count().sort_values(ascending=False).head()"
   ]
  },
  {
   "cell_type": "code",
   "execution_count": 9,
   "id": "fa7e2e70",
   "metadata": {},
   "outputs": [
    {
     "data": {
      "text/plain": [
       " 9.938    4692\n",
       " 9.969    4584\n",
       " 9.906    4247\n",
       " 9.875    3808\n",
       " 9.844    3466\n",
       "          ... \n",
       "-7.625     575\n",
       "-7.656     562\n",
       "-7.688     541\n",
       "-9.969     453\n",
       "-9.938     305\n",
       "Name: Rating, Length: 641, dtype: int64"
      ]
     },
     "execution_count": 9,
     "metadata": {},
     "output_type": "execute_result"
    }
   ],
   "source": [
    "frame['Rating'].value_counts()"
   ]
  },
  {
   "cell_type": "code",
   "execution_count": 10,
   "id": "ccee1d47",
   "metadata": {},
   "outputs": [
    {
     "data": {
      "text/plain": [
       "6      27498\n",
       "8      27485\n",
       "5      27402\n",
       "3      27369\n",
       "4      27368\n",
       "       ...  \n",
       "70       113\n",
       "41       112\n",
       "42       109\n",
       "106      104\n",
       "90       100\n",
       "Name: joke_id, Length: 139, dtype: int64"
      ]
     },
     "execution_count": 10,
     "metadata": {},
     "output_type": "execute_result"
    }
   ],
   "source": [
    "frame['joke_id'].value_counts()"
   ]
  },
  {
   "cell_type": "code",
   "execution_count": 11,
   "id": "e73aede6",
   "metadata": {},
   "outputs": [
    {
     "data": {
      "text/plain": [
       " 9.938    4692\n",
       " 9.969    4584\n",
       " 9.906    4247\n",
       " 9.875    3808\n",
       " 9.844    3466\n",
       "          ... \n",
       "-7.625     575\n",
       "-7.656     562\n",
       "-7.688     541\n",
       "-9.969     453\n",
       "-9.938     305\n",
       "Name: Rating, Length: 641, dtype: int64"
      ]
     },
     "execution_count": 11,
     "metadata": {},
     "output_type": "execute_result"
    }
   ],
   "source": [
    "frame['Rating'].value_counts().sort_values(ascending=False)"
   ]
  },
  {
   "cell_type": "code",
   "execution_count": 12,
   "id": "9f68fa55",
   "metadata": {},
   "outputs": [
    {
     "data": {
      "text/plain": [
       "0          2.750\n",
       "1          5.094\n",
       "2         -6.438\n",
       "3          4.406\n",
       "4          9.375\n",
       "           ...  \n",
       "1092054    3.156\n",
       "1092055   -1.594\n",
       "1092056    2.000\n",
       "1092057    8.906\n",
       "1092058   -3.344\n",
       "Name: Rating, Length: 1092059, dtype: float64"
      ]
     },
     "execution_count": 12,
     "metadata": {},
     "output_type": "execute_result"
    }
   ],
   "source": [
    "frame['Rating']"
   ]
  },
  {
   "cell_type": "code",
   "execution_count": 13,
   "id": "0b484833",
   "metadata": {},
   "outputs": [
    {
     "data": {
      "text/plain": [
       "id         0\n",
       "user_id    0\n",
       "joke_id    0\n",
       "Rating     0\n",
       "dtype: int64"
      ]
     },
     "execution_count": 13,
     "metadata": {},
     "output_type": "execute_result"
    }
   ],
   "source": [
    "frame.isna().sum()"
   ]
  },
  {
   "cell_type": "markdown",
   "id": "78a4331f",
   "metadata": {},
   "source": [
    "# Collaborative Filtering"
   ]
  },
  {
   "cell_type": "code",
   "execution_count": 14,
   "id": "221edf67",
   "metadata": {},
   "outputs": [],
   "source": [
    "from surprise import Reader,KNNBasic,Dataset,SVD"
   ]
  },
  {
   "cell_type": "markdown",
   "id": "bec23924",
   "metadata": {},
   "source": [
    "## define a reader object\n",
    "# the reader object helps in parsing the file or dataframe containing ratings"
   ]
  },
  {
   "cell_type": "code",
   "execution_count": 15,
   "id": "e0df3d80",
   "metadata": {},
   "outputs": [],
   "source": [
    "reader=Reader()"
   ]
  },
  {
   "cell_type": "markdown",
   "id": "35b021ba",
   "metadata": {},
   "source": [
    "# create a dataset to be used for building the filter"
   ]
  },
  {
   "cell_type": "code",
   "execution_count": 16,
   "id": "34f3be24",
   "metadata": {},
   "outputs": [],
   "source": [
    "frame=frame.drop('id',axis=1)"
   ]
  },
  {
   "cell_type": "code",
   "execution_count": 17,
   "id": "69af42ee",
   "metadata": {},
   "outputs": [],
   "source": [
    "data = Dataset.load_from_df(frame, reader)"
   ]
  },
  {
   "cell_type": "code",
   "execution_count": 18,
   "id": "90f9daae",
   "metadata": {},
   "outputs": [
    {
     "data": {
      "text/plain": [
       "<surprise.dataset.DatasetAutoFolds at 0x262813cf580>"
      ]
     },
     "execution_count": 18,
     "metadata": {},
     "output_type": "execute_result"
    }
   ],
   "source": [
    "data"
   ]
  },
  {
   "cell_type": "code",
   "execution_count": 19,
   "id": "396a0236",
   "metadata": {},
   "outputs": [],
   "source": []
  },
  {
   "cell_type": "code",
   "execution_count": 20,
   "id": "3dfe44b7",
   "metadata": {},
   "outputs": [],
   "source": [
    "from surprise.model_selection import cross_validate"
   ]
  },
  {
   "cell_type": "markdown",
   "id": "3a61abe1",
   "metadata": {},
   "source": [
    "# SVD"
   ]
  },
  {
   "cell_type": "code",
   "execution_count": 22,
   "id": "09b2d061",
   "metadata": {},
   "outputs": [],
   "source": [
    "algo2 = SVD()"
   ]
  },
  {
   "cell_type": "code",
   "execution_count": 23,
   "id": "45f3f02a",
   "metadata": {},
   "outputs": [
    {
     "name": "stdout",
     "output_type": "stream",
     "text": [
      "Evaluating RMSE of algorithm SVD on 5 split(s).\n",
      "\n",
      "                  Fold 1  Fold 2  Fold 3  Fold 4  Fold 5  Mean    Std     \n",
      "RMSE (testset)    4.6657  4.6507  4.6728  4.6671  4.6544  4.6621  0.0083  \n",
      "Fit time          21.61   27.30   27.55   27.64   26.64   26.15   2.30    \n",
      "Test time         4.62    5.33    5.23    4.18    4.17    4.71    0.50    \n"
     ]
    },
    {
     "data": {
      "text/plain": [
       "{'test_rmse': array([4.6657122 , 4.65071382, 4.67277032, 4.6671338 , 4.65435753]),\n",
       " 'fit_time': (21.610783576965332,\n",
       "  27.301950454711914,\n",
       "  27.553404092788696,\n",
       "  27.63568115234375,\n",
       "  26.63709855079651),\n",
       " 'test_time': (4.619357109069824,\n",
       "  5.325421094894409,\n",
       "  5.233469724655151,\n",
       "  4.184230089187622,\n",
       "  4.1684277057647705)}"
      ]
     },
     "execution_count": 23,
     "metadata": {},
     "output_type": "execute_result"
    }
   ],
   "source": [
    "cross_validate(algo2, data, measures = [\"RMSE\"], cv = 5, verbose = True)"
   ]
  }
 ],
 "metadata": {
  "kernelspec": {
   "display_name": "Python 3 (ipykernel)",
   "language": "python",
   "name": "python3"
  },
  "language_info": {
   "codemirror_mode": {
    "name": "ipython",
    "version": 3
   },
   "file_extension": ".py",
   "mimetype": "text/x-python",
   "name": "python",
   "nbconvert_exporter": "python",
   "pygments_lexer": "ipython3",
   "version": "3.10.9"
  }
 },
 "nbformat": 4,
 "nbformat_minor": 5
}
