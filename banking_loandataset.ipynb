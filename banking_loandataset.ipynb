{
 "cells": [
  {
   "cell_type": "markdown",
   "id": "158d3c5d",
   "metadata": {},
   "source": [
    "# Import Libraries"
   ]
  },
  {
   "cell_type": "code",
   "execution_count": 1,
   "id": "8260d9ea",
   "metadata": {},
   "outputs": [],
   "source": [
    "import pandas as pd\n",
    "import numpy as np\n",
    "import matplotlib.pyplot as plt\n",
    "import seaborn as sns"
   ]
  },
  {
   "cell_type": "markdown",
   "id": "484da2d3",
   "metadata": {},
   "source": [
    "# loading dataset into pandas dataframe"
   ]
  },
  {
   "cell_type": "code",
   "execution_count": 2,
   "id": "7aa48322",
   "metadata": {},
   "outputs": [],
   "source": [
    "data=pd.read_csv(\"loan_dataset.csv\")"
   ]
  },
  {
   "cell_type": "markdown",
   "id": "6ef4d525",
   "metadata": {},
   "source": [
    "# Exploratory Data Analysis"
   ]
  },
  {
   "cell_type": "code",
   "execution_count": 3,
   "id": "f7af2542",
   "metadata": {},
   "outputs": [
    {
     "data": {
      "text/plain": [
       "(116058, 29)"
      ]
     },
     "execution_count": 3,
     "metadata": {},
     "output_type": "execute_result"
    }
   ],
   "source": [
    "data.shape"
   ]
  },
  {
   "cell_type": "code",
   "execution_count": 4,
   "id": "7489c140",
   "metadata": {},
   "outputs": [
    {
     "name": "stdout",
     "output_type": "stream",
     "text": [
      "<class 'pandas.core.frame.DataFrame'>\n",
      "RangeIndex: 116058 entries, 0 to 116057\n",
      "Data columns (total 29 columns):\n",
      " #   Column                    Non-Null Count   Dtype  \n",
      "---  ------                    --------------   -----  \n",
      " 0   loan_id                   116058 non-null  int64  \n",
      " 1   source                    116058 non-null  object \n",
      " 2   financial_institution     116058 non-null  object \n",
      " 3   interest_rate             116058 non-null  float64\n",
      " 4   unpaid_principal_bal      116058 non-null  int64  \n",
      " 5   loan_term                 116058 non-null  int64  \n",
      " 6   origination_date          116058 non-null  object \n",
      " 7   first_payment_date        116058 non-null  object \n",
      " 8   loan_to_value             116058 non-null  int64  \n",
      " 9   number_of_borrowers       116058 non-null  float64\n",
      " 10  debt_to_income_ratio      116058 non-null  float64\n",
      " 11  borrower_credit_score     116058 non-null  float64\n",
      " 12  loan_purpose              116058 non-null  object \n",
      " 13  insurance_percent         116058 non-null  float64\n",
      " 14  co-borrower_credit_score  116058 non-null  float64\n",
      " 15  insurance_type            116058 non-null  float64\n",
      " 16  m1                        116058 non-null  int64  \n",
      " 17  m2                        116058 non-null  int64  \n",
      " 18  m3                        116058 non-null  int64  \n",
      " 19  m4                        116058 non-null  int64  \n",
      " 20  m5                        116058 non-null  int64  \n",
      " 21  m6                        116058 non-null  int64  \n",
      " 22  m7                        116058 non-null  int64  \n",
      " 23  m8                        116058 non-null  int64  \n",
      " 24  m9                        116058 non-null  int64  \n",
      " 25  m10                       116058 non-null  int64  \n",
      " 26  m11                       116058 non-null  int64  \n",
      " 27  m12                       116058 non-null  int64  \n",
      " 28  m13                       116058 non-null  int64  \n",
      "dtypes: float64(7), int64(17), object(5)\n",
      "memory usage: 25.7+ MB\n"
     ]
    }
   ],
   "source": [
    "data.info()"
   ]
  },
  {
   "cell_type": "code",
   "execution_count": 5,
   "id": "a552ebcf",
   "metadata": {},
   "outputs": [
    {
     "data": {
      "text/html": [
       "<div>\n",
       "<style scoped>\n",
       "    .dataframe tbody tr th:only-of-type {\n",
       "        vertical-align: middle;\n",
       "    }\n",
       "\n",
       "    .dataframe tbody tr th {\n",
       "        vertical-align: top;\n",
       "    }\n",
       "\n",
       "    .dataframe thead th {\n",
       "        text-align: right;\n",
       "    }\n",
       "</style>\n",
       "<table border=\"1\" class=\"dataframe\">\n",
       "  <thead>\n",
       "    <tr style=\"text-align: right;\">\n",
       "      <th></th>\n",
       "      <th>loan_id</th>\n",
       "      <th>source</th>\n",
       "      <th>financial_institution</th>\n",
       "      <th>interest_rate</th>\n",
       "      <th>unpaid_principal_bal</th>\n",
       "      <th>loan_term</th>\n",
       "      <th>origination_date</th>\n",
       "      <th>first_payment_date</th>\n",
       "      <th>loan_to_value</th>\n",
       "      <th>number_of_borrowers</th>\n",
       "      <th>...</th>\n",
       "      <th>m4</th>\n",
       "      <th>m5</th>\n",
       "      <th>m6</th>\n",
       "      <th>m7</th>\n",
       "      <th>m8</th>\n",
       "      <th>m9</th>\n",
       "      <th>m10</th>\n",
       "      <th>m11</th>\n",
       "      <th>m12</th>\n",
       "      <th>m13</th>\n",
       "    </tr>\n",
       "  </thead>\n",
       "  <tbody>\n",
       "    <tr>\n",
       "      <th>0</th>\n",
       "      <td>268055008619</td>\n",
       "      <td>Z</td>\n",
       "      <td>Turner, Baldwin and Rhodes</td>\n",
       "      <td>4.250</td>\n",
       "      <td>214000</td>\n",
       "      <td>360</td>\n",
       "      <td>2012-03-01</td>\n",
       "      <td>05/2012</td>\n",
       "      <td>95</td>\n",
       "      <td>1.0</td>\n",
       "      <td>...</td>\n",
       "      <td>0</td>\n",
       "      <td>0</td>\n",
       "      <td>0</td>\n",
       "      <td>1</td>\n",
       "      <td>0</td>\n",
       "      <td>0</td>\n",
       "      <td>0</td>\n",
       "      <td>0</td>\n",
       "      <td>0</td>\n",
       "      <td>1</td>\n",
       "    </tr>\n",
       "    <tr>\n",
       "      <th>1</th>\n",
       "      <td>672831657627</td>\n",
       "      <td>Y</td>\n",
       "      <td>Swanson, Newton and Miller</td>\n",
       "      <td>4.875</td>\n",
       "      <td>144000</td>\n",
       "      <td>360</td>\n",
       "      <td>2012-01-01</td>\n",
       "      <td>03/2012</td>\n",
       "      <td>72</td>\n",
       "      <td>1.0</td>\n",
       "      <td>...</td>\n",
       "      <td>0</td>\n",
       "      <td>0</td>\n",
       "      <td>0</td>\n",
       "      <td>0</td>\n",
       "      <td>0</td>\n",
       "      <td>0</td>\n",
       "      <td>0</td>\n",
       "      <td>1</td>\n",
       "      <td>0</td>\n",
       "      <td>1</td>\n",
       "    </tr>\n",
       "    <tr>\n",
       "      <th>2</th>\n",
       "      <td>742515242108</td>\n",
       "      <td>Z</td>\n",
       "      <td>Thornton-Davis</td>\n",
       "      <td>3.250</td>\n",
       "      <td>366000</td>\n",
       "      <td>180</td>\n",
       "      <td>2012-01-01</td>\n",
       "      <td>03/2012</td>\n",
       "      <td>49</td>\n",
       "      <td>1.0</td>\n",
       "      <td>...</td>\n",
       "      <td>0</td>\n",
       "      <td>0</td>\n",
       "      <td>0</td>\n",
       "      <td>0</td>\n",
       "      <td>0</td>\n",
       "      <td>0</td>\n",
       "      <td>0</td>\n",
       "      <td>0</td>\n",
       "      <td>0</td>\n",
       "      <td>1</td>\n",
       "    </tr>\n",
       "    <tr>\n",
       "      <th>3</th>\n",
       "      <td>601385667462</td>\n",
       "      <td>X</td>\n",
       "      <td>OTHER</td>\n",
       "      <td>4.750</td>\n",
       "      <td>135000</td>\n",
       "      <td>360</td>\n",
       "      <td>2012-02-01</td>\n",
       "      <td>04/2012</td>\n",
       "      <td>46</td>\n",
       "      <td>2.0</td>\n",
       "      <td>...</td>\n",
       "      <td>0</td>\n",
       "      <td>0</td>\n",
       "      <td>0</td>\n",
       "      <td>0</td>\n",
       "      <td>0</td>\n",
       "      <td>1</td>\n",
       "      <td>1</td>\n",
       "      <td>1</td>\n",
       "      <td>1</td>\n",
       "      <td>1</td>\n",
       "    </tr>\n",
       "    <tr>\n",
       "      <th>4</th>\n",
       "      <td>273870029961</td>\n",
       "      <td>X</td>\n",
       "      <td>OTHER</td>\n",
       "      <td>4.750</td>\n",
       "      <td>124000</td>\n",
       "      <td>360</td>\n",
       "      <td>2012-02-01</td>\n",
       "      <td>04/2012</td>\n",
       "      <td>80</td>\n",
       "      <td>1.0</td>\n",
       "      <td>...</td>\n",
       "      <td>3</td>\n",
       "      <td>4</td>\n",
       "      <td>5</td>\n",
       "      <td>6</td>\n",
       "      <td>7</td>\n",
       "      <td>8</td>\n",
       "      <td>9</td>\n",
       "      <td>10</td>\n",
       "      <td>11</td>\n",
       "      <td>1</td>\n",
       "    </tr>\n",
       "  </tbody>\n",
       "</table>\n",
       "<p>5 rows × 29 columns</p>\n",
       "</div>"
      ],
      "text/plain": [
       "        loan_id source       financial_institution  interest_rate  \\\n",
       "0  268055008619      Z  Turner, Baldwin and Rhodes          4.250   \n",
       "1  672831657627      Y  Swanson, Newton and Miller          4.875   \n",
       "2  742515242108      Z              Thornton-Davis          3.250   \n",
       "3  601385667462      X                       OTHER          4.750   \n",
       "4  273870029961      X                       OTHER          4.750   \n",
       "\n",
       "   unpaid_principal_bal  loan_term origination_date first_payment_date  \\\n",
       "0                214000        360       2012-03-01            05/2012   \n",
       "1                144000        360       2012-01-01            03/2012   \n",
       "2                366000        180       2012-01-01            03/2012   \n",
       "3                135000        360       2012-02-01            04/2012   \n",
       "4                124000        360       2012-02-01            04/2012   \n",
       "\n",
       "   loan_to_value  number_of_borrowers  ...  m4  m5 m6  m7  m8  m9  m10  m11  \\\n",
       "0             95                  1.0  ...   0   0  0   1   0   0    0    0   \n",
       "1             72                  1.0  ...   0   0  0   0   0   0    0    1   \n",
       "2             49                  1.0  ...   0   0  0   0   0   0    0    0   \n",
       "3             46                  2.0  ...   0   0  0   0   0   1    1    1   \n",
       "4             80                  1.0  ...   3   4  5   6   7   8    9   10   \n",
       "\n",
       "   m12  m13  \n",
       "0    0    1  \n",
       "1    0    1  \n",
       "2    0    1  \n",
       "3    1    1  \n",
       "4   11    1  \n",
       "\n",
       "[5 rows x 29 columns]"
      ]
     },
     "execution_count": 5,
     "metadata": {},
     "output_type": "execute_result"
    }
   ],
   "source": [
    "data.head()"
   ]
  },
  {
   "cell_type": "code",
   "execution_count": 6,
   "id": "6d5462ff",
   "metadata": {},
   "outputs": [
    {
     "data": {
      "text/html": [
       "<div>\n",
       "<style scoped>\n",
       "    .dataframe tbody tr th:only-of-type {\n",
       "        vertical-align: middle;\n",
       "    }\n",
       "\n",
       "    .dataframe tbody tr th {\n",
       "        vertical-align: top;\n",
       "    }\n",
       "\n",
       "    .dataframe thead th {\n",
       "        text-align: right;\n",
       "    }\n",
       "</style>\n",
       "<table border=\"1\" class=\"dataframe\">\n",
       "  <thead>\n",
       "    <tr style=\"text-align: right;\">\n",
       "      <th></th>\n",
       "      <th>loan_id</th>\n",
       "      <th>source</th>\n",
       "      <th>financial_institution</th>\n",
       "      <th>interest_rate</th>\n",
       "      <th>unpaid_principal_bal</th>\n",
       "      <th>loan_term</th>\n",
       "      <th>origination_date</th>\n",
       "      <th>first_payment_date</th>\n",
       "      <th>loan_to_value</th>\n",
       "      <th>number_of_borrowers</th>\n",
       "      <th>...</th>\n",
       "      <th>m4</th>\n",
       "      <th>m5</th>\n",
       "      <th>m6</th>\n",
       "      <th>m7</th>\n",
       "      <th>m8</th>\n",
       "      <th>m9</th>\n",
       "      <th>m10</th>\n",
       "      <th>m11</th>\n",
       "      <th>m12</th>\n",
       "      <th>m13</th>\n",
       "    </tr>\n",
       "  </thead>\n",
       "  <tbody>\n",
       "    <tr>\n",
       "      <th>116053</th>\n",
       "      <td>382119962287</td>\n",
       "      <td>Y</td>\n",
       "      <td>Browning-Hart</td>\n",
       "      <td>4.125</td>\n",
       "      <td>153000</td>\n",
       "      <td>360</td>\n",
       "      <td>2012-02-01</td>\n",
       "      <td>04/2012</td>\n",
       "      <td>88</td>\n",
       "      <td>2.0</td>\n",
       "      <td>...</td>\n",
       "      <td>0</td>\n",
       "      <td>0</td>\n",
       "      <td>0</td>\n",
       "      <td>0</td>\n",
       "      <td>0</td>\n",
       "      <td>0</td>\n",
       "      <td>0</td>\n",
       "      <td>0</td>\n",
       "      <td>0</td>\n",
       "      <td>0</td>\n",
       "    </tr>\n",
       "    <tr>\n",
       "      <th>116054</th>\n",
       "      <td>582803915466</td>\n",
       "      <td>Z</td>\n",
       "      <td>OTHER</td>\n",
       "      <td>3.000</td>\n",
       "      <td>150000</td>\n",
       "      <td>120</td>\n",
       "      <td>2012-01-01</td>\n",
       "      <td>03/2012</td>\n",
       "      <td>35</td>\n",
       "      <td>1.0</td>\n",
       "      <td>...</td>\n",
       "      <td>0</td>\n",
       "      <td>0</td>\n",
       "      <td>0</td>\n",
       "      <td>0</td>\n",
       "      <td>0</td>\n",
       "      <td>0</td>\n",
       "      <td>0</td>\n",
       "      <td>0</td>\n",
       "      <td>0</td>\n",
       "      <td>0</td>\n",
       "    </tr>\n",
       "    <tr>\n",
       "      <th>116055</th>\n",
       "      <td>837922316947</td>\n",
       "      <td>X</td>\n",
       "      <td>OTHER</td>\n",
       "      <td>3.875</td>\n",
       "      <td>166000</td>\n",
       "      <td>360</td>\n",
       "      <td>2012-02-01</td>\n",
       "      <td>04/2012</td>\n",
       "      <td>58</td>\n",
       "      <td>2.0</td>\n",
       "      <td>...</td>\n",
       "      <td>0</td>\n",
       "      <td>0</td>\n",
       "      <td>0</td>\n",
       "      <td>0</td>\n",
       "      <td>0</td>\n",
       "      <td>0</td>\n",
       "      <td>0</td>\n",
       "      <td>0</td>\n",
       "      <td>0</td>\n",
       "      <td>0</td>\n",
       "    </tr>\n",
       "    <tr>\n",
       "      <th>116056</th>\n",
       "      <td>477343182138</td>\n",
       "      <td>X</td>\n",
       "      <td>OTHER</td>\n",
       "      <td>4.250</td>\n",
       "      <td>169000</td>\n",
       "      <td>360</td>\n",
       "      <td>2012-02-01</td>\n",
       "      <td>04/2012</td>\n",
       "      <td>74</td>\n",
       "      <td>2.0</td>\n",
       "      <td>...</td>\n",
       "      <td>0</td>\n",
       "      <td>0</td>\n",
       "      <td>0</td>\n",
       "      <td>0</td>\n",
       "      <td>0</td>\n",
       "      <td>0</td>\n",
       "      <td>0</td>\n",
       "      <td>0</td>\n",
       "      <td>0</td>\n",
       "      <td>0</td>\n",
       "    </tr>\n",
       "    <tr>\n",
       "      <th>116057</th>\n",
       "      <td>763308490661</td>\n",
       "      <td>Z</td>\n",
       "      <td>Thornton-Davis</td>\n",
       "      <td>3.375</td>\n",
       "      <td>252000</td>\n",
       "      <td>180</td>\n",
       "      <td>2012-01-01</td>\n",
       "      <td>03/2012</td>\n",
       "      <td>29</td>\n",
       "      <td>2.0</td>\n",
       "      <td>...</td>\n",
       "      <td>0</td>\n",
       "      <td>0</td>\n",
       "      <td>0</td>\n",
       "      <td>0</td>\n",
       "      <td>0</td>\n",
       "      <td>0</td>\n",
       "      <td>0</td>\n",
       "      <td>0</td>\n",
       "      <td>0</td>\n",
       "      <td>0</td>\n",
       "    </tr>\n",
       "  </tbody>\n",
       "</table>\n",
       "<p>5 rows × 29 columns</p>\n",
       "</div>"
      ],
      "text/plain": [
       "             loan_id source financial_institution  interest_rate  \\\n",
       "116053  382119962287      Y         Browning-Hart          4.125   \n",
       "116054  582803915466      Z                 OTHER          3.000   \n",
       "116055  837922316947      X                 OTHER          3.875   \n",
       "116056  477343182138      X                 OTHER          4.250   \n",
       "116057  763308490661      Z        Thornton-Davis          3.375   \n",
       "\n",
       "        unpaid_principal_bal  loan_term origination_date first_payment_date  \\\n",
       "116053                153000        360       2012-02-01            04/2012   \n",
       "116054                150000        120       2012-01-01            03/2012   \n",
       "116055                166000        360       2012-02-01            04/2012   \n",
       "116056                169000        360       2012-02-01            04/2012   \n",
       "116057                252000        180       2012-01-01            03/2012   \n",
       "\n",
       "        loan_to_value  number_of_borrowers  ...  m4  m5 m6  m7  m8  m9  m10  \\\n",
       "116053             88                  2.0  ...   0   0  0   0   0   0    0   \n",
       "116054             35                  1.0  ...   0   0  0   0   0   0    0   \n",
       "116055             58                  2.0  ...   0   0  0   0   0   0    0   \n",
       "116056             74                  2.0  ...   0   0  0   0   0   0    0   \n",
       "116057             29                  2.0  ...   0   0  0   0   0   0    0   \n",
       "\n",
       "        m11  m12  m13  \n",
       "116053    0    0    0  \n",
       "116054    0    0    0  \n",
       "116055    0    0    0  \n",
       "116056    0    0    0  \n",
       "116057    0    0    0  \n",
       "\n",
       "[5 rows x 29 columns]"
      ]
     },
     "execution_count": 6,
     "metadata": {},
     "output_type": "execute_result"
    }
   ],
   "source": [
    "data.tail()\n"
   ]
  },
  {
   "cell_type": "code",
   "execution_count": 7,
   "id": "c8bcac30",
   "metadata": {},
   "outputs": [],
   "source": [
    "# Handling missing values"
   ]
  },
  {
   "cell_type": "code",
   "execution_count": 8,
   "id": "27eb9449",
   "metadata": {},
   "outputs": [
    {
     "data": {
      "text/plain": [
       "loan_id                     0\n",
       "source                      0\n",
       "financial_institution       0\n",
       "interest_rate               0\n",
       "unpaid_principal_bal        0\n",
       "loan_term                   0\n",
       "origination_date            0\n",
       "first_payment_date          0\n",
       "loan_to_value               0\n",
       "number_of_borrowers         0\n",
       "debt_to_income_ratio        0\n",
       "borrower_credit_score       0\n",
       "loan_purpose                0\n",
       "insurance_percent           0\n",
       "co-borrower_credit_score    0\n",
       "insurance_type              0\n",
       "m1                          0\n",
       "m2                          0\n",
       "m3                          0\n",
       "m4                          0\n",
       "m5                          0\n",
       "m6                          0\n",
       "m7                          0\n",
       "m8                          0\n",
       "m9                          0\n",
       "m10                         0\n",
       "m11                         0\n",
       "m12                         0\n",
       "m13                         0\n",
       "dtype: int64"
      ]
     },
     "execution_count": 8,
     "metadata": {},
     "output_type": "execute_result"
    }
   ],
   "source": [
    "data.isna().sum()"
   ]
  },
  {
   "cell_type": "code",
   "execution_count": 9,
   "id": "cf7109cf",
   "metadata": {},
   "outputs": [],
   "source": [
    "data=data.dropna()"
   ]
  },
  {
   "cell_type": "code",
   "execution_count": 10,
   "id": "09a933a5",
   "metadata": {},
   "outputs": [],
   "source": [
    "# Outliers"
   ]
  },
  {
   "cell_type": "code",
   "execution_count": 11,
   "id": "c01eaf71",
   "metadata": {},
   "outputs": [
    {
     "data": {
      "text/plain": [
       "Index(['loan_id', 'source', 'financial_institution', 'interest_rate',\n",
       "       'unpaid_principal_bal', 'loan_term', 'origination_date',\n",
       "       'first_payment_date', 'loan_to_value', 'number_of_borrowers',\n",
       "       'debt_to_income_ratio', 'borrower_credit_score', 'loan_purpose',\n",
       "       'insurance_percent', 'co-borrower_credit_score', 'insurance_type', 'm1',\n",
       "       'm2', 'm3', 'm4', 'm5', 'm6', 'm7', 'm8', 'm9', 'm10', 'm11', 'm12',\n",
       "       'm13'],\n",
       "      dtype='object')"
      ]
     },
     "execution_count": 11,
     "metadata": {},
     "output_type": "execute_result"
    }
   ],
   "source": [
    "data.columns"
   ]
  },
  {
   "cell_type": "code",
   "execution_count": 12,
   "id": "bc41ee3c",
   "metadata": {},
   "outputs": [],
   "source": [
    "cols=data.select_dtypes(include=['int64','float64','int32'])"
   ]
  },
  {
   "cell_type": "code",
   "execution_count": 13,
   "id": "77d0a868",
   "metadata": {},
   "outputs": [
    {
     "data": {
      "text/plain": [
       "Index(['loan_id', 'interest_rate', 'unpaid_principal_bal', 'loan_term',\n",
       "       'loan_to_value', 'number_of_borrowers', 'debt_to_income_ratio',\n",
       "       'borrower_credit_score', 'insurance_percent',\n",
       "       'co-borrower_credit_score', 'insurance_type', 'm1', 'm2', 'm3', 'm4',\n",
       "       'm5', 'm6', 'm7', 'm8', 'm9', 'm10', 'm11', 'm12', 'm13'],\n",
       "      dtype='object')"
      ]
     },
     "execution_count": 13,
     "metadata": {},
     "output_type": "execute_result"
    }
   ],
   "source": [
    "cols.columns"
   ]
  },
  {
   "cell_type": "code",
   "execution_count": 14,
   "id": "7f43f3e2",
   "metadata": {},
   "outputs": [
    {
     "data": {
      "image/png": "[encoded data removed]",
      "text/plain": [
       "<Figure size 640x480 with 1 Axes>"
      ]
     },
     "metadata": {},
     "output_type": "display_data"
    },
    {
     "data": {
      "image/png": "[encoded data removed]",
      "text/plain": [
       "<Figure size 640x480 with 1 Axes>"
      ]
     },
     "metadata": {},
     "output_type": "display_data"
    },
    {
     "data": {
      "image/png": "[encoded data removed]",
      "text/plain": [
       "<Figure size 640x480 with 1 Axes>"
      ]
     },
     "metadata": {},
     "output_type": "display_data"
    },
    {
     "data": {
      "image/png": "[encoded data removed]",
      "text/plain": [
       "<Figure size 640x480 with 1 Axes>"
      ]
     },
     "metadata": {},
     "output_type": "display_data"
    },
    {
     "data": {
      "image/png": "[encoded data removed]",
      "text/plain": [
       "<Figure size 640x480 with 1 Axes>"
      ]
     },
     "metadata": {},
     "output_type": "display_data"
    },
    {
     "data": {
      "image/png": "[encoded data removed]",
      "text/plain": [
       "<Figure size 640x480 with 1 Axes>"
      ]
     },
     "metadata": {},
     "output_type": "display_data"
    },
    {
     "data": {
      "image/png": "[encoded data removed]",
      "text/plain": [
       "<Figure size 640x480 with 1 Axes>"
      ]
     },
     "metadata": {},
     "output_type": "display_data"
    },
    {
     "data": {
      "image/png": "[encoded data removed]",
      "text/plain": [
       "<Figure size 640x480 with 1 Axes>"
      ]
     },
     "metadata": {},
     "output_type": "display_data"
    },
    {
     "data": {
      "image/png": "[encoded data removed]",
      "text/plain": [
       "<Figure size 640x480 with 1 Axes>"
      ]
     },
     "metadata": {},
     "output_type": "display_data"
    },
    {
     "data": {
      "image/png": "[encoded data removed]",
      "text/plain": [
       "<Figure size 640x480 with 1 Axes>"
      ]
     },
     "metadata": {},
     "output_type": "display_data"
    },
    {
     "data": {
      "image/png": "[encoded data removed]",
      "text/plain": [
       "<Figure size 640x480 with 1 Axes>"
      ]
     },
     "metadata": {},
     "output_type": "display_data"
    },
    {
     "data": {
      "image/png": "[encoded data removed]",
      "text/plain": [
       "<Figure size 640x480 with 1 Axes>"
      ]
     },
     "metadata": {},
     "output_type": "display_data"
    },
    {
     "data": {
      "image/png": "[encoded data removed]",
      "text/plain": [
       "<Figure size 640x480 with 1 Axes>"
      ]
     },
     "metadata": {},
     "output_type": "display_data"
    },
    {
     "data": {
      "image/png": "[encoded data removed]",
      "text/plain": [
       "<Figure size 640x480 with 1 Axes>"
      ]
     },
     "metadata": {},
     "output_type": "display_data"
    },
    {
     "data": {
      "image/png": "[encoded data removed]",
      "text/plain": [
       "<Figure size 640x480 with 1 Axes>"
      ]
     },
     "metadata": {},
     "output_type": "display_data"
    },
    {
     "data": {
      "image/png": "[encoded data removed]",
      "text/plain": [
       "<Figure size 640x480 with 1 Axes>"
      ]
     },
     "metadata": {},
     "output_type": "display_data"
    },
    {
     "data": {
      "image/png": "[encoded data removed]",
      "text/plain": [
       "<Figure size 640x480 with 1 Axes>"
      ]
     },
     "metadata": {},
     "output_type": "display_data"
    },
    {
     "data": {
      "image/png": "[encoded data removed]",
      "text/plain": [
       "<Figure size 640x480 with 1 Axes>"
      ]
     },
     "metadata": {},
     "output_type": "display_data"
    },
    {
     "data": {
      "image/png": "[encoded data removed]",
      "text/plain": [
       "<Figure size 640x480 with 1 Axes>"
      ]
     },
     "metadata": {},
     "output_type": "display_data"
    },
    {
     "data": {
      "image/png": "[encoded data removed]",
      "text/plain": [
       "<Figure size 640x480 with 1 Axes>"
      ]
     },
     "metadata": {},
     "output_type": "display_data"
    },
    {
     "data": {
      "image/png": "[encoded data removed]",
      "text/plain": [
       "<Figure size 640x480 with 1 Axes>"
      ]
     },
     "metadata": {},
     "output_type": "display_data"
    },
    {
     "data": {
      "image/png": "[encoded data removed]",
      "text/plain": [
       "<Figure size 640x480 with 1 Axes>"
      ]
     },
     "metadata": {},
     "output_type": "display_data"
    },
    {
     "data": {
      "image/png": "[encoded data removed]",
      "text/plain": [
       "<Figure size 640x480 with 1 Axes>"
      ]
     },
     "metadata": {},
     "output_type": "display_data"
    },
    {
     "data": {
      "image/png": "[encoded data removed]",
      "text/plain": [
       "<Figure size 640x480 with 1 Axes>"
      ]
     },
     "metadata": {},
     "output_type": "display_data"
    }
   ],
   "source": [
    "for ca in cols:\n",
    "    plt.boxplot(data[ca])\n",
    "    plt.title(ca)\n",
    "    plt.show()"
   ]
  },
  {
   "cell_type": "code",
   "execution_count": 15,
   "id": "34c283da",
   "metadata": {},
   "outputs": [],
   "source": [
    "# Visualization"
   ]
  },
  {
   "cell_type": "code",
   "execution_count": 16,
   "id": "685f5dfc",
   "metadata": {},
   "outputs": [
    {
     "data": {
      "image/png": "[encoded data removed]",
      "text/plain": [
       "<Figure size 2000x1500 with 25 Axes>"
      ]
     },
     "metadata": {},
     "output_type": "display_data"
    }
   ],
   "source": [
    "freqgraph=data.select_dtypes(include=['int64','float64','int32'])\n",
    "freqgraph.hist(figsize=(20,15))\n",
    "plt.show()"
   ]
  },
  {
   "cell_type": "code",
   "execution_count": 17,
   "id": "c7553481",
   "metadata": {},
   "outputs": [
    {
     "data": {
      "text/plain": [
       "Index(['loan_id', 'source', 'financial_institution', 'interest_rate',\n",
       "       'unpaid_principal_bal', 'loan_term', 'origination_date',\n",
       "       'first_payment_date', 'loan_to_value', 'number_of_borrowers',\n",
       "       'debt_to_income_ratio', 'borrower_credit_score', 'loan_purpose',\n",
       "       'insurance_percent', 'co-borrower_credit_score', 'insurance_type', 'm1',\n",
       "       'm2', 'm3', 'm4', 'm5', 'm6', 'm7', 'm8', 'm9', 'm10', 'm11', 'm12',\n",
       "       'm13'],\n",
       "      dtype='object')"
      ]
     },
     "execution_count": 17,
     "metadata": {},
     "output_type": "execute_result"
    }
   ],
   "source": [
    "data.columns"
   ]
  },
  {
   "cell_type": "code",
   "execution_count": 18,
   "id": "bd4c3ca8",
   "metadata": {},
   "outputs": [
    {
     "data": {
      "text/plain": [
       "X    63858\n",
       "Y    37554\n",
       "Z    14646\n",
       "Name: source, dtype: int64"
      ]
     },
     "execution_count": 18,
     "metadata": {},
     "output_type": "execute_result"
    }
   ],
   "source": [
    "data['source'].value_counts()"
   ]
  },
  {
   "cell_type": "code",
   "execution_count": 19,
   "id": "2ac7c2b0",
   "metadata": {},
   "outputs": [
    {
     "data": {
      "text/plain": [
       "array(['Z', 'Y', 'X'], dtype=object)"
      ]
     },
     "execution_count": 19,
     "metadata": {},
     "output_type": "execute_result"
    }
   ],
   "source": [
    "data['source'].unique()"
   ]
  },
  {
   "cell_type": "code",
   "execution_count": 20,
   "id": "6ef94258",
   "metadata": {},
   "outputs": [
    {
     "data": {
      "text/plain": [
       "19"
      ]
     },
     "execution_count": 20,
     "metadata": {},
     "output_type": "execute_result"
    }
   ],
   "source": [
    "data['financial_institution'].nunique()"
   ]
  },
  {
   "cell_type": "code",
   "execution_count": 21,
   "id": "a6443ae1",
   "metadata": {},
   "outputs": [
    {
     "data": {
      "text/plain": [
       "array(['Turner, Baldwin and Rhodes', 'Swanson, Newton and Miller',\n",
       "       'Thornton-Davis', 'OTHER', 'Browning-Hart', 'Richardson Ltd',\n",
       "       'Edwards-Hoffman', 'Richards-Walters', 'Martinez, Duffy and Bird',\n",
       "       'Miller, Mcclure and Allen', 'Anderson-Taylor',\n",
       "       'Taylor, Hunt and Rodriguez', 'Nicholson Group',\n",
       "       'Cole, Brooks and Vincent', 'Sanchez, Hays and Wilkerson',\n",
       "       'Sanchez-Robinson', 'Suarez Inc', 'Romero, Woods and Johnson',\n",
       "       'Chapman-Mcmahon'], dtype=object)"
      ]
     },
     "execution_count": 21,
     "metadata": {},
     "output_type": "execute_result"
    }
   ],
   "source": [
    "data['financial_institution'].unique()"
   ]
  },
  {
   "cell_type": "code",
   "execution_count": 22,
   "id": "ec246da5",
   "metadata": {},
   "outputs": [
    {
     "data": {
      "text/plain": [
       "OTHER                          49699\n",
       "Browning-Hart                  31852\n",
       "Swanson, Newton and Miller      6874\n",
       "Edwards-Hoffman                 4857\n",
       "Martinez, Duffy and Bird        4715\n",
       "Miller, Mcclure and Allen       3158\n",
       "Nicholson Group                 2116\n",
       "Turner, Baldwin and Rhodes      1846\n",
       "Suarez Inc                      1790\n",
       "Cole, Brooks and Vincent        1642\n",
       "Richards-Walters                1459\n",
       "Taylor, Hunt and Rodriguez      1259\n",
       "Sanchez-Robinson                1193\n",
       "Sanchez, Hays and Wilkerson      853\n",
       "Romero, Woods and Johnson        750\n",
       "Thornton-Davis                   651\n",
       "Anderson-Taylor                  483\n",
       "Richardson Ltd                   473\n",
       "Chapman-Mcmahon                  388\n",
       "Name: financial_institution, dtype: int64"
      ]
     },
     "execution_count": 22,
     "metadata": {},
     "output_type": "execute_result"
    }
   ],
   "source": [
    "data['financial_institution'].value_counts()"
   ]
  },
  {
   "cell_type": "code",
   "execution_count": 23,
   "id": "96c82f4b",
   "metadata": {},
   "outputs": [
    {
     "data": {
      "text/plain": [
       "OTHER                          42.822554\n",
       "Browning-Hart                  27.444898\n",
       "Swanson, Newton and Miller      5.922901\n",
       "Edwards-Hoffman                 4.184976\n",
       "Martinez, Duffy and Bird        4.062624\n",
       "Miller, Mcclure and Allen       2.721053\n",
       "Nicholson Group                 1.823226\n",
       "Turner, Baldwin and Rhodes      1.590584\n",
       "Suarez Inc                      1.542332\n",
       "Cole, Brooks and Vincent        1.414810\n",
       "Richards-Walters                1.257130\n",
       "Taylor, Hunt and Rodriguez      1.084802\n",
       "Sanchez-Robinson                1.027934\n",
       "Sanchez, Hays and Wilkerson     0.734977\n",
       "Romero, Woods and Johnson       0.646229\n",
       "Thornton-Davis                  0.560926\n",
       "Anderson-Taylor                 0.416171\n",
       "Richardson Ltd                  0.407555\n",
       "Chapman-Mcmahon                 0.334316\n",
       "Name: financial_institution, dtype: float64"
      ]
     },
     "execution_count": 23,
     "metadata": {},
     "output_type": "execute_result"
    }
   ],
   "source": [
    "data['financial_institution'].value_counts(normalize = True) * 100"
   ]
  },
  {
   "cell_type": "code",
   "execution_count": 24,
   "id": "841271f5",
   "metadata": {},
   "outputs": [
    {
     "data": {
      "text/plain": [
       "count    116058.000000\n",
       "mean          3.868961\n",
       "std           0.461020\n",
       "min           2.250000\n",
       "25%           3.500000\n",
       "50%           3.875000\n",
       "75%           4.125000\n",
       "max           6.750000\n",
       "Name: interest_rate, dtype: float64"
      ]
     },
     "execution_count": 24,
     "metadata": {},
     "output_type": "execute_result"
    }
   ],
   "source": [
    "data['interest_rate'].describe()"
   ]
  },
  {
   "cell_type": "code",
   "execution_count": 25,
   "id": "b1a64b00",
   "metadata": {},
   "outputs": [
    {
     "data": {
      "text/html": [
       "<div>\n",
       "<style scoped>\n",
       "    .dataframe tbody tr th:only-of-type {\n",
       "        vertical-align: middle;\n",
       "    }\n",
       "\n",
       "    .dataframe tbody tr th {\n",
       "        vertical-align: top;\n",
       "    }\n",
       "\n",
       "    .dataframe thead th {\n",
       "        text-align: right;\n",
       "    }\n",
       "</style>\n",
       "<table border=\"1\" class=\"dataframe\">\n",
       "  <thead>\n",
       "    <tr style=\"text-align: right;\">\n",
       "      <th></th>\n",
       "      <th>loan_id</th>\n",
       "      <th>interest_rate</th>\n",
       "      <th>unpaid_principal_bal</th>\n",
       "      <th>loan_term</th>\n",
       "      <th>loan_to_value</th>\n",
       "      <th>number_of_borrowers</th>\n",
       "      <th>debt_to_income_ratio</th>\n",
       "      <th>borrower_credit_score</th>\n",
       "      <th>insurance_percent</th>\n",
       "      <th>co-borrower_credit_score</th>\n",
       "      <th>...</th>\n",
       "      <th>m4</th>\n",
       "      <th>m5</th>\n",
       "      <th>m6</th>\n",
       "      <th>m7</th>\n",
       "      <th>m8</th>\n",
       "      <th>m9</th>\n",
       "      <th>m10</th>\n",
       "      <th>m11</th>\n",
       "      <th>m12</th>\n",
       "      <th>m13</th>\n",
       "    </tr>\n",
       "  </thead>\n",
       "  <tbody>\n",
       "    <tr>\n",
       "      <th>count</th>\n",
       "      <td>1.160580e+05</td>\n",
       "      <td>116058.000000</td>\n",
       "      <td>1.160580e+05</td>\n",
       "      <td>116058.000000</td>\n",
       "      <td>116058.000000</td>\n",
       "      <td>116058.000000</td>\n",
       "      <td>116058.000000</td>\n",
       "      <td>116058.000000</td>\n",
       "      <td>116058.000000</td>\n",
       "      <td>116058.000000</td>\n",
       "      <td>...</td>\n",
       "      <td>116058.000000</td>\n",
       "      <td>116058.000000</td>\n",
       "      <td>116058.000000</td>\n",
       "      <td>116058.000000</td>\n",
       "      <td>116058.000000</td>\n",
       "      <td>116058.000000</td>\n",
       "      <td>116058.000000</td>\n",
       "      <td>116058.000000</td>\n",
       "      <td>116058.000000</td>\n",
       "      <td>116058.000000</td>\n",
       "    </tr>\n",
       "    <tr>\n",
       "      <th>mean</th>\n",
       "      <td>5.494155e+11</td>\n",
       "      <td>3.868961</td>\n",
       "      <td>2.082262e+05</td>\n",
       "      <td>292.280997</td>\n",
       "      <td>67.431939</td>\n",
       "      <td>1.593186</td>\n",
       "      <td>30.742293</td>\n",
       "      <td>769.926778</td>\n",
       "      <td>2.786288</td>\n",
       "      <td>459.611565</td>\n",
       "      <td>...</td>\n",
       "      <td>0.002180</td>\n",
       "      <td>0.003533</td>\n",
       "      <td>0.003421</td>\n",
       "      <td>0.004162</td>\n",
       "      <td>0.004825</td>\n",
       "      <td>0.005359</td>\n",
       "      <td>0.006617</td>\n",
       "      <td>0.007109</td>\n",
       "      <td>0.008065</td>\n",
       "      <td>0.005480</td>\n",
       "    </tr>\n",
       "    <tr>\n",
       "      <th>std</th>\n",
       "      <td>2.597560e+11</td>\n",
       "      <td>0.461020</td>\n",
       "      <td>1.146851e+05</td>\n",
       "      <td>89.762415</td>\n",
       "      <td>17.291719</td>\n",
       "      <td>0.491242</td>\n",
       "      <td>9.730798</td>\n",
       "      <td>42.210706</td>\n",
       "      <td>8.096464</td>\n",
       "      <td>381.946926</td>\n",
       "      <td>...</td>\n",
       "      <td>0.062161</td>\n",
       "      <td>0.082638</td>\n",
       "      <td>0.087553</td>\n",
       "      <td>0.100961</td>\n",
       "      <td>0.113128</td>\n",
       "      <td>0.128242</td>\n",
       "      <td>0.148430</td>\n",
       "      <td>0.162884</td>\n",
       "      <td>0.178128</td>\n",
       "      <td>0.073824</td>\n",
       "    </tr>\n",
       "    <tr>\n",
       "      <th>min</th>\n",
       "      <td>1.000009e+11</td>\n",
       "      <td>2.250000</td>\n",
       "      <td>1.100000e+04</td>\n",
       "      <td>60.000000</td>\n",
       "      <td>6.000000</td>\n",
       "      <td>1.000000</td>\n",
       "      <td>1.000000</td>\n",
       "      <td>0.000000</td>\n",
       "      <td>0.000000</td>\n",
       "      <td>0.000000</td>\n",
       "      <td>...</td>\n",
       "      <td>0.000000</td>\n",
       "      <td>0.000000</td>\n",
       "      <td>0.000000</td>\n",
       "      <td>0.000000</td>\n",
       "      <td>0.000000</td>\n",
       "      <td>0.000000</td>\n",
       "      <td>0.000000</td>\n",
       "      <td>0.000000</td>\n",
       "      <td>0.000000</td>\n",
       "      <td>0.000000</td>\n",
       "    </tr>\n",
       "    <tr>\n",
       "      <th>25%</th>\n",
       "      <td>3.244656e+11</td>\n",
       "      <td>3.500000</td>\n",
       "      <td>1.200000e+05</td>\n",
       "      <td>180.000000</td>\n",
       "      <td>57.000000</td>\n",
       "      <td>1.000000</td>\n",
       "      <td>23.000000</td>\n",
       "      <td>751.000000</td>\n",
       "      <td>0.000000</td>\n",
       "      <td>0.000000</td>\n",
       "      <td>...</td>\n",
       "      <td>0.000000</td>\n",
       "      <td>0.000000</td>\n",
       "      <td>0.000000</td>\n",
       "      <td>0.000000</td>\n",
       "      <td>0.000000</td>\n",
       "      <td>0.000000</td>\n",
       "      <td>0.000000</td>\n",
       "      <td>0.000000</td>\n",
       "      <td>0.000000</td>\n",
       "      <td>0.000000</td>\n",
       "    </tr>\n",
       "    <tr>\n",
       "      <th>50%</th>\n",
       "      <td>5.486239e+11</td>\n",
       "      <td>3.875000</td>\n",
       "      <td>1.830000e+05</td>\n",
       "      <td>360.000000</td>\n",
       "      <td>72.000000</td>\n",
       "      <td>2.000000</td>\n",
       "      <td>31.000000</td>\n",
       "      <td>782.000000</td>\n",
       "      <td>0.000000</td>\n",
       "      <td>740.000000</td>\n",
       "      <td>...</td>\n",
       "      <td>0.000000</td>\n",
       "      <td>0.000000</td>\n",
       "      <td>0.000000</td>\n",
       "      <td>0.000000</td>\n",
       "      <td>0.000000</td>\n",
       "      <td>0.000000</td>\n",
       "      <td>0.000000</td>\n",
       "      <td>0.000000</td>\n",
       "      <td>0.000000</td>\n",
       "      <td>0.000000</td>\n",
       "    </tr>\n",
       "    <tr>\n",
       "      <th>75%</th>\n",
       "      <td>7.743034e+11</td>\n",
       "      <td>4.125000</td>\n",
       "      <td>2.780000e+05</td>\n",
       "      <td>360.000000</td>\n",
       "      <td>80.000000</td>\n",
       "      <td>2.000000</td>\n",
       "      <td>39.000000</td>\n",
       "      <td>800.000000</td>\n",
       "      <td>0.000000</td>\n",
       "      <td>791.000000</td>\n",
       "      <td>...</td>\n",
       "      <td>0.000000</td>\n",
       "      <td>0.000000</td>\n",
       "      <td>0.000000</td>\n",
       "      <td>0.000000</td>\n",
       "      <td>0.000000</td>\n",
       "      <td>0.000000</td>\n",
       "      <td>0.000000</td>\n",
       "      <td>0.000000</td>\n",
       "      <td>0.000000</td>\n",
       "      <td>0.000000</td>\n",
       "    </tr>\n",
       "    <tr>\n",
       "      <th>max</th>\n",
       "      <td>9.999971e+11</td>\n",
       "      <td>6.750000</td>\n",
       "      <td>1.200000e+06</td>\n",
       "      <td>360.000000</td>\n",
       "      <td>97.000000</td>\n",
       "      <td>2.000000</td>\n",
       "      <td>64.000000</td>\n",
       "      <td>840.000000</td>\n",
       "      <td>40.000000</td>\n",
       "      <td>836.000000</td>\n",
       "      <td>...</td>\n",
       "      <td>6.000000</td>\n",
       "      <td>7.000000</td>\n",
       "      <td>8.000000</td>\n",
       "      <td>9.000000</td>\n",
       "      <td>10.000000</td>\n",
       "      <td>11.000000</td>\n",
       "      <td>12.000000</td>\n",
       "      <td>13.000000</td>\n",
       "      <td>14.000000</td>\n",
       "      <td>1.000000</td>\n",
       "    </tr>\n",
       "  </tbody>\n",
       "</table>\n",
       "<p>8 rows × 24 columns</p>\n",
       "</div>"
      ],
      "text/plain": [
       "            loan_id  interest_rate  unpaid_principal_bal      loan_term  \\\n",
       "count  1.160580e+05  116058.000000          1.160580e+05  116058.000000   \n",
       "mean   5.494155e+11       3.868961          2.082262e+05     292.280997   \n",
       "std    2.597560e+11       0.461020          1.146851e+05      89.762415   \n",
       "min    1.000009e+11       2.250000          1.100000e+04      60.000000   \n",
       "25%    3.244656e+11       3.500000          1.200000e+05     180.000000   \n",
       "50%    5.486239e+11       3.875000          1.830000e+05     360.000000   \n",
       "75%    7.743034e+11       4.125000          2.780000e+05     360.000000   \n",
       "max    9.999971e+11       6.750000          1.200000e+06     360.000000   \n",
       "\n",
       "       loan_to_value  number_of_borrowers  debt_to_income_ratio  \\\n",
       "count  116058.000000        116058.000000         116058.000000   \n",
       "mean       67.431939             1.593186             30.742293   \n",
       "std        17.291719             0.491242              9.730798   \n",
       "min         6.000000             1.000000              1.000000   \n",
       "25%        57.000000             1.000000             23.000000   \n",
       "50%        72.000000             2.000000             31.000000   \n",
       "75%        80.000000             2.000000             39.000000   \n",
       "max        97.000000             2.000000             64.000000   \n",
       "\n",
       "       borrower_credit_score  insurance_percent  co-borrower_credit_score  \\\n",
       "count          116058.000000      116058.000000             116058.000000   \n",
       "mean              769.926778           2.786288                459.611565   \n",
       "std                42.210706           8.096464                381.946926   \n",
       "min                 0.000000           0.000000                  0.000000   \n",
       "25%               751.000000           0.000000                  0.000000   \n",
       "50%               782.000000           0.000000                740.000000   \n",
       "75%               800.000000           0.000000                791.000000   \n",
       "max               840.000000          40.000000                836.000000   \n",
       "\n",
       "       ...             m4             m5             m6             m7  \\\n",
       "count  ...  116058.000000  116058.000000  116058.000000  116058.000000   \n",
       "mean   ...       0.002180       0.003533       0.003421       0.004162   \n",
       "std    ...       0.062161       0.082638       0.087553       0.100961   \n",
       "min    ...       0.000000       0.000000       0.000000       0.000000   \n",
       "25%    ...       0.000000       0.000000       0.000000       0.000000   \n",
       "50%    ...       0.000000       0.000000       0.000000       0.000000   \n",
       "75%    ...       0.000000       0.000000       0.000000       0.000000   \n",
       "max    ...       6.000000       7.000000       8.000000       9.000000   \n",
       "\n",
       "                  m8             m9            m10            m11  \\\n",
       "count  116058.000000  116058.000000  116058.000000  116058.000000   \n",
       "mean        0.004825       0.005359       0.006617       0.007109   \n",
       "std         0.113128       0.128242       0.148430       0.162884   \n",
       "min         0.000000       0.000000       0.000000       0.000000   \n",
       "25%         0.000000       0.000000       0.000000       0.000000   \n",
       "50%         0.000000       0.000000       0.000000       0.000000   \n",
       "75%         0.000000       0.000000       0.000000       0.000000   \n",
       "max        10.000000      11.000000      12.000000      13.000000   \n",
       "\n",
       "                 m12            m13  \n",
       "count  116058.000000  116058.000000  \n",
       "mean        0.008065       0.005480  \n",
       "std         0.178128       0.073824  \n",
       "min         0.000000       0.000000  \n",
       "25%         0.000000       0.000000  \n",
       "50%         0.000000       0.000000  \n",
       "75%         0.000000       0.000000  \n",
       "max        14.000000       1.000000  \n",
       "\n",
       "[8 rows x 24 columns]"
      ]
     },
     "execution_count": 25,
     "metadata": {},
     "output_type": "execute_result"
    }
   ],
   "source": [
    "data.describe()"
   ]
  },
  {
   "cell_type": "code",
   "execution_count": 26,
   "id": "a1ed9442",
   "metadata": {},
   "outputs": [
    {
     "data": {
      "text/plain": [
       "count     116058.0\n",
       "mean      208226.0\n",
       "std       114685.0\n",
       "min        11000.0\n",
       "25%       120000.0\n",
       "50%       183000.0\n",
       "75%       278000.0\n",
       "max      1200000.0\n",
       "Name: unpaid_principal_bal, dtype: float64"
      ]
     },
     "execution_count": 26,
     "metadata": {},
     "output_type": "execute_result"
    }
   ],
   "source": [
    "data['unpaid_principal_bal'].describe().round()"
   ]
  },
  {
   "cell_type": "code",
   "execution_count": 27,
   "id": "99e41284",
   "metadata": {},
   "outputs": [
    {
     "data": {
      "text/plain": [
       "Int64Index([84135], dtype='int64')"
      ]
     },
     "execution_count": 27,
     "metadata": {},
     "output_type": "execute_result"
    }
   ],
   "source": [
    "data[data['unpaid_principal_bal']>1000000].index"
   ]
  },
  {
   "cell_type": "code",
   "execution_count": 28,
   "id": "72d9345d",
   "metadata": {},
   "outputs": [],
   "source": [
    "data=data.drop(84135)"
   ]
  },
  {
   "cell_type": "code",
   "execution_count": 29,
   "id": "e7fd2241",
   "metadata": {},
   "outputs": [
    {
     "name": "stdout",
     "output_type": "stream",
     "text": [
      "<class 'pandas.core.frame.DataFrame'>\n",
      "Int64Index: 116057 entries, 0 to 116057\n",
      "Data columns (total 29 columns):\n",
      " #   Column                    Non-Null Count   Dtype  \n",
      "---  ------                    --------------   -----  \n",
      " 0   loan_id                   116057 non-null  int64  \n",
      " 1   source                    116057 non-null  object \n",
      " 2   financial_institution     116057 non-null  object \n",
      " 3   interest_rate             116057 non-null  float64\n",
      " 4   unpaid_principal_bal      116057 non-null  int64  \n",
      " 5   loan_term                 116057 non-null  int64  \n",
      " 6   origination_date          116057 non-null  object \n",
      " 7   first_payment_date        116057 non-null  object \n",
      " 8   loan_to_value             116057 non-null  int64  \n",
      " 9   number_of_borrowers       116057 non-null  float64\n",
      " 10  debt_to_income_ratio      116057 non-null  float64\n",
      " 11  borrower_credit_score     116057 non-null  float64\n",
      " 12  loan_purpose              116057 non-null  object \n",
      " 13  insurance_percent         116057 non-null  float64\n",
      " 14  co-borrower_credit_score  116057 non-null  float64\n",
      " 15  insurance_type            116057 non-null  float64\n",
      " 16  m1                        116057 non-null  int64  \n",
      " 17  m2                        116057 non-null  int64  \n",
      " 18  m3                        116057 non-null  int64  \n",
      " 19  m4                        116057 non-null  int64  \n",
      " 20  m5                        116057 non-null  int64  \n",
      " 21  m6                        116057 non-null  int64  \n",
      " 22  m7                        116057 non-null  int64  \n",
      " 23  m8                        116057 non-null  int64  \n",
      " 24  m9                        116057 non-null  int64  \n",
      " 25  m10                       116057 non-null  int64  \n",
      " 26  m11                       116057 non-null  int64  \n",
      " 27  m12                       116057 non-null  int64  \n",
      " 28  m13                       116057 non-null  int64  \n",
      "dtypes: float64(7), int64(17), object(5)\n",
      "memory usage: 26.6+ MB\n"
     ]
    }
   ],
   "source": [
    "data.info()"
   ]
  },
  {
   "cell_type": "code",
   "execution_count": 30,
   "id": "c079233a",
   "metadata": {},
   "outputs": [
    {
     "data": {
      "text/plain": [
       "count    116057.000000\n",
       "mean         67.432098\n",
       "std          17.291709\n",
       "min           6.000000\n",
       "25%          57.000000\n",
       "50%          72.000000\n",
       "75%          80.000000\n",
       "max          97.000000\n",
       "Name: loan_to_value, dtype: float64"
      ]
     },
     "execution_count": 30,
     "metadata": {},
     "output_type": "execute_result"
    }
   ],
   "source": [
    "data['loan_to_value'].describe()"
   ]
  },
  {
   "cell_type": "code",
   "execution_count": 31,
   "id": "8aef573c",
   "metadata": {},
   "outputs": [
    {
     "data": {
      "image/png": "[encoded data removed]",
      "text/plain": [
       "<Figure size 640x480 with 1 Axes>"
      ]
     },
     "metadata": {},
     "output_type": "display_data"
    }
   ],
   "source": [
    "data['loan_to_value'].plot(kind='box')\n",
    "plt.show()"
   ]
  },
  {
   "cell_type": "code",
   "execution_count": 32,
   "id": "4b14ba8a",
   "metadata": {},
   "outputs": [
    {
     "data": {
      "text/html": [
       "<div>\n",
       "<style scoped>\n",
       "    .dataframe tbody tr th:only-of-type {\n",
       "        vertical-align: middle;\n",
       "    }\n",
       "\n",
       "    .dataframe tbody tr th {\n",
       "        vertical-align: top;\n",
       "    }\n",
       "\n",
       "    .dataframe thead th {\n",
       "        text-align: right;\n",
       "    }\n",
       "</style>\n",
       "<table border=\"1\" class=\"dataframe\">\n",
       "  <thead>\n",
       "    <tr style=\"text-align: right;\">\n",
       "      <th></th>\n",
       "      <th>loan_id</th>\n",
       "      <th>source</th>\n",
       "      <th>financial_institution</th>\n",
       "      <th>interest_rate</th>\n",
       "      <th>unpaid_principal_bal</th>\n",
       "      <th>loan_term</th>\n",
       "      <th>origination_date</th>\n",
       "      <th>first_payment_date</th>\n",
       "      <th>loan_to_value</th>\n",
       "      <th>number_of_borrowers</th>\n",
       "      <th>...</th>\n",
       "      <th>m4</th>\n",
       "      <th>m5</th>\n",
       "      <th>m6</th>\n",
       "      <th>m7</th>\n",
       "      <th>m8</th>\n",
       "      <th>m9</th>\n",
       "      <th>m10</th>\n",
       "      <th>m11</th>\n",
       "      <th>m12</th>\n",
       "      <th>m13</th>\n",
       "    </tr>\n",
       "  </thead>\n",
       "  <tbody>\n",
       "    <tr>\n",
       "      <th>3809</th>\n",
       "      <td>778482838695</td>\n",
       "      <td>X</td>\n",
       "      <td>OTHER</td>\n",
       "      <td>4.375</td>\n",
       "      <td>100000</td>\n",
       "      <td>360</td>\n",
       "      <td>2012-01-01</td>\n",
       "      <td>03/2012</td>\n",
       "      <td>6</td>\n",
       "      <td>2.0</td>\n",
       "      <td>...</td>\n",
       "      <td>0</td>\n",
       "      <td>0</td>\n",
       "      <td>0</td>\n",
       "      <td>0</td>\n",
       "      <td>0</td>\n",
       "      <td>0</td>\n",
       "      <td>0</td>\n",
       "      <td>0</td>\n",
       "      <td>0</td>\n",
       "      <td>0</td>\n",
       "    </tr>\n",
       "    <tr>\n",
       "      <th>4578</th>\n",
       "      <td>614948037882</td>\n",
       "      <td>Z</td>\n",
       "      <td>OTHER</td>\n",
       "      <td>3.250</td>\n",
       "      <td>406000</td>\n",
       "      <td>120</td>\n",
       "      <td>2012-02-01</td>\n",
       "      <td>04/2012</td>\n",
       "      <td>7</td>\n",
       "      <td>2.0</td>\n",
       "      <td>...</td>\n",
       "      <td>0</td>\n",
       "      <td>0</td>\n",
       "      <td>0</td>\n",
       "      <td>0</td>\n",
       "      <td>0</td>\n",
       "      <td>0</td>\n",
       "      <td>0</td>\n",
       "      <td>0</td>\n",
       "      <td>0</td>\n",
       "      <td>0</td>\n",
       "    </tr>\n",
       "    <tr>\n",
       "      <th>15714</th>\n",
       "      <td>200940357092</td>\n",
       "      <td>X</td>\n",
       "      <td>OTHER</td>\n",
       "      <td>4.250</td>\n",
       "      <td>50000</td>\n",
       "      <td>360</td>\n",
       "      <td>2012-01-01</td>\n",
       "      <td>03/2012</td>\n",
       "      <td>8</td>\n",
       "      <td>2.0</td>\n",
       "      <td>...</td>\n",
       "      <td>0</td>\n",
       "      <td>0</td>\n",
       "      <td>0</td>\n",
       "      <td>0</td>\n",
       "      <td>0</td>\n",
       "      <td>0</td>\n",
       "      <td>0</td>\n",
       "      <td>0</td>\n",
       "      <td>0</td>\n",
       "      <td>0</td>\n",
       "    </tr>\n",
       "    <tr>\n",
       "      <th>20306</th>\n",
       "      <td>268945094071</td>\n",
       "      <td>X</td>\n",
       "      <td>Swanson, Newton and Miller</td>\n",
       "      <td>4.500</td>\n",
       "      <td>37000</td>\n",
       "      <td>360</td>\n",
       "      <td>2012-02-01</td>\n",
       "      <td>04/2012</td>\n",
       "      <td>9</td>\n",
       "      <td>1.0</td>\n",
       "      <td>...</td>\n",
       "      <td>0</td>\n",
       "      <td>0</td>\n",
       "      <td>0</td>\n",
       "      <td>0</td>\n",
       "      <td>0</td>\n",
       "      <td>0</td>\n",
       "      <td>0</td>\n",
       "      <td>0</td>\n",
       "      <td>0</td>\n",
       "      <td>0</td>\n",
       "    </tr>\n",
       "    <tr>\n",
       "      <th>22946</th>\n",
       "      <td>350904250957</td>\n",
       "      <td>X</td>\n",
       "      <td>OTHER</td>\n",
       "      <td>3.500</td>\n",
       "      <td>59000</td>\n",
       "      <td>180</td>\n",
       "      <td>2012-01-01</td>\n",
       "      <td>03/2012</td>\n",
       "      <td>8</td>\n",
       "      <td>2.0</td>\n",
       "      <td>...</td>\n",
       "      <td>0</td>\n",
       "      <td>0</td>\n",
       "      <td>0</td>\n",
       "      <td>0</td>\n",
       "      <td>0</td>\n",
       "      <td>0</td>\n",
       "      <td>0</td>\n",
       "      <td>0</td>\n",
       "      <td>0</td>\n",
       "      <td>0</td>\n",
       "    </tr>\n",
       "    <tr>\n",
       "      <th>28962</th>\n",
       "      <td>803072393627</td>\n",
       "      <td>X</td>\n",
       "      <td>Martinez, Duffy and Bird</td>\n",
       "      <td>4.170</td>\n",
       "      <td>188000</td>\n",
       "      <td>360</td>\n",
       "      <td>2012-02-01</td>\n",
       "      <td>04/2012</td>\n",
       "      <td>8</td>\n",
       "      <td>1.0</td>\n",
       "      <td>...</td>\n",
       "      <td>0</td>\n",
       "      <td>0</td>\n",
       "      <td>0</td>\n",
       "      <td>0</td>\n",
       "      <td>0</td>\n",
       "      <td>0</td>\n",
       "      <td>0</td>\n",
       "      <td>0</td>\n",
       "      <td>0</td>\n",
       "      <td>0</td>\n",
       "    </tr>\n",
       "    <tr>\n",
       "      <th>36896</th>\n",
       "      <td>893257514209</td>\n",
       "      <td>X</td>\n",
       "      <td>OTHER</td>\n",
       "      <td>3.375</td>\n",
       "      <td>150000</td>\n",
       "      <td>120</td>\n",
       "      <td>2012-01-01</td>\n",
       "      <td>03/2012</td>\n",
       "      <td>9</td>\n",
       "      <td>1.0</td>\n",
       "      <td>...</td>\n",
       "      <td>0</td>\n",
       "      <td>0</td>\n",
       "      <td>0</td>\n",
       "      <td>0</td>\n",
       "      <td>0</td>\n",
       "      <td>0</td>\n",
       "      <td>0</td>\n",
       "      <td>0</td>\n",
       "      <td>0</td>\n",
       "      <td>0</td>\n",
       "    </tr>\n",
       "    <tr>\n",
       "      <th>42859</th>\n",
       "      <td>183975731774</td>\n",
       "      <td>X</td>\n",
       "      <td>Martinez, Duffy and Bird</td>\n",
       "      <td>3.750</td>\n",
       "      <td>164000</td>\n",
       "      <td>180</td>\n",
       "      <td>2012-01-01</td>\n",
       "      <td>03/2012</td>\n",
       "      <td>9</td>\n",
       "      <td>2.0</td>\n",
       "      <td>...</td>\n",
       "      <td>0</td>\n",
       "      <td>0</td>\n",
       "      <td>0</td>\n",
       "      <td>0</td>\n",
       "      <td>0</td>\n",
       "      <td>0</td>\n",
       "      <td>0</td>\n",
       "      <td>0</td>\n",
       "      <td>0</td>\n",
       "      <td>0</td>\n",
       "    </tr>\n",
       "    <tr>\n",
       "      <th>45074</th>\n",
       "      <td>204210493070</td>\n",
       "      <td>Y</td>\n",
       "      <td>Edwards-Hoffman</td>\n",
       "      <td>3.990</td>\n",
       "      <td>235000</td>\n",
       "      <td>360</td>\n",
       "      <td>2012-01-01</td>\n",
       "      <td>03/2012</td>\n",
       "      <td>9</td>\n",
       "      <td>2.0</td>\n",
       "      <td>...</td>\n",
       "      <td>0</td>\n",
       "      <td>0</td>\n",
       "      <td>0</td>\n",
       "      <td>0</td>\n",
       "      <td>0</td>\n",
       "      <td>0</td>\n",
       "      <td>0</td>\n",
       "      <td>0</td>\n",
       "      <td>0</td>\n",
       "      <td>0</td>\n",
       "    </tr>\n",
       "    <tr>\n",
       "      <th>46479</th>\n",
       "      <td>138522544138</td>\n",
       "      <td>X</td>\n",
       "      <td>Suarez Inc</td>\n",
       "      <td>3.375</td>\n",
       "      <td>206000</td>\n",
       "      <td>180</td>\n",
       "      <td>2012-02-01</td>\n",
       "      <td>04/2012</td>\n",
       "      <td>9</td>\n",
       "      <td>1.0</td>\n",
       "      <td>...</td>\n",
       "      <td>0</td>\n",
       "      <td>0</td>\n",
       "      <td>0</td>\n",
       "      <td>0</td>\n",
       "      <td>0</td>\n",
       "      <td>0</td>\n",
       "      <td>0</td>\n",
       "      <td>0</td>\n",
       "      <td>0</td>\n",
       "      <td>0</td>\n",
       "    </tr>\n",
       "    <tr>\n",
       "      <th>49086</th>\n",
       "      <td>347923793768</td>\n",
       "      <td>X</td>\n",
       "      <td>OTHER</td>\n",
       "      <td>3.875</td>\n",
       "      <td>134000</td>\n",
       "      <td>360</td>\n",
       "      <td>2012-02-01</td>\n",
       "      <td>04/2012</td>\n",
       "      <td>6</td>\n",
       "      <td>2.0</td>\n",
       "      <td>...</td>\n",
       "      <td>0</td>\n",
       "      <td>0</td>\n",
       "      <td>0</td>\n",
       "      <td>0</td>\n",
       "      <td>0</td>\n",
       "      <td>0</td>\n",
       "      <td>0</td>\n",
       "      <td>0</td>\n",
       "      <td>0</td>\n",
       "      <td>0</td>\n",
       "    </tr>\n",
       "    <tr>\n",
       "      <th>49504</th>\n",
       "      <td>264963720719</td>\n",
       "      <td>X</td>\n",
       "      <td>Martinez, Duffy and Bird</td>\n",
       "      <td>3.540</td>\n",
       "      <td>41000</td>\n",
       "      <td>180</td>\n",
       "      <td>2012-02-01</td>\n",
       "      <td>04/2012</td>\n",
       "      <td>7</td>\n",
       "      <td>2.0</td>\n",
       "      <td>...</td>\n",
       "      <td>0</td>\n",
       "      <td>0</td>\n",
       "      <td>0</td>\n",
       "      <td>0</td>\n",
       "      <td>0</td>\n",
       "      <td>0</td>\n",
       "      <td>0</td>\n",
       "      <td>0</td>\n",
       "      <td>0</td>\n",
       "      <td>0</td>\n",
       "    </tr>\n",
       "    <tr>\n",
       "      <th>51700</th>\n",
       "      <td>257696098502</td>\n",
       "      <td>X</td>\n",
       "      <td>OTHER</td>\n",
       "      <td>3.875</td>\n",
       "      <td>80000</td>\n",
       "      <td>180</td>\n",
       "      <td>2012-02-01</td>\n",
       "      <td>04/2012</td>\n",
       "      <td>8</td>\n",
       "      <td>2.0</td>\n",
       "      <td>...</td>\n",
       "      <td>0</td>\n",
       "      <td>0</td>\n",
       "      <td>0</td>\n",
       "      <td>0</td>\n",
       "      <td>0</td>\n",
       "      <td>0</td>\n",
       "      <td>0</td>\n",
       "      <td>0</td>\n",
       "      <td>0</td>\n",
       "      <td>0</td>\n",
       "    </tr>\n",
       "    <tr>\n",
       "      <th>66068</th>\n",
       "      <td>844479244052</td>\n",
       "      <td>Z</td>\n",
       "      <td>Edwards-Hoffman</td>\n",
       "      <td>3.385</td>\n",
       "      <td>100000</td>\n",
       "      <td>120</td>\n",
       "      <td>2012-02-01</td>\n",
       "      <td>04/2012</td>\n",
       "      <td>9</td>\n",
       "      <td>1.0</td>\n",
       "      <td>...</td>\n",
       "      <td>0</td>\n",
       "      <td>0</td>\n",
       "      <td>0</td>\n",
       "      <td>0</td>\n",
       "      <td>0</td>\n",
       "      <td>0</td>\n",
       "      <td>0</td>\n",
       "      <td>0</td>\n",
       "      <td>0</td>\n",
       "      <td>0</td>\n",
       "    </tr>\n",
       "    <tr>\n",
       "      <th>69230</th>\n",
       "      <td>115191729134</td>\n",
       "      <td>X</td>\n",
       "      <td>OTHER</td>\n",
       "      <td>3.375</td>\n",
       "      <td>105000</td>\n",
       "      <td>120</td>\n",
       "      <td>2012-02-01</td>\n",
       "      <td>04/2012</td>\n",
       "      <td>9</td>\n",
       "      <td>1.0</td>\n",
       "      <td>...</td>\n",
       "      <td>0</td>\n",
       "      <td>0</td>\n",
       "      <td>0</td>\n",
       "      <td>0</td>\n",
       "      <td>0</td>\n",
       "      <td>0</td>\n",
       "      <td>0</td>\n",
       "      <td>0</td>\n",
       "      <td>0</td>\n",
       "      <td>0</td>\n",
       "    </tr>\n",
       "    <tr>\n",
       "      <th>69468</th>\n",
       "      <td>840511117013</td>\n",
       "      <td>X</td>\n",
       "      <td>OTHER</td>\n",
       "      <td>3.250</td>\n",
       "      <td>45000</td>\n",
       "      <td>120</td>\n",
       "      <td>2012-01-01</td>\n",
       "      <td>03/2012</td>\n",
       "      <td>8</td>\n",
       "      <td>1.0</td>\n",
       "      <td>...</td>\n",
       "      <td>0</td>\n",
       "      <td>0</td>\n",
       "      <td>0</td>\n",
       "      <td>0</td>\n",
       "      <td>0</td>\n",
       "      <td>0</td>\n",
       "      <td>0</td>\n",
       "      <td>0</td>\n",
       "      <td>0</td>\n",
       "      <td>0</td>\n",
       "    </tr>\n",
       "    <tr>\n",
       "      <th>69589</th>\n",
       "      <td>703199820256</td>\n",
       "      <td>X</td>\n",
       "      <td>Martinez, Duffy and Bird</td>\n",
       "      <td>3.350</td>\n",
       "      <td>124000</td>\n",
       "      <td>120</td>\n",
       "      <td>2012-01-01</td>\n",
       "      <td>03/2012</td>\n",
       "      <td>7</td>\n",
       "      <td>1.0</td>\n",
       "      <td>...</td>\n",
       "      <td>0</td>\n",
       "      <td>0</td>\n",
       "      <td>0</td>\n",
       "      <td>0</td>\n",
       "      <td>0</td>\n",
       "      <td>0</td>\n",
       "      <td>0</td>\n",
       "      <td>0</td>\n",
       "      <td>0</td>\n",
       "      <td>0</td>\n",
       "    </tr>\n",
       "    <tr>\n",
       "      <th>72226</th>\n",
       "      <td>521687251497</td>\n",
       "      <td>X</td>\n",
       "      <td>OTHER</td>\n",
       "      <td>3.800</td>\n",
       "      <td>401000</td>\n",
       "      <td>360</td>\n",
       "      <td>2012-01-01</td>\n",
       "      <td>03/2012</td>\n",
       "      <td>7</td>\n",
       "      <td>1.0</td>\n",
       "      <td>...</td>\n",
       "      <td>0</td>\n",
       "      <td>0</td>\n",
       "      <td>0</td>\n",
       "      <td>0</td>\n",
       "      <td>0</td>\n",
       "      <td>0</td>\n",
       "      <td>0</td>\n",
       "      <td>0</td>\n",
       "      <td>0</td>\n",
       "      <td>0</td>\n",
       "    </tr>\n",
       "    <tr>\n",
       "      <th>72961</th>\n",
       "      <td>912776750546</td>\n",
       "      <td>X</td>\n",
       "      <td>OTHER</td>\n",
       "      <td>4.125</td>\n",
       "      <td>100000</td>\n",
       "      <td>360</td>\n",
       "      <td>2012-01-01</td>\n",
       "      <td>03/2012</td>\n",
       "      <td>8</td>\n",
       "      <td>1.0</td>\n",
       "      <td>...</td>\n",
       "      <td>0</td>\n",
       "      <td>0</td>\n",
       "      <td>0</td>\n",
       "      <td>0</td>\n",
       "      <td>0</td>\n",
       "      <td>0</td>\n",
       "      <td>0</td>\n",
       "      <td>0</td>\n",
       "      <td>0</td>\n",
       "      <td>0</td>\n",
       "    </tr>\n",
       "    <tr>\n",
       "      <th>74742</th>\n",
       "      <td>757590173946</td>\n",
       "      <td>Y</td>\n",
       "      <td>Edwards-Hoffman</td>\n",
       "      <td>3.250</td>\n",
       "      <td>150000</td>\n",
       "      <td>120</td>\n",
       "      <td>2012-01-01</td>\n",
       "      <td>03/2012</td>\n",
       "      <td>9</td>\n",
       "      <td>2.0</td>\n",
       "      <td>...</td>\n",
       "      <td>0</td>\n",
       "      <td>0</td>\n",
       "      <td>0</td>\n",
       "      <td>0</td>\n",
       "      <td>0</td>\n",
       "      <td>0</td>\n",
       "      <td>0</td>\n",
       "      <td>0</td>\n",
       "      <td>0</td>\n",
       "      <td>0</td>\n",
       "    </tr>\n",
       "    <tr>\n",
       "      <th>76265</th>\n",
       "      <td>716402564590</td>\n",
       "      <td>X</td>\n",
       "      <td>OTHER</td>\n",
       "      <td>3.375</td>\n",
       "      <td>152000</td>\n",
       "      <td>180</td>\n",
       "      <td>2012-01-01</td>\n",
       "      <td>03/2012</td>\n",
       "      <td>8</td>\n",
       "      <td>1.0</td>\n",
       "      <td>...</td>\n",
       "      <td>0</td>\n",
       "      <td>0</td>\n",
       "      <td>0</td>\n",
       "      <td>0</td>\n",
       "      <td>0</td>\n",
       "      <td>0</td>\n",
       "      <td>0</td>\n",
       "      <td>0</td>\n",
       "      <td>0</td>\n",
       "      <td>0</td>\n",
       "    </tr>\n",
       "    <tr>\n",
       "      <th>78994</th>\n",
       "      <td>821967926211</td>\n",
       "      <td>X</td>\n",
       "      <td>Swanson, Newton and Miller</td>\n",
       "      <td>4.625</td>\n",
       "      <td>109000</td>\n",
       "      <td>360</td>\n",
       "      <td>2012-01-01</td>\n",
       "      <td>03/2012</td>\n",
       "      <td>7</td>\n",
       "      <td>2.0</td>\n",
       "      <td>...</td>\n",
       "      <td>0</td>\n",
       "      <td>0</td>\n",
       "      <td>0</td>\n",
       "      <td>0</td>\n",
       "      <td>0</td>\n",
       "      <td>0</td>\n",
       "      <td>0</td>\n",
       "      <td>0</td>\n",
       "      <td>0</td>\n",
       "      <td>0</td>\n",
       "    </tr>\n",
       "    <tr>\n",
       "      <th>81533</th>\n",
       "      <td>636086390929</td>\n",
       "      <td>X</td>\n",
       "      <td>OTHER</td>\n",
       "      <td>4.000</td>\n",
       "      <td>42000</td>\n",
       "      <td>360</td>\n",
       "      <td>2012-02-01</td>\n",
       "      <td>04/2012</td>\n",
       "      <td>6</td>\n",
       "      <td>1.0</td>\n",
       "      <td>...</td>\n",
       "      <td>0</td>\n",
       "      <td>0</td>\n",
       "      <td>0</td>\n",
       "      <td>0</td>\n",
       "      <td>0</td>\n",
       "      <td>0</td>\n",
       "      <td>0</td>\n",
       "      <td>0</td>\n",
       "      <td>0</td>\n",
       "      <td>0</td>\n",
       "    </tr>\n",
       "    <tr>\n",
       "      <th>86337</th>\n",
       "      <td>396227412549</td>\n",
       "      <td>X</td>\n",
       "      <td>OTHER</td>\n",
       "      <td>3.000</td>\n",
       "      <td>59000</td>\n",
       "      <td>120</td>\n",
       "      <td>2012-03-01</td>\n",
       "      <td>05/2012</td>\n",
       "      <td>9</td>\n",
       "      <td>2.0</td>\n",
       "      <td>...</td>\n",
       "      <td>0</td>\n",
       "      <td>0</td>\n",
       "      <td>0</td>\n",
       "      <td>0</td>\n",
       "      <td>0</td>\n",
       "      <td>0</td>\n",
       "      <td>0</td>\n",
       "      <td>0</td>\n",
       "      <td>0</td>\n",
       "      <td>0</td>\n",
       "    </tr>\n",
       "    <tr>\n",
       "      <th>86524</th>\n",
       "      <td>345416075281</td>\n",
       "      <td>X</td>\n",
       "      <td>OTHER</td>\n",
       "      <td>4.125</td>\n",
       "      <td>60000</td>\n",
       "      <td>360</td>\n",
       "      <td>2012-01-01</td>\n",
       "      <td>03/2012</td>\n",
       "      <td>7</td>\n",
       "      <td>1.0</td>\n",
       "      <td>...</td>\n",
       "      <td>0</td>\n",
       "      <td>0</td>\n",
       "      <td>0</td>\n",
       "      <td>0</td>\n",
       "      <td>0</td>\n",
       "      <td>0</td>\n",
       "      <td>0</td>\n",
       "      <td>0</td>\n",
       "      <td>0</td>\n",
       "      <td>0</td>\n",
       "    </tr>\n",
       "    <tr>\n",
       "      <th>90319</th>\n",
       "      <td>787554459549</td>\n",
       "      <td>X</td>\n",
       "      <td>Browning-Hart</td>\n",
       "      <td>3.875</td>\n",
       "      <td>30000</td>\n",
       "      <td>360</td>\n",
       "      <td>2012-01-01</td>\n",
       "      <td>03/2012</td>\n",
       "      <td>8</td>\n",
       "      <td>1.0</td>\n",
       "      <td>...</td>\n",
       "      <td>0</td>\n",
       "      <td>0</td>\n",
       "      <td>0</td>\n",
       "      <td>0</td>\n",
       "      <td>0</td>\n",
       "      <td>0</td>\n",
       "      <td>0</td>\n",
       "      <td>0</td>\n",
       "      <td>0</td>\n",
       "      <td>0</td>\n",
       "    </tr>\n",
       "    <tr>\n",
       "      <th>92277</th>\n",
       "      <td>929900612594</td>\n",
       "      <td>X</td>\n",
       "      <td>Swanson, Newton and Miller</td>\n",
       "      <td>4.125</td>\n",
       "      <td>200000</td>\n",
       "      <td>360</td>\n",
       "      <td>2012-01-01</td>\n",
       "      <td>04/2012</td>\n",
       "      <td>9</td>\n",
       "      <td>2.0</td>\n",
       "      <td>...</td>\n",
       "      <td>0</td>\n",
       "      <td>0</td>\n",
       "      <td>0</td>\n",
       "      <td>0</td>\n",
       "      <td>0</td>\n",
       "      <td>0</td>\n",
       "      <td>0</td>\n",
       "      <td>0</td>\n",
       "      <td>0</td>\n",
       "      <td>0</td>\n",
       "    </tr>\n",
       "    <tr>\n",
       "      <th>98183</th>\n",
       "      <td>243958870038</td>\n",
       "      <td>X</td>\n",
       "      <td>OTHER</td>\n",
       "      <td>2.625</td>\n",
       "      <td>60000</td>\n",
       "      <td>120</td>\n",
       "      <td>2012-03-01</td>\n",
       "      <td>05/2012</td>\n",
       "      <td>8</td>\n",
       "      <td>1.0</td>\n",
       "      <td>...</td>\n",
       "      <td>0</td>\n",
       "      <td>0</td>\n",
       "      <td>0</td>\n",
       "      <td>0</td>\n",
       "      <td>0</td>\n",
       "      <td>0</td>\n",
       "      <td>0</td>\n",
       "      <td>0</td>\n",
       "      <td>0</td>\n",
       "      <td>0</td>\n",
       "    </tr>\n",
       "    <tr>\n",
       "      <th>102889</th>\n",
       "      <td>933811911384</td>\n",
       "      <td>X</td>\n",
       "      <td>Browning-Hart</td>\n",
       "      <td>3.250</td>\n",
       "      <td>365000</td>\n",
       "      <td>120</td>\n",
       "      <td>2012-02-01</td>\n",
       "      <td>04/2012</td>\n",
       "      <td>7</td>\n",
       "      <td>2.0</td>\n",
       "      <td>...</td>\n",
       "      <td>0</td>\n",
       "      <td>0</td>\n",
       "      <td>0</td>\n",
       "      <td>0</td>\n",
       "      <td>0</td>\n",
       "      <td>0</td>\n",
       "      <td>0</td>\n",
       "      <td>0</td>\n",
       "      <td>0</td>\n",
       "      <td>0</td>\n",
       "    </tr>\n",
       "    <tr>\n",
       "      <th>102908</th>\n",
       "      <td>332430163334</td>\n",
       "      <td>X</td>\n",
       "      <td>Martinez, Duffy and Bird</td>\n",
       "      <td>4.340</td>\n",
       "      <td>115000</td>\n",
       "      <td>360</td>\n",
       "      <td>2012-02-01</td>\n",
       "      <td>04/2012</td>\n",
       "      <td>9</td>\n",
       "      <td>2.0</td>\n",
       "      <td>...</td>\n",
       "      <td>0</td>\n",
       "      <td>0</td>\n",
       "      <td>0</td>\n",
       "      <td>0</td>\n",
       "      <td>0</td>\n",
       "      <td>0</td>\n",
       "      <td>0</td>\n",
       "      <td>0</td>\n",
       "      <td>0</td>\n",
       "      <td>0</td>\n",
       "    </tr>\n",
       "    <tr>\n",
       "      <th>103748</th>\n",
       "      <td>338955015756</td>\n",
       "      <td>Z</td>\n",
       "      <td>Browning-Hart</td>\n",
       "      <td>3.375</td>\n",
       "      <td>81000</td>\n",
       "      <td>180</td>\n",
       "      <td>2012-01-01</td>\n",
       "      <td>03/2012</td>\n",
       "      <td>6</td>\n",
       "      <td>1.0</td>\n",
       "      <td>...</td>\n",
       "      <td>0</td>\n",
       "      <td>0</td>\n",
       "      <td>0</td>\n",
       "      <td>0</td>\n",
       "      <td>0</td>\n",
       "      <td>0</td>\n",
       "      <td>0</td>\n",
       "      <td>0</td>\n",
       "      <td>0</td>\n",
       "      <td>0</td>\n",
       "    </tr>\n",
       "    <tr>\n",
       "      <th>105975</th>\n",
       "      <td>516939624891</td>\n",
       "      <td>X</td>\n",
       "      <td>Martinez, Duffy and Bird</td>\n",
       "      <td>3.580</td>\n",
       "      <td>43000</td>\n",
       "      <td>180</td>\n",
       "      <td>2012-01-01</td>\n",
       "      <td>03/2012</td>\n",
       "      <td>8</td>\n",
       "      <td>2.0</td>\n",
       "      <td>...</td>\n",
       "      <td>0</td>\n",
       "      <td>0</td>\n",
       "      <td>0</td>\n",
       "      <td>0</td>\n",
       "      <td>0</td>\n",
       "      <td>0</td>\n",
       "      <td>0</td>\n",
       "      <td>0</td>\n",
       "      <td>0</td>\n",
       "      <td>0</td>\n",
       "    </tr>\n",
       "    <tr>\n",
       "      <th>109443</th>\n",
       "      <td>162915736426</td>\n",
       "      <td>Y</td>\n",
       "      <td>Browning-Hart</td>\n",
       "      <td>3.500</td>\n",
       "      <td>90000</td>\n",
       "      <td>180</td>\n",
       "      <td>2012-01-01</td>\n",
       "      <td>03/2012</td>\n",
       "      <td>6</td>\n",
       "      <td>2.0</td>\n",
       "      <td>...</td>\n",
       "      <td>0</td>\n",
       "      <td>0</td>\n",
       "      <td>0</td>\n",
       "      <td>0</td>\n",
       "      <td>0</td>\n",
       "      <td>0</td>\n",
       "      <td>0</td>\n",
       "      <td>0</td>\n",
       "      <td>0</td>\n",
       "      <td>0</td>\n",
       "    </tr>\n",
       "    <tr>\n",
       "      <th>110814</th>\n",
       "      <td>182931361070</td>\n",
       "      <td>X</td>\n",
       "      <td>Browning-Hart</td>\n",
       "      <td>3.875</td>\n",
       "      <td>96000</td>\n",
       "      <td>360</td>\n",
       "      <td>2012-02-01</td>\n",
       "      <td>04/2012</td>\n",
       "      <td>7</td>\n",
       "      <td>2.0</td>\n",
       "      <td>...</td>\n",
       "      <td>0</td>\n",
       "      <td>0</td>\n",
       "      <td>0</td>\n",
       "      <td>0</td>\n",
       "      <td>0</td>\n",
       "      <td>0</td>\n",
       "      <td>0</td>\n",
       "      <td>0</td>\n",
       "      <td>0</td>\n",
       "      <td>0</td>\n",
       "    </tr>\n",
       "  </tbody>\n",
       "</table>\n",
       "<p>34 rows × 29 columns</p>\n",
       "</div>"
      ],
      "text/plain": [
       "             loan_id source       financial_institution  interest_rate  \\\n",
       "3809    778482838695      X                       OTHER          4.375   \n",
       "4578    614948037882      Z                       OTHER          3.250   \n",
       "15714   200940357092      X                       OTHER          4.250   \n",
       "20306   268945094071      X  Swanson, Newton and Miller          4.500   \n",
       "22946   350904250957      X                       OTHER          3.500   \n",
       "28962   803072393627      X    Martinez, Duffy and Bird          4.170   \n",
       "36896   893257514209      X                       OTHER          3.375   \n",
       "42859   183975731774      X    Martinez, Duffy and Bird          3.750   \n",
       "45074   204210493070      Y             Edwards-Hoffman          3.990   \n",
       "46479   138522544138      X                  Suarez Inc          3.375   \n",
       "49086   347923793768      X                       OTHER          3.875   \n",
       "49504   264963720719      X    Martinez, Duffy and Bird          3.540   \n",
       "51700   257696098502      X                       OTHER          3.875   \n",
       "66068   844479244052      Z             Edwards-Hoffman          3.385   \n",
       "69230   115191729134      X                       OTHER          3.375   \n",
       "69468   840511117013      X                       OTHER          3.250   \n",
       "69589   703199820256      X    Martinez, Duffy and Bird          3.350   \n",
       "72226   521687251497      X                       OTHER          3.800   \n",
       "72961   912776750546      X                       OTHER          4.125   \n",
       "74742   757590173946      Y             Edwards-Hoffman          3.250   \n",
       "76265   716402564590      X                       OTHER          3.375   \n",
       "78994   821967926211      X  Swanson, Newton and Miller          4.625   \n",
       "81533   636086390929      X                       OTHER          4.000   \n",
       "86337   396227412549      X                       OTHER          3.000   \n",
       "86524   345416075281      X                       OTHER          4.125   \n",
       "90319   787554459549      X               Browning-Hart          3.875   \n",
       "92277   929900612594      X  Swanson, Newton and Miller          4.125   \n",
       "98183   243958870038      X                       OTHER          2.625   \n",
       "102889  933811911384      X               Browning-Hart          3.250   \n",
       "102908  332430163334      X    Martinez, Duffy and Bird          4.340   \n",
       "103748  338955015756      Z               Browning-Hart          3.375   \n",
       "105975  516939624891      X    Martinez, Duffy and Bird          3.580   \n",
       "109443  162915736426      Y               Browning-Hart          3.500   \n",
       "110814  182931361070      X               Browning-Hart          3.875   \n",
       "\n",
       "        unpaid_principal_bal  loan_term origination_date first_payment_date  \\\n",
       "3809                  100000        360       2012-01-01            03/2012   \n",
       "4578                  406000        120       2012-02-01            04/2012   \n",
       "15714                  50000        360       2012-01-01            03/2012   \n",
       "20306                  37000        360       2012-02-01            04/2012   \n",
       "22946                  59000        180       2012-01-01            03/2012   \n",
       "28962                 188000        360       2012-02-01            04/2012   \n",
       "36896                 150000        120       2012-01-01            03/2012   \n",
       "42859                 164000        180       2012-01-01            03/2012   \n",
       "45074                 235000        360       2012-01-01            03/2012   \n",
       "46479                 206000        180       2012-02-01            04/2012   \n",
       "49086                 134000        360       2012-02-01            04/2012   \n",
       "49504                  41000        180       2012-02-01            04/2012   \n",
       "51700                  80000        180       2012-02-01            04/2012   \n",
       "66068                 100000        120       2012-02-01            04/2012   \n",
       "69230                 105000        120       2012-02-01            04/2012   \n",
       "69468                  45000        120       2012-01-01            03/2012   \n",
       "69589                 124000        120       2012-01-01            03/2012   \n",
       "72226                 401000        360       2012-01-01            03/2012   \n",
       "72961                 100000        360       2012-01-01            03/2012   \n",
       "74742                 150000        120       2012-01-01            03/2012   \n",
       "76265                 152000        180       2012-01-01            03/2012   \n",
       "78994                 109000        360       2012-01-01            03/2012   \n",
       "81533                  42000        360       2012-02-01            04/2012   \n",
       "86337                  59000        120       2012-03-01            05/2012   \n",
       "86524                  60000        360       2012-01-01            03/2012   \n",
       "90319                  30000        360       2012-01-01            03/2012   \n",
       "92277                 200000        360       2012-01-01            04/2012   \n",
       "98183                  60000        120       2012-03-01            05/2012   \n",
       "102889                365000        120       2012-02-01            04/2012   \n",
       "102908                115000        360       2012-02-01            04/2012   \n",
       "103748                 81000        180       2012-01-01            03/2012   \n",
       "105975                 43000        180       2012-01-01            03/2012   \n",
       "109443                 90000        180       2012-01-01            03/2012   \n",
       "110814                 96000        360       2012-02-01            04/2012   \n",
       "\n",
       "        loan_to_value  number_of_borrowers  ...  m4  m5 m6  m7  m8  m9  m10  \\\n",
       "3809                6                  2.0  ...   0   0  0   0   0   0    0   \n",
       "4578                7                  2.0  ...   0   0  0   0   0   0    0   \n",
       "15714               8                  2.0  ...   0   0  0   0   0   0    0   \n",
       "20306               9                  1.0  ...   0   0  0   0   0   0    0   \n",
       "22946               8                  2.0  ...   0   0  0   0   0   0    0   \n",
       "28962               8                  1.0  ...   0   0  0   0   0   0    0   \n",
       "36896               9                  1.0  ...   0   0  0   0   0   0    0   \n",
       "42859               9                  2.0  ...   0   0  0   0   0   0    0   \n",
       "45074               9                  2.0  ...   0   0  0   0   0   0    0   \n",
       "46479               9                  1.0  ...   0   0  0   0   0   0    0   \n",
       "49086               6                  2.0  ...   0   0  0   0   0   0    0   \n",
       "49504               7                  2.0  ...   0   0  0   0   0   0    0   \n",
       "51700               8                  2.0  ...   0   0  0   0   0   0    0   \n",
       "66068               9                  1.0  ...   0   0  0   0   0   0    0   \n",
       "69230               9                  1.0  ...   0   0  0   0   0   0    0   \n",
       "69468               8                  1.0  ...   0   0  0   0   0   0    0   \n",
       "69589               7                  1.0  ...   0   0  0   0   0   0    0   \n",
       "72226               7                  1.0  ...   0   0  0   0   0   0    0   \n",
       "72961               8                  1.0  ...   0   0  0   0   0   0    0   \n",
       "74742               9                  2.0  ...   0   0  0   0   0   0    0   \n",
       "76265               8                  1.0  ...   0   0  0   0   0   0    0   \n",
       "78994               7                  2.0  ...   0   0  0   0   0   0    0   \n",
       "81533               6                  1.0  ...   0   0  0   0   0   0    0   \n",
       "86337               9                  2.0  ...   0   0  0   0   0   0    0   \n",
       "86524               7                  1.0  ...   0   0  0   0   0   0    0   \n",
       "90319               8                  1.0  ...   0   0  0   0   0   0    0   \n",
       "92277               9                  2.0  ...   0   0  0   0   0   0    0   \n",
       "98183               8                  1.0  ...   0   0  0   0   0   0    0   \n",
       "102889              7                  2.0  ...   0   0  0   0   0   0    0   \n",
       "102908              9                  2.0  ...   0   0  0   0   0   0    0   \n",
       "103748              6                  1.0  ...   0   0  0   0   0   0    0   \n",
       "105975              8                  2.0  ...   0   0  0   0   0   0    0   \n",
       "109443              6                  2.0  ...   0   0  0   0   0   0    0   \n",
       "110814              7                  2.0  ...   0   0  0   0   0   0    0   \n",
       "\n",
       "        m11  m12  m13  \n",
       "3809      0    0    0  \n",
       "4578      0    0    0  \n",
       "15714     0    0    0  \n",
       "20306     0    0    0  \n",
       "22946     0    0    0  \n",
       "28962     0    0    0  \n",
       "36896     0    0    0  \n",
       "42859     0    0    0  \n",
       "45074     0    0    0  \n",
       "46479     0    0    0  \n",
       "49086     0    0    0  \n",
       "49504     0    0    0  \n",
       "51700     0    0    0  \n",
       "66068     0    0    0  \n",
       "69230     0    0    0  \n",
       "69468     0    0    0  \n",
       "69589     0    0    0  \n",
       "72226     0    0    0  \n",
       "72961     0    0    0  \n",
       "74742     0    0    0  \n",
       "76265     0    0    0  \n",
       "78994     0    0    0  \n",
       "81533     0    0    0  \n",
       "86337     0    0    0  \n",
       "86524     0    0    0  \n",
       "90319     0    0    0  \n",
       "92277     0    0    0  \n",
       "98183     0    0    0  \n",
       "102889    0    0    0  \n",
       "102908    0    0    0  \n",
       "103748    0    0    0  \n",
       "105975    0    0    0  \n",
       "109443    0    0    0  \n",
       "110814    0    0    0  \n",
       "\n",
       "[34 rows x 29 columns]"
      ]
     },
     "execution_count": 32,
     "metadata": {},
     "output_type": "execute_result"
    }
   ],
   "source": [
    "data[data['loan_to_value']<10]"
   ]
  },
  {
   "cell_type": "code",
   "execution_count": 33,
   "id": "946db5c9",
   "metadata": {},
   "outputs": [
    {
     "data": {
      "image/png": "[encoded data removed]",
      "text/plain": [
       "<Figure size 640x480 with 1 Axes>"
      ]
     },
     "metadata": {},
     "output_type": "display_data"
    }
   ],
   "source": [
    "data['debt_to_income_ratio'].plot(kind='box')\n",
    "plt.show()"
   ]
  },
  {
   "cell_type": "code",
   "execution_count": 34,
   "id": "09467eab",
   "metadata": {},
   "outputs": [
    {
     "data": {
      "text/plain": [
       "count    116057.000000\n",
       "mean         30.742135\n",
       "std           9.730692\n",
       "min           1.000000\n",
       "25%          23.000000\n",
       "50%          31.000000\n",
       "75%          39.000000\n",
       "max          64.000000\n",
       "Name: debt_to_income_ratio, dtype: float64"
      ]
     },
     "execution_count": 34,
     "metadata": {},
     "output_type": "execute_result"
    }
   ],
   "source": [
    "data['debt_to_income_ratio'].describe()"
   ]
  },
  {
   "cell_type": "code",
   "execution_count": 35,
   "id": "f3278025",
   "metadata": {},
   "outputs": [
    {
     "data": {
      "text/plain": [
       "count    116057.000000\n",
       "mean        769.926545\n",
       "std          42.210813\n",
       "min           0.000000\n",
       "25%         751.000000\n",
       "50%         782.000000\n",
       "75%         800.000000\n",
       "max         840.000000\n",
       "Name: borrower_credit_score, dtype: float64"
      ]
     },
     "execution_count": 35,
     "metadata": {},
     "output_type": "execute_result"
    }
   ],
   "source": [
    "data['borrower_credit_score'].describe()"
   ]
  },
  {
   "cell_type": "code",
   "execution_count": 36,
   "id": "34aa9dd2",
   "metadata": {},
   "outputs": [
    {
     "data": {
      "image/png": "[encoded data removed]",
      "text/plain": [
       "<Figure size 640x480 with 1 Axes>"
      ]
     },
     "metadata": {},
     "output_type": "display_data"
    }
   ],
   "source": [
    "data['borrower_credit_score'].plot(kind='box')\n",
    "plt.show()"
   ]
  },
  {
   "cell_type": "code",
   "execution_count": 37,
   "id": "0ed8ef0f",
   "metadata": {},
   "outputs": [
    {
     "data": {
      "text/plain": [
       "Index(['loan_id', 'source', 'financial_institution', 'interest_rate',\n",
       "       'unpaid_principal_bal', 'loan_term', 'origination_date',\n",
       "       'first_payment_date', 'loan_to_value', 'number_of_borrowers',\n",
       "       'debt_to_income_ratio', 'borrower_credit_score', 'loan_purpose',\n",
       "       'insurance_percent', 'co-borrower_credit_score', 'insurance_type', 'm1',\n",
       "       'm2', 'm3', 'm4', 'm5', 'm6', 'm7', 'm8', 'm9', 'm10', 'm11', 'm12',\n",
       "       'm13'],\n",
       "      dtype='object')"
      ]
     },
     "execution_count": 37,
     "metadata": {},
     "output_type": "execute_result"
    }
   ],
   "source": [
    "data.columns"
   ]
  },
  {
   "cell_type": "code",
   "execution_count": 38,
   "id": "ad006183",
   "metadata": {},
   "outputs": [],
   "source": [
    "repay_cols=['number_of_borrowers','m1',\n",
    "       'm2', 'm3', 'm4', 'm5', 'm6', 'm7', 'm8', 'm9', 'm10', 'm11', 'm12',\n",
    "       'm13']"
   ]
  },
  {
   "cell_type": "code",
   "execution_count": 39,
   "id": "6ea14c38",
   "metadata": {},
   "outputs": [],
   "source": [
    "zero_credit_index=data[data['borrower_credit_score']<400][repay_cols].index"
   ]
  },
  {
   "cell_type": "code",
   "execution_count": 40,
   "id": "32f20412",
   "metadata": {},
   "outputs": [],
   "source": [
    "data=data.drop(zero_credit_index)"
   ]
  },
  {
   "cell_type": "code",
   "execution_count": 41,
   "id": "9c7a3122",
   "metadata": {},
   "outputs": [
    {
     "data": {
      "text/plain": [
       "(116006, 29)"
      ]
     },
     "execution_count": 41,
     "metadata": {},
     "output_type": "execute_result"
    }
   ],
   "source": [
    "data.shape"
   ]
  },
  {
   "cell_type": "code",
   "execution_count": 42,
   "id": "2f10d666",
   "metadata": {},
   "outputs": [
    {
     "data": {
      "text/plain": [
       "A23    50.391359\n",
       "B12    25.328000\n",
       "C86    24.280641\n",
       "Name: loan_purpose, dtype: float64"
      ]
     },
     "execution_count": 42,
     "metadata": {},
     "output_type": "execute_result"
    }
   ],
   "source": [
    "data['loan_purpose'].value_counts(normalize=True)*100"
   ]
  },
  {
   "cell_type": "code",
   "execution_count": 43,
   "id": "9d861d20",
   "metadata": {},
   "outputs": [
    {
     "data": {
      "text/plain": [
       "count    116006.000000\n",
       "mean        459.714515\n",
       "std         381.931527\n",
       "min           0.000000\n",
       "25%           0.000000\n",
       "50%         740.000000\n",
       "75%         791.000000\n",
       "max         836.000000\n",
       "Name: co-borrower_credit_score, dtype: float64"
      ]
     },
     "execution_count": 43,
     "metadata": {},
     "output_type": "execute_result"
    }
   ],
   "source": [
    "data['co-borrower_credit_score'].describe()"
   ]
  },
  {
   "cell_type": "code",
   "execution_count": 44,
   "id": "890390af",
   "metadata": {},
   "outputs": [
    {
     "data": {
      "text/plain": [
       "count    116006.000000\n",
       "mean          0.003258\n",
       "std           0.056990\n",
       "min           0.000000\n",
       "25%           0.000000\n",
       "50%           0.000000\n",
       "75%           0.000000\n",
       "max           1.000000\n",
       "Name: insurance_type, dtype: float64"
      ]
     },
     "execution_count": 44,
     "metadata": {},
     "output_type": "execute_result"
    }
   ],
   "source": [
    "data['insurance_type'].describe()"
   ]
  },
  {
   "cell_type": "code",
   "execution_count": 45,
   "id": "cca44587",
   "metadata": {},
   "outputs": [
    {
     "data": {
      "text/plain": [
       "0.0    115628\n",
       "1.0       378\n",
       "Name: insurance_type, dtype: int64"
      ]
     },
     "execution_count": 45,
     "metadata": {},
     "output_type": "execute_result"
    }
   ],
   "source": [
    "data['insurance_type'].value_counts()"
   ]
  },
  {
   "cell_type": "code",
   "execution_count": 46,
   "id": "838f4624",
   "metadata": {},
   "outputs": [],
   "source": [
    "# remove unnecessary ones"
   ]
  },
  {
   "cell_type": "code",
   "execution_count": 47,
   "id": "cfe34149",
   "metadata": {},
   "outputs": [
    {
     "data": {
      "text/plain": [
       "Index(['loan_id', 'source', 'financial_institution', 'interest_rate',\n",
       "       'unpaid_principal_bal', 'loan_term', 'origination_date',\n",
       "       'first_payment_date', 'loan_to_value', 'number_of_borrowers',\n",
       "       'debt_to_income_ratio', 'borrower_credit_score', 'loan_purpose',\n",
       "       'insurance_percent', 'co-borrower_credit_score', 'insurance_type', 'm1',\n",
       "       'm2', 'm3', 'm4', 'm5', 'm6', 'm7', 'm8', 'm9', 'm10', 'm11', 'm12',\n",
       "       'm13'],\n",
       "      dtype='object')"
      ]
     },
     "execution_count": 47,
     "metadata": {},
     "output_type": "execute_result"
    }
   ],
   "source": [
    "data.columns"
   ]
  },
  {
   "cell_type": "code",
   "execution_count": 48,
   "id": "c5a93d86",
   "metadata": {},
   "outputs": [],
   "source": [
    "required_columns=['source', 'financial_institution', 'interest_rate',\n",
    "       'unpaid_principal_bal', 'loan_term','loan_to_value', 'number_of_borrowers',\n",
    "       'debt_to_income_ratio', 'borrower_credit_score', 'loan_purpose',\n",
    "       'insurance_percent', 'co-borrower_credit_score', 'insurance_type', 'm1',\n",
    "       'm2', 'm3', 'm4', 'm5', 'm6', 'm7', 'm8', 'm9', 'm10', 'm11', 'm12']"
   ]
  },
  {
   "cell_type": "code",
   "execution_count": 49,
   "id": "0a3c8892",
   "metadata": {},
   "outputs": [],
   "source": [
    "x=data[required_columns]"
   ]
  },
  {
   "cell_type": "code",
   "execution_count": 50,
   "id": "8c4f6141",
   "metadata": {},
   "outputs": [],
   "source": [
    "y=data['m13']"
   ]
  },
  {
   "cell_type": "code",
   "execution_count": 51,
   "id": "ea9f66d3",
   "metadata": {},
   "outputs": [
    {
     "data": {
      "text/plain": [
       "0    99.451752\n",
       "1     0.548248\n",
       "Name: m13, dtype: float64"
      ]
     },
     "execution_count": 51,
     "metadata": {},
     "output_type": "execute_result"
    }
   ],
   "source": [
    "y.value_counts(normalize=True)*100"
   ]
  },
  {
   "cell_type": "code",
   "execution_count": 52,
   "id": "c7cbe582",
   "metadata": {},
   "outputs": [
    {
     "data": {
      "text/plain": [
       "Index(['source', 'financial_institution', 'interest_rate',\n",
       "       'unpaid_principal_bal', 'loan_term', 'loan_to_value',\n",
       "       'number_of_borrowers', 'debt_to_income_ratio', 'borrower_credit_score',\n",
       "       'loan_purpose', 'insurance_percent', 'co-borrower_credit_score',\n",
       "       'insurance_type', 'm1', 'm2', 'm3', 'm4', 'm5', 'm6', 'm7', 'm8', 'm9',\n",
       "       'm10', 'm11', 'm12'],\n",
       "      dtype='object')"
      ]
     },
     "execution_count": 52,
     "metadata": {},
     "output_type": "execute_result"
    }
   ],
   "source": [
    "x.columns"
   ]
  },
  {
   "cell_type": "code",
   "execution_count": 53,
   "id": "fba0dbaf",
   "metadata": {},
   "outputs": [
    {
     "data": {
      "text/plain": [
       "(116006, 25)"
      ]
     },
     "execution_count": 53,
     "metadata": {},
     "output_type": "execute_result"
    }
   ],
   "source": [
    "x.shape"
   ]
  },
  {
   "cell_type": "code",
   "execution_count": 54,
   "id": "d18e8332",
   "metadata": {},
   "outputs": [],
   "source": [
    "x=pd.get_dummies(x)"
   ]
  },
  {
   "cell_type": "code",
   "execution_count": 55,
   "id": "83806ebc",
   "metadata": {},
   "outputs": [
    {
     "name": "stdout",
     "output_type": "stream",
     "text": [
      "<class 'pandas.core.frame.DataFrame'>\n",
      "Int64Index: 116006 entries, 0 to 116057\n",
      "Data columns (total 47 columns):\n",
      " #   Column                                             Non-Null Count   Dtype  \n",
      "---  ------                                             --------------   -----  \n",
      " 0   interest_rate                                      116006 non-null  float64\n",
      " 1   unpaid_principal_bal                               116006 non-null  int64  \n",
      " 2   loan_term                                          116006 non-null  int64  \n",
      " 3   loan_to_value                                      116006 non-null  int64  \n",
      " 4   number_of_borrowers                                116006 non-null  float64\n",
      " 5   debt_to_income_ratio                               116006 non-null  float64\n",
      " 6   borrower_credit_score                              116006 non-null  float64\n",
      " 7   insurance_percent                                  116006 non-null  float64\n",
      " 8   co-borrower_credit_score                           116006 non-null  float64\n",
      " 9   insurance_type                                     116006 non-null  float64\n",
      " 10  m1                                                 116006 non-null  int64  \n",
      " 11  m2                                                 116006 non-null  int64  \n",
      " 12  m3                                                 116006 non-null  int64  \n",
      " 13  m4                                                 116006 non-null  int64  \n",
      " 14  m5                                                 116006 non-null  int64  \n",
      " 15  m6                                                 116006 non-null  int64  \n",
      " 16  m7                                                 116006 non-null  int64  \n",
      " 17  m8                                                 116006 non-null  int64  \n",
      " 18  m9                                                 116006 non-null  int64  \n",
      " 19  m10                                                116006 non-null  int64  \n",
      " 20  m11                                                116006 non-null  int64  \n",
      " 21  m12                                                116006 non-null  int64  \n",
      " 22  source_X                                           116006 non-null  uint8  \n",
      " 23  source_Y                                           116006 non-null  uint8  \n",
      " 24  source_Z                                           116006 non-null  uint8  \n",
      " 25  financial_institution_Anderson-Taylor              116006 non-null  uint8  \n",
      " 26  financial_institution_Browning-Hart                116006 non-null  uint8  \n",
      " 27  financial_institution_Chapman-Mcmahon              116006 non-null  uint8  \n",
      " 28  financial_institution_Cole, Brooks and Vincent     116006 non-null  uint8  \n",
      " 29  financial_institution_Edwards-Hoffman              116006 non-null  uint8  \n",
      " 30  financial_institution_Martinez, Duffy and Bird     116006 non-null  uint8  \n",
      " 31  financial_institution_Miller, Mcclure and Allen    116006 non-null  uint8  \n",
      " 32  financial_institution_Nicholson Group              116006 non-null  uint8  \n",
      " 33  financial_institution_OTHER                        116006 non-null  uint8  \n",
      " 34  financial_institution_Richards-Walters             116006 non-null  uint8  \n",
      " 35  financial_institution_Richardson Ltd               116006 non-null  uint8  \n",
      " 36  financial_institution_Romero, Woods and Johnson    116006 non-null  uint8  \n",
      " 37  financial_institution_Sanchez, Hays and Wilkerson  116006 non-null  uint8  \n",
      " 38  financial_institution_Sanchez-Robinson             116006 non-null  uint8  \n",
      " 39  financial_institution_Suarez Inc                   116006 non-null  uint8  \n",
      " 40  financial_institution_Swanson, Newton and Miller   116006 non-null  uint8  \n",
      " 41  financial_institution_Taylor, Hunt and Rodriguez   116006 non-null  uint8  \n",
      " 42  financial_institution_Thornton-Davis               116006 non-null  uint8  \n",
      " 43  financial_institution_Turner, Baldwin and Rhodes   116006 non-null  uint8  \n",
      " 44  loan_purpose_A23                                   116006 non-null  uint8  \n",
      " 45  loan_purpose_B12                                   116006 non-null  uint8  \n",
      " 46  loan_purpose_C86                                   116006 non-null  uint8  \n",
      "dtypes: float64(7), int64(15), uint8(25)\n",
      "memory usage: 23.1 MB\n"
     ]
    }
   ],
   "source": [
    "x.info()"
   ]
  },
  {
   "cell_type": "code",
   "execution_count": 56,
   "id": "ece760d0",
   "metadata": {},
   "outputs": [
    {
     "data": {
      "text/html": [
       "<div>\n",
       "<style scoped>\n",
       "    .dataframe tbody tr th:only-of-type {\n",
       "        vertical-align: middle;\n",
       "    }\n",
       "\n",
       "    .dataframe tbody tr th {\n",
       "        vertical-align: top;\n",
       "    }\n",
       "\n",
       "    .dataframe thead th {\n",
       "        text-align: right;\n",
       "    }\n",
       "</style>\n",
       "<table border=\"1\" class=\"dataframe\">\n",
       "  <thead>\n",
       "    <tr style=\"text-align: right;\">\n",
       "      <th></th>\n",
       "      <th>interest_rate</th>\n",
       "      <th>unpaid_principal_bal</th>\n",
       "      <th>loan_term</th>\n",
       "      <th>loan_to_value</th>\n",
       "      <th>number_of_borrowers</th>\n",
       "      <th>debt_to_income_ratio</th>\n",
       "      <th>borrower_credit_score</th>\n",
       "      <th>insurance_percent</th>\n",
       "      <th>co-borrower_credit_score</th>\n",
       "      <th>insurance_type</th>\n",
       "      <th>...</th>\n",
       "      <th>financial_institution_Sanchez, Hays and Wilkerson</th>\n",
       "      <th>financial_institution_Sanchez-Robinson</th>\n",
       "      <th>financial_institution_Suarez Inc</th>\n",
       "      <th>financial_institution_Swanson, Newton and Miller</th>\n",
       "      <th>financial_institution_Taylor, Hunt and Rodriguez</th>\n",
       "      <th>financial_institution_Thornton-Davis</th>\n",
       "      <th>financial_institution_Turner, Baldwin and Rhodes</th>\n",
       "      <th>loan_purpose_A23</th>\n",
       "      <th>loan_purpose_B12</th>\n",
       "      <th>loan_purpose_C86</th>\n",
       "    </tr>\n",
       "  </thead>\n",
       "  <tbody>\n",
       "    <tr>\n",
       "      <th>count</th>\n",
       "      <td>116006.000000</td>\n",
       "      <td>116006.000000</td>\n",
       "      <td>116006.000000</td>\n",
       "      <td>116006.000000</td>\n",
       "      <td>116006.000000</td>\n",
       "      <td>116006.000000</td>\n",
       "      <td>116006.000000</td>\n",
       "      <td>116006.000000</td>\n",
       "      <td>116006.000000</td>\n",
       "      <td>116006.000000</td>\n",
       "      <td>...</td>\n",
       "      <td>116006.000000</td>\n",
       "      <td>116006.000000</td>\n",
       "      <td>116006.000000</td>\n",
       "      <td>116006.000000</td>\n",
       "      <td>116006.000000</td>\n",
       "      <td>116006.000000</td>\n",
       "      <td>116006.000000</td>\n",
       "      <td>116006.000000</td>\n",
       "      <td>116006.000000</td>\n",
       "      <td>116006.000000</td>\n",
       "    </tr>\n",
       "    <tr>\n",
       "      <th>mean</th>\n",
       "      <td>3.868913</td>\n",
       "      <td>208225.496957</td>\n",
       "      <td>292.271331</td>\n",
       "      <td>67.429314</td>\n",
       "      <td>1.593254</td>\n",
       "      <td>30.744539</td>\n",
       "      <td>770.265029</td>\n",
       "      <td>2.786330</td>\n",
       "      <td>459.714515</td>\n",
       "      <td>0.003258</td>\n",
       "      <td>...</td>\n",
       "      <td>0.007353</td>\n",
       "      <td>0.010284</td>\n",
       "      <td>0.015430</td>\n",
       "      <td>0.059256</td>\n",
       "      <td>0.010853</td>\n",
       "      <td>0.005612</td>\n",
       "      <td>0.015913</td>\n",
       "      <td>0.503914</td>\n",
       "      <td>0.253280</td>\n",
       "      <td>0.242806</td>\n",
       "    </tr>\n",
       "    <tr>\n",
       "      <th>std</th>\n",
       "      <td>0.460992</td>\n",
       "      <td>114654.925134</td>\n",
       "      <td>89.765255</td>\n",
       "      <td>17.293600</td>\n",
       "      <td>0.491229</td>\n",
       "      <td>9.729575</td>\n",
       "      <td>39.010395</td>\n",
       "      <td>8.096376</td>\n",
       "      <td>381.931527</td>\n",
       "      <td>0.056990</td>\n",
       "      <td>...</td>\n",
       "      <td>0.085435</td>\n",
       "      <td>0.100887</td>\n",
       "      <td>0.123257</td>\n",
       "      <td>0.236103</td>\n",
       "      <td>0.103611</td>\n",
       "      <td>0.074702</td>\n",
       "      <td>0.125139</td>\n",
       "      <td>0.499987</td>\n",
       "      <td>0.434892</td>\n",
       "      <td>0.428781</td>\n",
       "    </tr>\n",
       "    <tr>\n",
       "      <th>min</th>\n",
       "      <td>2.250000</td>\n",
       "      <td>11000.000000</td>\n",
       "      <td>60.000000</td>\n",
       "      <td>6.000000</td>\n",
       "      <td>1.000000</td>\n",
       "      <td>1.000000</td>\n",
       "      <td>480.000000</td>\n",
       "      <td>0.000000</td>\n",
       "      <td>0.000000</td>\n",
       "      <td>0.000000</td>\n",
       "      <td>...</td>\n",
       "      <td>0.000000</td>\n",
       "      <td>0.000000</td>\n",
       "      <td>0.000000</td>\n",
       "      <td>0.000000</td>\n",
       "      <td>0.000000</td>\n",
       "      <td>0.000000</td>\n",
       "      <td>0.000000</td>\n",
       "      <td>0.000000</td>\n",
       "      <td>0.000000</td>\n",
       "      <td>0.000000</td>\n",
       "    </tr>\n",
       "    <tr>\n",
       "      <th>25%</th>\n",
       "      <td>3.500000</td>\n",
       "      <td>120000.000000</td>\n",
       "      <td>180.000000</td>\n",
       "      <td>57.000000</td>\n",
       "      <td>1.000000</td>\n",
       "      <td>23.000000</td>\n",
       "      <td>751.000000</td>\n",
       "      <td>0.000000</td>\n",
       "      <td>0.000000</td>\n",
       "      <td>0.000000</td>\n",
       "      <td>...</td>\n",
       "      <td>0.000000</td>\n",
       "      <td>0.000000</td>\n",
       "      <td>0.000000</td>\n",
       "      <td>0.000000</td>\n",
       "      <td>0.000000</td>\n",
       "      <td>0.000000</td>\n",
       "      <td>0.000000</td>\n",
       "      <td>0.000000</td>\n",
       "      <td>0.000000</td>\n",
       "      <td>0.000000</td>\n",
       "    </tr>\n",
       "    <tr>\n",
       "      <th>50%</th>\n",
       "      <td>3.875000</td>\n",
       "      <td>183000.000000</td>\n",
       "      <td>360.000000</td>\n",
       "      <td>72.000000</td>\n",
       "      <td>2.000000</td>\n",
       "      <td>31.000000</td>\n",
       "      <td>782.000000</td>\n",
       "      <td>0.000000</td>\n",
       "      <td>740.000000</td>\n",
       "      <td>0.000000</td>\n",
       "      <td>...</td>\n",
       "      <td>0.000000</td>\n",
       "      <td>0.000000</td>\n",
       "      <td>0.000000</td>\n",
       "      <td>0.000000</td>\n",
       "      <td>0.000000</td>\n",
       "      <td>0.000000</td>\n",
       "      <td>0.000000</td>\n",
       "      <td>1.000000</td>\n",
       "      <td>0.000000</td>\n",
       "      <td>0.000000</td>\n",
       "    </tr>\n",
       "    <tr>\n",
       "      <th>75%</th>\n",
       "      <td>4.125000</td>\n",
       "      <td>278000.000000</td>\n",
       "      <td>360.000000</td>\n",
       "      <td>80.000000</td>\n",
       "      <td>2.000000</td>\n",
       "      <td>39.000000</td>\n",
       "      <td>800.000000</td>\n",
       "      <td>0.000000</td>\n",
       "      <td>791.000000</td>\n",
       "      <td>0.000000</td>\n",
       "      <td>...</td>\n",
       "      <td>0.000000</td>\n",
       "      <td>0.000000</td>\n",
       "      <td>0.000000</td>\n",
       "      <td>0.000000</td>\n",
       "      <td>0.000000</td>\n",
       "      <td>0.000000</td>\n",
       "      <td>0.000000</td>\n",
       "      <td>1.000000</td>\n",
       "      <td>1.000000</td>\n",
       "      <td>0.000000</td>\n",
       "    </tr>\n",
       "    <tr>\n",
       "      <th>max</th>\n",
       "      <td>6.750000</td>\n",
       "      <td>968000.000000</td>\n",
       "      <td>360.000000</td>\n",
       "      <td>97.000000</td>\n",
       "      <td>2.000000</td>\n",
       "      <td>64.000000</td>\n",
       "      <td>840.000000</td>\n",
       "      <td>40.000000</td>\n",
       "      <td>836.000000</td>\n",
       "      <td>1.000000</td>\n",
       "      <td>...</td>\n",
       "      <td>1.000000</td>\n",
       "      <td>1.000000</td>\n",
       "      <td>1.000000</td>\n",
       "      <td>1.000000</td>\n",
       "      <td>1.000000</td>\n",
       "      <td>1.000000</td>\n",
       "      <td>1.000000</td>\n",
       "      <td>1.000000</td>\n",
       "      <td>1.000000</td>\n",
       "      <td>1.000000</td>\n",
       "    </tr>\n",
       "  </tbody>\n",
       "</table>\n",
       "<p>8 rows × 47 columns</p>\n",
       "</div>"
      ],
      "text/plain": [
       "       interest_rate  unpaid_principal_bal      loan_term  loan_to_value  \\\n",
       "count  116006.000000         116006.000000  116006.000000  116006.000000   \n",
       "mean        3.868913         208225.496957     292.271331      67.429314   \n",
       "std         0.460992         114654.925134      89.765255      17.293600   \n",
       "min         2.250000          11000.000000      60.000000       6.000000   \n",
       "25%         3.500000         120000.000000     180.000000      57.000000   \n",
       "50%         3.875000         183000.000000     360.000000      72.000000   \n",
       "75%         4.125000         278000.000000     360.000000      80.000000   \n",
       "max         6.750000         968000.000000     360.000000      97.000000   \n",
       "\n",
       "       number_of_borrowers  debt_to_income_ratio  borrower_credit_score  \\\n",
       "count        116006.000000         116006.000000          116006.000000   \n",
       "mean              1.593254             30.744539             770.265029   \n",
       "std               0.491229              9.729575              39.010395   \n",
       "min               1.000000              1.000000             480.000000   \n",
       "25%               1.000000             23.000000             751.000000   \n",
       "50%               2.000000             31.000000             782.000000   \n",
       "75%               2.000000             39.000000             800.000000   \n",
       "max               2.000000             64.000000             840.000000   \n",
       "\n",
       "       insurance_percent  co-borrower_credit_score  insurance_type  ...  \\\n",
       "count      116006.000000             116006.000000   116006.000000  ...   \n",
       "mean            2.786330                459.714515        0.003258  ...   \n",
       "std             8.096376                381.931527        0.056990  ...   \n",
       "min             0.000000                  0.000000        0.000000  ...   \n",
       "25%             0.000000                  0.000000        0.000000  ...   \n",
       "50%             0.000000                740.000000        0.000000  ...   \n",
       "75%             0.000000                791.000000        0.000000  ...   \n",
       "max            40.000000                836.000000        1.000000  ...   \n",
       "\n",
       "       financial_institution_Sanchez, Hays and Wilkerson  \\\n",
       "count                                      116006.000000   \n",
       "mean                                            0.007353   \n",
       "std                                             0.085435   \n",
       "min                                             0.000000   \n",
       "25%                                             0.000000   \n",
       "50%                                             0.000000   \n",
       "75%                                             0.000000   \n",
       "max                                             1.000000   \n",
       "\n",
       "       financial_institution_Sanchez-Robinson  \\\n",
       "count                           116006.000000   \n",
       "mean                                 0.010284   \n",
       "std                                  0.100887   \n",
       "min                                  0.000000   \n",
       "25%                                  0.000000   \n",
       "50%                                  0.000000   \n",
       "75%                                  0.000000   \n",
       "max                                  1.000000   \n",
       "\n",
       "       financial_institution_Suarez Inc  \\\n",
       "count                     116006.000000   \n",
       "mean                           0.015430   \n",
       "std                            0.123257   \n",
       "min                            0.000000   \n",
       "25%                            0.000000   \n",
       "50%                            0.000000   \n",
       "75%                            0.000000   \n",
       "max                            1.000000   \n",
       "\n",
       "       financial_institution_Swanson, Newton and Miller  \\\n",
       "count                                     116006.000000   \n",
       "mean                                           0.059256   \n",
       "std                                            0.236103   \n",
       "min                                            0.000000   \n",
       "25%                                            0.000000   \n",
       "50%                                            0.000000   \n",
       "75%                                            0.000000   \n",
       "max                                            1.000000   \n",
       "\n",
       "       financial_institution_Taylor, Hunt and Rodriguez  \\\n",
       "count                                     116006.000000   \n",
       "mean                                           0.010853   \n",
       "std                                            0.103611   \n",
       "min                                            0.000000   \n",
       "25%                                            0.000000   \n",
       "50%                                            0.000000   \n",
       "75%                                            0.000000   \n",
       "max                                            1.000000   \n",
       "\n",
       "       financial_institution_Thornton-Davis  \\\n",
       "count                         116006.000000   \n",
       "mean                               0.005612   \n",
       "std                                0.074702   \n",
       "min                                0.000000   \n",
       "25%                                0.000000   \n",
       "50%                                0.000000   \n",
       "75%                                0.000000   \n",
       "max                                1.000000   \n",
       "\n",
       "       financial_institution_Turner, Baldwin and Rhodes  loan_purpose_A23  \\\n",
       "count                                     116006.000000     116006.000000   \n",
       "mean                                           0.015913          0.503914   \n",
       "std                                            0.125139          0.499987   \n",
       "min                                            0.000000          0.000000   \n",
       "25%                                            0.000000          0.000000   \n",
       "50%                                            0.000000          1.000000   \n",
       "75%                                            0.000000          1.000000   \n",
       "max                                            1.000000          1.000000   \n",
       "\n",
       "       loan_purpose_B12  loan_purpose_C86  \n",
       "count     116006.000000     116006.000000  \n",
       "mean           0.253280          0.242806  \n",
       "std            0.434892          0.428781  \n",
       "min            0.000000          0.000000  \n",
       "25%            0.000000          0.000000  \n",
       "50%            0.000000          0.000000  \n",
       "75%            1.000000          0.000000  \n",
       "max            1.000000          1.000000  \n",
       "\n",
       "[8 rows x 47 columns]"
      ]
     },
     "execution_count": 56,
     "metadata": {},
     "output_type": "execute_result"
    }
   ],
   "source": [
    "x.describe()"
   ]
  },
  {
   "cell_type": "code",
   "execution_count": 57,
   "id": "1dc57354",
   "metadata": {},
   "outputs": [],
   "source": [
    "# Feature Engineering"
   ]
  },
  {
   "cell_type": "code",
   "execution_count": 58,
   "id": "e3d52c87",
   "metadata": {},
   "outputs": [],
   "source": [
    "x['total_credit_score']=x['borrower_credit_score']+x['co-borrower_credit_score']"
   ]
  },
  {
   "cell_type": "code",
   "execution_count": 59,
   "id": "fb1a735f",
   "metadata": {},
   "outputs": [
    {
     "data": {
      "text/plain": [
       "Index(['interest_rate', 'unpaid_principal_bal', 'loan_term', 'loan_to_value',\n",
       "       'number_of_borrowers', 'debt_to_income_ratio', 'borrower_credit_score',\n",
       "       'insurance_percent', 'co-borrower_credit_score', 'insurance_type', 'm1',\n",
       "       'm2', 'm3', 'm4', 'm5', 'm6', 'm7', 'm8', 'm9', 'm10', 'm11', 'm12',\n",
       "       'source_X', 'source_Y', 'source_Z',\n",
       "       'financial_institution_Anderson-Taylor',\n",
       "       'financial_institution_Browning-Hart',\n",
       "       'financial_institution_Chapman-Mcmahon',\n",
       "       'financial_institution_Cole, Brooks and Vincent',\n",
       "       'financial_institution_Edwards-Hoffman',\n",
       "       'financial_institution_Martinez, Duffy and Bird',\n",
       "       'financial_institution_Miller, Mcclure and Allen',\n",
       "       'financial_institution_Nicholson Group', 'financial_institution_OTHER',\n",
       "       'financial_institution_Richards-Walters',\n",
       "       'financial_institution_Richardson Ltd',\n",
       "       'financial_institution_Romero, Woods and Johnson',\n",
       "       'financial_institution_Sanchez, Hays and Wilkerson',\n",
       "       'financial_institution_Sanchez-Robinson',\n",
       "       'financial_institution_Suarez Inc',\n",
       "       'financial_institution_Swanson, Newton and Miller',\n",
       "       'financial_institution_Taylor, Hunt and Rodriguez',\n",
       "       'financial_institution_Thornton-Davis',\n",
       "       'financial_institution_Turner, Baldwin and Rhodes', 'loan_purpose_A23',\n",
       "       'loan_purpose_B12', 'loan_purpose_C86', 'total_credit_score'],\n",
       "      dtype='object')"
      ]
     },
     "execution_count": 59,
     "metadata": {},
     "output_type": "execute_result"
    }
   ],
   "source": [
    "x.columns"
   ]
  },
  {
   "cell_type": "code",
   "execution_count": 60,
   "id": "115eb0cf",
   "metadata": {},
   "outputs": [],
   "source": [
    "x=x.drop(['borrower_credit_score','borrower_credit_score'],axis=1)"
   ]
  },
  {
   "cell_type": "code",
   "execution_count": 61,
   "id": "1e43568a",
   "metadata": {},
   "outputs": [],
   "source": [
    "repay_columns=['m1',\n",
    "       'm2', 'm3', 'm4', 'm5', 'm6', 'm7', 'm8', 'm9', 'm10', 'm11', 'm12']"
   ]
  },
  {
   "cell_type": "code",
   "execution_count": 62,
   "id": "fbea7adb",
   "metadata": {},
   "outputs": [],
   "source": [
    "x['m_mean']=x[repay_columns].mean(axis=1)"
   ]
  },
  {
   "cell_type": "code",
   "execution_count": 63,
   "id": "5836ead1",
   "metadata": {},
   "outputs": [],
   "source": [
    "x['m_median']=x[repay_columns].median(axis=1)"
   ]
  },
  {
   "cell_type": "code",
   "execution_count": 64,
   "id": "5c795974",
   "metadata": {},
   "outputs": [],
   "source": [
    "x['m_std']=x[repay_columns].std(axis=1)"
   ]
  },
  {
   "cell_type": "code",
   "execution_count": 65,
   "id": "dd09403f",
   "metadata": {},
   "outputs": [],
   "source": [
    "x['m_skew']=x[repay_columns].skew(axis=1)"
   ]
  },
  {
   "cell_type": "code",
   "execution_count": 66,
   "id": "781351e2",
   "metadata": {},
   "outputs": [],
   "source": [
    "x['m_kurtosis']=x[repay_columns].kurtosis(axis=1)"
   ]
  },
  {
   "cell_type": "code",
   "execution_count": 67,
   "id": "1e6830ba",
   "metadata": {},
   "outputs": [
    {
     "data": {
      "text/plain": [
       "Index(['interest_rate', 'unpaid_principal_bal', 'loan_term', 'loan_to_value',\n",
       "       'number_of_borrowers', 'debt_to_income_ratio', 'insurance_percent',\n",
       "       'co-borrower_credit_score', 'insurance_type', 'm1', 'm2', 'm3', 'm4',\n",
       "       'm5', 'm6', 'm7', 'm8', 'm9', 'm10', 'm11', 'm12', 'source_X',\n",
       "       'source_Y', 'source_Z', 'financial_institution_Anderson-Taylor',\n",
       "       'financial_institution_Browning-Hart',\n",
       "       'financial_institution_Chapman-Mcmahon',\n",
       "       'financial_institution_Cole, Brooks and Vincent',\n",
       "       'financial_institution_Edwards-Hoffman',\n",
       "       'financial_institution_Martinez, Duffy and Bird',\n",
       "       'financial_institution_Miller, Mcclure and Allen',\n",
       "       'financial_institution_Nicholson Group', 'financial_institution_OTHER',\n",
       "       'financial_institution_Richards-Walters',\n",
       "       'financial_institution_Richardson Ltd',\n",
       "       'financial_institution_Romero, Woods and Johnson',\n",
       "       'financial_institution_Sanchez, Hays and Wilkerson',\n",
       "       'financial_institution_Sanchez-Robinson',\n",
       "       'financial_institution_Suarez Inc',\n",
       "       'financial_institution_Swanson, Newton and Miller',\n",
       "       'financial_institution_Taylor, Hunt and Rodriguez',\n",
       "       'financial_institution_Thornton-Davis',\n",
       "       'financial_institution_Turner, Baldwin and Rhodes', 'loan_purpose_A23',\n",
       "       'loan_purpose_B12', 'loan_purpose_C86', 'total_credit_score', 'm_mean',\n",
       "       'm_median', 'm_std', 'm_skew', 'm_kurtosis'],\n",
       "      dtype='object')"
      ]
     },
     "execution_count": 67,
     "metadata": {},
     "output_type": "execute_result"
    }
   ],
   "source": [
    "x.columns"
   ]
  },
  {
   "cell_type": "code",
   "execution_count": null,
   "id": "fdebd291",
   "metadata": {},
   "outputs": [],
   "source": []
  },
  {
   "cell_type": "code",
   "execution_count": 68,
   "id": "48a3afe0",
   "metadata": {},
   "outputs": [],
   "source": [
    "# MinMax Scaler"
   ]
  },
  {
   "cell_type": "code",
   "execution_count": 69,
   "id": "dec8d16c",
   "metadata": {},
   "outputs": [],
   "source": [
    "from sklearn.preprocessing import MinMaxScaler"
   ]
  },
  {
   "cell_type": "code",
   "execution_count": null,
   "id": "5db939af",
   "metadata": {},
   "outputs": [],
   "source": []
  },
  {
   "cell_type": "code",
   "execution_count": 70,
   "id": "0a3f2f2e",
   "metadata": {},
   "outputs": [],
   "source": [
    "from sklearn.model_selection import train_test_split\n",
    "x_train,x_test,y_train,y_test=train_test_split(x,y,test_size=0.2, random_state=345,stratify=y)"
   ]
  },
  {
   "cell_type": "code",
   "execution_count": 71,
   "id": "7cf38228",
   "metadata": {},
   "outputs": [],
   "source": [
    "mn=MinMaxScaler()\n",
    "x_train=mn.fit_transform(x_train)\n",
    "x_test=mn.fit_transform(x_test)\n",
    "                        "
   ]
  },
  {
   "cell_type": "code",
   "execution_count": 72,
   "id": "73779057",
   "metadata": {},
   "outputs": [],
   "source": [
    "# Logistic Regression"
   ]
  },
  {
   "cell_type": "code",
   "execution_count": 73,
   "id": "67c1d304",
   "metadata": {},
   "outputs": [],
   "source": [
    "from sklearn.linear_model import LogisticRegression"
   ]
  },
  {
   "cell_type": "code",
   "execution_count": 74,
   "id": "72398a8f",
   "metadata": {},
   "outputs": [
    {
     "name": "stderr",
     "output_type": "stream",
     "text": [
      "C:\\Users\\mothe\\anaconda3\\lib\\site-packages\\sklearn\\linear_model\\_logistic.py:458: ConvergenceWarning: lbfgs failed to converge (status=1):\n",
      "STOP: TOTAL NO. of ITERATIONS REACHED LIMIT.\n",
      "\n",
      "Increase the number of iterations (max_iter) or scale the data as shown in:\n",
      "    https://scikit-learn.org/stable/modules/preprocessing.html\n",
      "Please also refer to the documentation for alternative solver options:\n",
      "    https://scikit-learn.org/stable/modules/linear_model.html#logistic-regression\n",
      "  n_iter_i = _check_optimize_result(\n"
     ]
    }
   ],
   "source": [
    "lg=LogisticRegression()\n",
    "lg.fit(x_train,y_train)\n",
    "y_pred=lg.predict(x_test)\n",
    "\n",
    "      "
   ]
  },
  {
   "cell_type": "code",
   "execution_count": 75,
   "id": "73756a23",
   "metadata": {},
   "outputs": [],
   "source": [
    "from sklearn.metrics import f1_score,precision_score,recall_score, accuracy_score, confusion_matrix"
   ]
  },
  {
   "cell_type": "code",
   "execution_count": 76,
   "id": "66075e3b",
   "metadata": {},
   "outputs": [
    {
     "name": "stdout",
     "output_type": "stream",
     "text": [
      "Accuracy 0.9956469269890527 \n",
      "Precision Score 0.782608695652174 \n",
      "Recall score 0.28346456692913385 \n",
      "F1_Score 0.4161849710982659\n"
     ]
    }
   ],
   "source": [
    "acc=accuracy_score(y_test,y_pred)\n",
    "prec=precision_score(y_test,y_pred)\n",
    "f1score=f1_score(y_test,y_pred)\n",
    "recall=recall_score(y_test,y_pred)\n",
    "print(\"Accuracy\",acc,\"\\nPrecision Score\",prec,\"\\nRecall score\",recall,\"\\nF1_Score\",f1score)"
   ]
  },
  {
   "cell_type": "code",
   "execution_count": 77,
   "id": "3522a8d9",
   "metadata": {},
   "outputs": [
    {
     "data": {
      "text/plain": [
       "array([[23065,    10],\n",
       "       [   91,    36]], dtype=int64)"
      ]
     },
     "execution_count": 77,
     "metadata": {},
     "output_type": "execute_result"
    }
   ],
   "source": [
    "confusion_matrix(y_test,y_pred)"
   ]
  },
  {
   "cell_type": "code",
   "execution_count": 78,
   "id": "582baf2e",
   "metadata": {},
   "outputs": [],
   "source": [
    "# KNN"
   ]
  },
  {
   "cell_type": "code",
   "execution_count": 79,
   "id": "ff5452bd",
   "metadata": {},
   "outputs": [],
   "source": [
    "from sklearn.neighbors import KNeighborsClassifier"
   ]
  },
  {
   "cell_type": "code",
   "execution_count": 80,
   "id": "62d65180",
   "metadata": {},
   "outputs": [],
   "source": [
    "knn=KNeighborsClassifier()\n",
    "knn.fit(x_train,y_train)\n",
    "y_pred=knn.predict(x_test)"
   ]
  },
  {
   "cell_type": "code",
   "execution_count": 81,
   "id": "87b1a0e3",
   "metadata": {},
   "outputs": [
    {
     "name": "stdout",
     "output_type": "stream",
     "text": [
      "Accuracy 0.9950004309973278 \n",
      "Precision Score 0.72 \n",
      "Recall score 0.14173228346456693 \n",
      "F1_Score 0.2368421052631579\n"
     ]
    }
   ],
   "source": [
    "acc=accuracy_score(y_test,y_pred)\n",
    "prec=precision_score(y_test,y_pred)\n",
    "f1score=f1_score(y_test,y_pred)\n",
    "recall=recall_score(y_test,y_pred)\n",
    "print(\"Accuracy\",acc,\"\\nPrecision Score\",prec,\"\\nRecall score\",recall,\"\\nF1_Score\",f1score)"
   ]
  },
  {
   "cell_type": "code",
   "execution_count": 82,
   "id": "d4f1a115",
   "metadata": {},
   "outputs": [
    {
     "data": {
      "text/plain": [
       "array([[23068,     7],\n",
       "       [  109,    18]], dtype=int64)"
      ]
     },
     "execution_count": 82,
     "metadata": {},
     "output_type": "execute_result"
    }
   ],
   "source": [
    "confusion_matrix(y_test,y_pred)"
   ]
  },
  {
   "cell_type": "code",
   "execution_count": 83,
   "id": "72cb213a",
   "metadata": {},
   "outputs": [],
   "source": [
    "# Decision tree"
   ]
  },
  {
   "cell_type": "code",
   "execution_count": 84,
   "id": "8f4ce2bc",
   "metadata": {},
   "outputs": [],
   "source": [
    "from sklearn.tree import DecisionTreeClassifier"
   ]
  },
  {
   "cell_type": "code",
   "execution_count": 85,
   "id": "8646fd51",
   "metadata": {},
   "outputs": [],
   "source": [
    "dt=DecisionTreeClassifier(max_depth=8)\n",
    "dt.fit(x_train,y_train)\n",
    "y_pred=dt.predict(x_test)"
   ]
  },
  {
   "cell_type": "code",
   "execution_count": 86,
   "id": "fb4b0e08",
   "metadata": {},
   "outputs": [
    {
     "name": "stdout",
     "output_type": "stream",
     "text": [
      "Accuracy 0.9781484354797 \n",
      "Precision Score 0.08333333333333333 \n",
      "Recall score 0.2992125984251969 \n",
      "F1_Score 0.13036020583190394\n"
     ]
    }
   ],
   "source": [
    "acc=accuracy_score(y_test,y_pred)\n",
    "prec=precision_score(y_test,y_pred)\n",
    "f1score=f1_score(y_test,y_pred)\n",
    "recall=recall_score(y_test,y_pred)\n",
    "print(\"Accuracy\",acc,\"\\nPrecision Score\",prec,\"\\nRecall score\",recall,\"\\nF1_Score\",f1score)"
   ]
  },
  {
   "cell_type": "code",
   "execution_count": 87,
   "id": "e53989bd",
   "metadata": {},
   "outputs": [
    {
     "data": {
      "text/plain": [
       "array([[22657,   418],\n",
       "       [   89,    38]], dtype=int64)"
      ]
     },
     "execution_count": 87,
     "metadata": {},
     "output_type": "execute_result"
    }
   ],
   "source": [
    "confusion_matrix(y_test,y_pred)"
   ]
  },
  {
   "cell_type": "code",
   "execution_count": 88,
   "id": "5746af71",
   "metadata": {},
   "outputs": [],
   "source": [
    "# Logistic Regression is performing good"
   ]
  },
  {
   "cell_type": "code",
   "execution_count": 89,
   "id": "05b8115f",
   "metadata": {},
   "outputs": [],
   "source": [
    "# Bagging Classifier"
   ]
  },
  {
   "cell_type": "code",
   "execution_count": 90,
   "id": "0fb584a2",
   "metadata": {},
   "outputs": [],
   "source": [
    "from sklearn.ensemble import BaggingClassifier\n",
    "dt=DecisionTreeClassifier()\n",
    "bg=BaggingClassifier(estimator=dt,n_estimators=50)\n",
    "bg=BaggingClassifier()\n",
    "bg.fit(x_train,y_train)\n",
    "y_pred=bg.predict(x_test)"
   ]
  },
  {
   "cell_type": "code",
   "execution_count": 91,
   "id": "326e65b9",
   "metadata": {},
   "outputs": [
    {
     "name": "stdout",
     "output_type": "stream",
     "text": [
      "Accuracy 0.9946556331350745 \n",
      "Precision Score 0.5168539325842697 \n",
      "Recall score 0.36220472440944884 \n",
      "F1_Score 0.425925925925926\n"
     ]
    }
   ],
   "source": [
    "acc=accuracy_score(y_test,y_pred)\n",
    "prec=precision_score(y_test,y_pred)\n",
    "f1score=f1_score(y_test,y_pred)\n",
    "recall=recall_score(y_test,y_pred)\n",
    "print(\"Accuracy\",acc,\"\\nPrecision Score\",prec,\"\\nRecall score\",recall,\"\\nF1_Score\",f1score)"
   ]
  },
  {
   "cell_type": "code",
   "execution_count": 92,
   "id": "6ce5f279",
   "metadata": {},
   "outputs": [
    {
     "data": {
      "text/plain": [
       "array([[23032,    43],\n",
       "       [   81,    46]], dtype=int64)"
      ]
     },
     "execution_count": 92,
     "metadata": {},
     "output_type": "execute_result"
    }
   ],
   "source": [
    "confusion_matrix(y_test,y_pred)"
   ]
  },
  {
   "cell_type": "code",
   "execution_count": 93,
   "id": "7bee48aa",
   "metadata": {},
   "outputs": [],
   "source": [
    "# Random Forest"
   ]
  },
  {
   "cell_type": "code",
   "execution_count": 94,
   "id": "c256505d",
   "metadata": {},
   "outputs": [],
   "source": [
    "from sklearn.ensemble import RandomForestClassifier"
   ]
  },
  {
   "cell_type": "code",
   "execution_count": 95,
   "id": "3558cf36",
   "metadata": {},
   "outputs": [],
   "source": [
    "rf=RandomForestClassifier(n_estimators=150,max_depth=8,max_features=0.8)"
   ]
  },
  {
   "cell_type": "code",
   "execution_count": 96,
   "id": "d579826c",
   "metadata": {},
   "outputs": [
    {
     "data": {
      "text/html": [
       "<style>#sk-container-id-1 {color: black;background-color: white;}#sk-container-id-1 pre{padding: 0;}#sk-container-id-1 div.sk-toggleable {background-color: white;}#sk-container-id-1 label.sk-toggleable__label {cursor: pointer;display: block;width: 100%;margin-bottom: 0;padding: 0.3em;box-sizing: border-box;text-align: center;}#sk-container-id-1 label.sk-toggleable__label-arrow:before {content: \"▸\";float: left;margin-right: 0.25em;color: #696969;}#sk-container-id-1 label.sk-toggleable__label-arrow:hover:before {color: black;}#sk-container-id-1 div.sk-estimator:hover label.sk-toggleable__label-arrow:before {color: black;}#sk-container-id-1 div.sk-toggleable__content {max-height: 0;max-width: 0;overflow: hidden;text-align: left;background-color: #f0f8ff;}#sk-container-id-1 div.sk-toggleable__content pre {margin: 0.2em;color: black;border-radius: 0.25em;background-color: #f0f8ff;}#sk-container-id-1 input.sk-toggleable__control:checked~div.sk-toggleable__content {max-height: 200px;max-width: 100%;overflow: auto;}#sk-container-id-1 input.sk-toggleable__control:checked~label.sk-toggleable__label-arrow:before {content: \"▾\";}#sk-container-id-1 div.sk-estimator input.sk-toggleable__control:checked~label.sk-toggleable__label {background-color: #d4ebff;}#sk-container-id-1 div.sk-label input.sk-toggleable__control:checked~label.sk-toggleable__label {background-color: #d4ebff;}#sk-container-id-1 input.sk-hidden--visually {border: 0;clip: rect(1px 1px 1px 1px);clip: rect(1px, 1px, 1px, 1px);height: 1px;margin: -1px;overflow: hidden;padding: 0;position: absolute;width: 1px;}#sk-container-id-1 div.sk-estimator {font-family: monospace;background-color: #f0f8ff;border: 1px dotted black;border-radius: 0.25em;box-sizing: border-box;margin-bottom: 0.5em;}#sk-container-id-1 div.sk-estimator:hover {background-color: #d4ebff;}#sk-container-id-1 div.sk-parallel-item::after {content: \"\";width: 100%;border-bottom: 1px solid gray;flex-grow: 1;}#sk-container-id-1 div.sk-label:hover label.sk-toggleable__label {background-color: #d4ebff;}#sk-container-id-1 div.sk-serial::before {content: \"\";position: absolute;border-left: 1px solid gray;box-sizing: border-box;top: 0;bottom: 0;left: 50%;z-index: 0;}#sk-container-id-1 div.sk-serial {display: flex;flex-direction: column;align-items: center;background-color: white;padding-right: 0.2em;padding-left: 0.2em;position: relative;}#sk-container-id-1 div.sk-item {position: relative;z-index: 1;}#sk-container-id-1 div.sk-parallel {display: flex;align-items: stretch;justify-content: center;background-color: white;position: relative;}#sk-container-id-1 div.sk-item::before, #sk-container-id-1 div.sk-parallel-item::before {content: \"\";position: absolute;border-left: 1px solid gray;box-sizing: border-box;top: 0;bottom: 0;left: 50%;z-index: -1;}#sk-container-id-1 div.sk-parallel-item {display: flex;flex-direction: column;z-index: 1;position: relative;background-color: white;}#sk-container-id-1 div.sk-parallel-item:first-child::after {align-self: flex-end;width: 50%;}#sk-container-id-1 div.sk-parallel-item:last-child::after {align-self: flex-start;width: 50%;}#sk-container-id-1 div.sk-parallel-item:only-child::after {width: 0;}#sk-container-id-1 div.sk-dashed-wrapped {border: 1px dashed gray;margin: 0 0.4em 0.5em 0.4em;box-sizing: border-box;padding-bottom: 0.4em;background-color: white;}#sk-container-id-1 div.sk-label label {font-family: monospace;font-weight: bold;display: inline-block;line-height: 1.2em;}#sk-container-id-1 div.sk-label-container {text-align: center;}#sk-container-id-1 div.sk-container {/* jupyter's `normalize.less` sets `[hidden] { display: none; }` but bootstrap.min.css set `[hidden] { display: none !important; }` so we also need the `!important` here to be able to override the default hidden behavior on the sphinx rendered scikit-learn.org. See: https://github.com/scikit-learn/scikit-learn/issues/21755 */display: inline-block !important;position: relative;}#sk-container-id-1 div.sk-text-repr-fallback {display: none;}</style><div id=\"sk-container-id-1\" class=\"sk-top-container\"><div class=\"sk-text-repr-fallback\"><pre>RandomForestClassifier(max_depth=8, max_features=0.8, n_estimators=150)</pre><b>In a Jupyter environment, please rerun this cell to show the HTML representation or trust the notebook. <br />On GitHub, the HTML representation is unable to render, please try loading this page with nbviewer.org.</b></div><div class=\"sk-container\" hidden><div class=\"sk-item\"><div class=\"sk-estimator sk-toggleable\"><input class=\"sk-toggleable__control sk-hidden--visually\" id=\"sk-estimator-id-1\" type=\"checkbox\" checked><label for=\"sk-estimator-id-1\" class=\"sk-toggleable__label sk-toggleable__label-arrow\">RandomForestClassifier</label><div class=\"sk-toggleable__content\"><pre>RandomForestClassifier(max_depth=8, max_features=0.8, n_estimators=150)</pre></div></div></div></div></div>"
      ],
      "text/plain": [
       "RandomForestClassifier(max_depth=8, max_features=0.8, n_estimators=150)"
      ]
     },
     "execution_count": 96,
     "metadata": {},
     "output_type": "execute_result"
    }
   ],
   "source": [
    "rf.fit(x_train,y_train)"
   ]
  },
  {
   "cell_type": "code",
   "execution_count": 97,
   "id": "3a1e18e3",
   "metadata": {},
   "outputs": [],
   "source": [
    "y_pred=rf.predict(x_test)"
   ]
  },
  {
   "cell_type": "code",
   "execution_count": 98,
   "id": "312a7900",
   "metadata": {
    "scrolled": true
   },
   "outputs": [
    {
     "name": "stdout",
     "output_type": "stream",
     "text": [
      "Accuracy 0.9956038272562711 \n",
      "Precision Score 0.6582278481012658 \n",
      "Recall score 0.4094488188976378 \n",
      "F1_Score 0.5048543689320388\n"
     ]
    }
   ],
   "source": [
    "acc=accuracy_score(y_test,y_pred)\n",
    "prec=precision_score(y_test,y_pred)\n",
    "f1score=f1_score(y_test,y_pred)\n",
    "recall=recall_score(y_test,y_pred)\n",
    "print(\"Accuracy\",acc,\"\\nPrecision Score\",prec,\"\\nRecall score\",recall,\"\\nF1_Score\",f1score)"
   ]
  },
  {
   "cell_type": "code",
   "execution_count": 99,
   "id": "e5f28f34",
   "metadata": {},
   "outputs": [
    {
     "data": {
      "text/plain": [
       "array([[23048,    27],\n",
       "       [   75,    52]], dtype=int64)"
      ]
     },
     "execution_count": 99,
     "metadata": {},
     "output_type": "execute_result"
    }
   ],
   "source": [
    "confusion_matrix(y_test,y_pred)"
   ]
  },
  {
   "cell_type": "code",
   "execution_count": 100,
   "id": "b69a77b1",
   "metadata": {},
   "outputs": [],
   "source": [
    "# Support Vector machines"
   ]
  },
  {
   "cell_type": "code",
   "execution_count": 101,
   "id": "d3f941d4",
   "metadata": {},
   "outputs": [],
   "source": [
    "from sklearn.svm import SVC"
   ]
  },
  {
   "cell_type": "code",
   "execution_count": 102,
   "id": "4f6a9ff3",
   "metadata": {},
   "outputs": [],
   "source": [
    "sv_linear=SVC(kernel='linear')\n",
    "sv_linear.fit(x_train,y_train)\n",
    "y_pred=sv_linear.predict(x_test)\n"
   ]
  },
  {
   "cell_type": "code",
   "execution_count": 103,
   "id": "fac10d76",
   "metadata": {},
   "outputs": [
    {
     "name": "stdout",
     "output_type": "stream",
     "text": [
      "Accuracy 0.9959055253857426 \n",
      "Precision Score 0.75 \n",
      "Recall score 0.3779527559055118 \n",
      "F1_Score 0.5026178010471204\n"
     ]
    }
   ],
   "source": [
    "acc=accuracy_score(y_test,y_pred)\n",
    "prec=precision_score(y_test,y_pred)\n",
    "f1score=f1_score(y_test,y_pred)\n",
    "recall=recall_score(y_test,y_pred)\n",
    "print(\"Accuracy\",acc,\"\\nPrecision Score\",prec,\"\\nRecall score\",recall,\"\\nF1_Score\",f1score)"
   ]
  },
  {
   "cell_type": "code",
   "execution_count": 104,
   "id": "ae2f019b",
   "metadata": {},
   "outputs": [
    {
     "data": {
      "text/plain": [
       "array([[23059,    16],\n",
       "       [   79,    48]], dtype=int64)"
      ]
     },
     "execution_count": 104,
     "metadata": {},
     "output_type": "execute_result"
    }
   ],
   "source": [
    "confusion_matrix(y_test,y_pred)"
   ]
  },
  {
   "cell_type": "code",
   "execution_count": 105,
   "id": "19c459c1",
   "metadata": {},
   "outputs": [],
   "source": [
    "sv_poly=SVC(kernel='poly',degree=3)\n",
    "sv_poly.fit(x_train,y_train)\n",
    "y_pred=sv_poly.predict(x_test)\n"
   ]
  },
  {
   "cell_type": "code",
   "execution_count": 106,
   "id": "600ba137",
   "metadata": {},
   "outputs": [
    {
     "name": "stdout",
     "output_type": "stream",
     "text": [
      "Accuracy 0.9958193259201793 \n",
      "Precision Score 0.8260869565217391 \n",
      "Recall score 0.2992125984251969 \n",
      "F1_Score 0.4393063583815029\n"
     ]
    }
   ],
   "source": [
    "acc=accuracy_score(y_test,y_pred)\n",
    "prec=precision_score(y_test,y_pred)\n",
    "f1score=f1_score(y_test,y_pred)\n",
    "recall=recall_score(y_test,y_pred)\n",
    "print(\"Accuracy\",acc,\"\\nPrecision Score\",prec,\"\\nRecall score\",recall,\"\\nF1_Score\",f1score)"
   ]
  },
  {
   "cell_type": "code",
   "execution_count": 107,
   "id": "2fd1c381",
   "metadata": {},
   "outputs": [
    {
     "data": {
      "text/plain": [
       "array([[23067,     8],\n",
       "       [   89,    38]], dtype=int64)"
      ]
     },
     "execution_count": 107,
     "metadata": {},
     "output_type": "execute_result"
    }
   ],
   "source": [
    "confusion_matrix(y_test,y_pred)"
   ]
  },
  {
   "cell_type": "code",
   "execution_count": 108,
   "id": "0b92d5bb",
   "metadata": {},
   "outputs": [],
   "source": [
    "sv_rbf=SVC(kernel='rbf')\n",
    "sv_rbf.fit(x_train,y_train)\n",
    "y_pred=sv_rbf.predict(x_test)"
   ]
  },
  {
   "cell_type": "code",
   "execution_count": 109,
   "id": "05f25943",
   "metadata": {},
   "outputs": [
    {
     "name": "stdout",
     "output_type": "stream",
     "text": [
      "Accuracy 0.9959055253857426 \n",
      "Precision Score 0.9 \n",
      "Recall score 0.28346456692913385 \n",
      "F1_Score 0.4311377245508982\n"
     ]
    }
   ],
   "source": [
    "acc=accuracy_score(y_test,y_pred)\n",
    "prec=precision_score(y_test,y_pred)\n",
    "f1score=f1_score(y_test,y_pred)\n",
    "recall=recall_score(y_test,y_pred)\n",
    "print(\"Accuracy\",acc,\"\\nPrecision Score\",prec,\"\\nRecall score\",recall,\"\\nF1_Score\",f1score)"
   ]
  },
  {
   "cell_type": "code",
   "execution_count": 110,
   "id": "6ae9be54",
   "metadata": {},
   "outputs": [
    {
     "data": {
      "text/plain": [
       "array([[23071,     4],\n",
       "       [   91,    36]], dtype=int64)"
      ]
     },
     "execution_count": 110,
     "metadata": {},
     "output_type": "execute_result"
    }
   ],
   "source": [
    "confusion_matrix(y_test,y_pred)"
   ]
  },
  {
   "cell_type": "code",
   "execution_count": 111,
   "id": "9c0d06c3",
   "metadata": {},
   "outputs": [],
   "source": [
    "# Voting Classifier"
   ]
  },
  {
   "cell_type": "code",
   "execution_count": 112,
   "id": "3761ac83",
   "metadata": {},
   "outputs": [],
   "source": [
    "from sklearn.ensemble import VotingClassifier"
   ]
  },
  {
   "cell_type": "code",
   "execution_count": 113,
   "id": "33535277",
   "metadata": {},
   "outputs": [],
   "source": [
    "SEED=1"
   ]
  },
  {
   "cell_type": "code",
   "execution_count": 114,
   "id": "8ab826ce",
   "metadata": {},
   "outputs": [],
   "source": [
    "x_train,x_test,y_train,y_test=train_test_split(x,y,test_size=0.2, random_state=SEED,stratify=y)"
   ]
  },
  {
   "cell_type": "code",
   "execution_count": 115,
   "id": "3685890d",
   "metadata": {},
   "outputs": [],
   "source": [
    "lr=LogisticRegression(random_state=SEED)\n",
    "dt=DecisionTreeClassifier(random_state=SEED)\n",
    "knn=KNeighborsClassifier()\n"
   ]
  },
  {
   "cell_type": "code",
   "execution_count": 116,
   "id": "ec7812e8",
   "metadata": {},
   "outputs": [],
   "source": [
    "classifiers=[('Logistic Regression',lr),('K Nearest Neighbors',knn),('Classification Tree',dt)]"
   ]
  },
  {
   "cell_type": "code",
   "execution_count": 117,
   "id": "6afa9ba9",
   "metadata": {},
   "outputs": [
    {
     "name": "stdout",
     "output_type": "stream",
     "text": [
      "Logistic Regression:0.000\n",
      "Logistic Regression:0.000\n",
      "K Nearest Neighbors:0.000\n",
      "K Nearest Neighbors:0.000\n",
      "Classification Tree:0.339\n",
      "Classification Tree:0.378\n"
     ]
    }
   ],
   "source": [
    "for clf_name,clf in classifiers:\n",
    "    clf.fit(x_train,y_train)\n",
    "    y_pred=clf.predict(x_test)\n",
    "    print('{:s}:{:.3f}'.format(clf_name,f1_score(y_test,y_pred)))\n",
    "\n",
    "    print('{:s}:{:.3f}'.format(clf_name,recall_score(y_test,y_pred)))"
   ]
  },
  {
   "cell_type": "code",
   "execution_count": 118,
   "id": "a26e4d55",
   "metadata": {},
   "outputs": [
    {
     "name": "stdout",
     "output_type": "stream",
     "text": [
      "Accuracy 0.9919403499698302 \n",
      "Precision Score 0.3076923076923077 \n",
      "Recall score 0.3779527559055118 \n",
      "F1_Score 0.3392226148409894\n"
     ]
    }
   ],
   "source": [
    "acc=accuracy_score(y_test,y_pred)\n",
    "prec=precision_score(y_test,y_pred)\n",
    "f1score=f1_score(y_test,y_pred)\n",
    "recall=recall_score(y_test,y_pred)\n",
    "print(\"Accuracy\",acc,\"\\nPrecision Score\",prec,\"\\nRecall score\",recall,\"\\nF1_Score\",f1score)"
   ]
  },
  {
   "cell_type": "code",
   "execution_count": 119,
   "id": "6021bc7c",
   "metadata": {},
   "outputs": [
    {
     "data": {
      "text/plain": [
       "array([[22967,   108],\n",
       "       [   79,    48]], dtype=int64)"
      ]
     },
     "execution_count": 119,
     "metadata": {},
     "output_type": "execute_result"
    }
   ],
   "source": [
    "confusion_matrix(y_test,y_pred)"
   ]
  },
  {
   "cell_type": "markdown",
   "id": "c2e1ac4e",
   "metadata": {},
   "source": [
    "# SVM-Linear and Random Forest is best model since F1score is 0.50"
   ]
  },
  {
   "cell_type": "code",
   "execution_count": null,
   "id": "fac0e24c",
   "metadata": {},
   "outputs": [],
   "source": []
  }
 ],
 "metadata": {
  "kernelspec": {
   "display_name": "Python 3 (ipykernel)",
   "language": "python",
   "name": "python3"
  },
  "language_info": {
   "codemirror_mode": {
    "name": "ipython",
    "version": 3
   },
   "file_extension": ".py",
   "mimetype": "text/x-python",
   "name": "python",
   "nbconvert_exporter": "python",
   "pygments_lexer": "ipython3",
   "version": "3.10.9"
  }
 },
 "nbformat": 4,
 "nbformat_minor": 5
}
